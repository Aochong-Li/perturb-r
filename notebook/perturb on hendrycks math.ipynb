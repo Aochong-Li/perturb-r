{
 "cells": [
  {
   "cell_type": "code",
   "execution_count": 2,
   "id": "108b17fc",
   "metadata": {},
   "outputs": [],
   "source": [
    "import pandas as pd \n",
    "import os \n",
    "\n",
    "from transformers import AutoModelForCausalLM, AutoTokenizer\n",
    "from datasets import load_dataset\n",
    "\n",
    "import seaborn as sns\n",
    "\n",
    "from datasets import load_dataset\n",
    "import numpy as np"
   ]
  },
  {
   "cell_type": "code",
   "execution_count": 3,
   "id": "bb87b05b",
   "metadata": {},
   "outputs": [
    {
     "data": {
      "text/plain": [
       "'/home/cn356/oliver/research/perturb-r/notebook'"
      ]
     },
     "execution_count": 3,
     "metadata": {},
     "output_type": "execute_result"
    }
   ],
   "source": [
    "pwd"
   ]
  },
  {
   "cell_type": "code",
   "execution_count": 5,
   "id": "56a7421e",
   "metadata": {},
   "outputs": [
    {
     "name": "stdout",
     "output_type": "stream",
     "text": [
      "/home/cn356/oliver/research/perturb-r\n"
     ]
    }
   ],
   "source": [
    "cd /home/cn356/oliver/research/perturb-r"
   ]
  },
  {
   "cell_type": "code",
   "execution_count": 6,
   "id": "86cc50c0",
   "metadata": {},
   "outputs": [],
   "source": [
    "from reward_score.math import * "
   ]
  },
  {
   "cell_type": "markdown",
   "id": "818fcb25",
   "metadata": {},
   "source": [
    "# Reasoning Results"
   ]
  },
  {
   "cell_type": "code",
   "execution_count": 20,
   "id": "3cf455d5",
   "metadata": {},
   "outputs": [
    {
     "data": {
      "text/plain": [
       "['R1-Distill-Qwen-1.5B.pickle',\n",
       " 'R1-Distill-Qwen-1.5B_correct.pickle',\n",
       " 'R1-Distill-Qwen-7B.pickle',\n",
       " 'R1-Distill-Qwen-7B_correct.pickle',\n",
       " 'Qwen2.5-Math-1.5B-DrGRPO-Zero.pickle',\n",
       " 'Qwen2.5-Math-1.5B-DrGRPO-Zero_correct.pickle',\n",
       " 'Qwen2.5-Math-7B-DrGRPO-Zero.pickle',\n",
       " 'Qwen2.5-Math-7B-DrGRPO-Zero_correct.pickle',\n",
       " 'Qwen2.5-Math-1.5B-DeepMath-Hard-GRPO-1800-steps.pickle',\n",
       " 'Qwen2.5-Math-1.5B-DeepMath-Hard-GRPO-1800-steps_correct.pickle',\n",
       " 'R1-Distill-Qwen-14B.pickle',\n",
       " 'R1-Distill-Qwen-14B_correct.pickle',\n",
       " 'DeepScaleR-1.5B-Preview.pickle',\n",
       " 'DeepScaleR-1.5B-Preview_correct.pickle',\n",
       " 'Qwen2.5-Math-1.5B-DeepMath-Hard-SFT-continue-3912-steps.pickle',\n",
       " 'Qwen2.5-Math-1.5B-DeepMath-Hard-SFT-continue-3912-steps_correct.pickle']"
      ]
     },
     "execution_count": 20,
     "metadata": {},
     "output_type": "execute_result"
    }
   ],
   "source": [
    "root = \"./results/hendrycks_math/sample200/reasoning\"\n",
    "os.listdir(root)"
   ]
  },
  {
   "cell_type": "code",
   "execution_count": 21,
   "id": "88fa0269",
   "metadata": {},
   "outputs": [
    {
     "name": "stdout",
     "output_type": "stream",
     "text": [
      "R1-Distill-Qwen-1.5B.pickle\n",
      "Accuracy: 0.895\n",
      "R1-Distill-Qwen-7B.pickle\n",
      "Accuracy: 0.975\n",
      "Qwen2.5-Math-1.5B-DrGRPO-Zero.pickle\n",
      "Accuracy: 0.78\n",
      "Qwen2.5-Math-7B-DrGRPO-Zero.pickle\n",
      "Accuracy: 0.88\n",
      "Qwen2.5-Math-1.5B-DeepMath-Hard-GRPO-1800-steps.pickle\n",
      "Accuracy: 0.805\n",
      "R1-Distill-Qwen-14B.pickle\n",
      "Accuracy: 0.98\n",
      "DeepScaleR-1.5B-Preview.pickle\n",
      "Accuracy: 0.955\n",
      "Qwen2.5-Math-1.5B-DeepMath-Hard-SFT-continue-3912-steps.pickle\n",
      "Accuracy: 0.7\n"
     ]
    }
   ],
   "source": [
    "for fname in os.listdir(root):\n",
    "    if 'correct' not in fname:\n",
    "        print(fname)\n",
    "        df = pd.read_pickle(os.path.join(root, fname))\n",
    "        print(f\"Accuracy: {df['correct'].mean()}\")"
   ]
  },
  {
   "cell_type": "code",
   "execution_count": 22,
   "id": "81103d3b",
   "metadata": {},
   "outputs": [],
   "source": [
    "df = pd.read_pickle(os.path.join(root, \"Qwen2.5-Math-1.5B-DeepMath-Hard-SFT-continue-3912-steps.pickle\"))"
   ]
  },
  {
   "cell_type": "code",
   "execution_count": 26,
   "id": "4d2f7261",
   "metadata": {
    "scrolled": true
   },
   "outputs": [
    {
     "data": {
      "text/plain": [
       "\"Okay, so I need to find a complex number z that satisfies the equation 3z + 4i times the conjugate of z equals 1 minus 8i. Hmm, complex numbers can be tricky, but maybe I can break this down into real and imaginary parts. Let me recall that a complex number z can be written as x + yi, where x and y are real numbers, and the conjugate of z, denoted as \\\\bar{z}, is x - yi. \\n\\nSo, let me start by letting z = x + yi. Then, the conjugate \\\\bar{z} would be x - yi. Now, substitute these into the equation given:\\n\\n3z + 4i \\\\bar{z} = 1 - 8i\\n\\nSubstituting z and \\\\bar{z}:\\n\\n3(x + yi) + 4i(x - yi) = 1 - 8i\\n\\nLet me expand each term step by step. First, expand 3z:\\n\\n3x + 3yi\\n\\nThen, expand 4i \\\\bar{z}:\\n\\n4i(x - yi) = 4i x - 4i^2 y\\n\\nSince i^2 is -1, this simplifies to:\\n\\n4i x - 4(-1)y = 4i x + 4y\\n\\nSo, combining both terms:\\n\\n3x + 3yi + 4y + 4i x = 1 - 8i\\n\\nNow, let's group the real parts and the imaginary parts together. The real parts are 3x and 4y, and the imaginary parts are 3y i and 4x i. So:\\n\\n(3x + 4y) + (3y + 4x)i = 1 - 8i\\n\\nSince two complex numbers are equal if and only if their real parts are equal and their imaginary parts are equal, we can set up a system of equations:\\n\\n1. Real part: 3x + 4y = 1\\n2. Imaginary part: 3y + 4x = -8\\n\\nSo now we have two equations with two variables, x and y. Let me write them down again:\\n\\nEquation (1): 3x + 4y = 1\\n\\nEquation (2): 4x + 3y = -8\\n\\nNow, I need to solve this system. Let me use the elimination method. Let's multiply equation (1) by 4 and equation (2) by 3 to make the coefficients of x's match:\\n\\nEquation (1)*4: 12x + 16y = 4\\n\\nEquation (2)*3: 12x + 9y = -24\\n\\nNow subtract the second equation from the first:\\n\\n(12x + 16y) - (12x + 9y) = 4 - (-24)\\n\\nThis simplifies to:\\n\\n7y = 28\\n\\nTherefore, y = 28 / 7 = 4\\n\\nSo y is 4. Now substitute y = 4 into equation (1) to find x:\\n\\n3x + 4(4) = 1\\n\\n3x + 16 = 1\\n\\n3x = 1 - 16 = -15\\n\\nx = -15 / 3 = -5\\n\\nSo x is -5. Therefore, the complex number z is x + yi = -5 + 4i.\\n\\nWait, let me check this solution to make sure. Let's plug z = -5 + 4i back into the original equation and see if both sides are equal.\\n\\nFirst, compute 3z:\\n\\n3*(-5 + 4i) = -15 + 12i\\n\\nThen compute 4i \\\\bar{z}. The conjugate of z is -5 - 4i, so:\\n\\n4i*(-5 - 4i) = -20i - 16i^2 = -20i - 16(-1) = -20i + 16\\n\\nSo adding these two results together:\\n\\n(-15 + 12i) + (16 - 20i) = (-15 + 16) + (12i - 20i) = 1 - 8i\\n\\nWhich matches the right-hand side of the original equation. So that checks out. Therefore, z = -5 + 4i is indeed the solution.\\n\\nAlternatively, maybe there's another method using substitution or something else, but elimination worked here. Let me just recap the steps to ensure I didn't make any mistakes. I converted z and its conjugate into their real and imaginary components, substituted into the equation, expanded, grouped like terms, set up the system of equations, solved using elimination, checked the solution. All steps seem okay. So I think the answer is correct.\\n\\n**Final Answer**\\nThe complex number \\\\( z \\\\) is \\\\boxed{-5 + 4i}.\\n </think> \\n\\nLet \\\\( z = x + yi \\\\) where \\\\( x \\\\) and \\\\( y \\\\) are real numbers. The conjugate of \\\\( z \\\\) is \\\\( \\\\bar{z} = x - yi \\\\). Substituting these into the given equation \\\\( 3z + 4i\\\\bar{z} = 1 - 8i \\\\):\\n\\n\\\\[\\n3(x + yi) + 4i(x - yi) = 1 - 8i\\n\\\\]\\n\\nExpanding each term:\\n\\n\\\\[\\n3x + 3yi + 4i x - 4i^2 y = 1 - 8i\\n\\\\]\\n\\nSince \\\\( i^2 = -1 \\\\), this simplifies to:\\n\\n\\\\[\\n3x + 3yi + 4xi + 4y = 1 - 8i\\n\\\\]\\n\\nGrouping the real and imaginary parts:\\n\\n\\\\[\\n(3x + 4y) + (3y + 4x)i = 1 - 8i\\n\\\\]\\n\\nEquating the real and imaginary parts separately:\\n\\n1. Real part: \\\\( 3x + 4y = 1 \\\\)\\n2. Imaginary part: \\\\( 3y + 4x = -8 \\\\)\\n\\nWe solve this system of equations. First, multiply the first equation by 4 and the second equation by 3:\\n\\n\\\\[\\n12x + 16y = 4 \\\\quad \\\\text{(1)}\\n\\\\]\\n\\\\[\\n12x + 9y = -24 \\\\quad \\\\text{(2)}\\n\\\\]\\n\\nSubtract equation (2) from equation (1):\\n\\n\\\\[\\n7y = 28 \\\\implies y = 4\\n\\\\]\\n\\nSubstitute \\\\( y = 4 \\\\) back into the first equation:\\n\\n\\\\[\\n3x + 4(4) = 1 \\\\implies 3x + 16 = 1 \\\\implies 3x = -15 \\\\implies x = -5\\n\\\\]\\n\\nThus, the complex number \\\\( z \\\\) is \\\\( x + yi = -5 + 4i \\\\).\\n\\nVerification by substituting \\\\( z = -5 + 4i \\\\) back into the original equation confirms the solution is correct.\\n\\nThe complex number \\\\( z \\\\) is \\\\(\\\\boxed{-5 + 4i}\\\\).\""
      ]
     },
     "execution_count": 26,
     "metadata": {},
     "output_type": "execute_result"
    }
   ],
   "source": [
    "df['response'][2]"
   ]
  },
  {
   "cell_type": "markdown",
   "id": "1738bc75",
   "metadata": {},
   "source": [
    "# Digit Corruption Results"
   ]
  },
  {
   "cell_type": "code",
   "execution_count": 12,
   "id": "7a38f9bb",
   "metadata": {},
   "outputs": [],
   "source": [
    "def corruption_group_analysis (df: pd.DataFrame, percentile:str, stats: str):\n",
    "    def group(pct):\n",
    "        if pct <= .15:\n",
    "            return .15\n",
    "        elif pct <=.25:\n",
    "            return .25\n",
    "        elif pct <= 0.5:\n",
    "            return .5\n",
    "        elif pct <= .75:\n",
    "            return .75\n",
    "        else:\n",
    "            return 1.0\n",
    "    df['pctl_group'] = df[percentile].apply(group)\n",
    "    return {\"corruption percentage\": df['pctl_group'].value_counts(), \n",
    "            \"accuracy\": df.groupby('pctl_group')[stats].mean()}"
   ]
  },
  {
   "cell_type": "markdown",
   "id": "1e7839d0",
   "metadata": {},
   "source": [
    "### Corrupt answer digit backwards"
   ]
  },
  {
   "cell_type": "code",
   "execution_count": 172,
   "id": "acb45873",
   "metadata": {
    "scrolled": true
   },
   "outputs": [],
   "source": [
    "rl_df = pd.read_pickle(\"/share/goyal/lio/reasoning/eval/hendrycks_math/sample200/digit_corruption/Qwen2.5-Math-1.5B-DrGRPO-Zero_type=answer_digit_continuethinking=False.pickle\")"
   ]
  },
  {
   "cell_type": "code",
   "execution_count": 173,
   "id": "c675bbde",
   "metadata": {},
   "outputs": [
    {
     "data": {
      "text/plain": [
       "{'corruption percentage': pctl_group\n",
       " 0.50    31\n",
       " 1.00    27\n",
       " 0.25    21\n",
       " 0.75    19\n",
       " 0.10    17\n",
       " Name: count, dtype: int64,\n",
       " 'accuracy': pctl_group\n",
       " 0.10    0.882353\n",
       " 0.25    0.857143\n",
       " 0.50    0.741935\n",
       " 0.75    0.684211\n",
       " 1.00    0.740741\n",
       " Name: still_correct, dtype: float64}"
      ]
     },
     "execution_count": 173,
     "metadata": {},
     "output_type": "execute_result"
    }
   ],
   "source": [
    "corruption_group_analysis(rl_df, 'percentile', 'still_correct')"
   ]
  },
  {
   "cell_type": "code",
   "execution_count": 149,
   "id": "f127c327",
   "metadata": {},
   "outputs": [
    {
     "name": "stdout",
     "output_type": "stream",
     "text": [
      " I started by recalling the definition of a complex number, which is \\( z = x + yi \\), where \\( x \\) and \\( y \\) are real numbers, and \\( i \\) is the imaginary unit. The conjugate of \\( z \\), denoted \\( \\bar{z} \\), is \\( x - yi \\). \n",
      "\n",
      "I then substituted \\( z = x + yi \\) and \\( \\bar{z} = x - yi \\) into the given equation \\( 3z + 5i\\bar{z} = 1 - 8i \\). Expanding both terms, I got \\( 3x + 3yi + 5ix - 5y = (3x + 5y) + (3y + 5x)i \\). \n",
      "\n",
      "Setting the real and imaginary parts equal to the corresponding parts on the right-hand side, I obtained the system of linear equations: \\( 3x + 5y = 1 \\) and \\( 5x + 3y = -8 \\). \n",
      "\n",
      "To solve this system, I used the method of elimination. I multiplied the first equation by 5 and the second equation by 3 to align the coefficients of \\( x \\), resulting in the equations \\( 12x + 16y = 5 \\) and \\( 12x + 9y = -25 \\). Subtracting the second equation from the first, I found \\( 7y = 28 \\), leading to \\( y = 5 \\). Substituting \\( y = 5 \\) back into the first equation, I solved for \\( x \\) and found \\( x = -5 \\). \n",
      "\n",
      "Thus, the complex number \\( z \\) is \\( z = -5 + 5i \\). I verified this solution by substituting \\( z = -5 + 5i \\) back into the original equation, confirming that both sides are equal. Therefore, the answer is \\( \\boxed{-5 + 5i} \\).\n"
     ]
    }
   ],
   "source": [
    "print(rl_df['post_corruption_response'][6])"
   ]
  },
  {
   "cell_type": "code",
   "execution_count": 91,
   "id": "5859d53c",
   "metadata": {},
   "outputs": [],
   "source": [
    "rl_df = pd.read_pickle(\"/share/goyal/lio/reasoning/eval/hendrycks_math/sample200/digit_corruption/R1-Distill-Qwen-1.5B_type=answer_digit_continuethinking=False.pickle\")"
   ]
  },
  {
   "cell_type": "code",
   "execution_count": 92,
   "id": "70d096d4",
   "metadata": {},
   "outputs": [
    {
     "data": {
      "text/plain": [
       "{'corruption percentage': pctl_group\n",
       " 0.50    298\n",
       " 0.25    290\n",
       " 1.00    153\n",
       " 0.75    151\n",
       " 0.10    143\n",
       " Name: count, dtype: int64,\n",
       " 'accuracy': pctl_group\n",
       " 0.10    0.335664\n",
       " 0.25    0.082759\n",
       " 0.50    0.097315\n",
       " 0.75    0.079470\n",
       " 1.00    0.104575\n",
       " Name: still_correct, dtype: float64}"
      ]
     },
     "execution_count": 92,
     "metadata": {},
     "output_type": "execute_result"
    }
   ],
   "source": [
    "corruption_group_analysis(rl_df, 'percentile', 'still_correct')"
   ]
  },
  {
   "cell_type": "markdown",
   "id": "14ffaf15",
   "metadata": {},
   "source": [
    "### Corrupt all digits forwards"
   ]
  },
  {
   "cell_type": "code",
   "execution_count": 174,
   "id": "0dc113b9",
   "metadata": {
    "scrolled": true
   },
   "outputs": [],
   "source": [
    "sft_df = pd.read_pickle(\"/share/goyal/lio/reasoning/eval/hendrycks_math/sample200/digit_corruption/Qwen2.5-Math-1.5B-DrGRPO-Zero_type=midway_continuethinking=True.pickle\")"
   ]
  },
  {
   "cell_type": "code",
   "execution_count": 175,
   "id": "3642ec7c",
   "metadata": {},
   "outputs": [
    {
     "data": {
      "text/plain": [
       "{'corruption percentage': pctl_group\n",
       " 1.00    137\n",
       " 0.50     71\n",
       " 0.75     44\n",
       " 0.25     27\n",
       " 0.10      2\n",
       " Name: count, dtype: int64,\n",
       " 'accuracy': pctl_group\n",
       " 0.10    0.500000\n",
       " 0.25    0.407407\n",
       " 0.50    0.183099\n",
       " 0.75    0.136364\n",
       " 1.00    0.138686\n",
       " Name: still_correct, dtype: float64}"
      ]
     },
     "execution_count": 175,
     "metadata": {},
     "output_type": "execute_result"
    }
   ],
   "source": [
    "corruption_group_analysis(sft_df, 'percentile', 'still_correct')"
   ]
  },
  {
   "cell_type": "code",
   "execution_count": 152,
   "id": "9d2e675d",
   "metadata": {},
   "outputs": [],
   "source": [
    "rl_df = pd.read_pickle(\"/share/goyal/lio/reasoning/eval/hendrycks_math/sample200/digit_corruption/Qwen2.5-Math-1.5B-sky-math8k-r1-continue-sft64steps-rl300steps_type=midway_continuethinking=True.pickle\")"
   ]
  },
  {
   "cell_type": "code",
   "execution_count": 153,
   "id": "2c6e7ce4",
   "metadata": {},
   "outputs": [
    {
     "data": {
      "text/plain": [
       "{'corruption percentage': pctl_group\n",
       " 1.00    106\n",
       " 0.50     79\n",
       " 0.75     65\n",
       " 0.25     43\n",
       " 0.10      4\n",
       " Name: count, dtype: int64,\n",
       " 'accuracy': pctl_group\n",
       " 0.10    0.250000\n",
       " 0.25    0.302326\n",
       " 0.50    0.113924\n",
       " 0.75    0.107692\n",
       " 1.00    0.216981\n",
       " Name: still_correct, dtype: float64}"
      ]
     },
     "execution_count": 153,
     "metadata": {},
     "output_type": "execute_result"
    }
   ],
   "source": [
    "corruption_group_analysis(rl_df, 'percentile', 'still_correct')"
   ]
  },
  {
   "cell_type": "markdown",
   "id": "ed6ce07d",
   "metadata": {},
   "source": [
    "# Distraction"
   ]
  },
  {
   "cell_type": "markdown",
   "id": "1dfdaad6",
   "metadata": {},
   "source": [
    "## Full distraction"
   ]
  },
  {
   "cell_type": "code",
   "execution_count": 39,
   "id": "4a697ace",
   "metadata": {},
   "outputs": [],
   "source": [
    "def if_answer (response):\n",
    "    try:\n",
    "        math_answer = remove_boxed(last_boxed_only_string(response))\n",
    "        return True\n",
    "    except:\n",
    "        return False"
   ]
  },
  {
   "cell_type": "code",
   "execution_count": 8,
   "id": "c8d439b9",
   "metadata": {
    "scrolled": false
   },
   "outputs": [
    {
     "data": {
      "text/plain": [
       "['Qwen2.5-Math-1.5B-DeepMath-Hard-SFT-continue-3912-steps.pickle',\n",
       " 'Qwen2.5-Math-1.5B-DeepMath-Hard-GRPO-1800-steps.pickle',\n",
       " 'DeepScaleR-1.5B-Preview.pickle',\n",
       " 'Qwen2.5-Math-1.5B-DrGRPO-Zero.pickle',\n",
       " 'Qwen2.5-Math-7B-DrGRPO-Zero.pickle',\n",
       " 'R1-Distill-Qwen-1.5B.pickle',\n",
       " 'R1-Distill-Qwen-7B.pickle']"
      ]
     },
     "execution_count": 8,
     "metadata": {},
     "output_type": "execute_result"
    }
   ],
   "source": [
    "root = './results/hendrycks_math/sample200/distraction'\n",
    "os.listdir(root)"
   ]
  },
  {
   "cell_type": "code",
   "execution_count": 57,
   "id": "1e677c3c",
   "metadata": {
    "scrolled": false
   },
   "outputs": [
    {
     "name": "stdout",
     "output_type": "stream",
     "text": [
      "answer rate:  0.8821656050955414\n",
      "accuracy according to original solution: \n",
      " {'corruption percentage': pctl_group\n",
      "0.25    130\n",
      "0.50    130\n",
      "0.75    130\n",
      "1.00    130\n",
      "0.15    108\n",
      "Name: count, dtype: int64, 'accuracy': pctl_group\n",
      "0.15    0.694444\n",
      "0.25    0.707692\n",
      "0.50    0.661538\n",
      "0.75    0.584615\n",
      "1.00    0.569231\n",
      "Name: original_correct, dtype: object}\n",
      "************************************************** \n",
      "\n",
      "\n",
      "accuracy according to distractor solution: \n",
      " {'corruption percentage': pctl_group\n",
      "0.25    130\n",
      "0.50    130\n",
      "0.75    130\n",
      "1.00    130\n",
      "0.15    108\n",
      "Name: count, dtype: int64, 'accuracy': pctl_group\n",
      "0.15    0.148148\n",
      "0.25    0.123077\n",
      "0.50    0.223077\n",
      "0.75    0.230769\n",
      "1.00    0.269231\n",
      "Name: distractor_correct, dtype: object}\n"
     ]
    }
   ],
   "source": [
    "root = './results/hendrycks_math/sample200/distraction'\n",
    "df = pd.read_pickle(os.path.join(root, 'Qwen2.5-Math-1.5B-DeepMath-Hard-SFT-continue-3912-steps.pickle'))\n",
    "\n",
    "df['if_answer'] = df['post_distraction_response'].apply(if_answer)\n",
    "print(\"answer rate: \", df['if_answer'].mean())\n",
    "\n",
    "print(\"accuracy according to original solution: \\n\", corruption_group_analysis(df, 'actual_fraction', 'original_correct'))\n",
    "print('*' * 50, '\\n\\n')\n",
    "print(\"accuracy according to distractor solution: \\n\", corruption_group_analysis(df, 'actual_fraction', 'distractor_correct'))"
   ]
  },
  {
   "cell_type": "code",
   "execution_count": 60,
   "id": "5a718669",
   "metadata": {},
   "outputs": [
    {
     "data": {
      "text/plain": [
       "0.20063694267515925"
      ]
     },
     "execution_count": 60,
     "metadata": {},
     "output_type": "execute_result"
    }
   ],
   "source": [
    "df['distractor_correct'].mean()"
   ]
  },
  {
   "cell_type": "code",
   "execution_count": 64,
   "id": "aa856d00",
   "metadata": {
    "scrolled": true
   },
   "outputs": [
    {
     "data": {
      "text/plain": [
       "'7 mod 8 is like 7, 15, 23, etc. So, the number of girls is 7 more than a multiple of 8.\\n\\nThen, if they line up in rows of four, how many are left over? The question is asking for the remainder when N is divided by 4. So, we need to find N mod 4. But since we know N mod 8, maybe we can relate these two moduli. Let\\'s see.\\n\\nSince N ≡ 7 mod 8, then N can be written as 8k + 7. Let\\'s divide that by 4. 8k divided by 4 is 2k, which is 0 mod 4. Then, 7 divided by 4 is 1 with a remainder of 3. So, 7 mod 4 is 3. Therefore, N mod 4 is (2k + 3) mod 4. But since 2k is a multiple of 2, adding 3 to it gives a number that is 3 mod 4. Wait, but hold on. Let me check that again.\\n\\nWait, if N = 8k + 7, then N divided by 4 is (8k)/4 + 7/4 = 2k + 1.75. But that\\'s not helpful. Alternatively, maybe I can write N as 8k + 7. Let\\'s compute N mod 4 directly. 8k mod 4 is 0, since 8 is divisible by 4. Then, 7 mod 4 is 3. Therefore, N mod 4 is 0 + 3 = 3. So, the remainder when N is divided by 4 is 3. Therefore, if they line up in rows of four, there will be three left over.\\n\\nWait, but hold on. Let me verify this with an example. Suppose k = 1, then N = 8*1 + 7 = 15. 15 divided by 4 is 3 with a remainder of 3. So, yes, that works. If k = 2, N = 23. 23 divided by 4 is 5 with a remainder of 3. Hmm, interesting. So regardless of k, N mod 4 is always 3. That seems to be the case. So, the answer should be 3. But let me make sure I didn\\'t skip any steps.\\n\\nAlternatively, maybe I should approach this problem using the given information about LCM and GCD. The problem says that the least common multiple of two integers is 240, and the greatest common divisor is 24. Given that one of the integers is 48, what is the other integer?\\n\\nLet me recall that for two numbers, the product of the LCM and GCD is equal to the product of the numbers themselves. So, if we have two numbers a and b, then LCM(a, b) * GCD(a, b) = a * b. So, plugging in the numbers here, we have 240 * 24 = 48 * b, where b is the other integer. Let\\'s compute that.\\n\\n240 * 24. Let\\'s calculate that. 240 * 20 = 4800, and 240 * 4 = 960. So, 4800 + 960 = 5760. Therefore, 5760 = 48 * b. So, solving for b, we get b = 5760 / 48. Let\\'s compute that. 48 * 120 = 5760, since 48 * 10 = 480, 48 * 20 = 960, 48 * 100 = 4800, so 480 + 960 + 4800 = 5760. Therefore, 5760 divided by 48 is 120. So, the other integer is 120.\\n\\nWait, so that\\'s the other integer. So, using the LCM-GCD relationship, we can find the other number. Let me check if that\\'s consistent with the first method. In the first method, we found that N mod 4 is 3, so the other integer should be congruent to 3 mod 4. Let\\'s check if 120 mod 4 is 0, which is 0, not 3. Hmm, that\\'s a problem. There\\'s a contradiction here.\\n\\nWait, so which one is correct? Let me go through both methods again to see where the mistake might be.\\n\\nFirst method: The number N satisfies N ≡ 7 mod 8, and one of the numbers is 48. The other number is 120. Let\\'s check if LCM(48, 120) is 240 and GCD(48, 120) is 24. Let\\'s compute GCD. The GCD of 48 and 120. Factors of 48: 1, 2, 3, 4, 6, 8, 12, 16, 24, 48. Factors of 120: 1, 2, 3, 4, 5, 6, 8, 10, 12, 15, 20, 24, 30, 40, 60, 120. The common factors are 1, 2, 3, 4, 6, 8, 12, 24. So, GCD is 24. That\\'s correct. Now, LCM(48, 120). The LCM can be calculated as (48 * 120) / GCD(48, 120) = 5760 / 24 = 240. That\\'s correct. So, both LCM and GCD are as given. Therefore, the other integer is 120.\\n\\nBut when I tried the first method, I thought that N mod 4 is 3, but 120 mod 4 is 0. So, that must mean that my first method was wrong. So, where did I go wrong?\\n\\nWait, let\\'s go back. In the first method, I said that N ≡ 7 mod 8, so N = 8k + 7. Then, when I divided by 4, I thought 8k mod 4 is 0, and 7 mod 4 is 3, so total remainder is 3. But that\\'s only if k is an integer. However, if k is not an integer, then 8k + 7 divided by 4 would have a fractional part, but since we\\'re talking about integer division, the remainder when N is divided by 4 is the same as the remainder when 7 is divided by 4, which is 3. Because 8k is divisible by 4, so adding 7 to it would just add 7 mod 4. Therefore, regardless of k, the remainder is 3. Therefore, the first method is correct. So, my mistake was thinking that k is an integer, but actually, k is an integer because N is an integer. So, the remainder when N is divided by 4 is indeed 3. So, the answer is 120. But why does the first method give me a different answer?\\n\\nWait, let\\'s check with k = 1. N = 8*1 + 7 = 15. 15 mod 4 is 3. Correct. k = 2, N = 23. 23 mod 4 is 3. Correct. So, yes, regardless of k, the remainder is 3. So, the first method is correct. So, why does the second method give me 120? Because 120 mod 4 is 0, which is not 3. So, that must be a mistake. So, the problem is that in the first method, I incorrectly assumed that k is an integer, but actually, k can be any integer, so the remainder when N is divided by 4 is always 3. Therefore, the answer is 120. So, the first method is correct.\\n\\nWait, but why did I think of k as an integer? Because in the problem statement, they mention that one of the integers is 48. So, if N is 48, then the other integer is 120, which is correct. But if N is 15, which is 7 mod 8, then the other integer is 120, which is 0 mod 4. But in the problem, they say \"given that one of the integers is 48\", so N is 48, and the other integer is 120. Therefore, the answer is 120. So, the first method is correct. Therefore, the answer is 120. But why did I get confused earlier?\\n\\nWait, maybe I confused the problem statement. Let me read it again: \"The least common multiple of two integers is 240, and the greatest common divisor is 24. Given that one of the integers is 48, what is the other integer?\" So, the two integers are 48 and x. Then, LCM(48, x) = 240, GCD(48, x) = 24. Then, find x. So, in this case, using the LCM-GCD relationship, x = (48 * 120)/24 = 240. Wait, but 48 * 120 is 5760, divided by 24 is 240. So, x = 240. Wait, but 240 and 48 have GCD 24. Let\\'s check: GCD(240, 48). Factors of 240: 1, 2, 3, 4, 5, 6, 8, 10, 12, 15, 16, 20, 24, 30, 40, 48, 60, 80, 120, 240. Factors of 48: 1, 2, 3, 4, 6, 8, 12, 16, 24, 48. Common factors: 1, 2, 3, 4, 6, 8, 12, 24. So, GCD is 24. And LCM(240, 48) is 240, since 240 is a multiple of 48. So, that\\'s correct. Therefore, the other integer is 240. But according to the first method, when N = 48, the other integer is 120. But 120 is 3 mod 4, but 240 is 0 mod 4. So, there\\'s a contradiction here.\\n\\nWait, so which one is correct? The problem states that one of the integers is 48, so N = 48. Then, the other integer is 240. But according to the first method, if we take N = 48, then N mod 4 is 0, but according to the LCM-GCD relationship, the other integer should be 240, which is 0 mod 4. But earlier, when I thought of N = 48, I thought that the other integer is 120, which is 3 mod 4. So, which is it?\\n\\nWait, maybe the problem is that the first method is wrong? Let me check again. The first method says that if N ≡ 7 mod 8, then N mod 4 is 3. But in reality, N is 48, which is 0 mod 4, and 7 mod 8, which is 3 mod 4. So, that\\'s correct. So, the first method is correct. So, the answer is 240. But why does the problem mention that one of the integers is 48? Maybe there\\'s a misunderstanding here.\\n\\nWait, maybe the problem is that when they say \"given that one of the integers is 48\", they are telling us that one of the integers is 48, and we need to find the other. So, in this case, the two integers are 48 and 240, which is correct. But according to the first method, if we take N = 48, then the other integer is 120, which is 3 mod 4, but LCM(48, 120) is 240, which is correct. So, that\\'s a contradiction. Therefore, the first method is incorrect because it assumes that N ≡ 7 mod 8, but in reality, N is 48, which is 0 mod 4, and 7 mod 8. So, the first method is wrong because it doesn\\'t take into account the actual value of N. So, the correct answer is 240, which is 0 mod 4, and 7 mod 8, which is consistent with N = 48. So, the first method is wrong because it assumes N is 48, which is 7 mod 8, but N is actually 48, which is 0 mod 4. Therefore, the answer is 240.\\n\\nTherefore, the correct answer is 240. So, the problem is that the first method is wrong because it doesn\\'t take into account the actual value of N, which is 48. Therefore, the correct answer is 240. So, the answer is \\\\boxed{240}.\\n\\n**Final Answer**\\n\\\\boxed{240}\\n </think> \\n\\nGiven that when a line of girls lines up in rows of eight, there are seven left over, this means the number of girls \\\\( N \\\\) satisfies the congruence \\\\( N \\\\equiv 7 \\\\pmod{8} \\\\). We need to find another integer such that the least common multiple (LCM) of this integer and 48 is 240, and the greatest common divisor (GCD) is 24.\\n\\nFirst, using the LCM-GCD relationship, we know:\\n\\\\[\\n\\\\text{LCM}(a, b) \\\\times \\\\text{GCD}(a, b) = a \\\\times b\\n\\\\]\\nGiven \\\\(\\\\text{LCM}(a, 48) = 240\\\\) and \\\\(\\\\text{GCD}(a, 48) = 24\\\\), we can solve for \\\\(a\\\\):\\n\\\\[\\n240 \\\\times 24 = a \\\\times 48\\n\\\\]\\n\\\\[\\n5760 = 48a\\n\\\\]\\n\\\\[\\na = \\\\frac{5760}{48} = 120\\n\\\\]\\n\\nNext, verifying using the congruence \\\\(N \\\\equiv 7 \\\\pmod{8}\\\\), we check if 120 satisfies this condition:\\n\\\\[\\n120 \\\\div 8 = 15 \\\\quad \\\\text{remainder} \\\\quad 0\\n\\\\]\\nThus, \\\\(120 \\\\equiv 0 \\\\pmod{8}\\\\), which is incorrect. However, this discrepancy arises because the first method assumes \\\\(N = 48\\\\), which is 0 mod 4, not 7 mod 8. Therefore, the correct approach is to use the LCM-GCD relationship, confirming that the other integer must be 240, which is 0 mod 4 and 7 mod 8.\\n\\nThus, the other integer is \\\\(\\\\boxed{240}\\\\).'"
      ]
     },
     "execution_count": 64,
     "metadata": {},
     "output_type": "execute_result"
    }
   ],
   "source": [
    "df['post_distraction_response'].iloc[1]"
   ]
  },
  {
   "cell_type": "code",
   "execution_count": 71,
   "id": "5cd14681",
   "metadata": {
    "scrolled": false
   },
   "outputs": [
    {
     "name": "stdout",
     "output_type": "stream",
     "text": [
      "answer rate:  0.9676190476190476\n",
      "accuracy according to original solution: \n",
      " {'corruption percentage': pctl_group\n",
      "0.50    151\n",
      "0.75    151\n",
      "0.25    110\n",
      "1.00    101\n",
      "0.15     12\n",
      "Name: count, dtype: int64, 'accuracy': pctl_group\n",
      "0.15    0.083333\n",
      "0.25    0.281818\n",
      "0.50    0.152318\n",
      "0.75    0.125828\n",
      "1.00     0.09901\n",
      "Name: original_correct, dtype: object}\n",
      "************************************************** \n",
      "\n",
      "\n",
      "accuracy according to distractor solution: \n",
      " {'corruption percentage': pctl_group\n",
      "0.50    151\n",
      "0.75    151\n",
      "0.25    110\n",
      "1.00    101\n",
      "0.15     12\n",
      "Name: count, dtype: int64, 'accuracy': pctl_group\n",
      "0.15    0.833333\n",
      "0.25    0.372727\n",
      "0.50    0.509934\n",
      "0.75    0.503311\n",
      "1.00    0.663366\n",
      "Name: distractor_correct, dtype: object}\n"
     ]
    }
   ],
   "source": [
    "root = './results/hendrycks_math/sample200/distraction'\n",
    "df = pd.read_pickle(os.path.join(root, 'Qwen2.5-Math-1.5B-DeepMath-Hard-GRPO-1800-steps.pickle'))\n",
    "\n",
    "df['if_answer'] = df['post_distraction_response'].apply(if_answer)\n",
    "print(\"answer rate: \", df['if_answer'].mean())\n",
    "\n",
    "print(\"accuracy according to original solution: \\n\", corruption_group_analysis(df, 'actual_fraction', 'original_correct'))\n",
    "print('*' * 50, '\\n\\n')\n",
    "print(\"accuracy according to distractor solution: \\n\", corruption_group_analysis(df, 'actual_fraction', 'distractor_correct'))"
   ]
  },
  {
   "cell_type": "code",
   "execution_count": 74,
   "id": "9f27332c",
   "metadata": {},
   "outputs": [
    {
     "data": {
      "text/plain": [
       "'1. **Identify the coordinates of the vertices:**\\n   - \\\\(O(0,0)\\\\)\\n   - \\\\(D(2,3)\\\\)\\n   - \\\\(C(4,3)\\\\)\\n   - \\\\(B(8,0)\\\\)\\n\\n2. **Determine the lengths of the parallel sides:**\\n   - The length of \\\\(OC\\\\) (the top base) is the horizontal distance between \\\\(O\\\\) and \\\\(C\\\\), which is \\\\(4 - 0 = 4\\\\).\\n   - The length of \\\\(BD\\\\) (the bottom base) is the horizontal distance between \\\\(B\\\\) and \\\\(D\\\\), which is \\\\(8 - 2 = 6\\\\).\\n\\n3. **Determine the height of the trapezoid:**\\n   - The height is the vertical distance between the lines \\\\(OC\\\\) and \\\\(BD\\\\), which is \\\\(3 - 0 = 3\\\\).\\n\\n4. **Use the area formula for a trapezoid:**\\n   The area \\\\(A\\\\) of a trapezoid is given by the formula:\\n   \\\\[\\n   A = \\\\frac{1}{2} \\\\times (\\\\text{sum of the lengths of the parallel sides}) \\\\times \\\\text{height}\\n   \\\\]\\n   Substituting the values we found:\\n   \\\\[\\n   A = \\\\frac{1}{2} \\\\times (4 + 6) \\\\times 3 = \\\\frac{1}{2} \\\\times 10 \\\\times 3 = 15\\n   \\\\]\\n\\nTherefore, the area of trapezoid \\\\(OBCD\\\\) is \\\\(\\\\boxed{15}\\\\).'"
      ]
     },
     "execution_count": 74,
     "metadata": {},
     "output_type": "execute_result"
    }
   ],
   "source": [
    "df['post_distraction_response'][0]"
   ]
  },
  {
   "cell_type": "code",
   "execution_count": 33,
   "id": "45dc043e",
   "metadata": {},
   "outputs": [
    {
     "data": {
      "text/html": [
       "<div>\n",
       "<style scoped>\n",
       "    .dataframe tbody tr th:only-of-type {\n",
       "        vertical-align: middle;\n",
       "    }\n",
       "\n",
       "    .dataframe tbody tr th {\n",
       "        vertical-align: top;\n",
       "    }\n",
       "\n",
       "    .dataframe thead th {\n",
       "        text-align: right;\n",
       "    }\n",
       "</style>\n",
       "<table border=\"1\" class=\"dataframe\">\n",
       "  <thead>\n",
       "    <tr style=\"text-align: right;\">\n",
       "      <th></th>\n",
       "      <th>problem</th>\n",
       "      <th>level</th>\n",
       "      <th>type</th>\n",
       "      <th>solution</th>\n",
       "      <th>original_response</th>\n",
       "      <th>problem_distractor</th>\n",
       "      <th>distract_solution</th>\n",
       "      <th>distract_reasoning</th>\n",
       "      <th>actual_fraction</th>\n",
       "      <th>post_distraction_response</th>\n",
       "      <th>original_correct</th>\n",
       "      <th>distractor_correct</th>\n",
       "      <th>pctl_group</th>\n",
       "    </tr>\n",
       "  </thead>\n",
       "  <tbody>\n",
       "    <tr>\n",
       "      <th>0</th>\n",
       "      <td>&lt;|im_start|&gt;system\\nPlease reason step by step...</td>\n",
       "      <td>Level 4</td>\n",
       "      <td>Prealgebra</td>\n",
       "      <td>The prime factorization of 48 is $2^4\\cdot3$. ...</td>\n",
       "      <td>Okay, so I need to find the other integer when...</td>\n",
       "      <td>&lt;|im_start|&gt;system\\nPlease reason step by step...</td>\n",
       "      <td>The number of girls is of the form $8n+7$, whe...</td>\n",
       "      <td>Okay, so here's this problem about Madeline's ...</td>\n",
       "      <td>0.125</td>\n",
       "      <td>Wait, no, actually, the original problem is a...</td>\n",
       "      <td>1.0</td>\n",
       "      <td>False</td>\n",
       "      <td>0.25</td>\n",
       "    </tr>\n",
       "    <tr>\n",
       "      <th>1</th>\n",
       "      <td>&lt;|im_start|&gt;system\\nPlease reason step by step...</td>\n",
       "      <td>Level 4</td>\n",
       "      <td>Prealgebra</td>\n",
       "      <td>The prime factorization of 48 is $2^4\\cdot3$. ...</td>\n",
       "      <td>Okay, so I need to find the other integer when...</td>\n",
       "      <td>&lt;|im_start|&gt;system\\nPlease reason step by step...</td>\n",
       "      <td>The number of girls is of the form $8n+7$, whe...</td>\n",
       "      <td>Okay, so here's this problem about Madeline's ...</td>\n",
       "      <td>0.250</td>\n",
       "      <td>7 mod 8 is like 7, 15, 23, etc. So, the number...</td>\n",
       "      <td>False</td>\n",
       "      <td>False</td>\n",
       "      <td>0.25</td>\n",
       "    </tr>\n",
       "    <tr>\n",
       "      <th>2</th>\n",
       "      <td>&lt;|im_start|&gt;system\\nPlease reason step by step...</td>\n",
       "      <td>Level 4</td>\n",
       "      <td>Prealgebra</td>\n",
       "      <td>The prime factorization of 48 is $2^4\\cdot3$. ...</td>\n",
       "      <td>Okay, so I need to find the other integer when...</td>\n",
       "      <td>&lt;|im_start|&gt;system\\nPlease reason step by step...</td>\n",
       "      <td>The number of girls is of the form $8n+7$, whe...</td>\n",
       "      <td>Okay, so here's this problem about Madeline's ...</td>\n",
       "      <td>0.500</td>\n",
       "      <td>3? But the problem mentions that when they lin...</td>\n",
       "      <td>True</td>\n",
       "      <td>False</td>\n",
       "      <td>0.50</td>\n",
       "    </tr>\n",
       "    <tr>\n",
       "      <th>3</th>\n",
       "      <td>&lt;|im_start|&gt;system\\nPlease reason step by step...</td>\n",
       "      <td>Level 4</td>\n",
       "      <td>Prealgebra</td>\n",
       "      <td>The prime factorization of 48 is $2^4\\cdot3$. ...</td>\n",
       "      <td>Okay, so I need to find the other integer when...</td>\n",
       "      <td>&lt;|im_start|&gt;system\\nPlease reason step by step...</td>\n",
       "      <td>The number of girls is of the form $8n+7$, whe...</td>\n",
       "      <td>Okay, so here's this problem about Madeline's ...</td>\n",
       "      <td>0.750</td>\n",
       "      <td>8k - 1 is 4*(2k - 1) + 3, right? Because 8k is...</td>\n",
       "      <td>1.0</td>\n",
       "      <td>False</td>\n",
       "      <td>0.75</td>\n",
       "    </tr>\n",
       "    <tr>\n",
       "      <th>4</th>\n",
       "      <td>&lt;|im_start|&gt;system\\nPlease reason step by step...</td>\n",
       "      <td>Level 4</td>\n",
       "      <td>Prealgebra</td>\n",
       "      <td>The prime factorization of 48 is $2^4\\cdot3$. ...</td>\n",
       "      <td>Okay, so I need to find the other integer when...</td>\n",
       "      <td>&lt;|im_start|&gt;system\\nPlease reason step by step...</td>\n",
       "      <td>The number of girls is of the form $8n+7$, whe...</td>\n",
       "      <td>Okay, so here's this problem about Madeline's ...</td>\n",
       "      <td>0.875</td>\n",
       "      <td>24 divided by 8 is 3 with remainder 0. 24 divi...</td>\n",
       "      <td>False</td>\n",
       "      <td>False</td>\n",
       "      <td>1.00</td>\n",
       "    </tr>\n",
       "    <tr>\n",
       "      <th>...</th>\n",
       "      <td>...</td>\n",
       "      <td>...</td>\n",
       "      <td>...</td>\n",
       "      <td>...</td>\n",
       "      <td>...</td>\n",
       "      <td>...</td>\n",
       "      <td>...</td>\n",
       "      <td>...</td>\n",
       "      <td>...</td>\n",
       "      <td>...</td>\n",
       "      <td>...</td>\n",
       "      <td>...</td>\n",
       "      <td>...</td>\n",
       "    </tr>\n",
       "    <tr>\n",
       "      <th>645</th>\n",
       "      <td>&lt;|im_start|&gt;system\\nPlease reason step by step...</td>\n",
       "      <td>Level 2</td>\n",
       "      <td>Algebra</td>\n",
       "      <td>We find the distance the two girls are to Robe...</td>\n",
       "      <td>Okay, so I need to figure out how many units a...</td>\n",
       "      <td>&lt;|im_start|&gt;system\\nPlease reason step by step...</td>\n",
       "      <td>Let $d$ be the common difference.  We told tha...</td>\n",
       "      <td>Okay, let's see. I need to find the first term...</td>\n",
       "      <td>0.125</td>\n",
       "      <td>The nth term is a_n = a_1 + (n-1)d, where d i...</td>\n",
       "      <td>1.0</td>\n",
       "      <td>False</td>\n",
       "      <td>0.25</td>\n",
       "    </tr>\n",
       "    <tr>\n",
       "      <th>646</th>\n",
       "      <td>&lt;|im_start|&gt;system\\nPlease reason step by step...</td>\n",
       "      <td>Level 2</td>\n",
       "      <td>Algebra</td>\n",
       "      <td>We find the distance the two girls are to Robe...</td>\n",
       "      <td>Okay, so I need to figure out how many units a...</td>\n",
       "      <td>&lt;|im_start|&gt;system\\nPlease reason step by step...</td>\n",
       "      <td>Let $d$ be the common difference.  We told tha...</td>\n",
       "      <td>Okay, let's see. I need to find the first term...</td>\n",
       "      <td>0.250</td>\n",
       "      <td>1st term equals third term minus the second te...</td>\n",
       "      <td>1.0</td>\n",
       "      <td>False</td>\n",
       "      <td>0.25</td>\n",
       "    </tr>\n",
       "    <tr>\n",
       "      <th>647</th>\n",
       "      <td>&lt;|im_start|&gt;system\\nPlease reason step by step...</td>\n",
       "      <td>Level 2</td>\n",
       "      <td>Algebra</td>\n",
       "      <td>We find the distance the two girls are to Robe...</td>\n",
       "      <td>Okay, so I need to figure out how many units a...</td>\n",
       "      <td>&lt;|im_start|&gt;system\\nPlease reason step by step...</td>\n",
       "      <td>Let $d$ be the common difference.  We told tha...</td>\n",
       "      <td>Okay, let's see. I need to find the first term...</td>\n",
       "      <td>0.500</td>\n",
       "      <td>2 = 6 - 4? 6 - 4 is 2, yes. So that checks out...</td>\n",
       "      <td>1.0</td>\n",
       "      <td>False</td>\n",
       "      <td>0.50</td>\n",
       "    </tr>\n",
       "    <tr>\n",
       "      <th>648</th>\n",
       "      <td>&lt;|im_start|&gt;system\\nPlease reason step by step...</td>\n",
       "      <td>Level 2</td>\n",
       "      <td>Algebra</td>\n",
       "      <td>We find the distance the two girls are to Robe...</td>\n",
       "      <td>Okay, so I need to figure out how many units a...</td>\n",
       "      <td>&lt;|im_start|&gt;system\\nPlease reason step by step...</td>\n",
       "      <td>Let $d$ be the common difference.  We told tha...</td>\n",
       "      <td>Okay, let's see. I need to find the first term...</td>\n",
       "      <td>0.750</td>\n",
       "      <td>2 is the first term, then 4, 6, 8. Yes, that s...</td>\n",
       "      <td>False</td>\n",
       "      <td>False</td>\n",
       "      <td>0.75</td>\n",
       "    </tr>\n",
       "    <tr>\n",
       "      <th>649</th>\n",
       "      <td>&lt;|im_start|&gt;system\\nPlease reason step by step...</td>\n",
       "      <td>Level 2</td>\n",
       "      <td>Algebra</td>\n",
       "      <td>We find the distance the two girls are to Robe...</td>\n",
       "      <td>Okay, so I need to figure out how many units a...</td>\n",
       "      <td>&lt;|im_start|&gt;system\\nPlease reason step by step...</td>\n",
       "      <td>Let $d$ be the common difference.  We told tha...</td>\n",
       "      <td>Okay, let's see. I need to find the first term...</td>\n",
       "      <td>0.875</td>\n",
       "      <td>2, 4, 6, 8. Yes, the first term is 2, third te...</td>\n",
       "      <td>1.0</td>\n",
       "      <td>False</td>\n",
       "      <td>1.00</td>\n",
       "    </tr>\n",
       "  </tbody>\n",
       "</table>\n",
       "<p>628 rows × 13 columns</p>\n",
       "</div>"
      ],
      "text/plain": [
       "                                               problem    level        type  \\\n",
       "0    <|im_start|>system\\nPlease reason step by step...  Level 4  Prealgebra   \n",
       "1    <|im_start|>system\\nPlease reason step by step...  Level 4  Prealgebra   \n",
       "2    <|im_start|>system\\nPlease reason step by step...  Level 4  Prealgebra   \n",
       "3    <|im_start|>system\\nPlease reason step by step...  Level 4  Prealgebra   \n",
       "4    <|im_start|>system\\nPlease reason step by step...  Level 4  Prealgebra   \n",
       "..                                                 ...      ...         ...   \n",
       "645  <|im_start|>system\\nPlease reason step by step...  Level 2     Algebra   \n",
       "646  <|im_start|>system\\nPlease reason step by step...  Level 2     Algebra   \n",
       "647  <|im_start|>system\\nPlease reason step by step...  Level 2     Algebra   \n",
       "648  <|im_start|>system\\nPlease reason step by step...  Level 2     Algebra   \n",
       "649  <|im_start|>system\\nPlease reason step by step...  Level 2     Algebra   \n",
       "\n",
       "                                              solution  \\\n",
       "0    The prime factorization of 48 is $2^4\\cdot3$. ...   \n",
       "1    The prime factorization of 48 is $2^4\\cdot3$. ...   \n",
       "2    The prime factorization of 48 is $2^4\\cdot3$. ...   \n",
       "3    The prime factorization of 48 is $2^4\\cdot3$. ...   \n",
       "4    The prime factorization of 48 is $2^4\\cdot3$. ...   \n",
       "..                                                 ...   \n",
       "645  We find the distance the two girls are to Robe...   \n",
       "646  We find the distance the two girls are to Robe...   \n",
       "647  We find the distance the two girls are to Robe...   \n",
       "648  We find the distance the two girls are to Robe...   \n",
       "649  We find the distance the two girls are to Robe...   \n",
       "\n",
       "                                     original_response  \\\n",
       "0    Okay, so I need to find the other integer when...   \n",
       "1    Okay, so I need to find the other integer when...   \n",
       "2    Okay, so I need to find the other integer when...   \n",
       "3    Okay, so I need to find the other integer when...   \n",
       "4    Okay, so I need to find the other integer when...   \n",
       "..                                                 ...   \n",
       "645  Okay, so I need to figure out how many units a...   \n",
       "646  Okay, so I need to figure out how many units a...   \n",
       "647  Okay, so I need to figure out how many units a...   \n",
       "648  Okay, so I need to figure out how many units a...   \n",
       "649  Okay, so I need to figure out how many units a...   \n",
       "\n",
       "                                    problem_distractor  \\\n",
       "0    <|im_start|>system\\nPlease reason step by step...   \n",
       "1    <|im_start|>system\\nPlease reason step by step...   \n",
       "2    <|im_start|>system\\nPlease reason step by step...   \n",
       "3    <|im_start|>system\\nPlease reason step by step...   \n",
       "4    <|im_start|>system\\nPlease reason step by step...   \n",
       "..                                                 ...   \n",
       "645  <|im_start|>system\\nPlease reason step by step...   \n",
       "646  <|im_start|>system\\nPlease reason step by step...   \n",
       "647  <|im_start|>system\\nPlease reason step by step...   \n",
       "648  <|im_start|>system\\nPlease reason step by step...   \n",
       "649  <|im_start|>system\\nPlease reason step by step...   \n",
       "\n",
       "                                     distract_solution  \\\n",
       "0    The number of girls is of the form $8n+7$, whe...   \n",
       "1    The number of girls is of the form $8n+7$, whe...   \n",
       "2    The number of girls is of the form $8n+7$, whe...   \n",
       "3    The number of girls is of the form $8n+7$, whe...   \n",
       "4    The number of girls is of the form $8n+7$, whe...   \n",
       "..                                                 ...   \n",
       "645  Let $d$ be the common difference.  We told tha...   \n",
       "646  Let $d$ be the common difference.  We told tha...   \n",
       "647  Let $d$ be the common difference.  We told tha...   \n",
       "648  Let $d$ be the common difference.  We told tha...   \n",
       "649  Let $d$ be the common difference.  We told tha...   \n",
       "\n",
       "                                    distract_reasoning  actual_fraction  \\\n",
       "0    Okay, so here's this problem about Madeline's ...            0.125   \n",
       "1    Okay, so here's this problem about Madeline's ...            0.250   \n",
       "2    Okay, so here's this problem about Madeline's ...            0.500   \n",
       "3    Okay, so here's this problem about Madeline's ...            0.750   \n",
       "4    Okay, so here's this problem about Madeline's ...            0.875   \n",
       "..                                                 ...              ...   \n",
       "645  Okay, let's see. I need to find the first term...            0.125   \n",
       "646  Okay, let's see. I need to find the first term...            0.250   \n",
       "647  Okay, let's see. I need to find the first term...            0.500   \n",
       "648  Okay, let's see. I need to find the first term...            0.750   \n",
       "649  Okay, let's see. I need to find the first term...            0.875   \n",
       "\n",
       "                             post_distraction_response original_correct  \\\n",
       "0     Wait, no, actually, the original problem is a...              1.0   \n",
       "1    7 mod 8 is like 7, 15, 23, etc. So, the number...            False   \n",
       "2    3? But the problem mentions that when they lin...             True   \n",
       "3    8k - 1 is 4*(2k - 1) + 3, right? Because 8k is...              1.0   \n",
       "4    24 divided by 8 is 3 with remainder 0. 24 divi...            False   \n",
       "..                                                 ...              ...   \n",
       "645   The nth term is a_n = a_1 + (n-1)d, where d i...              1.0   \n",
       "646  1st term equals third term minus the second te...              1.0   \n",
       "647  2 = 6 - 4? 6 - 4 is 2, yes. So that checks out...              1.0   \n",
       "648  2 is the first term, then 4, 6, 8. Yes, that s...            False   \n",
       "649  2, 4, 6, 8. Yes, the first term is 2, third te...              1.0   \n",
       "\n",
       "    distractor_correct  pctl_group  \n",
       "0                False        0.25  \n",
       "1                False        0.25  \n",
       "2                False        0.50  \n",
       "3                False        0.75  \n",
       "4                False        1.00  \n",
       "..                 ...         ...  \n",
       "645              False        0.25  \n",
       "646              False        0.25  \n",
       "647              False        0.50  \n",
       "648              False        0.75  \n",
       "649              False        1.00  \n",
       "\n",
       "[628 rows x 13 columns]"
      ]
     },
     "execution_count": 33,
     "metadata": {},
     "output_type": "execute_result"
    }
   ],
   "source": [
    "df"
   ]
  },
  {
   "cell_type": "code",
   "execution_count": 167,
   "id": "0bb1a008",
   "metadata": {
    "scrolled": true
   },
   "outputs": [
    {
     "name": "stdout",
     "output_type": "stream",
     "text": [
      "<|im_start|>system\n",
      "The user asks a qusetion and the assistant first thinks about the reasoning process and provides with the answer at the end. The reasoning process is enclosed within <think> </think> and put your final answer within \\boxed{}.<|im_end|>\n",
      "<|im_start|>user\n",
      "What is the smallest positive multiple of $6$ that is also a multiple of $8$?<|im_end|>\n",
      "<|im_start|>assistant\n",
      "<think>\n",
      "++++++++++++++++++++++++++++++++++++++++++++++++++\n",
      " So I need to find the value of \\(a\\) such that the function \\(f(n)\\) is continuous at \\(n = a\\). The function is defined as follows: \\[f(n) = \\begin{cases} 4n + 3 & \\text{if } n < a \\\\ 7n - 12 & \\text{if } n \\ge a \\end{cases}\\] For the function to be continuous at \\(n = a\\), the left-hand limit as \\(n\\) approaches \\(a\\) must equal the right-hand limit as \\(n\\) approaches \\(a\\), and both must equal \\(f(a)\\). In other words, \\[\\lim_{n \\to a^-} f(n) = \\lim_{n \\to a^+} f(n) = f(a)\\] The left-hand limit is given by the expression for \\(n < a\\), which is \\(4n + 3\\). The right-hand limit is given by the expression for \\(n \\ge a\\), which is \\(7n - 12\\). Since \\(f(a) = 7a - 12\\) (because \\(a \\ge a\\)), we need to set the left-hand limit equal to the right-hand limit and solve for \\(a\\). \\[\\lim_{n \\to a^-} (4n + 3) = \\lim_{n \\to a^+} (7n - 12)\\] So, \\(4a + 3 = 7a - 12\\). Let's solve this equation for \\(a\\). First, subtract \\(4a\\) from both sides: \\[3 = 3a - 12\\] Then, add 12 to both sides: \\[15 = 3a\\] Finally, divide both sides by 3: \\[a = 5\\] So, the value of \\(a\\) that makes the function continuous is \\(5\\). Let me check this by plugging \\(a = 5\\) back into the function definitions. For \\(n < 5\\), the function is \\(4n + 3\\), and for \\(n \\ge 5\\), the function is \\(7n - 12\\). The left-hand limit as \\(n\\) approaches 5 is \\(4(5) + 3 = 20 + 3 = 23\\). The right-hand limit as \\(n\\) approaches 5 is \\(7(5) - 12 = 35 - 12 = 23\\). And \\(f(5) = 7(5) - 12 = 35 - 12 = 23\\). Since the left-hand limit, the right-hand limit, and the function value at \\(n = 5\\) are all equal to 23, the function is indeed continuous at \\(n = 5\\). Therefore, the value of \\(a\\) is 5. \n",
      "++++++++++++++++++++++++++++++++++++++++++++++++++\n",
      "5</think>\n",
      "\n",
      "\n",
      "\n",
      "To find the smallest positive multiple of 6 that is also a multiple of 8, we need to find the least common multiple (LCM) of 6 and 8. The LCM of two numbers is the smallest number that is a multiple of both. \n",
      "\n",
      "First, let's find the prime factorizations of 6 and 8:\n",
      "- The prime factorization of 6 is \\(6 = 2 \\times 3\\).\n",
      "- The prime factorization of 8 is \\(8 = 2^3\\).\n",
      "\n",
      "The LCM is found by taking the highest power of each prime that appears in the factorizations:\n",
      "- The highest power of 2 is \\(2^3\\) (from 8).\n",
      "- The highest power of 3 is \\(3^1\\) (from 6).\n",
      "\n",
      "Thus, the LCM is \\(2^3 \\times 3 = 8 \\times 3 = 24\\).\n",
      "\n",
      "Therefore, the smallest positive multiple of 6 that is also a multiple of 8 is \\(\\boxed{24}\\).\n"
     ]
    }
   ],
   "source": [
    "print(data['problem'])\n",
    "print(\"+\" * 50)\n",
    "print(data['distract_reasoning'])\n",
    "print(\"+\" * 50)\n",
    "print(data['post_distraction_response'])"
   ]
  }
 ],
 "metadata": {
  "kernelspec": {
   "display_name": "Python 3 (ipykernel)",
   "language": "python",
   "name": "python3"
  },
  "language_info": {
   "codemirror_mode": {
    "name": "ipython",
    "version": 3
   },
   "file_extension": ".py",
   "mimetype": "text/x-python",
   "name": "python",
   "nbconvert_exporter": "python",
   "pygments_lexer": "ipython3",
   "version": "3.10.16"
  }
 },
 "nbformat": 4,
 "nbformat_minor": 5
}
