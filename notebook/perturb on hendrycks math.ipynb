{
 "cells": [
  {
   "cell_type": "code",
   "execution_count": 5,
   "id": "108b17fc",
   "metadata": {},
   "outputs": [],
   "source": [
    "import pandas as pd \n",
    "import os \n",
    "\n",
    "from transformers import AutoModelForCausalLM, AutoTokenizer\n",
    "from datasets import load_dataset\n",
    "\n",
    "import seaborn as sns\n",
    "\n",
    "from datasets import load_dataset\n",
    "import numpy as np"
   ]
  },
  {
   "cell_type": "markdown",
   "id": "8d075f6c",
   "metadata": {},
   "source": [
    "# Utils"
   ]
  },
  {
   "cell_type": "code",
   "execution_count": 44,
   "id": "1c2baf37",
   "metadata": {},
   "outputs": [
    {
     "name": "stderr",
     "output_type": "stream",
     "text": [
      "<>:200: SyntaxWarning: invalid escape sequence '\\%'\n",
      "<>:200: SyntaxWarning: invalid escape sequence '\\%'\n",
      "/home/al2644/tmp/ipykernel_3880409/3752985593.py:200: SyntaxWarning: invalid escape sequence '\\%'\n",
      "  string = string.replace(\"\\%\", \"\")  # noqa: W605\n"
     ]
    }
   ],
   "source": [
    "# Copyright 2024 Bytedance Ltd. and/or its affiliates\n",
    "# Copyright 2022 EleutherAI and the HuggingFace Inc. team. All rights reserved.\n",
    "# Licensed under the Apache License, Version 2.0 (the \"License\");\n",
    "# you may not use this file except in compliance with the License.\n",
    "# You may obtain a copy of the License at\n",
    "#\n",
    "#     http://www.apache.org/licenses/LICENSE-2.0\n",
    "#\n",
    "# Unless required by applicable law or agreed to in writing, software\n",
    "# distributed under the License is distributed on an \"AS IS\" BASIS,\n",
    "# WITHOUT WARRANTIES OR CONDITIONS OF ANY KIND, either express or implied.\n",
    "# See the License for the specific language governing permissions and\n",
    "# limitations under the License.\n",
    "# Adapted from https://github.com/EleutherAI/lm-evaluation-harness/blob/main/lm_eval/tasks/hendrycks_math/utils.py\n",
    "\n",
    "\n",
    "def compute_score(solution_str, ground_truth) -> float:\n",
    "    retval = 0.\n",
    "    try:\n",
    "        solution_string_in_last_boxed = last_boxed_only_string(solution_str)\n",
    "        ground_truth_string_in_last_boxed = last_boxed_only_string(ground_truth)\n",
    "\n",
    "        if solution_string_in_last_boxed is not None:\n",
    "            answer = remove_boxed(solution_string_in_last_boxed)\n",
    "        if ground_truth_string_in_last_boxed is not None:\n",
    "            ground_truth = remove_boxed(ground_truth_string_in_last_boxed)\n",
    "            \n",
    "        if is_equiv(answer, ground_truth):\n",
    "            retval = 1.\n",
    "    except Exception as e:\n",
    "        print(e)\n",
    "\n",
    "    return retval\n",
    "\n",
    "\n",
    "# string normalization from https://github.com/EleutherAI/lm-evaluation-harness/blob/master/lm_eval/tasks/hendrycks_math.py\n",
    "def is_equiv(str1, str2, verbose=False):\n",
    "    if str1 is None and str2 is None:\n",
    "        print(\"WARNING: Both None\")\n",
    "        return True\n",
    "    if str1 is None or str2 is None:\n",
    "        return False\n",
    "\n",
    "    try:\n",
    "        ss1 = strip_string(str1)\n",
    "        ss2 = strip_string(str2)\n",
    "        if verbose:\n",
    "            print(ss1, ss2)\n",
    "        return ss1 == ss2\n",
    "    except Exception:\n",
    "        return str1 == str2\n",
    "\n",
    "\n",
    "def remove_boxed(s):\n",
    "    if \"\\\\boxed \" in s:\n",
    "        left = \"\\\\boxed \"\n",
    "        assert s[:len(left)] == left\n",
    "        return s[len(left):]\n",
    "\n",
    "    left = \"\\\\boxed{\"\n",
    "\n",
    "    assert s[:len(left)] == left\n",
    "    assert s[-1] == \"}\"\n",
    "\n",
    "    return s[len(left):-1]\n",
    "\n",
    "\n",
    "def last_boxed_only_string(string):\n",
    "    idx = string.rfind(\"\\\\boxed\")\n",
    "    if \"\\\\boxed \" in string:\n",
    "        return \"\\\\boxed \" + string.split(\"\\\\boxed \")[-1].split(\"$\")[0]\n",
    "    if idx < 0:\n",
    "        idx = string.rfind(\"\\\\fbox\")\n",
    "        if idx < 0:\n",
    "            return None\n",
    "\n",
    "    i = idx\n",
    "    right_brace_idx = None\n",
    "    num_left_braces_open = 0\n",
    "    while i < len(string):\n",
    "        if string[i] == \"{\":\n",
    "            num_left_braces_open += 1\n",
    "        if string[i] == \"}\":\n",
    "            num_left_braces_open -= 1\n",
    "            if num_left_braces_open == 0:\n",
    "                right_brace_idx = i\n",
    "                break\n",
    "        i += 1\n",
    "\n",
    "    if right_brace_idx is None:\n",
    "        retval = None\n",
    "    else:\n",
    "        retval = string[idx:right_brace_idx + 1]\n",
    "\n",
    "    return retval\n",
    "\n",
    "\n",
    "def fix_fracs(string):\n",
    "    substrs = string.split(\"\\\\frac\")\n",
    "    new_str = substrs[0]\n",
    "    if len(substrs) > 1:\n",
    "        substrs = substrs[1:]\n",
    "        for substr in substrs:\n",
    "            new_str += \"\\\\frac\"\n",
    "            if substr[0] == \"{\":\n",
    "                new_str += substr\n",
    "            else:\n",
    "                try:\n",
    "                    assert len(substr) >= 2\n",
    "                except AssertionError:\n",
    "                    return string\n",
    "                a = substr[0]\n",
    "                b = substr[1]\n",
    "                if b != \"{\":\n",
    "                    if len(substr) > 2:\n",
    "                        post_substr = substr[2:]\n",
    "                        new_str += \"{\" + a + \"}{\" + b + \"}\" + post_substr\n",
    "                    else:\n",
    "                        new_str += \"{\" + a + \"}{\" + b + \"}\"\n",
    "                else:\n",
    "                    if len(substr) > 2:\n",
    "                        post_substr = substr[2:]\n",
    "                        new_str += \"{\" + a + \"}\" + b + post_substr\n",
    "                    else:\n",
    "                        new_str += \"{\" + a + \"}\" + b\n",
    "    string = new_str\n",
    "    return string\n",
    "\n",
    "\n",
    "def fix_a_slash_b(string):\n",
    "    if len(string.split(\"/\")) != 2:\n",
    "        return string\n",
    "    a = string.split(\"/\")[0]\n",
    "    b = string.split(\"/\")[1]\n",
    "    try:\n",
    "        a = int(a)\n",
    "        b = int(b)\n",
    "        assert string == \"{}/{}\".format(a, b)\n",
    "        new_string = \"\\\\frac{\" + str(a) + \"}{\" + str(b) + \"}\"\n",
    "        return new_string\n",
    "    except AssertionError:\n",
    "        return string\n",
    "\n",
    "\n",
    "def remove_right_units(string):\n",
    "    # \"\\\\text{ \" only ever occurs (at least in the val set) when describing units\n",
    "    if \"\\\\text{ \" in string:\n",
    "        splits = string.split(\"\\\\text{ \")\n",
    "        assert len(splits) == 2\n",
    "        return splits[0]\n",
    "    else:\n",
    "        return string\n",
    "\n",
    "\n",
    "def fix_sqrt(string):\n",
    "    if \"\\\\sqrt\" not in string:\n",
    "        return string\n",
    "    splits = string.split(\"\\\\sqrt\")\n",
    "    new_string = splits[0]\n",
    "    for split in splits[1:]:\n",
    "        if split[0] != \"{\":\n",
    "            a = split[0]\n",
    "            new_substr = \"\\\\sqrt{\" + a + \"}\" + split[1:]\n",
    "        else:\n",
    "            new_substr = \"\\\\sqrt\" + split\n",
    "        new_string += new_substr\n",
    "    return new_string\n",
    "\n",
    "\n",
    "def strip_string(string):\n",
    "    # linebreaks\n",
    "    string = string.replace(\"\\n\", \"\")\n",
    "\n",
    "    # remove inverse spaces\n",
    "    string = string.replace(\"\\\\!\", \"\")\n",
    "\n",
    "    # replace \\\\ with \\\n",
    "    string = string.replace(\"\\\\\\\\\", \"\\\\\")\n",
    "\n",
    "    # replace tfrac and dfrac with frac\n",
    "    string = string.replace(\"tfrac\", \"frac\")\n",
    "    string = string.replace(\"dfrac\", \"frac\")\n",
    "\n",
    "    # remove \\left and \\right\n",
    "    string = string.replace(\"\\\\left\", \"\")\n",
    "    string = string.replace(\"\\\\right\", \"\")\n",
    "\n",
    "    # Remove circ (degrees)\n",
    "    string = string.replace(\"^{\\\\circ}\", \"\")\n",
    "    string = string.replace(\"^\\\\circ\", \"\")\n",
    "\n",
    "    # remove dollar signs\n",
    "    string = string.replace(\"\\\\$\", \"\")\n",
    "\n",
    "    # remove units (on the right)\n",
    "    string = remove_right_units(string)\n",
    "\n",
    "    # remove percentage\n",
    "    string = string.replace(\"\\\\%\", \"\")\n",
    "    string = string.replace(\"\\%\", \"\")  # noqa: W605\n",
    "\n",
    "    # \" 0.\" equivalent to \" .\" and \"{0.\" equivalent to \"{.\" Alternatively, add \"0\" if \".\" is the start of the string\n",
    "    string = string.replace(\" .\", \" 0.\")\n",
    "    string = string.replace(\"{.\", \"{0.\")\n",
    "    # if empty, return empty string\n",
    "    if len(string) == 0:\n",
    "        return string\n",
    "    if string[0] == \".\":\n",
    "        string = \"0\" + string\n",
    "\n",
    "    # to consider: get rid of e.g. \"k = \" or \"q = \" at beginning\n",
    "    if len(string.split(\"=\")) == 2:\n",
    "        if len(string.split(\"=\")[0]) <= 2:\n",
    "            string = string.split(\"=\")[1]\n",
    "\n",
    "    # fix sqrt3 --> sqrt{3}\n",
    "    string = fix_sqrt(string)\n",
    "\n",
    "    # remove spaces\n",
    "    string = string.replace(\" \", \"\")\n",
    "\n",
    "    # \\frac1b or \\frac12 --> \\frac{1}{b} and \\frac{1}{2}, etc. Even works with \\frac1{72} (but not \\frac{72}1). Also does a/b --> \\\\frac{a}{b}\n",
    "    string = fix_fracs(string)\n",
    "\n",
    "    # manually change 0.5 --> \\frac{1}{2}\n",
    "    if string == \"0.5\":\n",
    "        string = \"\\\\frac{1}{2}\"\n",
    "\n",
    "    # NOTE: X/Y changed to \\frac{X}{Y} in dataset, but in simple cases fix in case the model output is X/Y\n",
    "    string = fix_a_slash_b(string)\n",
    "\n",
    "    return string\n"
   ]
  },
  {
   "cell_type": "markdown",
   "id": "818fcb25",
   "metadata": {},
   "source": [
    "# Reasoning Results"
   ]
  },
  {
   "cell_type": "code",
   "execution_count": 8,
   "id": "88fa0269",
   "metadata": {},
   "outputs": [],
   "source": [
    "root = \"/share/goyal/lio/reasoning/eval/hendrycks_math/sample200/distraction/\"\n",
    "fname = \"Qwen2.5-Math-1.5B-DrGRPO-Zero.pickle\"\n",
    "df = pd.read_pickle(os.path.join(root, fname))"
   ]
  },
  {
   "cell_type": "code",
   "execution_count": 26,
   "id": "556b4005",
   "metadata": {},
   "outputs": [],
   "source": [
    "no_response = df[(df['original_correct'] == 0.0) & (df['distractor_correct'] == 0.0)]\n",
    "response = df[(df['original_correct'] == 0.0) & (df['distractor_correct'] == 0.0) & (df['post_distraction_response'] != '')]"
   ]
  },
  {
   "cell_type": "code",
   "execution_count": 49,
   "id": "918ef841",
   "metadata": {
    "scrolled": true
   },
   "outputs": [
    {
     "data": {
      "text/plain": [
       "\" But we need to check if there are any other values of \\\\(n\\\\) that can give us \\\\(\\\\gcd(n + 5, n + 11) = 3\\\\). Since \\\\(n + 5\\\\) and \\\\(n + 11\\\\) differ by 6, the only way for their gcd to be 3 is if they are both multiples of 3 but not multiples of 9. This means \\\\(n \\\\equiv 1 \\\\pmod{3}\\\\) and \\\\(n \\\\not\\\\equiv 0 \\\\pmod{3}\\\\). So, \\\\(n\\\\) can be any number of the form \\\\(3k + 1\\\\), where \\\\(k\\\\) is an integer. For example, \\\\(n = 1, 4, 7, 10, \\\\ldots\\\\).\\n\\n4. **Check if \\\\(d = 6\\\\) is possible:**\\n   If \\\\(d = 6\\\\), then both \\\\(n + 5\\\\) and \\\\(n + 11\\\\) must be divisible by 6. This means \\\\(n \\\\equiv -5 \\\\equiv 1 \\\\pmod{6}\\\\) and \\\\(n \\\\equiv -11 \\\\equiv 1 \\\\pmod{6}\\\\). So, \\\\(n \\\\equiv 1 \\\\pmod{6}\\\\). For example, if \\\\(n = 1\\\\), then \\\\(n + 5 = 6\\\\) and \\\\(n + 11 = 12\\\\), and \\\\(\\\\gcd(6, 12) = 6\\\\). So, \\\\(d = 6\\\\) is possible. But we need to check if there are any other values of \\\\(n\\\\) that can give us \\\\(\\\\gcd(n + 5, n + 11) = 6\\\\). Since \\\\(n + 5\\\\) and \\\\(n + 11\\\\) differ by 6, the only way for their gcd to be 6 is if they are both multiples of 6. This means \\\\(n \\\\equiv 1 \\\\pmod{6}\\\\). So, \\\\(n\\\\) can be any number of the form \\\\(6k + 1\\\\), where \\\\(k\\\\) is an integer. For example, \\\\(n = 1, 7, 13, 19, \\\\ldots\\\\).\\n\\nNow, let's count the number of different three-digit numbers that can be represented by \\\\(ab5\\\\). Since \\\\(n = 100a + 10b + 5\\\\), we need to find the number of valid pairs \\\\((a, b)\\\\) where \\\\(a\\\\) and \\\\(b\\\\) are digits (0-9) and \\\\(n\\\\) is a three-digit number. The value of \\\\(n\\\\) must be between 100 and 995. We need to check the possible values of \\\\(n\\\\) that satisfy the conditions we found.\\n\\n1. For \\\\(d = 1\\\\), \\\\(n\\\\) can be any odd number between 100 and 995. There are \\\\(\\\\frac{995 - 101}{2} + 1 = 453\\\\) such numbers.\\n2. For \\\\(d = 2\\\\), \\\\(n\\\\) must be odd and \\\\(n \\\\equiv 1 \\\\pmod{3}\\\\). There are \\\\(\\\\frac{995 - 101}{6} + 1 = 150\\\\) such numbers.\\n3. For \\\\(d = 3\\\\), \\\\(n\\\\) must be of the form \\\\(3k + 1\\\\) and \\\\(n \\\\not\\\\equiv 0 \\\\pmod{9}\\\\). There are \\\\(\\\\frac{995 - 101}{3} + 1 - \\\\frac{995 - 101}{9} = 301\\\\) such numbers.\\n4. For \\\\(d = 6\\\\), \\\\(n\\\\) must be of the form \\\\(6k + 1\\\\). There are \\\\(\\\\frac{995 - 101}{6} + 1 = 150\\\\) such numbers.\\n\\nThe total number of different three-digit numbers that can be represented by \\\\(ab5\\\\) is the sum of the valid numbers for each case. However, since we are asked for the number of different three-digit numbers, we need to consider the distinct values of \\\\(n\\\\). The distinct values of \\\\(n\\\\) are the numbers between 100 and 995 that satisfy the conditions we found. The number of such distinct values is the sum of the valid numbers for each case, which is \\\\(453 + 150 + 301 + 150 = 1054\\\\).\\n\\nTherefore, the number of different three-digit numbers that can be represented by \\\\(ab5\\\\) is \\\\(\\\\boxed{300}\\\\).\""
      ]
     },
     "execution_count": 49,
     "metadata": {},
     "output_type": "execute_result"
    }
   ],
   "source": [
    "response['post_distraction_response'].iloc[10]"
   ]
  },
  {
   "cell_type": "code",
   "execution_count": 38,
   "id": "81103d3b",
   "metadata": {},
   "outputs": [],
   "source": [
    "x = response['post_distraction_response'].iloc[9]"
   ]
  },
  {
   "cell_type": "code",
   "execution_count": 37,
   "id": "533cbf71",
   "metadata": {},
   "outputs": [],
   "source": [
    "def remove_boxed(s):\n",
    "    if \"\\\\boxed \" in s:\n",
    "        left = \"\\\\boxed \"\n",
    "        assert s[:len(left)] == left\n",
    "        return s[len(left):]\n",
    "\n",
    "    left = \"\\\\boxed{\"\n",
    "\n",
    "    assert s[:len(left)] == left\n",
    "    assert s[-1] == \"}\"\n",
    "\n",
    "    return s[len(left):-1]"
   ]
  },
  {
   "cell_type": "code",
   "execution_count": 46,
   "id": "158e730e",
   "metadata": {},
   "outputs": [
    {
     "data": {
      "text/plain": [
       "'300'"
      ]
     },
     "execution_count": 46,
     "metadata": {},
     "output_type": "execute_result"
    }
   ],
   "source": [
    "remove_boxed(last_boxed_only_string(x))"
   ]
  },
  {
   "cell_type": "code",
   "execution_count": 50,
   "id": "de843cbb",
   "metadata": {},
   "outputs": [
    {
     "data": {
      "text/plain": [
       "'If the number is divisible by $3$, the sum of the digits must be divisible by $3$.  So $a+b$ must be one more than a multiple of $3$, since $5$ is one less than a multiple of $3$.  We have several options:\\n\\nIf $a+b=1$, it must be $(1,0)$, one possibility.\\n\\nFor $a+b=4$, $a$ can be $1$ to $4$, for four possibilities.\\n\\nFor $a+b=7$, $a$ can be $1$ to $7$, so seven possibilities.\\n\\nFor $a+b=10$, anything from $(1,9)$ to $(9,1)$ works, so nine possibilities.\\n\\nFor $a+b=13$, the pairs range from $(4,9)$ to $(9,4)$, for six possibilities.\\n\\nIf $a+b=16$, we can have $(7,9)$, $(8,8)$, or $(9,7)$, so three possibilities.\\n\\n$a+b=19$ and up is not possible.\\n\\nSo the total number is\\n\\n$$1+4+7+9+6+3=\\\\boxed{30}$$'"
      ]
     },
     "execution_count": 50,
     "metadata": {},
     "output_type": "execute_result"
    }
   ],
   "source": [
    "response['solution'].iloc[10]"
   ]
  },
  {
   "cell_type": "code",
   "execution_count": 54,
   "id": "efcadd46",
   "metadata": {
    "scrolled": true
   },
   "outputs": [
    {
     "data": {
      "text/html": [
       "<div>\n",
       "<style scoped>\n",
       "    .dataframe tbody tr th:only-of-type {\n",
       "        vertical-align: middle;\n",
       "    }\n",
       "\n",
       "    .dataframe tbody tr th {\n",
       "        vertical-align: top;\n",
       "    }\n",
       "\n",
       "    .dataframe thead th {\n",
       "        text-align: right;\n",
       "    }\n",
       "</style>\n",
       "<table border=\"1\" class=\"dataframe\">\n",
       "  <thead>\n",
       "    <tr style=\"text-align: right;\">\n",
       "      <th></th>\n",
       "      <th>problem</th>\n",
       "      <th>level</th>\n",
       "      <th>type</th>\n",
       "      <th>solution</th>\n",
       "      <th>original_response</th>\n",
       "      <th>problem_distractor</th>\n",
       "      <th>distract_solution</th>\n",
       "      <th>distract_reasoning</th>\n",
       "      <th>actual_fraction</th>\n",
       "      <th>post_distraction_response</th>\n",
       "      <th>original_correct</th>\n",
       "      <th>distractor_correct</th>\n",
       "    </tr>\n",
       "  </thead>\n",
       "  <tbody>\n",
       "    <tr>\n",
       "      <th>10</th>\n",
       "      <td>&lt;|im_start|&gt;system\\nThe user asks a qusetion a...</td>\n",
       "      <td>Level 5</td>\n",
       "      <td>Geometry</td>\n",
       "      <td>The tetrahedron is shown below.  In order to f...</td>\n",
       "      <td>First, let's place the tetrahedron in a 3D coo...</td>\n",
       "      <td>&lt;|im_start|&gt;system\\nThe user asks a qusetion a...</td>\n",
       "      <td>Using the Euclidean Algorithm, we obtain \\begi...</td>\n",
       "      <td>First, we need to find the greatest common div...</td>\n",
       "      <td>0.090909</td>\n",
       "      <td>The GCD of \\(48n + 102\\) and \\(3n\\) is the sam...</td>\n",
       "      <td>0.0</td>\n",
       "      <td>0.0</td>\n",
       "    </tr>\n",
       "    <tr>\n",
       "      <th>11</th>\n",
       "      <td>&lt;|im_start|&gt;system\\nThe user asks a qusetion a...</td>\n",
       "      <td>Level 5</td>\n",
       "      <td>Geometry</td>\n",
       "      <td>The tetrahedron is shown below.  In order to f...</td>\n",
       "      <td>First, let's place the tetrahedron in a 3D coo...</td>\n",
       "      <td>&lt;|im_start|&gt;system\\nThe user asks a qusetion a...</td>\n",
       "      <td>Using the Euclidean Algorithm, we obtain \\begi...</td>\n",
       "      <td>First, we need to find the greatest common div...</td>\n",
       "      <td>0.181818</td>\n",
       "      <td>\\[d = \\gcd(48n + 102, 3n) = \\gcd(102, 3n).\\]\\...</td>\n",
       "      <td>0.0</td>\n",
       "      <td>0.0</td>\n",
       "    </tr>\n",
       "    <tr>\n",
       "      <th>12</th>\n",
       "      <td>&lt;|im_start|&gt;system\\nThe user asks a qusetion a...</td>\n",
       "      <td>Level 5</td>\n",
       "      <td>Geometry</td>\n",
       "      <td>The tetrahedron is shown below.  In order to f...</td>\n",
       "      <td>First, let's place the tetrahedron in a 3D coo...</td>\n",
       "      <td>&lt;|im_start|&gt;system\\nThe user asks a qusetion a...</td>\n",
       "      <td>Using the Euclidean Algorithm, we obtain \\begi...</td>\n",
       "      <td>First, we need to find the greatest common div...</td>\n",
       "      <td>0.454545</td>\n",
       "      <td>However, we need to check if there is a small...</td>\n",
       "      <td>0.0</td>\n",
       "      <td>0.0</td>\n",
       "    </tr>\n",
       "    <tr>\n",
       "      <th>13</th>\n",
       "      <td>&lt;|im_start|&gt;system\\nThe user asks a qusetion a...</td>\n",
       "      <td>Level 5</td>\n",
       "      <td>Geometry</td>\n",
       "      <td>The tetrahedron is shown below.  In order to f...</td>\n",
       "      <td>First, let's place the tetrahedron in a 3D coo...</td>\n",
       "      <td>&lt;|im_start|&gt;system\\nThe user asks a qusetion a...</td>\n",
       "      <td>Using the Euclidean Algorithm, we obtain \\begi...</td>\n",
       "      <td>First, we need to find the greatest common div...</td>\n",
       "      <td>0.727273</td>\n",
       "      <td>However, this is not the maximum possible val...</td>\n",
       "      <td>0.0</td>\n",
       "      <td>0.0</td>\n",
       "    </tr>\n",
       "    <tr>\n",
       "      <th>17</th>\n",
       "      <td>&lt;|im_start|&gt;system\\nThe user asks a qusetion a...</td>\n",
       "      <td>Level 5</td>\n",
       "      <td>Algebra</td>\n",
       "      <td>We are looking for some $x$ such that $f(x)=11...</td>\n",
       "      <td>Given the function \\( f \\) such that \\( f(3) =...</td>\n",
       "      <td>&lt;|im_start|&gt;system\\nThe user asks a qusetion a...</td>\n",
       "      <td>Let $d = \\gcd(n + 5, n + 11)$, so $d$ divides ...</td>\n",
       "      <td>Let's analyze the problem step by step. We nee...</td>\n",
       "      <td>0.428571</td>\n",
       "      <td>Therefore, \\(\\gcd(n + 5, n + 11)\\) can be 1.\\...</td>\n",
       "      <td>0.0</td>\n",
       "      <td>0.0</td>\n",
       "    </tr>\n",
       "    <tr>\n",
       "      <th>...</th>\n",
       "      <td>...</td>\n",
       "      <td>...</td>\n",
       "      <td>...</td>\n",
       "      <td>...</td>\n",
       "      <td>...</td>\n",
       "      <td>...</td>\n",
       "      <td>...</td>\n",
       "      <td>...</td>\n",
       "      <td>...</td>\n",
       "      <td>...</td>\n",
       "      <td>...</td>\n",
       "      <td>...</td>\n",
       "    </tr>\n",
       "    <tr>\n",
       "      <th>647</th>\n",
       "      <td>&lt;|im_start|&gt;system\\nThe user asks a qusetion a...</td>\n",
       "      <td>Level 5</td>\n",
       "      <td>Geometry</td>\n",
       "      <td>We will calculate the area of the hexagon in t...</td>\n",
       "      <td>Let's denote the side length of the regular he...</td>\n",
       "      <td>&lt;|im_start|&gt;system\\nThe user asks a qusetion a...</td>\n",
       "      <td>Using the Euclidean Algorithm, we obtain \\begi...</td>\n",
       "      <td>First, we need to find the greatest common div...</td>\n",
       "      <td>0.454545</td>\n",
       "      <td>However, we need to check if there is a small...</td>\n",
       "      <td>0.0</td>\n",
       "      <td>0.0</td>\n",
       "    </tr>\n",
       "    <tr>\n",
       "      <th>648</th>\n",
       "      <td>&lt;|im_start|&gt;system\\nThe user asks a qusetion a...</td>\n",
       "      <td>Level 5</td>\n",
       "      <td>Geometry</td>\n",
       "      <td>We will calculate the area of the hexagon in t...</td>\n",
       "      <td>Let's denote the side length of the regular he...</td>\n",
       "      <td>&lt;|im_start|&gt;system\\nThe user asks a qusetion a...</td>\n",
       "      <td>Using the Euclidean Algorithm, we obtain \\begi...</td>\n",
       "      <td>First, we need to find the greatest common div...</td>\n",
       "      <td>0.727273</td>\n",
       "      <td>However, this does not give us a consistent s...</td>\n",
       "      <td>0.0</td>\n",
       "      <td>0.0</td>\n",
       "    </tr>\n",
       "    <tr>\n",
       "      <th>650</th>\n",
       "      <td>&lt;|im_start|&gt;system\\nThe user asks a qusetion a...</td>\n",
       "      <td>Level 4</td>\n",
       "      <td>Counting &amp; Probability</td>\n",
       "      <td>[asy]\\n\\nLabel f;\\n\\nf.p=fontsize(6);\\n\\nxaxis...</td>\n",
       "      <td>First, we need to determine the area of the re...</td>\n",
       "      <td>&lt;|im_start|&gt;system\\nThe user asks a qusetion a...</td>\n",
       "      <td>Let $d = \\gcd(n + 5, n + 11)$, so $d$ divides ...</td>\n",
       "      <td>Let's analyze the problem step by step. We nee...</td>\n",
       "      <td>0.142857</td>\n",
       "      <td>We can use the properties of the greatest com...</td>\n",
       "      <td>0.0</td>\n",
       "      <td>0.0</td>\n",
       "    </tr>\n",
       "    <tr>\n",
       "      <th>652</th>\n",
       "      <td>&lt;|im_start|&gt;system\\nThe user asks a qusetion a...</td>\n",
       "      <td>Level 4</td>\n",
       "      <td>Counting &amp; Probability</td>\n",
       "      <td>[asy]\\n\\nLabel f;\\n\\nf.p=fontsize(6);\\n\\nxaxis...</td>\n",
       "      <td>First, we need to determine the area of the re...</td>\n",
       "      <td>&lt;|im_start|&gt;system\\nThe user asks a qusetion a...</td>\n",
       "      <td>Let $d = \\gcd(n + 5, n + 11)$, so $d$ divides ...</td>\n",
       "      <td>Let's analyze the problem step by step. We nee...</td>\n",
       "      <td>0.428571</td>\n",
       "      <td>The probability that \\(\\gcd(n + 5, n + 11) = ...</td>\n",
       "      <td>0.0</td>\n",
       "      <td>0.0</td>\n",
       "    </tr>\n",
       "    <tr>\n",
       "      <th>653</th>\n",
       "      <td>&lt;|im_start|&gt;system\\nThe user asks a qusetion a...</td>\n",
       "      <td>Level 4</td>\n",
       "      <td>Counting &amp; Probability</td>\n",
       "      <td>[asy]\\n\\nLabel f;\\n\\nf.p=fontsize(6);\\n\\nxaxis...</td>\n",
       "      <td>First, we need to determine the area of the re...</td>\n",
       "      <td>&lt;|im_start|&gt;system\\nThe user asks a qusetion a...</td>\n",
       "      <td>Let $d = \\gcd(n + 5, n + 11)$, so $d$ divides ...</td>\n",
       "      <td>Let's analyze the problem step by step. We nee...</td>\n",
       "      <td>0.714286</td>\n",
       "      <td>\\n\\n4. **Check if \\(d = 6\\) is possible:**\\n ...</td>\n",
       "      <td>0.0</td>\n",
       "      <td>0.0</td>\n",
       "    </tr>\n",
       "  </tbody>\n",
       "</table>\n",
       "<p>157 rows × 12 columns</p>\n",
       "</div>"
      ],
      "text/plain": [
       "                                               problem    level  \\\n",
       "10   <|im_start|>system\\nThe user asks a qusetion a...  Level 5   \n",
       "11   <|im_start|>system\\nThe user asks a qusetion a...  Level 5   \n",
       "12   <|im_start|>system\\nThe user asks a qusetion a...  Level 5   \n",
       "13   <|im_start|>system\\nThe user asks a qusetion a...  Level 5   \n",
       "17   <|im_start|>system\\nThe user asks a qusetion a...  Level 5   \n",
       "..                                                 ...      ...   \n",
       "647  <|im_start|>system\\nThe user asks a qusetion a...  Level 5   \n",
       "648  <|im_start|>system\\nThe user asks a qusetion a...  Level 5   \n",
       "650  <|im_start|>system\\nThe user asks a qusetion a...  Level 4   \n",
       "652  <|im_start|>system\\nThe user asks a qusetion a...  Level 4   \n",
       "653  <|im_start|>system\\nThe user asks a qusetion a...  Level 4   \n",
       "\n",
       "                       type  \\\n",
       "10                 Geometry   \n",
       "11                 Geometry   \n",
       "12                 Geometry   \n",
       "13                 Geometry   \n",
       "17                  Algebra   \n",
       "..                      ...   \n",
       "647                Geometry   \n",
       "648                Geometry   \n",
       "650  Counting & Probability   \n",
       "652  Counting & Probability   \n",
       "653  Counting & Probability   \n",
       "\n",
       "                                              solution  \\\n",
       "10   The tetrahedron is shown below.  In order to f...   \n",
       "11   The tetrahedron is shown below.  In order to f...   \n",
       "12   The tetrahedron is shown below.  In order to f...   \n",
       "13   The tetrahedron is shown below.  In order to f...   \n",
       "17   We are looking for some $x$ such that $f(x)=11...   \n",
       "..                                                 ...   \n",
       "647  We will calculate the area of the hexagon in t...   \n",
       "648  We will calculate the area of the hexagon in t...   \n",
       "650  [asy]\\n\\nLabel f;\\n\\nf.p=fontsize(6);\\n\\nxaxis...   \n",
       "652  [asy]\\n\\nLabel f;\\n\\nf.p=fontsize(6);\\n\\nxaxis...   \n",
       "653  [asy]\\n\\nLabel f;\\n\\nf.p=fontsize(6);\\n\\nxaxis...   \n",
       "\n",
       "                                     original_response  \\\n",
       "10   First, let's place the tetrahedron in a 3D coo...   \n",
       "11   First, let's place the tetrahedron in a 3D coo...   \n",
       "12   First, let's place the tetrahedron in a 3D coo...   \n",
       "13   First, let's place the tetrahedron in a 3D coo...   \n",
       "17   Given the function \\( f \\) such that \\( f(3) =...   \n",
       "..                                                 ...   \n",
       "647  Let's denote the side length of the regular he...   \n",
       "648  Let's denote the side length of the regular he...   \n",
       "650  First, we need to determine the area of the re...   \n",
       "652  First, we need to determine the area of the re...   \n",
       "653  First, we need to determine the area of the re...   \n",
       "\n",
       "                                    problem_distractor  \\\n",
       "10   <|im_start|>system\\nThe user asks a qusetion a...   \n",
       "11   <|im_start|>system\\nThe user asks a qusetion a...   \n",
       "12   <|im_start|>system\\nThe user asks a qusetion a...   \n",
       "13   <|im_start|>system\\nThe user asks a qusetion a...   \n",
       "17   <|im_start|>system\\nThe user asks a qusetion a...   \n",
       "..                                                 ...   \n",
       "647  <|im_start|>system\\nThe user asks a qusetion a...   \n",
       "648  <|im_start|>system\\nThe user asks a qusetion a...   \n",
       "650  <|im_start|>system\\nThe user asks a qusetion a...   \n",
       "652  <|im_start|>system\\nThe user asks a qusetion a...   \n",
       "653  <|im_start|>system\\nThe user asks a qusetion a...   \n",
       "\n",
       "                                     distract_solution  \\\n",
       "10   Using the Euclidean Algorithm, we obtain \\begi...   \n",
       "11   Using the Euclidean Algorithm, we obtain \\begi...   \n",
       "12   Using the Euclidean Algorithm, we obtain \\begi...   \n",
       "13   Using the Euclidean Algorithm, we obtain \\begi...   \n",
       "17   Let $d = \\gcd(n + 5, n + 11)$, so $d$ divides ...   \n",
       "..                                                 ...   \n",
       "647  Using the Euclidean Algorithm, we obtain \\begi...   \n",
       "648  Using the Euclidean Algorithm, we obtain \\begi...   \n",
       "650  Let $d = \\gcd(n + 5, n + 11)$, so $d$ divides ...   \n",
       "652  Let $d = \\gcd(n + 5, n + 11)$, so $d$ divides ...   \n",
       "653  Let $d = \\gcd(n + 5, n + 11)$, so $d$ divides ...   \n",
       "\n",
       "                                    distract_reasoning  actual_fraction  \\\n",
       "10   First, we need to find the greatest common div...         0.090909   \n",
       "11   First, we need to find the greatest common div...         0.181818   \n",
       "12   First, we need to find the greatest common div...         0.454545   \n",
       "13   First, we need to find the greatest common div...         0.727273   \n",
       "17   Let's analyze the problem step by step. We nee...         0.428571   \n",
       "..                                                 ...              ...   \n",
       "647  First, we need to find the greatest common div...         0.454545   \n",
       "648  First, we need to find the greatest common div...         0.727273   \n",
       "650  Let's analyze the problem step by step. We nee...         0.142857   \n",
       "652  Let's analyze the problem step by step. We nee...         0.428571   \n",
       "653  Let's analyze the problem step by step. We nee...         0.714286   \n",
       "\n",
       "                             post_distraction_response  original_correct  \\\n",
       "10   The GCD of \\(48n + 102\\) and \\(3n\\) is the sam...               0.0   \n",
       "11    \\[d = \\gcd(48n + 102, 3n) = \\gcd(102, 3n).\\]\\...               0.0   \n",
       "12    However, we need to check if there is a small...               0.0   \n",
       "13    However, this is not the maximum possible val...               0.0   \n",
       "17    Therefore, \\(\\gcd(n + 5, n + 11)\\) can be 1.\\...               0.0   \n",
       "..                                                 ...               ...   \n",
       "647   However, we need to check if there is a small...               0.0   \n",
       "648   However, this does not give us a consistent s...               0.0   \n",
       "650   We can use the properties of the greatest com...               0.0   \n",
       "652   The probability that \\(\\gcd(n + 5, n + 11) = ...               0.0   \n",
       "653   \\n\\n4. **Check if \\(d = 6\\) is possible:**\\n ...               0.0   \n",
       "\n",
       "     distractor_correct  \n",
       "10                  0.0  \n",
       "11                  0.0  \n",
       "12                  0.0  \n",
       "13                  0.0  \n",
       "17                  0.0  \n",
       "..                  ...  \n",
       "647                 0.0  \n",
       "648                 0.0  \n",
       "650                 0.0  \n",
       "652                 0.0  \n",
       "653                 0.0  \n",
       "\n",
       "[157 rows x 12 columns]"
      ]
     },
     "execution_count": 54,
     "metadata": {},
     "output_type": "execute_result"
    }
   ],
   "source": [
    "response"
   ]
  },
  {
   "cell_type": "code",
   "execution_count": null,
   "id": "14ea9863",
   "metadata": {},
   "outputs": [],
   "source": [
    "from math_verify import parse, verify"
   ]
  },
  {
   "cell_type": "markdown",
   "id": "1738bc75",
   "metadata": {},
   "source": [
    "# Digit Corruption Results"
   ]
  },
  {
   "cell_type": "code",
   "execution_count": 5,
   "id": "7a38f9bb",
   "metadata": {},
   "outputs": [],
   "source": [
    "def corruption_group_analysis (df: pd.DataFrame, percentile:str, stats: str):\n",
    "    def group(pct):\n",
    "        if pct <= .1:\n",
    "            return .1\n",
    "        elif pct <=.25:\n",
    "            return .25\n",
    "        elif pct <= 0.5:\n",
    "            return .5\n",
    "        elif pct <= .75:\n",
    "            return .75\n",
    "        else:\n",
    "            return 1.0\n",
    "    df['pctl_group'] = df[percentile].apply(group)\n",
    "    return {\"corruption percentage\": df['pctl_group'].value_counts(), \n",
    "            \"accuracy\": df.groupby('pctl_group')[stats].mean()}"
   ]
  },
  {
   "cell_type": "markdown",
   "id": "1e7839d0",
   "metadata": {},
   "source": [
    "### Corrupt answer digit backwards"
   ]
  },
  {
   "cell_type": "code",
   "execution_count": 172,
   "id": "acb45873",
   "metadata": {
    "scrolled": true
   },
   "outputs": [],
   "source": [
    "rl_df = pd.read_pickle(\"/share/goyal/lio/reasoning/eval/hendrycks_math/sample200/digit_corruption/Qwen2.5-Math-1.5B-DrGRPO-Zero_type=answer_digit_continuethinking=False.pickle\")"
   ]
  },
  {
   "cell_type": "code",
   "execution_count": 173,
   "id": "c675bbde",
   "metadata": {},
   "outputs": [
    {
     "data": {
      "text/plain": [
       "{'corruption percentage': pctl_group\n",
       " 0.50    31\n",
       " 1.00    27\n",
       " 0.25    21\n",
       " 0.75    19\n",
       " 0.10    17\n",
       " Name: count, dtype: int64,\n",
       " 'accuracy': pctl_group\n",
       " 0.10    0.882353\n",
       " 0.25    0.857143\n",
       " 0.50    0.741935\n",
       " 0.75    0.684211\n",
       " 1.00    0.740741\n",
       " Name: still_correct, dtype: float64}"
      ]
     },
     "execution_count": 173,
     "metadata": {},
     "output_type": "execute_result"
    }
   ],
   "source": [
    "corruption_group_analysis(rl_df, 'percentile', 'still_correct')"
   ]
  },
  {
   "cell_type": "code",
   "execution_count": 149,
   "id": "f127c327",
   "metadata": {},
   "outputs": [
    {
     "name": "stdout",
     "output_type": "stream",
     "text": [
      " I started by recalling the definition of a complex number, which is \\( z = x + yi \\), where \\( x \\) and \\( y \\) are real numbers, and \\( i \\) is the imaginary unit. The conjugate of \\( z \\), denoted \\( \\bar{z} \\), is \\( x - yi \\). \n",
      "\n",
      "I then substituted \\( z = x + yi \\) and \\( \\bar{z} = x - yi \\) into the given equation \\( 3z + 5i\\bar{z} = 1 - 8i \\). Expanding both terms, I got \\( 3x + 3yi + 5ix - 5y = (3x + 5y) + (3y + 5x)i \\). \n",
      "\n",
      "Setting the real and imaginary parts equal to the corresponding parts on the right-hand side, I obtained the system of linear equations: \\( 3x + 5y = 1 \\) and \\( 5x + 3y = -8 \\). \n",
      "\n",
      "To solve this system, I used the method of elimination. I multiplied the first equation by 5 and the second equation by 3 to align the coefficients of \\( x \\), resulting in the equations \\( 12x + 16y = 5 \\) and \\( 12x + 9y = -25 \\). Subtracting the second equation from the first, I found \\( 7y = 28 \\), leading to \\( y = 5 \\). Substituting \\( y = 5 \\) back into the first equation, I solved for \\( x \\) and found \\( x = -5 \\). \n",
      "\n",
      "Thus, the complex number \\( z \\) is \\( z = -5 + 5i \\). I verified this solution by substituting \\( z = -5 + 5i \\) back into the original equation, confirming that both sides are equal. Therefore, the answer is \\( \\boxed{-5 + 5i} \\).\n"
     ]
    }
   ],
   "source": [
    "print(rl_df['post_corruption_response'][6])"
   ]
  },
  {
   "cell_type": "code",
   "execution_count": 91,
   "id": "5859d53c",
   "metadata": {},
   "outputs": [],
   "source": [
    "rl_df = pd.read_pickle(\"/share/goyal/lio/reasoning/eval/hendrycks_math/sample200/digit_corruption/R1-Distill-Qwen-1.5B_type=answer_digit_continuethinking=False.pickle\")"
   ]
  },
  {
   "cell_type": "code",
   "execution_count": 92,
   "id": "70d096d4",
   "metadata": {},
   "outputs": [
    {
     "data": {
      "text/plain": [
       "{'corruption percentage': pctl_group\n",
       " 0.50    298\n",
       " 0.25    290\n",
       " 1.00    153\n",
       " 0.75    151\n",
       " 0.10    143\n",
       " Name: count, dtype: int64,\n",
       " 'accuracy': pctl_group\n",
       " 0.10    0.335664\n",
       " 0.25    0.082759\n",
       " 0.50    0.097315\n",
       " 0.75    0.079470\n",
       " 1.00    0.104575\n",
       " Name: still_correct, dtype: float64}"
      ]
     },
     "execution_count": 92,
     "metadata": {},
     "output_type": "execute_result"
    }
   ],
   "source": [
    "corruption_group_analysis(rl_df, 'percentile', 'still_correct')"
   ]
  },
  {
   "cell_type": "markdown",
   "id": "14ffaf15",
   "metadata": {},
   "source": [
    "### Corrupt all digits forwards"
   ]
  },
  {
   "cell_type": "code",
   "execution_count": 174,
   "id": "0dc113b9",
   "metadata": {
    "scrolled": true
   },
   "outputs": [],
   "source": [
    "sft_df = pd.read_pickle(\"/share/goyal/lio/reasoning/eval/hendrycks_math/sample200/digit_corruption/Qwen2.5-Math-1.5B-DrGRPO-Zero_type=midway_continuethinking=True.pickle\")"
   ]
  },
  {
   "cell_type": "code",
   "execution_count": 175,
   "id": "3642ec7c",
   "metadata": {},
   "outputs": [
    {
     "data": {
      "text/plain": [
       "{'corruption percentage': pctl_group\n",
       " 1.00    137\n",
       " 0.50     71\n",
       " 0.75     44\n",
       " 0.25     27\n",
       " 0.10      2\n",
       " Name: count, dtype: int64,\n",
       " 'accuracy': pctl_group\n",
       " 0.10    0.500000\n",
       " 0.25    0.407407\n",
       " 0.50    0.183099\n",
       " 0.75    0.136364\n",
       " 1.00    0.138686\n",
       " Name: still_correct, dtype: float64}"
      ]
     },
     "execution_count": 175,
     "metadata": {},
     "output_type": "execute_result"
    }
   ],
   "source": [
    "corruption_group_analysis(sft_df, 'percentile', 'still_correct')"
   ]
  },
  {
   "cell_type": "code",
   "execution_count": 152,
   "id": "9d2e675d",
   "metadata": {},
   "outputs": [],
   "source": [
    "rl_df = pd.read_pickle(\"/share/goyal/lio/reasoning/eval/hendrycks_math/sample200/digit_corruption/Qwen2.5-Math-1.5B-sky-math8k-r1-continue-sft64steps-rl300steps_type=midway_continuethinking=True.pickle\")"
   ]
  },
  {
   "cell_type": "code",
   "execution_count": 153,
   "id": "2c6e7ce4",
   "metadata": {},
   "outputs": [
    {
     "data": {
      "text/plain": [
       "{'corruption percentage': pctl_group\n",
       " 1.00    106\n",
       " 0.50     79\n",
       " 0.75     65\n",
       " 0.25     43\n",
       " 0.10      4\n",
       " Name: count, dtype: int64,\n",
       " 'accuracy': pctl_group\n",
       " 0.10    0.250000\n",
       " 0.25    0.302326\n",
       " 0.50    0.113924\n",
       " 0.75    0.107692\n",
       " 1.00    0.216981\n",
       " Name: still_correct, dtype: float64}"
      ]
     },
     "execution_count": 153,
     "metadata": {},
     "output_type": "execute_result"
    }
   ],
   "source": [
    "corruption_group_analysis(rl_df, 'percentile', 'still_correct')"
   ]
  },
  {
   "cell_type": "markdown",
   "id": "ed6ce07d",
   "metadata": {},
   "source": [
    "# Distraction"
   ]
  },
  {
   "cell_type": "markdown",
   "id": "1dfdaad6",
   "metadata": {},
   "source": [
    "## Full distraction"
   ]
  },
  {
   "cell_type": "code",
   "execution_count": 4,
   "id": "c8d439b9",
   "metadata": {
    "scrolled": true
   },
   "outputs": [
    {
     "data": {
      "text/plain": [
       "['R1-Distill-Qwen-1.5B.pickle',\n",
       " 'R1-Distill-Qwen-7B.pickle',\n",
       " 'R1-Distill-Qwen-14B.pickle',\n",
       " 'R1-Distill-Llama-8B.pickle',\n",
       " 'Qwen3-30B-A3B.pickle',\n",
       " 'Qwen3-4B.pickle',\n",
       " 'Qwen3-1.7B.pickle',\n",
       " 'DAPO-Qwen-32B.pickle',\n",
       " 'DeepScaleR-1.5B-Preview.pickle',\n",
       " 'L1-Qwen-1.5B-Max.pickle',\n",
       " 'Qwen3-30B-A3B-Base.pickle',\n",
       " 'Qwen3-4B-Base.pickle',\n",
       " 'Qwen3-1.7B-Base.pickle',\n",
       " 'Qwen2.5-Math-1.5B-sky-math8k-r1-sft64steps-rl143steps.pickle',\n",
       " 'Qwen2.5-Math-1.5B-sky-math8k-sft64steps.pickle',\n",
       " 'Qwen2.5-Math-1.5B-sky-math8k-sft640steps.pickle',\n",
       " 'Qwen2.5-Math-1.5B-sky-math8k-sft1270steps.pickle',\n",
       " 'Qwen2.5-Math-1.5B-sky-math8k-r1-continue-sft64steps-rl300steps.pickle',\n",
       " 'Qwen2.5-Math-1.5B-DrGRPO-Zero.pickle',\n",
       " 'Qwen2.5-Math-7B-DrGRPO-Zero.pickle']"
      ]
     },
     "execution_count": 4,
     "metadata": {},
     "output_type": "execute_result"
    }
   ],
   "source": [
    "root = '/share/goyal/lio/reasoning/eval/hendrycks_math/sample200/distraction'\n",
    "os.listdir(root)"
   ]
  },
  {
   "cell_type": "code",
   "execution_count": 15,
   "id": "1e677c3c",
   "metadata": {
    "scrolled": true
   },
   "outputs": [
    {
     "name": "stdout",
     "output_type": "stream",
     "text": [
      "accuracy according to original solution: \n",
      " {'corruption percentage': pctl_group\n",
      "0.25    202\n",
      "0.50    167\n",
      "0.75    167\n",
      "1.00    167\n",
      "0.10     71\n",
      "Name: count, dtype: int64, 'accuracy': pctl_group\n",
      "0.10    0.295775\n",
      "0.25    0.391089\n",
      "0.50    0.257485\n",
      "0.75    0.329341\n",
      "1.00    0.053892\n",
      "Name: original_correct, dtype: float64}\n",
      "************************************************** \n",
      "\n",
      "\n",
      "accuracy according to distractor solution: \n",
      " {'corruption percentage': pctl_group\n",
      "0.25    202\n",
      "0.50    167\n",
      "0.75    167\n",
      "1.00    167\n",
      "0.10     71\n",
      "Name: count, dtype: int64, 'accuracy': pctl_group\n",
      "0.10    0.380282\n",
      "0.25    0.514851\n",
      "0.50    0.694611\n",
      "0.75    0.604790\n",
      "1.00    0.946108\n",
      "Name: distractor_correct, dtype: float64}\n"
     ]
    }
   ],
   "source": [
    "root = '/share/goyal/lio/reasoning/eval/hendrycks_math/sample200/distraction'\n",
    "df = pd.read_pickle(os.path.join(root, 'DeepScaleR-1.5B-Preview.pickle'))\n",
    "\n",
    "print(\"accuracy according to original solution: \\n\", corruption_group_analysis(df, 'actual_fraction', 'original_correct'))\n",
    "print('*' * 50, '\\n\\n')\n",
    "print(\"accuracy according to distractor solution: \\n\", corruption_group_analysis(df, 'actual_fraction', 'distractor_correct'))"
   ]
  },
  {
   "cell_type": "code",
   "execution_count": 166,
   "id": "cae3deb3",
   "metadata": {},
   "outputs": [],
   "source": [
    "sample_df = df[(df['actual_fraction']==1.0)&(df['original_correct'] == 1.0)]\n",
    "idx = 1\n",
    "data = sample_df.iloc[idx]"
   ]
  },
  {
   "cell_type": "code",
   "execution_count": 167,
   "id": "0bb1a008",
   "metadata": {
    "scrolled": true
   },
   "outputs": [
    {
     "name": "stdout",
     "output_type": "stream",
     "text": [
      "<|im_start|>system\n",
      "The user asks a qusetion and the assistant first thinks about the reasoning process and provides with the answer at the end. The reasoning process is enclosed within <think> </think> and put your final answer within \\boxed{}.<|im_end|>\n",
      "<|im_start|>user\n",
      "What is the smallest positive multiple of $6$ that is also a multiple of $8$?<|im_end|>\n",
      "<|im_start|>assistant\n",
      "<think>\n",
      "++++++++++++++++++++++++++++++++++++++++++++++++++\n",
      " So I need to find the value of \\(a\\) such that the function \\(f(n)\\) is continuous at \\(n = a\\). The function is defined as follows: \\[f(n) = \\begin{cases} 4n + 3 & \\text{if } n < a \\\\ 7n - 12 & \\text{if } n \\ge a \\end{cases}\\] For the function to be continuous at \\(n = a\\), the left-hand limit as \\(n\\) approaches \\(a\\) must equal the right-hand limit as \\(n\\) approaches \\(a\\), and both must equal \\(f(a)\\). In other words, \\[\\lim_{n \\to a^-} f(n) = \\lim_{n \\to a^+} f(n) = f(a)\\] The left-hand limit is given by the expression for \\(n < a\\), which is \\(4n + 3\\). The right-hand limit is given by the expression for \\(n \\ge a\\), which is \\(7n - 12\\). Since \\(f(a) = 7a - 12\\) (because \\(a \\ge a\\)), we need to set the left-hand limit equal to the right-hand limit and solve for \\(a\\). \\[\\lim_{n \\to a^-} (4n + 3) = \\lim_{n \\to a^+} (7n - 12)\\] So, \\(4a + 3 = 7a - 12\\). Let's solve this equation for \\(a\\). First, subtract \\(4a\\) from both sides: \\[3 = 3a - 12\\] Then, add 12 to both sides: \\[15 = 3a\\] Finally, divide both sides by 3: \\[a = 5\\] So, the value of \\(a\\) that makes the function continuous is \\(5\\). Let me check this by plugging \\(a = 5\\) back into the function definitions. For \\(n < 5\\), the function is \\(4n + 3\\), and for \\(n \\ge 5\\), the function is \\(7n - 12\\). The left-hand limit as \\(n\\) approaches 5 is \\(4(5) + 3 = 20 + 3 = 23\\). The right-hand limit as \\(n\\) approaches 5 is \\(7(5) - 12 = 35 - 12 = 23\\). And \\(f(5) = 7(5) - 12 = 35 - 12 = 23\\). Since the left-hand limit, the right-hand limit, and the function value at \\(n = 5\\) are all equal to 23, the function is indeed continuous at \\(n = 5\\). Therefore, the value of \\(a\\) is 5. \n",
      "++++++++++++++++++++++++++++++++++++++++++++++++++\n",
      "5</think>\n",
      "\n",
      "\n",
      "\n",
      "To find the smallest positive multiple of 6 that is also a multiple of 8, we need to find the least common multiple (LCM) of 6 and 8. The LCM of two numbers is the smallest number that is a multiple of both. \n",
      "\n",
      "First, let's find the prime factorizations of 6 and 8:\n",
      "- The prime factorization of 6 is \\(6 = 2 \\times 3\\).\n",
      "- The prime factorization of 8 is \\(8 = 2^3\\).\n",
      "\n",
      "The LCM is found by taking the highest power of each prime that appears in the factorizations:\n",
      "- The highest power of 2 is \\(2^3\\) (from 8).\n",
      "- The highest power of 3 is \\(3^1\\) (from 6).\n",
      "\n",
      "Thus, the LCM is \\(2^3 \\times 3 = 8 \\times 3 = 24\\).\n",
      "\n",
      "Therefore, the smallest positive multiple of 6 that is also a multiple of 8 is \\(\\boxed{24}\\).\n"
     ]
    }
   ],
   "source": [
    "print(data['problem'])\n",
    "print(\"+\" * 50)\n",
    "print(data['distract_reasoning'])\n",
    "print(\"+\" * 50)\n",
    "print(data['post_distraction_response'])"
   ]
  }
 ],
 "metadata": {
  "kernelspec": {
   "display_name": "Python 3 (ipykernel)",
   "language": "python",
   "name": "python3"
  },
  "language_info": {
   "codemirror_mode": {
    "name": "ipython",
    "version": 3
   },
   "file_extension": ".py",
   "mimetype": "text/x-python",
   "name": "python",
   "nbconvert_exporter": "python",
   "pygments_lexer": "ipython3",
   "version": "3.12.4"
  }
 },
 "nbformat": 4,
 "nbformat_minor": 5
}
