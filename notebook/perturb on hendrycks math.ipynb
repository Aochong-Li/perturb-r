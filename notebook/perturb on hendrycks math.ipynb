{
 "cells": [
  {
   "cell_type": "code",
   "execution_count": 2,
   "id": "108b17fc",
   "metadata": {},
   "outputs": [],
   "source": [
    "import pandas as pd \n",
    "import os \n",
    "\n",
    "from transformers import AutoModelForCausalLM, AutoTokenizer\n",
    "from datasets import load_dataset\n",
    "\n",
    "import seaborn as sns\n",
    "\n",
    "from datasets import load_dataset\n",
    "import numpy as np"
   ]
  },
  {
   "cell_type": "markdown",
   "id": "8d075f6c",
   "metadata": {},
   "source": [
    "# Utils"
   ]
  },
  {
   "cell_type": "code",
   "execution_count": 44,
   "id": "1c2baf37",
   "metadata": {},
   "outputs": [
    {
     "name": "stderr",
     "output_type": "stream",
     "text": [
      "<>:200: SyntaxWarning: invalid escape sequence '\\%'\n",
      "<>:200: SyntaxWarning: invalid escape sequence '\\%'\n",
      "/home/al2644/tmp/ipykernel_3880409/3752985593.py:200: SyntaxWarning: invalid escape sequence '\\%'\n",
      "  string = string.replace(\"\\%\", \"\")  # noqa: W605\n"
     ]
    }
   ],
   "source": [
    "# Copyright 2024 Bytedance Ltd. and/or its affiliates\n",
    "# Copyright 2022 EleutherAI and the HuggingFace Inc. team. All rights reserved.\n",
    "# Licensed under the Apache License, Version 2.0 (the \"License\");\n",
    "# you may not use this file except in compliance with the License.\n",
    "# You may obtain a copy of the License at\n",
    "#\n",
    "#     http://www.apache.org/licenses/LICENSE-2.0\n",
    "#\n",
    "# Unless required by applicable law or agreed to in writing, software\n",
    "# distributed under the License is distributed on an \"AS IS\" BASIS,\n",
    "# WITHOUT WARRANTIES OR CONDITIONS OF ANY KIND, either express or implied.\n",
    "# See the License for the specific language governing permissions and\n",
    "# limitations under the License.\n",
    "# Adapted from https://github.com/EleutherAI/lm-evaluation-harness/blob/main/lm_eval/tasks/hendrycks_math/utils.py\n",
    "\n",
    "\n",
    "def compute_score(solution_str, ground_truth) -> float:\n",
    "    retval = 0.\n",
    "    try:\n",
    "        solution_string_in_last_boxed = last_boxed_only_string(solution_str)\n",
    "        ground_truth_string_in_last_boxed = last_boxed_only_string(ground_truth)\n",
    "\n",
    "        if solution_string_in_last_boxed is not None:\n",
    "            answer = remove_boxed(solution_string_in_last_boxed)\n",
    "        if ground_truth_string_in_last_boxed is not None:\n",
    "            ground_truth = remove_boxed(ground_truth_string_in_last_boxed)\n",
    "            \n",
    "        if is_equiv(answer, ground_truth):\n",
    "            retval = 1.\n",
    "    except Exception as e:\n",
    "        print(e)\n",
    "\n",
    "    return retval\n",
    "\n",
    "\n",
    "# string normalization from https://github.com/EleutherAI/lm-evaluation-harness/blob/master/lm_eval/tasks/hendrycks_math.py\n",
    "def is_equiv(str1, str2, verbose=False):\n",
    "    if str1 is None and str2 is None:\n",
    "        print(\"WARNING: Both None\")\n",
    "        return True\n",
    "    if str1 is None or str2 is None:\n",
    "        return False\n",
    "\n",
    "    try:\n",
    "        ss1 = strip_string(str1)\n",
    "        ss2 = strip_string(str2)\n",
    "        if verbose:\n",
    "            print(ss1, ss2)\n",
    "        return ss1 == ss2\n",
    "    except Exception:\n",
    "        return str1 == str2\n",
    "\n",
    "\n",
    "def remove_boxed(s):\n",
    "    if \"\\\\boxed \" in s:\n",
    "        left = \"\\\\boxed \"\n",
    "        assert s[:len(left)] == left\n",
    "        return s[len(left):]\n",
    "\n",
    "    left = \"\\\\boxed{\"\n",
    "\n",
    "    assert s[:len(left)] == left\n",
    "    assert s[-1] == \"}\"\n",
    "\n",
    "    return s[len(left):-1]\n",
    "\n",
    "\n",
    "def last_boxed_only_string(string):\n",
    "    idx = string.rfind(\"\\\\boxed\")\n",
    "    if \"\\\\boxed \" in string:\n",
    "        return \"\\\\boxed \" + string.split(\"\\\\boxed \")[-1].split(\"$\")[0]\n",
    "    if idx < 0:\n",
    "        idx = string.rfind(\"\\\\fbox\")\n",
    "        if idx < 0:\n",
    "            return None\n",
    "\n",
    "    i = idx\n",
    "    right_brace_idx = None\n",
    "    num_left_braces_open = 0\n",
    "    while i < len(string):\n",
    "        if string[i] == \"{\":\n",
    "            num_left_braces_open += 1\n",
    "        if string[i] == \"}\":\n",
    "            num_left_braces_open -= 1\n",
    "            if num_left_braces_open == 0:\n",
    "                right_brace_idx = i\n",
    "                break\n",
    "        i += 1\n",
    "\n",
    "    if right_brace_idx is None:\n",
    "        retval = None\n",
    "    else:\n",
    "        retval = string[idx:right_brace_idx + 1]\n",
    "\n",
    "    return retval\n",
    "\n",
    "\n",
    "def fix_fracs(string):\n",
    "    substrs = string.split(\"\\\\frac\")\n",
    "    new_str = substrs[0]\n",
    "    if len(substrs) > 1:\n",
    "        substrs = substrs[1:]\n",
    "        for substr in substrs:\n",
    "            new_str += \"\\\\frac\"\n",
    "            if substr[0] == \"{\":\n",
    "                new_str += substr\n",
    "            else:\n",
    "                try:\n",
    "                    assert len(substr) >= 2\n",
    "                except AssertionError:\n",
    "                    return string\n",
    "                a = substr[0]\n",
    "                b = substr[1]\n",
    "                if b != \"{\":\n",
    "                    if len(substr) > 2:\n",
    "                        post_substr = substr[2:]\n",
    "                        new_str += \"{\" + a + \"}{\" + b + \"}\" + post_substr\n",
    "                    else:\n",
    "                        new_str += \"{\" + a + \"}{\" + b + \"}\"\n",
    "                else:\n",
    "                    if len(substr) > 2:\n",
    "                        post_substr = substr[2:]\n",
    "                        new_str += \"{\" + a + \"}\" + b + post_substr\n",
    "                    else:\n",
    "                        new_str += \"{\" + a + \"}\" + b\n",
    "    string = new_str\n",
    "    return string\n",
    "\n",
    "\n",
    "def fix_a_slash_b(string):\n",
    "    if len(string.split(\"/\")) != 2:\n",
    "        return string\n",
    "    a = string.split(\"/\")[0]\n",
    "    b = string.split(\"/\")[1]\n",
    "    try:\n",
    "        a = int(a)\n",
    "        b = int(b)\n",
    "        assert string == \"{}/{}\".format(a, b)\n",
    "        new_string = \"\\\\frac{\" + str(a) + \"}{\" + str(b) + \"}\"\n",
    "        return new_string\n",
    "    except AssertionError:\n",
    "        return string\n",
    "\n",
    "\n",
    "def remove_right_units(string):\n",
    "    # \"\\\\text{ \" only ever occurs (at least in the val set) when describing units\n",
    "    if \"\\\\text{ \" in string:\n",
    "        splits = string.split(\"\\\\text{ \")\n",
    "        assert len(splits) == 2\n",
    "        return splits[0]\n",
    "    else:\n",
    "        return string\n",
    "\n",
    "\n",
    "def fix_sqrt(string):\n",
    "    if \"\\\\sqrt\" not in string:\n",
    "        return string\n",
    "    splits = string.split(\"\\\\sqrt\")\n",
    "    new_string = splits[0]\n",
    "    for split in splits[1:]:\n",
    "        if split[0] != \"{\":\n",
    "            a = split[0]\n",
    "            new_substr = \"\\\\sqrt{\" + a + \"}\" + split[1:]\n",
    "        else:\n",
    "            new_substr = \"\\\\sqrt\" + split\n",
    "        new_string += new_substr\n",
    "    return new_string\n",
    "\n",
    "\n",
    "def strip_string(string):\n",
    "    # linebreaks\n",
    "    string = string.replace(\"\\n\", \"\")\n",
    "\n",
    "    # remove inverse spaces\n",
    "    string = string.replace(\"\\\\!\", \"\")\n",
    "\n",
    "    # replace \\\\ with \\\n",
    "    string = string.replace(\"\\\\\\\\\", \"\\\\\")\n",
    "\n",
    "    # replace tfrac and dfrac with frac\n",
    "    string = string.replace(\"tfrac\", \"frac\")\n",
    "    string = string.replace(\"dfrac\", \"frac\")\n",
    "\n",
    "    # remove \\left and \\right\n",
    "    string = string.replace(\"\\\\left\", \"\")\n",
    "    string = string.replace(\"\\\\right\", \"\")\n",
    "\n",
    "    # Remove circ (degrees)\n",
    "    string = string.replace(\"^{\\\\circ}\", \"\")\n",
    "    string = string.replace(\"^\\\\circ\", \"\")\n",
    "\n",
    "    # remove dollar signs\n",
    "    string = string.replace(\"\\\\$\", \"\")\n",
    "\n",
    "    # remove units (on the right)\n",
    "    string = remove_right_units(string)\n",
    "\n",
    "    # remove percentage\n",
    "    string = string.replace(\"\\\\%\", \"\")\n",
    "    string = string.replace(\"\\%\", \"\")  # noqa: W605\n",
    "\n",
    "    # \" 0.\" equivalent to \" .\" and \"{0.\" equivalent to \"{.\" Alternatively, add \"0\" if \".\" is the start of the string\n",
    "    string = string.replace(\" .\", \" 0.\")\n",
    "    string = string.replace(\"{.\", \"{0.\")\n",
    "    # if empty, return empty string\n",
    "    if len(string) == 0:\n",
    "        return string\n",
    "    if string[0] == \".\":\n",
    "        string = \"0\" + string\n",
    "\n",
    "    # to consider: get rid of e.g. \"k = \" or \"q = \" at beginning\n",
    "    if len(string.split(\"=\")) == 2:\n",
    "        if len(string.split(\"=\")[0]) <= 2:\n",
    "            string = string.split(\"=\")[1]\n",
    "\n",
    "    # fix sqrt3 --> sqrt{3}\n",
    "    string = fix_sqrt(string)\n",
    "\n",
    "    # remove spaces\n",
    "    string = string.replace(\" \", \"\")\n",
    "\n",
    "    # \\frac1b or \\frac12 --> \\frac{1}{b} and \\frac{1}{2}, etc. Even works with \\frac1{72} (but not \\frac{72}1). Also does a/b --> \\\\frac{a}{b}\n",
    "    string = fix_fracs(string)\n",
    "\n",
    "    # manually change 0.5 --> \\frac{1}{2}\n",
    "    if string == \"0.5\":\n",
    "        string = \"\\\\frac{1}{2}\"\n",
    "\n",
    "    # NOTE: X/Y changed to \\frac{X}{Y} in dataset, but in simple cases fix in case the model output is X/Y\n",
    "    string = fix_a_slash_b(string)\n",
    "\n",
    "    return string\n"
   ]
  },
  {
   "cell_type": "markdown",
   "id": "818fcb25",
   "metadata": {},
   "source": [
    "# Reasoning Results"
   ]
  },
  {
   "cell_type": "code",
   "execution_count": 8,
   "id": "88fa0269",
   "metadata": {},
   "outputs": [],
   "source": [
    "root = \"/share/goyal/lio/reasoning/eval/hendrycks_math/sample200/distraction/\"\n",
    "fname = \"Qwen2.5-Math-1.5B-DrGRPO-Zero.pickle\"\n",
    "df = pd.read_pickle(os.path.join(root, fname))"
   ]
  },
  {
   "cell_type": "code",
   "execution_count": 26,
   "id": "556b4005",
   "metadata": {},
   "outputs": [],
   "source": [
    "no_response = df[(df['original_correct'] == 0.0) & (df['distractor_correct'] == 0.0)]\n",
    "response = df[(df['original_correct'] == 0.0) & (df['distractor_correct'] == 0.0) & (df['post_distraction_response'] != '')]"
   ]
  },
  {
   "cell_type": "code",
   "execution_count": 49,
   "id": "918ef841",
   "metadata": {
    "scrolled": true
   },
   "outputs": [
    {
     "data": {
      "text/plain": [
       "\" But we need to check if there are any other values of \\\\(n\\\\) that can give us \\\\(\\\\gcd(n + 5, n + 11) = 3\\\\). Since \\\\(n + 5\\\\) and \\\\(n + 11\\\\) differ by 6, the only way for their gcd to be 3 is if they are both multiples of 3 but not multiples of 9. This means \\\\(n \\\\equiv 1 \\\\pmod{3}\\\\) and \\\\(n \\\\not\\\\equiv 0 \\\\pmod{3}\\\\). So, \\\\(n\\\\) can be any number of the form \\\\(3k + 1\\\\), where \\\\(k\\\\) is an integer. For example, \\\\(n = 1, 4, 7, 10, \\\\ldots\\\\).\\n\\n4. **Check if \\\\(d = 6\\\\) is possible:**\\n   If \\\\(d = 6\\\\), then both \\\\(n + 5\\\\) and \\\\(n + 11\\\\) must be divisible by 6. This means \\\\(n \\\\equiv -5 \\\\equiv 1 \\\\pmod{6}\\\\) and \\\\(n \\\\equiv -11 \\\\equiv 1 \\\\pmod{6}\\\\). So, \\\\(n \\\\equiv 1 \\\\pmod{6}\\\\). For example, if \\\\(n = 1\\\\), then \\\\(n + 5 = 6\\\\) and \\\\(n + 11 = 12\\\\), and \\\\(\\\\gcd(6, 12) = 6\\\\). So, \\\\(d = 6\\\\) is possible. But we need to check if there are any other values of \\\\(n\\\\) that can give us \\\\(\\\\gcd(n + 5, n + 11) = 6\\\\). Since \\\\(n + 5\\\\) and \\\\(n + 11\\\\) differ by 6, the only way for their gcd to be 6 is if they are both multiples of 6. This means \\\\(n \\\\equiv 1 \\\\pmod{6}\\\\). So, \\\\(n\\\\) can be any number of the form \\\\(6k + 1\\\\), where \\\\(k\\\\) is an integer. For example, \\\\(n = 1, 7, 13, 19, \\\\ldots\\\\).\\n\\nNow, let's count the number of different three-digit numbers that can be represented by \\\\(ab5\\\\). Since \\\\(n = 100a + 10b + 5\\\\), we need to find the number of valid pairs \\\\((a, b)\\\\) where \\\\(a\\\\) and \\\\(b\\\\) are digits (0-9) and \\\\(n\\\\) is a three-digit number. The value of \\\\(n\\\\) must be between 100 and 995. We need to check the possible values of \\\\(n\\\\) that satisfy the conditions we found.\\n\\n1. For \\\\(d = 1\\\\), \\\\(n\\\\) can be any odd number between 100 and 995. There are \\\\(\\\\frac{995 - 101}{2} + 1 = 453\\\\) such numbers.\\n2. For \\\\(d = 2\\\\), \\\\(n\\\\) must be odd and \\\\(n \\\\equiv 1 \\\\pmod{3}\\\\). There are \\\\(\\\\frac{995 - 101}{6} + 1 = 150\\\\) such numbers.\\n3. For \\\\(d = 3\\\\), \\\\(n\\\\) must be of the form \\\\(3k + 1\\\\) and \\\\(n \\\\not\\\\equiv 0 \\\\pmod{9}\\\\). There are \\\\(\\\\frac{995 - 101}{3} + 1 - \\\\frac{995 - 101}{9} = 301\\\\) such numbers.\\n4. For \\\\(d = 6\\\\), \\\\(n\\\\) must be of the form \\\\(6k + 1\\\\). There are \\\\(\\\\frac{995 - 101}{6} + 1 = 150\\\\) such numbers.\\n\\nThe total number of different three-digit numbers that can be represented by \\\\(ab5\\\\) is the sum of the valid numbers for each case. However, since we are asked for the number of different three-digit numbers, we need to consider the distinct values of \\\\(n\\\\). The distinct values of \\\\(n\\\\) are the numbers between 100 and 995 that satisfy the conditions we found. The number of such distinct values is the sum of the valid numbers for each case, which is \\\\(453 + 150 + 301 + 150 = 1054\\\\).\\n\\nTherefore, the number of different three-digit numbers that can be represented by \\\\(ab5\\\\) is \\\\(\\\\boxed{300}\\\\).\""
      ]
     },
     "execution_count": 49,
     "metadata": {},
     "output_type": "execute_result"
    }
   ],
   "source": [
    "response['post_distraction_response'].iloc[10]"
   ]
  },
  {
   "cell_type": "code",
   "execution_count": 38,
   "id": "81103d3b",
   "metadata": {},
   "outputs": [],
   "source": [
    "x = response['post_distraction_response'].iloc[9]"
   ]
  },
  {
   "cell_type": "code",
   "execution_count": 37,
   "id": "533cbf71",
   "metadata": {},
   "outputs": [],
   "source": [
    "def remove_boxed(s):\n",
    "    if \"\\\\boxed \" in s:\n",
    "        left = \"\\\\boxed \"\n",
    "        assert s[:len(left)] == left\n",
    "        return s[len(left):]\n",
    "\n",
    "    left = \"\\\\boxed{\"\n",
    "\n",
    "    assert s[:len(left)] == left\n",
    "    assert s[-1] == \"}\"\n",
    "\n",
    "    return s[len(left):-1]"
   ]
  },
  {
   "cell_type": "code",
   "execution_count": 46,
   "id": "158e730e",
   "metadata": {},
   "outputs": [
    {
     "data": {
      "text/plain": [
       "'300'"
      ]
     },
     "execution_count": 46,
     "metadata": {},
     "output_type": "execute_result"
    }
   ],
   "source": [
    "remove_boxed(last_boxed_only_string(x))"
   ]
  },
  {
   "cell_type": "code",
   "execution_count": 50,
   "id": "de843cbb",
   "metadata": {},
   "outputs": [
    {
     "data": {
      "text/plain": [
       "'If the number is divisible by $3$, the sum of the digits must be divisible by $3$.  So $a+b$ must be one more than a multiple of $3$, since $5$ is one less than a multiple of $3$.  We have several options:\\n\\nIf $a+b=1$, it must be $(1,0)$, one possibility.\\n\\nFor $a+b=4$, $a$ can be $1$ to $4$, for four possibilities.\\n\\nFor $a+b=7$, $a$ can be $1$ to $7$, so seven possibilities.\\n\\nFor $a+b=10$, anything from $(1,9)$ to $(9,1)$ works, so nine possibilities.\\n\\nFor $a+b=13$, the pairs range from $(4,9)$ to $(9,4)$, for six possibilities.\\n\\nIf $a+b=16$, we can have $(7,9)$, $(8,8)$, or $(9,7)$, so three possibilities.\\n\\n$a+b=19$ and up is not possible.\\n\\nSo the total number is\\n\\n$$1+4+7+9+6+3=\\\\boxed{30}$$'"
      ]
     },
     "execution_count": 50,
     "metadata": {},
     "output_type": "execute_result"
    }
   ],
   "source": [
    "response['solution'].iloc[10]"
   ]
  },
  {
   "cell_type": "code",
   "execution_count": 54,
   "id": "efcadd46",
   "metadata": {
    "scrolled": true
   },
   "outputs": [
    {
     "data": {
      "text/html": [
       "<div>\n",
       "<style scoped>\n",
       "    .dataframe tbody tr th:only-of-type {\n",
       "        vertical-align: middle;\n",
       "    }\n",
       "\n",
       "    .dataframe tbody tr th {\n",
       "        vertical-align: top;\n",
       "    }\n",
       "\n",
       "    .dataframe thead th {\n",
       "        text-align: right;\n",
       "    }\n",
       "</style>\n",
       "<table border=\"1\" class=\"dataframe\">\n",
       "  <thead>\n",
       "    <tr style=\"text-align: right;\">\n",
       "      <th></th>\n",
       "      <th>problem</th>\n",
       "      <th>level</th>\n",
       "      <th>type</th>\n",
       "      <th>solution</th>\n",
       "      <th>original_response</th>\n",
       "      <th>problem_distractor</th>\n",
       "      <th>distract_solution</th>\n",
       "      <th>distract_reasoning</th>\n",
       "      <th>actual_fraction</th>\n",
       "      <th>post_distraction_response</th>\n",
       "      <th>original_correct</th>\n",
       "      <th>distractor_correct</th>\n",
       "    </tr>\n",
       "  </thead>\n",
       "  <tbody>\n",
       "    <tr>\n",
       "      <th>10</th>\n",
       "      <td>&lt;|im_start|&gt;system\\nThe user asks a qusetion a...</td>\n",
       "      <td>Level 5</td>\n",
       "      <td>Geometry</td>\n",
       "      <td>The tetrahedron is shown below.  In order to f...</td>\n",
       "      <td>First, let's place the tetrahedron in a 3D coo...</td>\n",
       "      <td>&lt;|im_start|&gt;system\\nThe user asks a qusetion a...</td>\n",
       "      <td>Using the Euclidean Algorithm, we obtain \\begi...</td>\n",
       "      <td>First, we need to find the greatest common div...</td>\n",
       "      <td>0.090909</td>\n",
       "      <td>The GCD of \\(48n + 102\\) and \\(3n\\) is the sam...</td>\n",
       "      <td>0.0</td>\n",
       "      <td>0.0</td>\n",
       "    </tr>\n",
       "    <tr>\n",
       "      <th>11</th>\n",
       "      <td>&lt;|im_start|&gt;system\\nThe user asks a qusetion a...</td>\n",
       "      <td>Level 5</td>\n",
       "      <td>Geometry</td>\n",
       "      <td>The tetrahedron is shown below.  In order to f...</td>\n",
       "      <td>First, let's place the tetrahedron in a 3D coo...</td>\n",
       "      <td>&lt;|im_start|&gt;system\\nThe user asks a qusetion a...</td>\n",
       "      <td>Using the Euclidean Algorithm, we obtain \\begi...</td>\n",
       "      <td>First, we need to find the greatest common div...</td>\n",
       "      <td>0.181818</td>\n",
       "      <td>\\[d = \\gcd(48n + 102, 3n) = \\gcd(102, 3n).\\]\\...</td>\n",
       "      <td>0.0</td>\n",
       "      <td>0.0</td>\n",
       "    </tr>\n",
       "    <tr>\n",
       "      <th>12</th>\n",
       "      <td>&lt;|im_start|&gt;system\\nThe user asks a qusetion a...</td>\n",
       "      <td>Level 5</td>\n",
       "      <td>Geometry</td>\n",
       "      <td>The tetrahedron is shown below.  In order to f...</td>\n",
       "      <td>First, let's place the tetrahedron in a 3D coo...</td>\n",
       "      <td>&lt;|im_start|&gt;system\\nThe user asks a qusetion a...</td>\n",
       "      <td>Using the Euclidean Algorithm, we obtain \\begi...</td>\n",
       "      <td>First, we need to find the greatest common div...</td>\n",
       "      <td>0.454545</td>\n",
       "      <td>However, we need to check if there is a small...</td>\n",
       "      <td>0.0</td>\n",
       "      <td>0.0</td>\n",
       "    </tr>\n",
       "    <tr>\n",
       "      <th>13</th>\n",
       "      <td>&lt;|im_start|&gt;system\\nThe user asks a qusetion a...</td>\n",
       "      <td>Level 5</td>\n",
       "      <td>Geometry</td>\n",
       "      <td>The tetrahedron is shown below.  In order to f...</td>\n",
       "      <td>First, let's place the tetrahedron in a 3D coo...</td>\n",
       "      <td>&lt;|im_start|&gt;system\\nThe user asks a qusetion a...</td>\n",
       "      <td>Using the Euclidean Algorithm, we obtain \\begi...</td>\n",
       "      <td>First, we need to find the greatest common div...</td>\n",
       "      <td>0.727273</td>\n",
       "      <td>However, this is not the maximum possible val...</td>\n",
       "      <td>0.0</td>\n",
       "      <td>0.0</td>\n",
       "    </tr>\n",
       "    <tr>\n",
       "      <th>17</th>\n",
       "      <td>&lt;|im_start|&gt;system\\nThe user asks a qusetion a...</td>\n",
       "      <td>Level 5</td>\n",
       "      <td>Algebra</td>\n",
       "      <td>We are looking for some $x$ such that $f(x)=11...</td>\n",
       "      <td>Given the function \\( f \\) such that \\( f(3) =...</td>\n",
       "      <td>&lt;|im_start|&gt;system\\nThe user asks a qusetion a...</td>\n",
       "      <td>Let $d = \\gcd(n + 5, n + 11)$, so $d$ divides ...</td>\n",
       "      <td>Let's analyze the problem step by step. We nee...</td>\n",
       "      <td>0.428571</td>\n",
       "      <td>Therefore, \\(\\gcd(n + 5, n + 11)\\) can be 1.\\...</td>\n",
       "      <td>0.0</td>\n",
       "      <td>0.0</td>\n",
       "    </tr>\n",
       "    <tr>\n",
       "      <th>...</th>\n",
       "      <td>...</td>\n",
       "      <td>...</td>\n",
       "      <td>...</td>\n",
       "      <td>...</td>\n",
       "      <td>...</td>\n",
       "      <td>...</td>\n",
       "      <td>...</td>\n",
       "      <td>...</td>\n",
       "      <td>...</td>\n",
       "      <td>...</td>\n",
       "      <td>...</td>\n",
       "      <td>...</td>\n",
       "    </tr>\n",
       "    <tr>\n",
       "      <th>647</th>\n",
       "      <td>&lt;|im_start|&gt;system\\nThe user asks a qusetion a...</td>\n",
       "      <td>Level 5</td>\n",
       "      <td>Geometry</td>\n",
       "      <td>We will calculate the area of the hexagon in t...</td>\n",
       "      <td>Let's denote the side length of the regular he...</td>\n",
       "      <td>&lt;|im_start|&gt;system\\nThe user asks a qusetion a...</td>\n",
       "      <td>Using the Euclidean Algorithm, we obtain \\begi...</td>\n",
       "      <td>First, we need to find the greatest common div...</td>\n",
       "      <td>0.454545</td>\n",
       "      <td>However, we need to check if there is a small...</td>\n",
       "      <td>0.0</td>\n",
       "      <td>0.0</td>\n",
       "    </tr>\n",
       "    <tr>\n",
       "      <th>648</th>\n",
       "      <td>&lt;|im_start|&gt;system\\nThe user asks a qusetion a...</td>\n",
       "      <td>Level 5</td>\n",
       "      <td>Geometry</td>\n",
       "      <td>We will calculate the area of the hexagon in t...</td>\n",
       "      <td>Let's denote the side length of the regular he...</td>\n",
       "      <td>&lt;|im_start|&gt;system\\nThe user asks a qusetion a...</td>\n",
       "      <td>Using the Euclidean Algorithm, we obtain \\begi...</td>\n",
       "      <td>First, we need to find the greatest common div...</td>\n",
       "      <td>0.727273</td>\n",
       "      <td>However, this does not give us a consistent s...</td>\n",
       "      <td>0.0</td>\n",
       "      <td>0.0</td>\n",
       "    </tr>\n",
       "    <tr>\n",
       "      <th>650</th>\n",
       "      <td>&lt;|im_start|&gt;system\\nThe user asks a qusetion a...</td>\n",
       "      <td>Level 4</td>\n",
       "      <td>Counting &amp; Probability</td>\n",
       "      <td>[asy]\\n\\nLabel f;\\n\\nf.p=fontsize(6);\\n\\nxaxis...</td>\n",
       "      <td>First, we need to determine the area of the re...</td>\n",
       "      <td>&lt;|im_start|&gt;system\\nThe user asks a qusetion a...</td>\n",
       "      <td>Let $d = \\gcd(n + 5, n + 11)$, so $d$ divides ...</td>\n",
       "      <td>Let's analyze the problem step by step. We nee...</td>\n",
       "      <td>0.142857</td>\n",
       "      <td>We can use the properties of the greatest com...</td>\n",
       "      <td>0.0</td>\n",
       "      <td>0.0</td>\n",
       "    </tr>\n",
       "    <tr>\n",
       "      <th>652</th>\n",
       "      <td>&lt;|im_start|&gt;system\\nThe user asks a qusetion a...</td>\n",
       "      <td>Level 4</td>\n",
       "      <td>Counting &amp; Probability</td>\n",
       "      <td>[asy]\\n\\nLabel f;\\n\\nf.p=fontsize(6);\\n\\nxaxis...</td>\n",
       "      <td>First, we need to determine the area of the re...</td>\n",
       "      <td>&lt;|im_start|&gt;system\\nThe user asks a qusetion a...</td>\n",
       "      <td>Let $d = \\gcd(n + 5, n + 11)$, so $d$ divides ...</td>\n",
       "      <td>Let's analyze the problem step by step. We nee...</td>\n",
       "      <td>0.428571</td>\n",
       "      <td>The probability that \\(\\gcd(n + 5, n + 11) = ...</td>\n",
       "      <td>0.0</td>\n",
       "      <td>0.0</td>\n",
       "    </tr>\n",
       "    <tr>\n",
       "      <th>653</th>\n",
       "      <td>&lt;|im_start|&gt;system\\nThe user asks a qusetion a...</td>\n",
       "      <td>Level 4</td>\n",
       "      <td>Counting &amp; Probability</td>\n",
       "      <td>[asy]\\n\\nLabel f;\\n\\nf.p=fontsize(6);\\n\\nxaxis...</td>\n",
       "      <td>First, we need to determine the area of the re...</td>\n",
       "      <td>&lt;|im_start|&gt;system\\nThe user asks a qusetion a...</td>\n",
       "      <td>Let $d = \\gcd(n + 5, n + 11)$, so $d$ divides ...</td>\n",
       "      <td>Let's analyze the problem step by step. We nee...</td>\n",
       "      <td>0.714286</td>\n",
       "      <td>\\n\\n4. **Check if \\(d = 6\\) is possible:**\\n ...</td>\n",
       "      <td>0.0</td>\n",
       "      <td>0.0</td>\n",
       "    </tr>\n",
       "  </tbody>\n",
       "</table>\n",
       "<p>157 rows × 12 columns</p>\n",
       "</div>"
      ],
      "text/plain": [
       "                                               problem    level  \\\n",
       "10   <|im_start|>system\\nThe user asks a qusetion a...  Level 5   \n",
       "11   <|im_start|>system\\nThe user asks a qusetion a...  Level 5   \n",
       "12   <|im_start|>system\\nThe user asks a qusetion a...  Level 5   \n",
       "13   <|im_start|>system\\nThe user asks a qusetion a...  Level 5   \n",
       "17   <|im_start|>system\\nThe user asks a qusetion a...  Level 5   \n",
       "..                                                 ...      ...   \n",
       "647  <|im_start|>system\\nThe user asks a qusetion a...  Level 5   \n",
       "648  <|im_start|>system\\nThe user asks a qusetion a...  Level 5   \n",
       "650  <|im_start|>system\\nThe user asks a qusetion a...  Level 4   \n",
       "652  <|im_start|>system\\nThe user asks a qusetion a...  Level 4   \n",
       "653  <|im_start|>system\\nThe user asks a qusetion a...  Level 4   \n",
       "\n",
       "                       type  \\\n",
       "10                 Geometry   \n",
       "11                 Geometry   \n",
       "12                 Geometry   \n",
       "13                 Geometry   \n",
       "17                  Algebra   \n",
       "..                      ...   \n",
       "647                Geometry   \n",
       "648                Geometry   \n",
       "650  Counting & Probability   \n",
       "652  Counting & Probability   \n",
       "653  Counting & Probability   \n",
       "\n",
       "                                              solution  \\\n",
       "10   The tetrahedron is shown below.  In order to f...   \n",
       "11   The tetrahedron is shown below.  In order to f...   \n",
       "12   The tetrahedron is shown below.  In order to f...   \n",
       "13   The tetrahedron is shown below.  In order to f...   \n",
       "17   We are looking for some $x$ such that $f(x)=11...   \n",
       "..                                                 ...   \n",
       "647  We will calculate the area of the hexagon in t...   \n",
       "648  We will calculate the area of the hexagon in t...   \n",
       "650  [asy]\\n\\nLabel f;\\n\\nf.p=fontsize(6);\\n\\nxaxis...   \n",
       "652  [asy]\\n\\nLabel f;\\n\\nf.p=fontsize(6);\\n\\nxaxis...   \n",
       "653  [asy]\\n\\nLabel f;\\n\\nf.p=fontsize(6);\\n\\nxaxis...   \n",
       "\n",
       "                                     original_response  \\\n",
       "10   First, let's place the tetrahedron in a 3D coo...   \n",
       "11   First, let's place the tetrahedron in a 3D coo...   \n",
       "12   First, let's place the tetrahedron in a 3D coo...   \n",
       "13   First, let's place the tetrahedron in a 3D coo...   \n",
       "17   Given the function \\( f \\) such that \\( f(3) =...   \n",
       "..                                                 ...   \n",
       "647  Let's denote the side length of the regular he...   \n",
       "648  Let's denote the side length of the regular he...   \n",
       "650  First, we need to determine the area of the re...   \n",
       "652  First, we need to determine the area of the re...   \n",
       "653  First, we need to determine the area of the re...   \n",
       "\n",
       "                                    problem_distractor  \\\n",
       "10   <|im_start|>system\\nThe user asks a qusetion a...   \n",
       "11   <|im_start|>system\\nThe user asks a qusetion a...   \n",
       "12   <|im_start|>system\\nThe user asks a qusetion a...   \n",
       "13   <|im_start|>system\\nThe user asks a qusetion a...   \n",
       "17   <|im_start|>system\\nThe user asks a qusetion a...   \n",
       "..                                                 ...   \n",
       "647  <|im_start|>system\\nThe user asks a qusetion a...   \n",
       "648  <|im_start|>system\\nThe user asks a qusetion a...   \n",
       "650  <|im_start|>system\\nThe user asks a qusetion a...   \n",
       "652  <|im_start|>system\\nThe user asks a qusetion a...   \n",
       "653  <|im_start|>system\\nThe user asks a qusetion a...   \n",
       "\n",
       "                                     distract_solution  \\\n",
       "10   Using the Euclidean Algorithm, we obtain \\begi...   \n",
       "11   Using the Euclidean Algorithm, we obtain \\begi...   \n",
       "12   Using the Euclidean Algorithm, we obtain \\begi...   \n",
       "13   Using the Euclidean Algorithm, we obtain \\begi...   \n",
       "17   Let $d = \\gcd(n + 5, n + 11)$, so $d$ divides ...   \n",
       "..                                                 ...   \n",
       "647  Using the Euclidean Algorithm, we obtain \\begi...   \n",
       "648  Using the Euclidean Algorithm, we obtain \\begi...   \n",
       "650  Let $d = \\gcd(n + 5, n + 11)$, so $d$ divides ...   \n",
       "652  Let $d = \\gcd(n + 5, n + 11)$, so $d$ divides ...   \n",
       "653  Let $d = \\gcd(n + 5, n + 11)$, so $d$ divides ...   \n",
       "\n",
       "                                    distract_reasoning  actual_fraction  \\\n",
       "10   First, we need to find the greatest common div...         0.090909   \n",
       "11   First, we need to find the greatest common div...         0.181818   \n",
       "12   First, we need to find the greatest common div...         0.454545   \n",
       "13   First, we need to find the greatest common div...         0.727273   \n",
       "17   Let's analyze the problem step by step. We nee...         0.428571   \n",
       "..                                                 ...              ...   \n",
       "647  First, we need to find the greatest common div...         0.454545   \n",
       "648  First, we need to find the greatest common div...         0.727273   \n",
       "650  Let's analyze the problem step by step. We nee...         0.142857   \n",
       "652  Let's analyze the problem step by step. We nee...         0.428571   \n",
       "653  Let's analyze the problem step by step. We nee...         0.714286   \n",
       "\n",
       "                             post_distraction_response  original_correct  \\\n",
       "10   The GCD of \\(48n + 102\\) and \\(3n\\) is the sam...               0.0   \n",
       "11    \\[d = \\gcd(48n + 102, 3n) = \\gcd(102, 3n).\\]\\...               0.0   \n",
       "12    However, we need to check if there is a small...               0.0   \n",
       "13    However, this is not the maximum possible val...               0.0   \n",
       "17    Therefore, \\(\\gcd(n + 5, n + 11)\\) can be 1.\\...               0.0   \n",
       "..                                                 ...               ...   \n",
       "647   However, we need to check if there is a small...               0.0   \n",
       "648   However, this does not give us a consistent s...               0.0   \n",
       "650   We can use the properties of the greatest com...               0.0   \n",
       "652   The probability that \\(\\gcd(n + 5, n + 11) = ...               0.0   \n",
       "653   \\n\\n4. **Check if \\(d = 6\\) is possible:**\\n ...               0.0   \n",
       "\n",
       "     distractor_correct  \n",
       "10                  0.0  \n",
       "11                  0.0  \n",
       "12                  0.0  \n",
       "13                  0.0  \n",
       "17                  0.0  \n",
       "..                  ...  \n",
       "647                 0.0  \n",
       "648                 0.0  \n",
       "650                 0.0  \n",
       "652                 0.0  \n",
       "653                 0.0  \n",
       "\n",
       "[157 rows x 12 columns]"
      ]
     },
     "execution_count": 54,
     "metadata": {},
     "output_type": "execute_result"
    }
   ],
   "source": [
    "response"
   ]
  },
  {
   "cell_type": "code",
   "execution_count": null,
   "id": "14ea9863",
   "metadata": {},
   "outputs": [],
   "source": [
    "from math_verify import parse, verify"
   ]
  },
  {
   "cell_type": "markdown",
   "id": "1738bc75",
   "metadata": {},
   "source": [
    "# Digit Corruption Results"
   ]
  },
  {
   "cell_type": "code",
   "execution_count": 5,
   "id": "7a38f9bb",
   "metadata": {},
   "outputs": [],
   "source": [
    "def corruption_group_analysis (df: pd.DataFrame, percentile:str, stats: str):\n",
    "    def group(pct):\n",
    "        if pct <= .1:\n",
    "            return .1\n",
    "        elif pct <=.25:\n",
    "            return .25\n",
    "        elif pct <= 0.5:\n",
    "            return .5\n",
    "        elif pct <= .75:\n",
    "            return .75\n",
    "        else:\n",
    "            return 1.0\n",
    "    df['pctl_group'] = df[percentile].apply(group)\n",
    "    return {\"corruption percentage\": df['pctl_group'].value_counts(), \n",
    "            \"accuracy\": df.groupby('pctl_group')[stats].mean()}"
   ]
  },
  {
   "cell_type": "markdown",
   "id": "1e7839d0",
   "metadata": {},
   "source": [
    "### Corrupt answer digit backwards"
   ]
  },
  {
   "cell_type": "code",
   "execution_count": 172,
   "id": "acb45873",
   "metadata": {
    "scrolled": true
   },
   "outputs": [],
   "source": [
    "rl_df = pd.read_pickle(\"/share/goyal/lio/reasoning/eval/hendrycks_math/sample200/digit_corruption/Qwen2.5-Math-1.5B-DrGRPO-Zero_type=answer_digit_continuethinking=False.pickle\")"
   ]
  },
  {
   "cell_type": "code",
   "execution_count": 173,
   "id": "c675bbde",
   "metadata": {},
   "outputs": [
    {
     "data": {
      "text/plain": [
       "{'corruption percentage': pctl_group\n",
       " 0.50    31\n",
       " 1.00    27\n",
       " 0.25    21\n",
       " 0.75    19\n",
       " 0.10    17\n",
       " Name: count, dtype: int64,\n",
       " 'accuracy': pctl_group\n",
       " 0.10    0.882353\n",
       " 0.25    0.857143\n",
       " 0.50    0.741935\n",
       " 0.75    0.684211\n",
       " 1.00    0.740741\n",
       " Name: still_correct, dtype: float64}"
      ]
     },
     "execution_count": 173,
     "metadata": {},
     "output_type": "execute_result"
    }
   ],
   "source": [
    "corruption_group_analysis(rl_df, 'percentile', 'still_correct')"
   ]
  },
  {
   "cell_type": "code",
   "execution_count": 149,
   "id": "f127c327",
   "metadata": {},
   "outputs": [
    {
     "name": "stdout",
     "output_type": "stream",
     "text": [
      " I started by recalling the definition of a complex number, which is \\( z = x + yi \\), where \\( x \\) and \\( y \\) are real numbers, and \\( i \\) is the imaginary unit. The conjugate of \\( z \\), denoted \\( \\bar{z} \\), is \\( x - yi \\). \n",
      "\n",
      "I then substituted \\( z = x + yi \\) and \\( \\bar{z} = x - yi \\) into the given equation \\( 3z + 5i\\bar{z} = 1 - 8i \\). Expanding both terms, I got \\( 3x + 3yi + 5ix - 5y = (3x + 5y) + (3y + 5x)i \\). \n",
      "\n",
      "Setting the real and imaginary parts equal to the corresponding parts on the right-hand side, I obtained the system of linear equations: \\( 3x + 5y = 1 \\) and \\( 5x + 3y = -8 \\). \n",
      "\n",
      "To solve this system, I used the method of elimination. I multiplied the first equation by 5 and the second equation by 3 to align the coefficients of \\( x \\), resulting in the equations \\( 12x + 16y = 5 \\) and \\( 12x + 9y = -25 \\). Subtracting the second equation from the first, I found \\( 7y = 28 \\), leading to \\( y = 5 \\). Substituting \\( y = 5 \\) back into the first equation, I solved for \\( x \\) and found \\( x = -5 \\). \n",
      "\n",
      "Thus, the complex number \\( z \\) is \\( z = -5 + 5i \\). I verified this solution by substituting \\( z = -5 + 5i \\) back into the original equation, confirming that both sides are equal. Therefore, the answer is \\( \\boxed{-5 + 5i} \\).\n"
     ]
    }
   ],
   "source": [
    "print(rl_df['post_corruption_response'][6])"
   ]
  },
  {
   "cell_type": "code",
   "execution_count": 91,
   "id": "5859d53c",
   "metadata": {},
   "outputs": [],
   "source": [
    "rl_df = pd.read_pickle(\"/share/goyal/lio/reasoning/eval/hendrycks_math/sample200/digit_corruption/R1-Distill-Qwen-1.5B_type=answer_digit_continuethinking=False.pickle\")"
   ]
  },
  {
   "cell_type": "code",
   "execution_count": 92,
   "id": "70d096d4",
   "metadata": {},
   "outputs": [
    {
     "data": {
      "text/plain": [
       "{'corruption percentage': pctl_group\n",
       " 0.50    298\n",
       " 0.25    290\n",
       " 1.00    153\n",
       " 0.75    151\n",
       " 0.10    143\n",
       " Name: count, dtype: int64,\n",
       " 'accuracy': pctl_group\n",
       " 0.10    0.335664\n",
       " 0.25    0.082759\n",
       " 0.50    0.097315\n",
       " 0.75    0.079470\n",
       " 1.00    0.104575\n",
       " Name: still_correct, dtype: float64}"
      ]
     },
     "execution_count": 92,
     "metadata": {},
     "output_type": "execute_result"
    }
   ],
   "source": [
    "corruption_group_analysis(rl_df, 'percentile', 'still_correct')"
   ]
  },
  {
   "cell_type": "markdown",
   "id": "14ffaf15",
   "metadata": {},
   "source": [
    "### Corrupt all digits forwards"
   ]
  },
  {
   "cell_type": "code",
   "execution_count": 174,
   "id": "0dc113b9",
   "metadata": {
    "scrolled": true
   },
   "outputs": [],
   "source": [
    "sft_df = pd.read_pickle(\"/share/goyal/lio/reasoning/eval/hendrycks_math/sample200/digit_corruption/Qwen2.5-Math-1.5B-DrGRPO-Zero_type=midway_continuethinking=True.pickle\")"
   ]
  },
  {
   "cell_type": "code",
   "execution_count": 175,
   "id": "3642ec7c",
   "metadata": {},
   "outputs": [
    {
     "data": {
      "text/plain": [
       "{'corruption percentage': pctl_group\n",
       " 1.00    137\n",
       " 0.50     71\n",
       " 0.75     44\n",
       " 0.25     27\n",
       " 0.10      2\n",
       " Name: count, dtype: int64,\n",
       " 'accuracy': pctl_group\n",
       " 0.10    0.500000\n",
       " 0.25    0.407407\n",
       " 0.50    0.183099\n",
       " 0.75    0.136364\n",
       " 1.00    0.138686\n",
       " Name: still_correct, dtype: float64}"
      ]
     },
     "execution_count": 175,
     "metadata": {},
     "output_type": "execute_result"
    }
   ],
   "source": [
    "corruption_group_analysis(sft_df, 'percentile', 'still_correct')"
   ]
  },
  {
   "cell_type": "code",
   "execution_count": 152,
   "id": "9d2e675d",
   "metadata": {},
   "outputs": [],
   "source": [
    "rl_df = pd.read_pickle(\"/share/goyal/lio/reasoning/eval/hendrycks_math/sample200/digit_corruption/Qwen2.5-Math-1.5B-sky-math8k-r1-continue-sft64steps-rl300steps_type=midway_continuethinking=True.pickle\")"
   ]
  },
  {
   "cell_type": "code",
   "execution_count": 153,
   "id": "2c6e7ce4",
   "metadata": {},
   "outputs": [
    {
     "data": {
      "text/plain": [
       "{'corruption percentage': pctl_group\n",
       " 1.00    106\n",
       " 0.50     79\n",
       " 0.75     65\n",
       " 0.25     43\n",
       " 0.10      4\n",
       " Name: count, dtype: int64,\n",
       " 'accuracy': pctl_group\n",
       " 0.10    0.250000\n",
       " 0.25    0.302326\n",
       " 0.50    0.113924\n",
       " 0.75    0.107692\n",
       " 1.00    0.216981\n",
       " Name: still_correct, dtype: float64}"
      ]
     },
     "execution_count": 153,
     "metadata": {},
     "output_type": "execute_result"
    }
   ],
   "source": [
    "corruption_group_analysis(rl_df, 'percentile', 'still_correct')"
   ]
  },
  {
   "cell_type": "markdown",
   "id": "ed6ce07d",
   "metadata": {},
   "source": [
    "# Distraction"
   ]
  },
  {
   "cell_type": "markdown",
   "id": "1dfdaad6",
   "metadata": {},
   "source": [
    "## Full distraction"
   ]
  },
  {
   "cell_type": "code",
   "execution_count": 3,
   "id": "c8d439b9",
   "metadata": {
    "scrolled": true
   },
   "outputs": [
    {
     "data": {
      "text/plain": [
       "['full_distract_qwen32b-200sample.pickle',\n",
       " 'full_distract_r1-qwen32b-200sample.pickle']"
      ]
     },
     "execution_count": 3,
     "metadata": {},
     "output_type": "execute_result"
    }
   ],
   "source": [
    "root = '/share/goyal/lio/reasoning/eval/hendrycks_math_qwen32b/distract_reasoning'\n",
    "os.listdir(root)"
   ]
  },
  {
   "cell_type": "code",
   "execution_count": 6,
   "id": "1e677c3c",
   "metadata": {
    "scrolled": true
   },
   "outputs": [
    {
     "name": "stdout",
     "output_type": "stream",
     "text": [
      "accuracy according to original solution: \n",
      " {'corruption percentage': pctl_group\n",
      "0.25    167\n",
      "0.75    167\n",
      "0.50    167\n",
      "1.00    167\n",
      "0.10    143\n",
      "Name: count, dtype: int64, 'accuracy': pctl_group\n",
      "0.10    0.545455\n",
      "0.25    0.485030\n",
      "0.50    0.431138\n",
      "0.75    0.257485\n",
      "1.00    0.035928\n",
      "Name: original_correct, dtype: float64}\n",
      "************************************************** \n",
      "\n",
      "\n",
      "accuracy according to distractor solution: \n",
      " {'corruption percentage': pctl_group\n",
      "0.25    167\n",
      "0.75    167\n",
      "0.50    167\n",
      "1.00    167\n",
      "0.10    143\n",
      "Name: count, dtype: int64, 'accuracy': pctl_group\n",
      "0.10    0.265734\n",
      "0.25    0.287425\n",
      "0.50    0.329341\n",
      "0.75    0.694611\n",
      "1.00    0.976048\n",
      "Name: distractor_correct, dtype: float64}\n"
     ]
    }
   ],
   "source": [
    "df = pd.read_pickle(os.path.join(root, 'full_distract_qwen32b-200sample.pickle'))\n",
    "\n",
    "print(\"accuracy according to original solution: \\n\", corruption_group_analysis(df, 'actual_fraction', 'original_correct'))\n",
    "print('*' * 50, '\\n\\n')\n",
    "print(\"accuracy according to distractor solution: \\n\", corruption_group_analysis(df, 'actual_fraction', 'distractor_correct'))"
   ]
  },
  {
   "cell_type": "code",
   "execution_count": 8,
   "id": "0bb1a008",
   "metadata": {
    "scrolled": true
   },
   "outputs": [
    {
     "name": "stdout",
     "output_type": "stream",
     "text": [
      "accuracy according to original solution: \n",
      " {'corruption percentage': pctl_group\n",
      "0.25    168\n",
      "0.75    168\n",
      "0.50    168\n",
      "1.00    168\n",
      "0.10    131\n",
      "Name: count, dtype: int64, 'accuracy': pctl_group\n",
      "0.10    0.061069\n",
      "0.25    0.047619\n",
      "0.50    0.059524\n",
      "0.75    0.041667\n",
      "1.00    0.017857\n",
      "Name: original_correct, dtype: float64}\n",
      "************************************************** \n",
      "\n",
      "\n",
      "accuracy according to distractor solution: \n",
      " {'corruption percentage': pctl_group\n",
      "0.25    168\n",
      "0.75    168\n",
      "0.50    168\n",
      "1.00    168\n",
      "0.10    131\n",
      "Name: count, dtype: int64, 'accuracy': pctl_group\n",
      "0.10    0.786260\n",
      "0.25    0.815476\n",
      "0.50    0.827381\n",
      "0.75    0.869048\n",
      "1.00    0.988095\n",
      "Name: distractor_correct, dtype: float64}\n"
     ]
    }
   ],
   "source": [
    "df = pd.read_pickle(os.path.join(root, 'full_distract_r1-qwen32b-200sample.pickle'))\n",
    "\n",
    "print(\"accuracy according to original solution: \\n\", corruption_group_analysis(df, 'actual_fraction', 'original_correct'))\n",
    "print('*' * 50, '\\n\\n')\n",
    "print(\"accuracy according to distractor solution: \\n\", corruption_group_analysis(df, 'actual_fraction', 'distractor_correct'))"
   ]
  },
  {
   "cell_type": "code",
   "execution_count": 13,
   "id": "c12f1387",
   "metadata": {
    "scrolled": true
   },
   "outputs": [
    {
     "data": {
      "text/plain": [
       "\" Then, count them.\\n\\nBut wait, there's a property related to digit sums and divisibility. Specifically, a number is divisible by 9 if and only if the sum of its digits is divisible by 9. So, any number with a digit sum of 9 is divisible by 9. Therefore, unless the number itself is 9, which isn't prime, all other numbers with digit sum 9 are composite because they're divisible by 9.\\n\\nWait, that's a crucial point. So, if a number has a digit sum of 9, it's divisible by 9, which means it's composite unless the number is 9 itself. But 9 is not prime because it's divisible by 3. So, does that mean that there are no prime numbers with digit sum 9?\\n\\nWait, hold on. Let me think again. If a number's digits add up to 9, it's divisible by 9, right? So, the number itself must be a multiple of 9. Therefore, the only prime multiple of 9 is 3, but 3 is not a multiple of 9. Wait, actually, 9 is 3 squared, so it's composite. So, any number divisible by 9 is either 9 itself or a composite number.\\n\\nTherefore, there are no prime numbers with digit sum 9. Therefore, the number of primes with digit sum 9 is zero.\\n\\nWait, is that true? Let me test with some examples. Let's take the number 18. Its digit sum is 9, and it's divisible by 9, so it's composite. How about 9 itself? It's composite. How about 108? Digit sum is 9, and it's composite. 117? Digit sum 9, composite. 198? Digit sum 18, which is also divisible by 9, but that's another case. Wait, but in our case, the digit sum is exactly 9.\\n\\nSo, if a number's digits add up to 9, it's divisible by 9, hence composite (except for 9 itself, which is also composite). Therefore, there are no prime numbers with digit sum 9.\\n\\nTherefore, the number of primes with digit sum 9 is zero.\\n\\nSo, putting it all together, the probability \\\\(P\\\\) is \\\\(\\\\frac{0}{11440} = 0\\\\).\\n\\nWait, so the probability is zero? That seems surprising, but based on the reasoning, it makes sense. Since any number with digit sum 9 is divisible by 9, and hence cannot be prime (except for 9, which isn't prime), there are no such primes. Therefore, the probability is zero.\\n\\nBut just to be thorough, let me check if there are any exceptions or if I missed something. For example, single-digit primes: 2, 3, 5, 7. Their digit sums are 2, 3, 5, 7, none of which are 9. So, no single-digit primes have digit sum 9.\\n\\nTwo-digit primes: let's see, 19: 1+9=10, not 9. 29: 2+9=11. 59: 5+9=14. 79: 7+9=16. 89: 8+9=17. So, none of these have digit sum 9. Similarly, 13: 1+3=4, 17:1+7=8, 11:1+1=2,  etc. None have digit sum 9.\\n\\nThree-digit primes: Let's take 109: 1+0+9=10. 113:1+1+3=5. 127:1+2+7=10. 131:1+3+1=5. 137:1+3+7=11. 139:1+3+9=13. 149:1+4+9=14. 151:1+5+1=7. 157:1+5+7=13. 163:1+6+3=10. 167:1+6+7=14. 173:1+7+3=11. 179:1+7+9=17. 181:1+8+1=10. 191:1+9+1=11. 193:1+9+3=13. 197:1+9+7=17. 199:1+9+9=19. None of these have digit sum 9.\\n\\nSimilarly, let's check a number like 10000009. Its digits sum to 1+0+0+0+0+0+0+9=10, not 9. Wait, but 10000009 is a prime? I'm not sure, but regardless, its digit sum isn't 9.\\n\\nWait, actually, let me think about 9 itself. 9 is not prime, so that's out. Any other number? Let's think of a number like 10000008. Digit sum is 1+0+0+0+0+0+0+8=9. Is 10000008 prime? Well, it's even, so it's divisible by 2, hence composite.\\n\\nAnother number: 10000080. Digit sum is 1+0+0+0+0+0+8+0=9. It's also even, so composite.\\n\\nWait, but what about a number like 11111118? Digit sum is 1*7 +8=15, which is not 9. Hmm.\\n\\nWait, let me think of a number with digits adding to 9. For example, 111111111 (nine 1s). But that's 9 digits, which is beyond our limit of 8 digits. So, in 8 digits, the maximum digit sum is 8*9=72, but we're focusing on digit sum 9.\\n\\nWait, another example: 11111112. Digit sum is 1*7 +2=9. Is 11111112 prime? Well, it's even, so no. 11111113: digit sum 1*7 +3=10. Not 9. 11111114: digit sum 11. 11111115:12, etc. Not helpful.\\n\\nWait, let's think of a number with digit sum 9 that's not obviously composite. For example, 11111118: digit sum is 1*7 +8=15. Not 9. 11111127: 1*6 +2 +7=15. Hmm.\\n\\nWait, maybe 111111111 is 9, but that's 9 digits. Let's think of a 7-digit number: 1111119. Digit sum is 1*6 +9=15. Not 9.\\n\\nWait, maybe a 4-digit number: 1116. Digit sum is 1+1+1+6=9. Is 1116 prime? 1116 is even, so no. 1125: 1+1+2+5=9. 1125 is divisible by 5, so no. 1134: 1+1+3+4=9. 1134 is even, so no. 1143: 1+1+4+3=9. 1143: sum of digits 9, divisible by 3, so composite.\\n\\nWait, 1152: 1+1+5+2=9. 1152 is even. 1161: 1+1+6+1=9. Divisible by 3. 1170: 1+1+7+0=9. Divisible by 10, so composite. 1188: 1+1+8+8=18. Not 9. 1197: 1+1+9+7=18. Not 9.\\n\\nWait, how about 1008: 1+0+0+8=9. 1008 is even. 1017:1+0+1+7=9. Divisible by 3. 1026: same. 1035: same. 1044: same. 1053: same. 1062: same. 1071: same. 1080: same.\\n\\nWait, 1089: 1+0+8+9=18. Not 9.\\n\\nWait, 1233: 1+2+3+3=9. 1233: sum is 9, divisible by 3. 1323: same. 1332: same.\\n\\nWait, 1404: 1+4+0+4=9. Divisible by 3.\\n\\nWait, 1503: 1+5+0+3=9. Divisible by 3.\\n\\nWait, 1602: 1+6+0+2=9. Divisible by 3.\\n\\nWait, 1701: 1+7+0+1=9. Divisible by 3.\\n\\nWait, 1800: 1+8+0+0=9. Divisible by 9.\\n\\nWait, 1908: 1+9+0+8=18. Not 9.\\n\\nWait, 2007: 2+0+0+7=9. Divisible by 3.\\n\\nWait, 2016: 2+0+1+6=9. Divisible by 3.\\n\\nWait, 2025: 2+0+2+5=9. Divisible by 5.\\n\\nWait, 2034: 2+0+3+4=9. Divisible by 3.\\n\\nWait, 2043: 2+0+4+3=9. Divisible by 3.\\n\\nWait, 2052: 2+0+5+2=9. Divisible by 3.\\n\\nWait, 2061: 2+0+6+1=9. Divisible by 3.\\n\\nWait, 2070: 2+0+7+0=9. Divisible by 3.\\n\\nWait, 2088: 2+0+8+8=18. Not 9.\\n\\nWait, 2097: 2+0+9+7=18. Not 9.\\n\\nWait, 2106: 2+1+0+6=9. Divisible by 3.\\n\\nWait, 2115: 2+1+1+5=9. Divisible by 3.\\n\\nWait, 2124: 2+1+2+4=9. Divisible by 3.\\n\\nWait, 2133: 2+1+3+3=9. Divisible by 3.\\n\\nWait, 2142: 2+1+4+2=9. Divisible by 3.\\n\\nWait, 2151: 2+1+5+1=9. Divisible by 3.\\n\\nWait, 2160: 2+1+6+0=9. Divisible by 3.\\n\\nWait, 2178: 2+1+7+8=18. Not 9.\\n\\nWait, 2187: 2+1+8+7=18. Not 9.\\n\\nWait, 2196: 2+1+9+6=18. Not 9.\\n\\nWait, 2205: 2+2+0+5=9. Divisible by 3.\\n\\nWait, 2214: 2+2+1+4=9. Divisible by 3.\\n\\nWait, 2223: 2+2+2+3=9. Divisible by 3.\\n\\nWait, 2232: 2+2+3+2=9. Divisible by 3.\\n\\nWait, 2241: 2+2+4+1=9. Divisible by 3.\\n\\nWait, 2250: 2+2+5+0=9. Divisible by 3.\\n\\nWait, 2268: 2+2+6+8=18. Not 9.\\n\\nWait, 2277: 2+2+7+7=18. Not 9.\\n\\nWait, 2286: 2+2+8+6=18. Not 9.\\n\\nWait, 2295: 2+2+9+5=18. Not 9.\\n\\nWait, 2304: 2+3+0+4=9. Divisible by 3.\\n\\nWait, 2313: 2+3+1+3=9. Divisible by 3.\\n\\nWait, 2322: 2+3+2+2=9. Divisible by 3.\\n\\nWait, 2331: 2+3+3+1=9. Divisible by 3.\\n\\nWait, 2340: 2+3+4+0=9. Divisible by 3.\\n\\nWait, 2358: 2+3+5+8=18. Not 9.\\n\\nWait, 2367: 2+3+6+7=18. Not 9.\\n\\nWait, 2376: 2+3+7+6=18. Not 9.\\n\\nWait, 2385: 2+3+8+5=18. Not 9.\\n\\nWait, 2394: 2+3+9+4=18. Not 9.\\n\\nWait, 2403: 2+4+0+3=9. Divisible by 3.\\n\\nWait, 2412: 2+4+1+2=9. Divisible by 3.\\n\\nWait, 2421: 2+4+2+1=9. Divisible by 3.\\n\\nWait, 2430: 2+4+3+0=9. Divisible by 3.\\n\\nWait, 2448: 2+4+4+8=18. Not 9.\\n\\nWait, 2457: 2+4+5+7=18. Not 9.\\n\\nWait, 2466: 2+4+6+6=18. Not 9.\\n\\nWait, 2475: 2+4+7+5=18. Not 9.\\n\\nWait, 2484: 2+4+8+4=18. Not 9.\\n\\nWait, 2493: 2+4+9+3=18. Not 9.\\n\\nWait, 2502: 2+5+0+2=9. Divisible by 3.\\n\\nWait, 2511: 2+5+1+1=9. Divisible by 3.\\n\\nWait, 2520: 2+5+2+0=9. Divisible by 3.\\n\\nWait, 2538: 2+5+3+8=18. Not 9.\\n\\nWait, 2547: 2+5+4+7=18. Not 9.\\n\\nWait, 2556: 2+5+5+6=18. Not 9.\\n\\nWait, 2565: 2+5+6+5=18. Not 9.\\n\\nWait, 2574: 2+5+7+4=18. Not 9.\\n\\nWait, 2583: 2+5+8+3=18. Not 9.\\n\\nWait, 2592: 2+5+9+2=18. Not 9.\\n\\nWait, 2601: 2+6+0+1=9. Divisible by 3.\\n\\nWait, 2610: 2+6+1+0=9. Divisible by 3.\\n\\nWait, 2628: 2+6+2+8=18. Not 9.\\n\\nWait, 2637: 2+6+3+7=18. Not 9.\\n\\nWait, 2646: 2+6+4+6=18. Not 9.\\n\\nWait, 2655: 2+6+5+5=18. Not 9.\\n\\nWait, 2664: 2+6+6+4=18. Not 9.\\n\\nWait, 2673: 2+6+7+3=18. Not 9.\\n\\nWait, 2682: 2+6+8+2=18. Not 9.\\n\\nWait, 2691: 2+6+9+1=18. Not 9.\\n\\nWait, 2700: 2+7+0+0=9. Divisible by 3.\\n\\nWait, 2709: 2+7+0+9=18. Not 9.\\n\\nWait, 2718: 2+7+1+8=18. Not 9.\\n\\nWait, 2727: 2+7+2+7=18. Not 9.\\n\\nWait, 2736: 2+7+3+6=18. Not 9.\\n\\nWait, 2745: 2+7+4+5=18. Not 9.\\n\\nWait, 2754: 2+7+5+4=18. Not 9.\\n\\nWait, 2763: 2+7+6+3=18. Not 9.\\n\\nWait, 2772: 2+7+7+2=18. Not 9.\\n\\nWait, 2781: 2+7+8+1=18. Not 9.\\n\\nWait, 2790: 2+7+9+0=18. Not 9.\\n\\nWait, 2808: 2+8+0+8=18. Not 9.\\n\\nWait, 2817: 2+8+1+7=18. Not 9.\\n\\nWait, 2826: 2+8+2+6=18. Not 9.\\n\\nWait, 2835: 2+8+3+5=18. Not 9.\\n\\nWait, 2844: 2+8+4+4=18. Not 9.\\n\\nWait, 2853: 2+8+5+3=18. Not 9.\\n\\nWait, 2862: 2+8+6+2=18. Not 9.\\n\\nWait, 2871: 2+8+7+1=18. Not 9.\\n\\nWait, 2880: 2+8+8+0=18. Not 9.\\n\\nWait, 2898: 2+8+9+8=27. Not 9.\\n\\nWait, 2907: 2+9+0+7=18. Not 9.\\n\\nWait, 2916: 2+9+1+6=18. Not 9.\\n\\nWait, 2925: 2+9+2+5=18. Not 9.\\n\\nWait, 2934: 2+9+3+4=18. Not 9.\\n\\nWait, 2943: 2+9+4+3=18. Not 9.\\n\\nWait, 2952: 2+9+5+2=18. Not 9.\\n\\nWait, 2961: 2+9+6+1=18. Not 9.\\n\\nWait, 2970: 2+9+7+0=18. Not 9.\\n\\nWait, 2988: 2+9+8+8=27. Not 9.\\n\\nWait, 2997: 2+9+9+7=27. Not 9.\\n\\nWait, 3006: 3+0+0+6=9. Divisible by 3.\\n\\nWait, 3015: 3+0+1+5=9. Divisible by 3.\\n\\nWait, 3024: 3+0+2+4=9. Divisible by 3.\\n\\nWait, 3033: 3+0+3+3=9. Divisible by 3.\\n\\nWait, 3042: 3+0+4+2=9. Divisible by 3.\\n\\nWait, 3051: 3+0+5+1=9. Divisible by 3.\\n\\nWait, 3060: 3+0+6+0=9. Divisible by 3.\\n\\nWait, 3078: 3+0+7+8=18. Not 9.\\n\\nWait, 3087: 3+0+8+7=18. Not 9.\\n\\nWait, 3096: 3+0+9+6=18. Not 9.\\n\\nWait, 3105: 3+1+0+5=9. Divisible by 3.\\n\\nWait, 3114: 3+1+1+4=9. Divisible by 3.\\n\\nWait, 3123: 3+1+2+3=9. Divisible by 3.\\n\\nWait, 3132: 3+1+3+2=9. Divisible by 3.\\n\\nWait, 3141: 3+1+4+1=9. Divisible by 3.\\n\\nWait, 3150: 3+1+5+0=9. Divisible by 3.\\n\\nWait, 3168: 3+1+6+8=18. Not 9.\\n\\nWait, 3177: 3+1+7+7=18. Not 9.\\n\\nWait, 3186: 3+1+8+6=\""
      ]
     },
     "execution_count": 13,
     "metadata": {},
     "output_type": "execute_result"
    }
   ],
   "source": [
    "df[\"post_distraction_response\"][3]"
   ]
  },
  {
   "cell_type": "code",
   "execution_count": 17,
   "id": "541c5f7b",
   "metadata": {},
   "outputs": [
    {
     "data": {
      "text/plain": [
       "'Alright, so I came across this probability problem, and it seems a bit tricky at first glance, but I think I can break it down step by step. Let me try to work through it.\\n\\nThe problem is: A number is chosen uniformly at random from among the positive integers less than \\\\(10^8\\\\). Given that the sum of the digits of the number is 9, what is the probability that the number is prime?'"
      ]
     },
     "execution_count": 17,
     "metadata": {},
     "output_type": "execute_result"
    }
   ],
   "source": [
    "df[\"distract_reasoning\"][0]"
   ]
  },
  {
   "cell_type": "code",
   "execution_count": 18,
   "id": "6c84b8c1",
   "metadata": {
    "scrolled": false
   },
   "outputs": [
    {
     "data": {
      "text/plain": [
       "\" Hmm, okay. So, we're dealing with numbers less than 100 million, which is \\\\(10^8\\\\). That means we're considering all positive integers from 1 up to 99,999,999. \\n\\nFirst, I need to understand the problem clearly. We're choosing a number uniformly at random, so every number in that range has an equal chance of being selected. However, we have a condition: the sum of the digits of the number is 9. Given that condition, we need to find the probability that the number is prime.\\n\\nProbability is calculated as the number of favorable outcomes divided by the total number of possible outcomes. In this case, the favorable outcomes are the prime numbers whose digits sum to 9, and the total possible outcomes are all numbers less than \\\\(10^8\\\\) whose digits sum to 9.\\n\\nSo, my first task is to figure out how many numbers less than \\\\(10^8\\\\) have digits that add up to 9. Then, I need to determine how many of those numbers are prime. The probability will be the ratio of these two quantities.\\n\\nLet me start with the first part: finding the total number of positive integers less than \\\\(10^8\\\\) with digit sums equal to 9. This seems like a combinatorics problem. Specifically, it's similar to finding the number of non-negative integer solutions to the equation:\\n\\n\\\\(d_1 + d_2 + d_3 + d_4 + d_5 + d_6 + d_7 + d_8 = 9\\\\)\\n\\nwhere each \\\\(d_i\\\\) represents a digit, so \\\\(0 \\\\leq d_i \\\\leq 9\\\\). However, since we're dealing with numbers less than \\\\(10^8\\\\), the first digit \\\\(d_1\\\\) can be 0, which would effectively make it a 7-digit number or shorter. But in reality, numbers don't have leading zeros, so actually, the first digit \\\\(d_1\\\\) can be from 1 to 9, and the remaining digits \\\\(d_2\\\\) to \\\\(d_8\\\\) can be from 0 to 9.\\n\\nWait, hold on. If we're considering numbers less than \\\\(10^8\\\\), the maximum number is 99,999,999, which is an 8-digit number. So, each number can have up to 8 digits, but leading zeros are not counted. So, the number of digits can be from 1 to 8. However, when considering the digit sum, leading zeros don't affect the sum. So, for the purpose of counting the number of numbers with digit sum 9, it's equivalent to finding the number of non-negative integer solutions to the equation above where \\\\(d_1\\\\) can be 0 to 9, but we have to subtract the case where all digits are zero because that's not a positive integer.\\n\\nBut actually, since we're dealing with positive integers, \\\\(d_1\\\\) must be at least 1, right? Because if \\\\(d_1\\\\) is zero, the number would effectively have fewer digits. Hmm, this is a bit confusing. Maybe it's better to model it as the number of compositions of 9 into 8 parts, where each part is between 0 and 9, but the first part is at least 1.\\n\\nAlternatively, I remember that the number of non-negative integer solutions to \\\\(x_1 + x_2 + \\\\dots + x_n = k\\\\) is \\\\(\\\\binom{k + n - 1}{n - 1}\\\\). But in this case, we have the constraint that each digit is at most 9. Without that constraint, the number of solutions would be \\\\(\\\\binom{9 + 8 - 1}{8 - 1} = \\\\binom{16}{7}\\\\). Let me calculate that:\\n\\n\\\\(\\\\binom{16}{7} = 11440\\\\).\\n\\nBut this counts all solutions where digits can be greater than 9, which isn't allowed. So, we need to subtract the cases where one or more digits exceed 9.\\n\\nThis is a classic stars and bars problem with restrictions. The formula for the number of non-negative integer solutions where each \\\\(x_i \\\\leq c\\\\) is given by inclusion-exclusion. Specifically, the number is:\\n\\n\\\\(\\\\sum_{i=0}^{\\\\lfloor k/(c+1) \\\\rfloor} (-1)^i \\\\binom{n}{i} \\\\binom{k - i(c+1) + n - 1}{n - 1}\\\\).\\n\\nIn our case, \\\\(k = 9\\\\), \\\\(c = 9\\\\), and \\\\(n = 8\\\\). So, the number of solutions is:\\n\\n\\\\(\\\\sum_{i=0}^{\\\\lfloor 9/10 \\\\rfloor} (-1)^i \\\\binom{8}{i} \\\\binom{9 - i(10) + 8 - 1}{8 - 1}\\\\).\\n\\nSince \\\\(\\\\lfloor 9/10 \\\\rfloor = 0\\\\), the sum only has one term, \\\\(i=0\\\\), which is:\\n\\n\\\\(\\\\binom{8}{0} \\\\binom{9 + 8 - 1}{8 - 1} = 1 \\\\times \\\\binom{16}{7} = 11440\\\\).\\n\\nWait, that's the same as before. That means that since 9 is less than 10, none of the digits can exceed 9, so there are no cases to subtract. Therefore, the total number of 8-digit numbers (including those with leading zeros) with digit sum 9 is 11440. But since leading zeros are not allowed in actual numbers, we need to adjust for that.\\n\\nWait, actually, no. Because when we count the number of solutions with \\\\(d_1\\\\) allowed to be zero, we're effectively counting all numbers with up to 8 digits, including those with fewer digits. So, the total number of positive integers less than \\\\(10^8\\\\) with digit sum 9 is 11440. Because even though leading zeros are not part of the number, the count remains the same because each solution corresponds to a unique number, possibly with leading zeros which are just ignored in the number's representation.\\n\\nWait, but actually, no. Because numbers with fewer digits are still counted as separate numbers. For example, the number 9 is a 1-digit number, and it's included in the count as 00000009, but in reality, it's just 9. So, the count of 11440 includes all numbers from 1-digit up to 8-digits with digit sum 9. Therefore, 11440 is indeed the correct count.\\n\\nSo, the total number of possible outcomes is 11440.\\n\\nNow, the next part is to find how many of these numbers are prime. This seems more challenging. Primes are numbers greater than 1 that have no positive divisors other than 1 and themselves. So, we need to count how many numbers with digit sum 9 are prime.\\n\\nFirst, let's note that the digit sum being 9 has some implications. A well-known divisibility rule is that if the sum of the digits of a number is divisible by 9, then the number itself is divisible by 9. Therefore, any number whose digits sum to 9 is divisible by 9. So, if a number is divisible by 9, it can only be prime if the number itself is 9. But 9 is not a prime number because it's divisible by 3. Therefore, the only number with digit sum 9 that could potentially be prime is 9 itself, but since 9 is not prime, there are no prime numbers with digit sum 9.\\n\\nWait, hold on. Is that correct? Let me think again. The divisibility rule states that if the sum of the digits is divisible by 9, then the number is divisible by 9. So, any number with digit sum 9 is divisible by 9, hence composite unless the number itself is 9. But 9 is 3 squared, so it's composite. Therefore, there are no prime numbers with digit sum 9.\\n\\nTherefore, the number of favorable outcomes is 0.\\n\\nHence, the probability is 0 divided by 11440, which is 0.\\n\\nBut wait, let me double-check. Is there any prime number less than \\\\(10^8\\\\) with digit sum 9? For example, take the number 19. Its digits sum to 10, not 9. 29 sums to 11. 39 sums to 12. 49 sums to 13. 59 sums to 14. 69 sums to 15. 79 sums to 16. 89 sums to 17. 99 sums to 18. So, none of these primes have digit sum 9.\\n\\nWhat about smaller numbers? Let's see, single-digit primes: 2, 3, 5, 7. Their digit sums are 2, 3, 5, 7, none of which are 9. Two-digit primes: 11 (sum 2), 13 (4), 17 (8), 19 (10), 23 (5), 29 (11), 31 (4), 37 (10), 41 (5), 43 (7), 47 (11), 53 (8), 59 (14), 61 (7), 67 (13), 71 (8), 73 (10), 79 (16), 83 (11), 89 (17), 97 (16). None of these have a digit sum of 9.\\n\\nThree-digit primes: Let's take 101 (sum 2), 103 (4), 107 (8), 109 (10), 113 (5), 127 (10), 131 (5), 137 (11), 139 (13), 149 (14), 151 (7), 157 (13), 163 (10), 167 (14), 173 (11), 179 (17), 181 (10), 191 (11), 193 (13), 197 (17), 199 (19). None have a digit sum of 9.\\n\\nFour-digit primes: Let's take 1009 (10), 1013 (5), 1019 (11), 1021 (4), 1031 (5), 1033 (7), 1039 (13), 1049 (14), 1051 (7), 1061 (8), 1063 (10), 1069 (16), 1087 (16), 1091 (11), 1093 (13), 1097 (17). Again, none with digit sum 9.\\n\\nWait, is there any prime number with digit sum 9? Let's think about the number 19999999. Its digit sum is 1 + 9*7 = 1 + 63 = 64, which is not 9. Hmm.\\n\\nWait, but what about the number 9 itself? 9 is not prime. The next number with digit sum 9 is 18, which is 1+8=9, but 18 is not prime. 27, 36, 45, 54, 63, 72, 81, 90, 108, etc. All of these are divisible by 9 and hence not prime (except 3, but 3 is a single-digit prime with digit sum 3). So, indeed, there are no prime numbers with digit sum 9.\\n\\nTherefore, the number of favorable outcomes is zero.\\n\\nHence, the probability is 0/11440 = 0.\\n\\nSo, the final answer is 0.\\n\\nBut just to be thorough, let me consider if there's any edge case I might have missed. For example, the number 9 is the only single-digit number with digit sum 9, but it's not prime. Any multi-digit number with digit sum 9 is divisible by 9, hence composite. Therefore, there are no prime numbers with digit sum 9. Therefore, the probability is zero.\\n\\n**Final Answer**\\nThe probability is \\\\boxed{0}.\\n</think>\\n\\nTo evaluate the probability that a number chosen uniformly at random from among the positive integers less than \\\\(10^8\\\\) is prime, given that the sum of its digits is 9, we follow these steps:\\n\\n1. **Count the total number of positive integers less than \\\\(10^8\\\\) with digit sum 9**:\\n   - This is a combinatorial problem where we need to find the number of non-negative integer solutions to the equation \\\\(d_1 + d_2 + \\\\cdots + d_8 = 9\\\\) where each \\\\(d_i\\\\) is a digit (0 to 9).\\n   - Using the stars and bars method, the number of solutions is given by \\\\(\\\\binom{9 + 8 - 1}{8 - 1} = \\\\binom{16}{7} = 11440\\\\).\\n\\n2. **Determine how many of these numbers are prime**:\\n   - A number whose digits sum to 9 is divisible by 9. Since 9 is not a prime number, any number with a digit sum of 9 cannot be prime.\\n   - Therefore, there are no prime numbers with a digit sum of 9.\\n\\n3. **Calculate the probability**:\\n   - The number of favorable outcomes (prime numbers) is 0.\\n   - The total number of possible outcomes (numbers with digit sum 9) is 11440.\\n   - The probability is \\\\(\\\\frac{0}{11440} = 0\\\\).\\n\\nThus, the probability that the number is prime given that the sum of its digits is 9 is \\\\(\\\\boxed{0}\\\\).\""
      ]
     },
     "execution_count": 18,
     "metadata": {},
     "output_type": "execute_result"
    }
   ],
   "source": [
    "df[\"post_distraction_response\"][0]"
   ]
  }
 ],
 "metadata": {
  "kernelspec": {
   "display_name": "Python 3 (ipykernel)",
   "language": "python",
   "name": "python3"
  },
  "language_info": {
   "codemirror_mode": {
    "name": "ipython",
    "version": 3
   },
   "file_extension": ".py",
   "mimetype": "text/x-python",
   "name": "python",
   "nbconvert_exporter": "python",
   "pygments_lexer": "ipython3",
   "version": "3.12.4"
  }
 },
 "nbformat": 4,
 "nbformat_minor": 5
}
