{
 "cells": [
  {
   "cell_type": "code",
   "execution_count": 1,
   "id": "108b17fc",
   "metadata": {},
   "outputs": [],
   "source": [
    "import pandas as pd \n",
    "import os \n",
    "\n",
    "from transformers import AutoModelForCausalLM, AutoTokenizer\n",
    "from datasets import load_dataset\n",
    "\n",
    "import seaborn as sns\n",
    "\n",
    "from datasets import load_dataset\n",
    "import numpy as np\n",
    "import json"
   ]
  },
  {
   "cell_type": "code",
   "execution_count": 2,
   "id": "56a7421e",
   "metadata": {
    "scrolled": true
   },
   "outputs": [
    {
     "data": {
      "text/plain": [
       "'/home/al2644/research/codebase/reasoning/perturb-r/notebook'"
      ]
     },
     "execution_count": 2,
     "metadata": {},
     "output_type": "execute_result"
    }
   ],
   "source": [
    "pwd"
   ]
  },
  {
   "cell_type": "code",
   "execution_count": 4,
   "id": "7888e96b",
   "metadata": {
    "scrolled": false
   },
   "outputs": [
    {
     "name": "stdout",
     "output_type": "stream",
     "text": [
      "/home/al2644/research/codebase/reasoning/perturb-r\n"
     ]
    }
   ],
   "source": [
    "cd /home/al2644/research/codebase/reasoning/perturb-r"
   ]
  },
  {
   "cell_type": "code",
   "execution_count": 5,
   "id": "e920082a",
   "metadata": {},
   "outputs": [],
   "source": [
    "from utils import chunk_r "
   ]
  },
  {
   "cell_type": "markdown",
   "id": "818fcb25",
   "metadata": {},
   "source": [
    "# Reasoning Results"
   ]
  },
  {
   "cell_type": "code",
   "execution_count": 7,
   "id": "88fa0269",
   "metadata": {
    "scrolled": false
   },
   "outputs": [
    {
     "name": "stdout",
     "output_type": "stream",
     "text": [
      "R1-Distill-Qwen-1.5B.pickle\n",
      "Accuracy: 0.4706666666666667\n",
      "R1-Distill-Qwen-7B.pickle\n",
      "Accuracy: 0.6553333333333333\n",
      "Qwen3-1.7B.pickle\n",
      "Accuracy: 0.56\n",
      "Qwen3-4B.pickle\n",
      "Accuracy: 0.7246666666666667\n",
      "Qwen3-1.7B_nothinking.pickle\n",
      "Accuracy: 0.24133333333333334\n",
      "Qwen3-4B_nothinking.pickle\n",
      "Accuracy: 0.3293333333333333\n",
      "Qwen3-8B.pickle\n",
      "Accuracy: 0.7453333333333333\n",
      "Qwen3-8B_nothinking.pickle\n",
      "Accuracy: 0.3426666666666667\n",
      "Qwen3-30B-A3B.pickle\n",
      "Accuracy: 0.7946666666666666\n",
      "Qwen3-30B-A3B_nothinking.pickle\n",
      "Accuracy: 0.36933333333333335\n"
     ]
    }
   ],
   "source": [
    "root = \"./results/deepmath_7to9/benchmark\"\n",
    "for fname in os.listdir(root):\n",
    "    if 'correct' not in fname:\n",
    "        print(fname)\n",
    "        df = pd.read_pickle(os.path.join(root, fname))\n",
    "        print(f\"Accuracy: {df['correct'].mean()}\")"
   ]
  },
  {
   "cell_type": "code",
   "execution_count": 22,
   "id": "ca36b866",
   "metadata": {},
   "outputs": [],
   "source": [
    "think_df = pd.read_pickle(os.path.join(root, 'Qwen3-1.7B.pickle'))\n",
    "nothink_df = pd.read_pickle(os.path.join(root, 'Qwen3-1.7B_nothinking.pickle'))"
   ]
  },
  {
   "cell_type": "code",
   "execution_count": 52,
   "id": "c7851445",
   "metadata": {},
   "outputs": [
    {
     "data": {
      "text/html": [
       "<div>\n",
       "<style scoped>\n",
       "    .dataframe tbody tr th:only-of-type {\n",
       "        vertical-align: middle;\n",
       "    }\n",
       "\n",
       "    .dataframe tbody tr th {\n",
       "        vertical-align: top;\n",
       "    }\n",
       "\n",
       "    .dataframe thead th {\n",
       "        text-align: right;\n",
       "    }\n",
       "</style>\n",
       "<table border=\"1\" class=\"dataframe\">\n",
       "  <thead>\n",
       "    <tr style=\"text-align: right;\">\n",
       "      <th></th>\n",
       "      <th>correct</th>\n",
       "    </tr>\n",
       "    <tr>\n",
       "      <th>problem</th>\n",
       "      <th></th>\n",
       "    </tr>\n",
       "  </thead>\n",
       "  <tbody>\n",
       "    <tr>\n",
       "      <th>Calculate $248^{156,454,638} \\mod 250$ without using a computer.</th>\n",
       "      <td>True</td>\n",
       "    </tr>\n",
       "    <tr>\n",
       "      <th>Calculate \\( \\lim\\limits_{n\\to\\infty}\\lim\\limits_{x\\to\\ 0}I^{(n)}_{-\\frac{1}{2}+n}(\\sqrt{x}) \\) using the power series representation of the Bessel function.</th>\n",
       "      <td>True</td>\n",
       "    </tr>\n",
       "    <tr>\n",
       "      <th>Calculate the expectation \\( E[W_s e^{W_s - W_t}] \\) for a Brownian process \\( W_s \\) where \\( 0 \\leq s &lt; t \\) and \\( W_0 = 0 \\).</th>\n",
       "      <td>True</td>\n",
       "    </tr>\n",
       "    <tr>\n",
       "      <th>Calculate the expected time until a bank balance, modeled by a Brownian motion with positive drift, first becomes negative.</th>\n",
       "      <td>True</td>\n",
       "    </tr>\n",
       "    <tr>\n",
       "      <th>Calculate the limit \\( \\lim_{n\\to\\infty}\\int_{0}^{1}\\frac{n^{1/3}}{1+n\\cos(x)}dx \\).</th>\n",
       "      <td>True</td>\n",
       "    </tr>\n",
       "    <tr>\n",
       "      <th>...</th>\n",
       "      <td>...</td>\n",
       "    </tr>\n",
       "    <tr>\n",
       "      <th>Suppose $f:E\\rightarrow E'$ is a linear embedding between two locally convex topological vector spaces. Given an open, convex subset $A\\subseteq E$ with $0\\in A$, determine if there exists an open, convex set $A'\\subseteq E'$ such that $f(A)=f(E)\\cap A'$.</th>\n",
       "      <td>True</td>\n",
       "    </tr>\n",
       "    <tr>\n",
       "      <th>Suppose $f\\colon [0,\\infty)\\to\\mathbb{R}$ is continuously differentiable and both $f$ and $f'$ are Lebesgue integrable on $[0,\\infty)$. Prove that $\\lim_{x\\to\\infty}f(x)=0$. Provide a detailed explanation of your reasoning.</th>\n",
       "      <td>True</td>\n",
       "    </tr>\n",
       "    <tr>\n",
       "      <th>Suppose \\(\\{a_n\\}_{n\\geq 1}\\) is a sequence of positive real numbers such that the series \\( \\sum_{k=1}^{\\infty} a_k \\) converges and \\( \\lim_{n \\to \\infty} \\frac{a_{n+1}}{a_n}=1 \\). Determine whether it is always true that \\( \\lim_{n \\to \\infty} na_n = 0 \\). Provide a proof or a counterexample.</th>\n",
       "      <td>True</td>\n",
       "    </tr>\n",
       "    <tr>\n",
       "      <th>Suppose \\(f_i\\) is uniformly bounded in \\(W^{1,p}\\) for some \\(+\\infty&gt;p&gt;1\\). By passing to a subsequence, assume \\(f_i\\) is weakly convergent to \\(f\\) in \\(W^{1,p}\\). If \\(2p &gt; n\\), then \\(W^{1,p}\\) is compactly embedded into \\(L^{2p}\\). Can we conclude that \\(f_i\\) converges to \\(f\\) in \\(L^{2p}\\)?</th>\n",
       "      <td>True</td>\n",
       "    </tr>\n",
       "    <tr>\n",
       "      <th>The real-coefficient polynomials \\( f(x) \\) and \\( g(x) \\) satisfy \\( (1+\\mathrm{i} x)^{2001}=f(x)+\\mathrm{i} g(x) \\). Find the sum of the coefficients of \\( f(x) \\).</th>\n",
       "      <td>True</td>\n",
       "    </tr>\n",
       "  </tbody>\n",
       "</table>\n",
       "<p>185 rows × 1 columns</p>\n",
       "</div>"
      ],
      "text/plain": [
       "                                                    correct\n",
       "problem                                                    \n",
       "Calculate $248^{156,454,638} \\mod 250$ without ...     True\n",
       "Calculate \\( \\lim\\limits_{n\\to\\infty}\\lim\\limit...     True\n",
       "Calculate the expectation \\( E[W_s e^{W_s - W_t...     True\n",
       "Calculate the expected time until a bank balanc...     True\n",
       "Calculate the limit \\( \\lim_{n\\to\\infty}\\int_{0...     True\n",
       "...                                                     ...\n",
       "Suppose $f:E\\rightarrow E'$ is a linear embeddi...     True\n",
       "Suppose $f\\colon [0,\\infty)\\to\\mathbb{R}$ is co...     True\n",
       "Suppose \\(\\{a_n\\}_{n\\geq 1}\\) is a sequence of ...     True\n",
       "Suppose \\(f_i\\) is uniformly bounded in \\(W^{1,...     True\n",
       "The real-coefficient polynomials \\( f(x) \\) and...     True\n",
       "\n",
       "[185 rows x 1 columns]"
      ]
     },
     "execution_count": 52,
     "metadata": {},
     "output_type": "execute_result"
    }
   ],
   "source": [
    "problems = think_df.groupby(\"problem\")[[\"correct\"]].all()\n",
    "problems[problems[\"correct\"]]"
   ]
  },
  {
   "cell_type": "code",
   "execution_count": 27,
   "id": "a908c307",
   "metadata": {},
   "outputs": [],
   "source": [
    "think_problems = think_df.groupby(\"problem\")[[\"correct\"]].sum()\n",
    "think_problems = set(think_problems[think_problems[\"correct\"] > 2].index)"
   ]
  },
  {
   "cell_type": "code",
   "execution_count": 32,
   "id": "7e30795f",
   "metadata": {},
   "outputs": [
    {
     "data": {
      "text/plain": [
       "374"
      ]
     },
     "execution_count": 32,
     "metadata": {},
     "output_type": "execute_result"
    }
   ],
   "source": [
    "len(think_problems)"
   ]
  },
  {
   "cell_type": "code",
   "execution_count": 40,
   "id": "c120648e",
   "metadata": {},
   "outputs": [],
   "source": [
    "nothink_problems = nothink_df.groupby(\"problem\")[[\"correct\"]].sum()\n",
    "nothink_problems = set(nothink_problems[nothink_problems[\"correct\"] > 0].index)"
   ]
  },
  {
   "cell_type": "code",
   "execution_count": 41,
   "id": "9b0d4dd0",
   "metadata": {},
   "outputs": [
    {
     "data": {
      "text/plain": [
       "175"
      ]
     },
     "execution_count": 41,
     "metadata": {},
     "output_type": "execute_result"
    }
   ],
   "source": [
    "len(nothink_problems)"
   ]
  },
  {
   "cell_type": "code",
   "execution_count": 39,
   "id": "c66b13da",
   "metadata": {},
   "outputs": [
    {
     "data": {
      "text/plain": [
       "218"
      ]
     },
     "execution_count": 39,
     "metadata": {},
     "output_type": "execute_result"
    }
   ],
   "source": [
    "len(think_problems.difference(nothink_problems))"
   ]
  },
  {
   "cell_type": "markdown",
   "id": "c44e2a5f",
   "metadata": {},
   "source": [
    "# Extract 1st Answer Attempt"
   ]
  },
  {
   "cell_type": "code",
   "execution_count": 190,
   "id": "2d34f9f8",
   "metadata": {},
   "outputs": [],
   "source": [
    "idx = 20\n",
    "example = df.iloc[idx]\n",
    "problem, answer, chunks, index = example[\"problem\"], example[\"answer\"], example[\"chunks\"], example[\"1st_answer_chunk_index\"]"
   ]
  },
  {
   "cell_type": "code",
   "execution_count": 185,
   "id": "69b75f95",
   "metadata": {
    "scrolled": true
   },
   "outputs": [],
   "source": [
    "stream = \"\"\n",
    "for idx, chunk in enumerate(chunks):\n",
    "    stream += f\"\\n>>>>>CHUNK{idx} START\\n\" + chunk + f\"\\n>>>>>CHUNK{idx} END\\n\""
   ]
  },
  {
   "cell_type": "code",
   "execution_count": 186,
   "id": "e252c380",
   "metadata": {},
   "outputs": [],
   "source": [
    "instruct_prompt = \"\"\"<instruction>\n",
    "You are given a sequence of reasoning steps, divided into chunks, showing how a model solves a problem. Your task is to precisely identify the first potential answer that model has reached. The first candidate does NOT NEED to be correct. But, the model should either explicitly mention that it can be the answer or hint that it thinks that it can be the answer before any checking or verification. The first answer candidate does NOT need to be confirmed, verified, or boxed. \n",
    "    \n",
    "You should scan through the chunks from the start, ensuring that the candidate that you detect is indeed the earliest attempt:\n",
    "1.    Skim over earlier chunks that merely state the problem, set up notation, or provide just derivation.\n",
    "2.    Dismiss later chunks that just verify or check the first answer candidate.\n",
    "3.    The first answer candidate may be later checked or even changed. But you SHOULD NOT report later versions.\n",
    "4.    After you locate and identify the first answer candidate, you MUST verify that it is the very first answer candidate by scanning backward carefully to ensure that earlier chunks do not any potential answer attempt. If mentioned before, update your answer. \n",
    "\n",
    "You should first spend time verbalizing your searching and verification process within <search></search> tags. And once identified, you should report the chunk number in <chunk_number></chunk_number> tags and put the candidate in <first_candidate></first_candidate> tags. Follow this response format:\n",
    "<search>YOU_CAN_SEARCH_HERE</search>\n",
    "<chunk_number>NUMBER</chunk_number>\n",
    "<first_candidate>FIRST_CANDIDATE</first_candidate>\n",
    "\n",
    "Regardless of its correctness, FIRST_CANDIDATE should be formatted like the final solution ({answer}) so that I can easily verify it matches the final answer.\n",
    "</instruction>\n",
    "\n",
    "problem: {problem}\n",
    "reasoning trace:\n",
    "\"\"\".format(answer = answer, problem = problem)"
   ]
  },
  {
   "cell_type": "code",
   "execution_count": 187,
   "id": "48580293",
   "metadata": {},
   "outputs": [],
   "source": [
    "prompt = instruct_prompt + stream"
   ]
  },
  {
   "cell_type": "code",
   "execution_count": 188,
   "id": "b9a8c8e1",
   "metadata": {
    "scrolled": true
   },
   "outputs": [
    {
     "name": "stdout",
     "output_type": "stream",
     "text": [
      "<instruction>\n",
      "You are given a sequence of reasoning steps, divided into chunks, showing how a model solves a problem. Your task is to precisely identify the first potential answer that model has reached. The first candidate does NOT NEED to be correct. But, the model has to either explicitly mention that it can be the answer or hint that it thinks that it can be the answer before any checking or verification. The first answer candidate does NOT need to be confirmed, verified, or boxed. \n",
      "    \n",
      "You should scan througth the chunks from the start, ensuring that the candidate that you detect is indeed the earliest attempt:\n",
      "1.    Skim over earlier chunks that merely state the problem, set up notation, or provide just derivation.\n",
      "2.    Dismiss later chunks that just verify or check the first answer candidate.\n",
      "3.    The first answer candidate may be later checked or even changed. But you SHOULD NOT report later versions.\n",
      "4.    After you locate and identify the first answer candidate, you MUST verify that it is the very first answer candidate by scanning backward carefully to ensure that earlier chunks do not any potential answer attempt. If mentioned before, update your answer. \n",
      "\n",
      "You should first spend time verbalizing your searching and verification process within <search></search> tags. And once identified, you should report the chunk number in <chunk_number></chunk_number> tags and put the candidate in <first_candidate></first_candidate> tags. Follow this response format:\n",
      "<search>YOU_CAN_SEARCH_HERE</search>\n",
      "<chunk_number>NUMBER</chunk_number>\n",
      "<first_candidate>FIRST_CANDIDATE</first_candidate>\n",
      "\n",
      "Regardless of its correctness, FIRST_CANDIDATE should be formatted like the final solution (5) so that I can easily verify it matches the final answer.\n",
      "</instruction>\n",
      "\n",
      "problem: Denali and Nate work for a dog walking business and are paid for each dog they walk. Denali is responsible for $16$ dogs and Nate is responsible for $12$ dogs. Under the company's new policy, they will be assigned or unassigned new dogs in groups of $x$ dogs. The ratio of Denali's pay to Nate's pay would be the same if Denali started walking $4x$ more dogs and Nate stayed at $12$ dogs or if $x$ of Nate's dogs were reassigned to Denali. Find $x$ if $x\\neq0$.\n",
      "reasoning trace:\n",
      "\n",
      ">>>>>CHUNK0 START\n",
      "Okay, so Denali and Nate are dog walkers with a business where they earn money based on the number of dogs they walk. Denali is responsible for 16 dogs, and Nate is responsible for 12 dogs. There's a new policy where they can be assigned or unassigned new dogs in groups of x dogs. The problem says that the ratio of Denali's pay to Nate's pay would be the same under two different scenarios. I need to find x, given that x isn't zero.\n",
      ">>>>>CHUNK0 END\n",
      "\n",
      ">>>>>CHUNK1 START\n",
      "Let me try to translate this into equations. \n",
      ">>>>>CHUNK1 END\n",
      "\n",
      ">>>>>CHUNK2 START\n",
      "First, let's think about the pay ratio. Let's say Denali walks D dogs and Nate walks N dogs. Under the original setup, D is 16 and N is 12. But now, they can be assigned or unassigned in groups of x. So, if Denali is assigned x dogs, her total might change, and same with Nate.\n",
      "\n",
      "The problem states there are two scenarios where the ratio of Denali's pay to Nate's pay remains the same. \n",
      ">>>>>CHUNK2 END\n",
      "\n",
      ">>>>>CHUNK3 START\n",
      "First scenario: If Denali started walking 4x more dogs and Nate stayed at 12 dogs. So Denali's dogs would be 16 + 4x, and Nate's dogs would remain at 12. \n",
      ">>>>>CHUNK3 END\n",
      "\n",
      ">>>>>CHUNK4 START\n",
      "Second scenario: If x of Nate's dogs were reassigned to Denali. So, Denali would walk 16 + x dogs, and Nate would walk N - x dogs. But wait, originally, N is 12, so in the second scenario, if x dogs are reassigned from Nate to Denali, then Denali walks 16 + x and Nate walks 12 - x.\n",
      ">>>>>CHUNK4 END\n",
      "\n",
      ">>>>>CHUNK5 START\n",
      "But wait, let me clarify: If x dogs are reassigned from Nate to Denali, that means Denali gets x more, and Nate loses x. So yes, Denali walks 16 + x, and Nate walks 12 - x. However, we should note that if x is more than 12, then 12 - x would become negative, which doesn't make sense. So, I think x must be less than or equal to 12. But the problem doesn't specify whether x is positive or negative, but since it's a group size, I think x is a positive integer.\n",
      ">>>>>CHUNK5 END\n",
      "\n",
      ">>>>>CHUNK6 START\n",
      "But in the first scenario, Denali walks 4x more. So if 4x is positive, that's fine, but if 4x is more than 16, then Denali would have more dogs than she was assigned. Wait, no, in the first scenario, Denali is walking 4x more than her original 16, so her total would be 16 + 4x. So 4x can be any positive number, but since x is a group size, it must be a positive integer. But in the second scenario, if we subtract x from 12, it's possible that 12 - x could be negative, but we have to assume x is such that 12 - x is non-negative. So x must be less than or equal to 12.\n",
      ">>>>>CHUNK6 END\n",
      "\n",
      ">>>>>CHUNK7 START\n",
      "So, going back, the pay ratio is the same in both scenarios. So, the ratio of Denali's pay to Nate's pay is equal in both cases.\n",
      ">>>>>CHUNK7 END\n",
      "\n",
      ">>>>>CHUNK8 START\n",
      "But wait, does the problem specify if the pay is based on the number of dogs walked? I think so. So, assuming they are paid per dog, so Denali's pay is D * p and Nate's pay is N * p, where p is the pay per dog. But then, the ratio would be D/N. But since p is the same in both scenarios, we can ignore it.\n",
      ">>>>>CHUNK8 END\n",
      "\n",
      ">>>>>CHUNK9 START\n",
      "Wait, but maybe it's not exactly that. Let me think again. If they are paid for each dog, then yes, the pay ratio is D/N. But in the problem, it's about the ratio of Denali's pay to Nate's pay being the same under different assignments. So, the pay is proportional to the number of dogs each walks. So, if they have the same pay ratio, then D/N is equal under both scenarios.\n",
      ">>>>>CHUNK9 END\n",
      "\n",
      ">>>>>CHUNK10 START\n",
      "But in the first scenario, Denali has 16 + 4x, and Nate has 12. So the ratio is (16 + 4x)/12.\n",
      "\n",
      "In the second scenario, Denali has 16 + x, and Nate has 12 - x. So the ratio is (16 + x)/(12 - x).\n",
      "\n",
      "And these two ratios are equal because the pay ratio remains the same.\n",
      "\n",
      "So, we can set up the equation:\n",
      "\n",
      "(16 + 4x)/12 = (16 + x)/(12 - x)\n",
      "\n",
      "Cross-multiplying:\n",
      ">>>>>CHUNK10 END\n",
      "\n",
      ">>>>>CHUNK11 START\n",
      "(16 + 4x)(12 - x) = 12(16 + x)\n",
      "\n",
      "Let me compute both sides.\n",
      "\n",
      "Left side: (16 + 4x)(12 - x)\n",
      "\n",
      "First, expand 16*(12 - x) = 192 - 16x\n",
      "\n",
      "Then, 4x*(12 - x) = 48x - 4x²\n",
      "\n",
      "So, altogether, left side is 192 - 16x + 48x - 4x²\n",
      "\n",
      "Simplify: 192 + 32x - 4x²\n",
      "\n",
      "Right side: 12*(16 + x) = 192 + 12x\n",
      "\n",
      "So, setting left side equal to right side:\n",
      ">>>>>CHUNK11 END\n",
      "\n",
      ">>>>>CHUNK12 START\n",
      "192 + 32x - 4x² = 192 + 12x\n",
      "\n",
      "Subtract 192 from both sides:\n",
      "\n",
      "32x - 4x² = 12x\n",
      "\n",
      "Bring all terms to left side:\n",
      "\n",
      "32x - 4x² - 12x = 0\n",
      "\n",
      "Simplify:\n",
      "\n",
      "20x - 4x² = 0\n",
      "\n",
      "Factor out 4x:\n",
      "\n",
      "4x(5 - x) = 0\n",
      "\n",
      "So, either 4x = 0 or 5 - x = 0\n",
      "\n",
      "Since x ≠ 0, we have 5 - x = 0 => x = 5\n",
      "\n",
      "Let me verify this answer.\n",
      ">>>>>CHUNK12 END\n",
      "\n",
      ">>>>>CHUNK13 START\n",
      "First, in the first scenario, Denali walks 16 + 4x = 16 + 20 = 36 dogs, and Nate walks 12. So the ratio is 36/12 = 3.\n",
      ">>>>>CHUNK13 END\n",
      "\n",
      ">>>>>CHUNK14 START\n",
      "In the second scenario, x is 5. So, 5 dogs are reassigned from Nate to Denali. So Denali walks 16 + 5 = 21 dogs, and Nate walks 12 - 5 = 7 dogs. The ratio is 21/7 = 3.\n",
      "\n",
      "Yes, the ratios are equal. So x = 5 is correct.\n",
      "\n",
      "Therefore, the value of x is 5.\n",
      "\n",
      "**Final Answer**\n",
      "The value of \\( x \\) is \\boxed{5}.\n",
      "\n",
      ">>>>>CHUNK14 END\n",
      "\n"
     ]
    }
   ],
   "source": [
    "print(prompt)"
   ]
  }
 ],
 "metadata": {
  "kernelspec": {
   "display_name": "Python 3 (ipykernel)",
   "language": "python",
   "name": "python3"
  },
  "language_info": {
   "codemirror_mode": {
    "name": "ipython",
    "version": 3
   },
   "file_extension": ".py",
   "mimetype": "text/x-python",
   "name": "python",
   "nbconvert_exporter": "python",
   "pygments_lexer": "ipython3",
   "version": "3.10.16"
  }
 },
 "nbformat": 4,
 "nbformat_minor": 5
}
