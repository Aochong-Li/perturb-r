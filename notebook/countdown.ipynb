{
 "cells": [
  {
   "cell_type": "code",
   "execution_count": 1,
   "id": "eb0a25bb",
   "metadata": {},
   "outputs": [],
   "source": [
    "import datasets"
   ]
  },
  {
   "cell_type": "code",
   "execution_count": 15,
   "id": "fd4f9692",
   "metadata": {},
   "outputs": [],
   "source": [
    "dataset_name = \"aochongoliverli/Qwen2.5-3B-countdown-level4-1epochs-4rollouts-1024max-length-reasoning-traces\"\n",
    "reasoning_trace = datasets.load_dataset(dataset_name)"
   ]
  },
  {
   "cell_type": "code",
   "execution_count": 16,
   "id": "87e58c7a",
   "metadata": {},
   "outputs": [
    {
     "data": {
      "application/vnd.jupyter.widget-view+json": {
       "model_id": "2462bd1dd22c4bebbbe504e9933e4929",
       "version_major": 2,
       "version_minor": 0
      },
      "text/plain": [
       "Filter:   0%|          | 0/163584 [00:00<?, ? examples/s]"
      ]
     },
     "metadata": {},
     "output_type": "display_data"
    }
   ],
   "source": [
    "rollout_pre100 = reasoning_trace.filter(lambda x : min(x[\"global_step\"]) < 100)"
   ]
  },
  {
   "cell_type": "code",
   "execution_count": 30,
   "id": "525ee9d5",
   "metadata": {
    "scrolled": true
   },
   "outputs": [
    {
     "name": "stdout",
     "output_type": "stream",
     "text": [
      "I need to combine the provided numbers 49, 96, 78, and 2 using basic arithmetic operations to obtain 19. Here’s my attempt:\n",
      "\n",
      "((96 - 78) + 49) - 2\n",
      "\n",
      "Now let's check if this yields 19:\n",
      "- 96 - 78 = 18\n",
      "- 18 + 49 = 67\n",
      "- 67 - 2 = 65\n",
      "\n",
      "It does not give us the required outcome, so let's try another combination. Let's see if I can find a different way to use the numbers. How about this:\n",
      "\n",
      "((49 + 2) - 78) + 96\n",
      "\n",
      "Now let's see if this gets us 19:\n",
      "- 49 + 2 = 51 \n",
      "- 51 - 78 = -27\n",
      "- -27 + 96 = 69\n",
      "\n",
      "This one also doesn't work. Let's try:\n",
      "\n",
      "(96 + 78 - 49) / 2\n",
      "\n",
      "Now let's check if this equals 19:\n",
      "- 96 + 78 = 174\n",
      "- 174 - 49 = 125\n",
      "- 125 / 2 = 62.5\n",
      "\n",
      "This is also not the correct answer. Let's try:\n",
      "\n",
      "(78 + 96 - 49) / 2\n",
      "\n",
      "Checking:\n",
      "- 78 + 96 = 174\n",
      "- 174 - 49 = 125\n",
      "- 125 / 2 = 62.5\n",
      "\n",
      "Still not the correct answer. Finally, let's do this one:\n",
      "\n",
      "(96 - 49) + (78 - 2)\n",
      "\n",
      "Checking:\n",
      "- 96 - 49 = 47\n",
      "- 78 - 2 = 76\n",
      "- 47 + 76 = 123\n",
      "\n",
      "No luck yet. It's time to try the combination I mentioned first but from a different angle:\n",
      "\n",
      "(96 - 78 + 49) - 2\n",
      "\n",
      "Checking:\n",
      "- 96 - 78 = 18\n",
      "- 18 + 49 = 67\n",
      "- 67 - 2 = 65\n",
      "\n",
      "There seems to be a pattern here, let's try rearranging the terms more lightly:\n",
      "\n",
      "(49 + 78) - (96 - 2)\n",
      "\n",
      "Checking:\n",
      "- 49 + 78 = 127\n",
      "- 96 - 2 = 94\n",
      "- 127 - 94 = 33\n",
      "\n",
      "Still not the correct answer. The last attempt was promising though:\n",
      "\n",
      "(96 - (78 - 49)) - 2\n",
      "\n",
      "Checking:\n",
      "- 78 - 49 = 29\n",
      "- 96 - 29 = 67\n",
      "- 67 - 2 = 65\n",
      "\n",
      "Almost there. Let's try this one more time just for fun:\n",
      "\n",
      "(96 - 49) + (78 - 2)\n",
      "\n",
      "Checking:\n",
      "- 96 - 49 = 47\n",
      "- 78 - 2 = 76\n",
      "- 47 + 76 = 123\n",
      "\n",
      "Let me take a deeper look at the pieces:\n",
      "\n",
      "The correct solution is to use the numbers in such a way to achieve the required result:\n",
      "\n",
      "(96 + (49 - (78 - 2)))<|endoftext|>\n"
     ]
    }
   ],
   "source": [
    "print(rollout_pre100[\"train\"][-100][\"response\"][2])"
   ]
  },
  {
   "cell_type": "code",
   "execution_count": 35,
   "id": "3063966b",
   "metadata": {
    "scrolled": false
   },
   "outputs": [
    {
     "name": "stdout",
     "output_type": "stream",
     "text": [
      "I'll create different combinations using the numbers [4, 26, 85, 18] and basic arithmetic operations (+, -, *, /), aiming to get an answer of 13. Let's test each one:\n",
      "\n",
      "1. (85 - 26) + (18-4) = 59 + 14 = 73 ≠ 13\n",
      "2. (85 - 18) - (26 - 4) = 67 - 22 = 45 ≠ 13\n",
      "3. (85 - 26) - (18 - 4) = 59 - 14 = 45 ≠ 13\n",
      "4. (85 - 26) + (18 + 4) = 59 + 22 = 81 ≠ 13\n",
      "5. (85 - 18) + (26 - 4) = 67 + 22 = 89 ≠ 13\n",
      "6. (85 - 26) - (18 + 4) = 59 - 22 = 37 ≠ 13\n",
      "7. (85 - 18) - (26 + 4) = 67 - 30 = 37 ≠ 13\n",
      "8. (26 + 18) - (85 - 4) = 44 - 81 = -37 ≠ 13\n",
      "9. (85 - 18) + (4 - 26) = 67 - 22 = 45 ≠ 13\n",
      "10. (26 - 4) * (85 - 18) = 22 * 67 = 1474 ≠ 13\n",
      "11. (85 - 26) / (18 - 4) = 59 / 14 = 4.21 ≠ 13\n",
      "12. (26 - 18) + (85 / 4) = 8 + 21.25 = 29.25 ≠ 13\n",
      "13. (26 + 18) - (85 / 4) = 44 - 21.25 = 22.75 ≠ 13\n",
      "14. (85 - 18) / 4 + 26 = 67 / 4 + 26 = 16.75 + 26 = 42.75 ≠ 13\n",
      "15. (85 - 26) - (18 / 4) = 59 - 4.5 = 54.5 ≠ 13\n",
      "16. (26 / 4) + (85 - 18) = 6.5 + 67 = 73.5 ≠ 13\n",
      "17. (85 - 18) - (26 / 4) = 67 - 6.5 = 60.5 ≠ 13\n",
      "18. (85 - 26) - (18 * 4) = 59 - 72 = -13 ≠ 13\n",
      "19. (85 / 26) + (18 - 4) = 3.27 + 14 = 17.27 ≠ 13\n",
      "20. (26 * 4) - (85 - 18) = 104 - 67 = 37 ≠ 13\n",
      "21. (85 - 18) - (26 * 4) = 67 - 104 = -37 ≠ 13\n",
      " </think>\n",
      "<answer> (26 / 4) + (85 - 18) </answer><|endoftext|>\n"
     ]
    }
   ],
   "source": [
    "print(reasoning_trace[\"train\"][-100][\"response\"][3])"
   ]
  }
 ],
 "metadata": {
  "kernelspec": {
   "display_name": "Python 3 (ipykernel)",
   "language": "python",
   "name": "python3"
  },
  "language_info": {
   "codemirror_mode": {
    "name": "ipython",
    "version": 3
   },
   "file_extension": ".py",
   "mimetype": "text/x-python",
   "name": "python",
   "nbconvert_exporter": "python",
   "pygments_lexer": "ipython3",
   "version": "3.10.16"
  }
 },
 "nbformat": 4,
 "nbformat_minor": 5
}
