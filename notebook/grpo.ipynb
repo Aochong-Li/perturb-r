{
 "cells": [
  {
   "cell_type": "code",
   "execution_count": 68,
   "id": "785acccc",
   "metadata": {},
   "outputs": [],
   "source": [
    "import pandas as pd\n",
    "import wandb\n",
    "import os\n",
    "import wandb\n",
    "\n",
    "wandb.login()\n",
    "api = wandb.Api()"
   ]
  },
  {
   "cell_type": "code",
   "execution_count": 78,
   "id": "5442476d",
   "metadata": {},
   "outputs": [
    {
     "name": "stdout",
     "output_type": "stream",
     "text": [
      "{'id': '6uxvsrjh',\n",
      " 'name': 'Qwen2.5_Math_7B_skythought_max_length_4096_bsz_16_epochs_3'}\n",
      "{'id': '8lsf1hr8',\n",
      " 'name': 'Qwen2.5_Math_1.5B_sky_math8k_max_length_4096_bsz_32_epochs_10'}\n"
     ]
    }
   ],
   "source": [
    "from pprint import pprint\n",
    "import wandb, os\n",
    "api = wandb.Api()\n",
    "\n",
    "entity  = \"al2644-cornell-university\"\n",
    "project = \"sky-math-8k\"\n",
    "\n",
    "for r in api.runs(f\"{entity}/{project}\"):\n",
    "    pprint({\"id\": r.id, \"name\": r.name})\n"
   ]
  },
  {
   "cell_type": "code",
   "execution_count": 79,
   "id": "d61a0d9f",
   "metadata": {
    "scrolled": true
   },
   "outputs": [],
   "source": [
    "entity  = \"al2644-cornell-university\"\n",
    "project = \"sky-math-8k\"\n",
    "run_id  = \"8lsf1hr8\"\n",
    "\n",
    "run = api.run(f\"{entity}/{project}/{run_id}\")\n",
    "history = run.history()"
   ]
  },
  {
   "cell_type": "code",
   "execution_count": 82,
   "id": "b9734657",
   "metadata": {},
   "outputs": [],
   "source": [
    "path = \"/share/goyal/lio/reasoning/model/sky_math8k/sft/Qwen2.5_Math_1.5B_sky_math8k_max_length_4096_bsz_32_epochs_10\"\n",
    "checkpoints = [int(fname.replace(\"checkpoint-\", \"\"))for fname in os.listdir(path) if \"checkpoint-\" in fname]"
   ]
  },
  {
   "cell_type": "code",
   "execution_count": 106,
   "id": "48a75064",
   "metadata": {},
   "outputs": [],
   "source": [
    "df = []\n",
    "for checkpoint in checkpoints:\n",
    "    row = history[history['train/global_step'] <= checkpoint].dropna().iloc[-1:]\n",
    "    row['checkpoint'] = checkpoint\n",
    "    df.append(row)\n",
    "df = pd.concat(df, ignore_index = True)"
   ]
  },
  {
   "cell_type": "code",
   "execution_count": 109,
   "id": "bdf4ad1a",
   "metadata": {},
   "outputs": [
    {
     "data": {
      "text/plain": [
       "332922880.0"
      ]
     },
     "execution_count": 109,
     "metadata": {},
     "output_type": "execute_result"
    }
   ],
   "source": [
    "df['train/num_tokens'].max()"
   ]
  }
 ],
 "metadata": {
  "kernelspec": {
   "display_name": "Python 3 (ipykernel)",
   "language": "python",
   "name": "python3"
  },
  "language_info": {
   "codemirror_mode": {
    "name": "ipython",
    "version": 3
   },
   "file_extension": ".py",
   "mimetype": "text/x-python",
   "name": "python",
   "nbconvert_exporter": "python",
   "pygments_lexer": "ipython3",
   "version": "3.9.21"
  }
 },
 "nbformat": 4,
 "nbformat_minor": 5
}
