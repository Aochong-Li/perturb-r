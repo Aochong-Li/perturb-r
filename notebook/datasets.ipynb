{
 "cells": [
  {
   "cell_type": "code",
   "execution_count": 2,
   "id": "77edfb1f",
   "metadata": {},
   "outputs": [],
   "source": [
    "import pandas as pd \n",
    "import os\n",
    "\n",
    "from transformers import AutoModelForCausalLM, AutoTokenizer\n",
    "from datasets import load_dataset\n",
    "\n",
    "import torch\n",
    "import torch.nn.functional as F\n",
    "\n",
    "import seaborn as sns\n",
    "\n",
    "from datasets import load_dataset, load_from_disk\n",
    "\n",
    "from datasets import load_dataset\n",
    "from collections import Counter"
   ]
  },
  {
   "cell_type": "code",
   "execution_count": 42,
   "id": "61799bbe",
   "metadata": {},
   "outputs": [],
   "source": [
    "tokenizer = AutoTokenizer.from_pretrained(\"Qwen/Qwen2.5-Math-1.5B\")"
   ]
  },
  {
   "cell_type": "markdown",
   "id": "24ecb3e8",
   "metadata": {},
   "source": [
    "# Oat Dr.GRPO"
   ]
  },
  {
   "cell_type": "code",
   "execution_count": 14,
   "id": "8669a2f5",
   "metadata": {},
   "outputs": [],
   "source": [
    "path = \"/home/al2644/research/codebase/reasoning/SmallScaleRL/datasets/parquet/math_12k.parquet\"\n",
    "df = pd.read_parquet(path)"
   ]
  },
  {
   "cell_type": "code",
   "execution_count": 23,
   "id": "f3ee5da6",
   "metadata": {},
   "outputs": [],
   "source": [
    "data = df.sample(n=1).iloc[0]"
   ]
  },
  {
   "cell_type": "markdown",
   "id": "c9cf4ecc",
   "metadata": {},
   "source": [
    "# OpenR1"
   ]
  },
  {
   "cell_type": "code",
   "execution_count": 42,
   "id": "681ce2a0",
   "metadata": {},
   "outputs": [
    {
     "data": {
      "application/vnd.jupyter.widget-view+json": {
       "model_id": "9362936ca9c9495b9a6c6c04f8cee7e3",
       "version_major": 2,
       "version_minor": 0
      },
      "text/plain": [
       "Resolving data files:   0%|          | 0/20 [00:00<?, ?it/s]"
      ]
     },
     "metadata": {},
     "output_type": "display_data"
    }
   ],
   "source": [
    "openr1_220k = load_dataset(\"open-r1/OpenR1-Math-220k\", \"default\")['train']"
   ]
  },
  {
   "cell_type": "code",
   "execution_count": 8,
   "id": "7878e89b",
   "metadata": {
    "scrolled": true
   },
   "outputs": [
    {
     "data": {
      "application/vnd.jupyter.widget-view+json": {
       "model_id": "9f693aca0f274b7ea045b799ca02e363",
       "version_major": 2,
       "version_minor": 0
      },
      "text/plain": [
       "Filter:   0%|          | 0/93733 [00:00<?, ? examples/s]"
      ]
     },
     "metadata": {},
     "output_type": "display_data"
    }
   ],
   "source": [
    "filtered_openr1 = openr1_220k['train'].filter(lambda x: len(x['correctness_math_verify']) == x['correctness_count'])"
   ]
  },
  {
   "cell_type": "code",
   "execution_count": 15,
   "id": "3cda13b2",
   "metadata": {
    "scrolled": true
   },
   "outputs": [],
   "source": [
    "source_counts = Counter(filtered_openr1['source'])"
   ]
  },
  {
   "cell_type": "code",
   "execution_count": 16,
   "id": "3f6a93ce",
   "metadata": {
    "scrolled": true
   },
   "outputs": [
    {
     "data": {
      "text/plain": [
       "Counter({'olympiads': 49615,\n",
       "         'cn_contest': 9509,\n",
       "         'aops_forum': 5805,\n",
       "         'amc_aime': 2155,\n",
       "         'inequalities': 591,\n",
       "         'olympiads_ref': 467,\n",
       "         'number_theory': 231})"
      ]
     },
     "execution_count": 16,
     "metadata": {},
     "output_type": "execute_result"
    }
   ],
   "source": [
    "source_counts"
   ]
  },
  {
   "cell_type": "code",
   "execution_count": 49,
   "id": "285a213d",
   "metadata": {},
   "outputs": [
    {
     "data": {
      "text/plain": [
       "True"
      ]
     },
     "execution_count": 49,
     "metadata": {},
     "output_type": "execute_result"
    }
   ],
   "source": [
    "sum(openr1_220k[0]['correctness_math_verify']) > 0"
   ]
  },
  {
   "cell_type": "markdown",
   "id": "0fb2d2c3",
   "metadata": {},
   "source": [
    "# BigMath Verified"
   ]
  },
  {
   "cell_type": "code",
   "execution_count": 25,
   "id": "51c13f73",
   "metadata": {},
   "outputs": [],
   "source": [
    "bigmath = load_dataset(\"SynthLabsAI/Big-Math-RL-Verified\")"
   ]
  },
  {
   "cell_type": "code",
   "execution_count": 28,
   "id": "b2280b7b",
   "metadata": {},
   "outputs": [
    {
     "data": {
      "text/plain": [
       "Counter({'orca_math': 83215,\n",
       "         'cn_k12': 63609,\n",
       "         'big_math': 47010,\n",
       "         'olympiads': 33485,\n",
       "         'math': 8963,\n",
       "         'aops_forum': 5740,\n",
       "         'harp': 2996,\n",
       "         'omnimath': 2478,\n",
       "         'gsm8k': 1865,\n",
       "         'openmath': 1683,\n",
       "         'amc_aime': 78})"
      ]
     },
     "execution_count": 28,
     "metadata": {},
     "output_type": "execute_result"
    }
   ],
   "source": [
    "bigmath_sources = Counter(bigmath['train']['source'])\n",
    "bigmath_sources"
   ]
  },
  {
   "cell_type": "code",
   "execution_count": 32,
   "id": "4ed1d102",
   "metadata": {
    "scrolled": true
   },
   "outputs": [
    {
     "data": {
      "application/vnd.jupyter.widget-view+json": {
       "model_id": "4de4606c2aa6401db19b7d38f4d8d81a",
       "version_major": 2,
       "version_minor": 0
      },
      "text/plain": [
       "Filter (num_proc=4):   0%|          | 0/251122 [00:00<?, ? examples/s]"
      ]
     },
     "metadata": {},
     "output_type": "display_data"
    },
    {
     "name": "stderr",
     "output_type": "stream",
     "text": [
      "Traceback (most recent call last):\n",
      "  File \"/home/al2644/anaconda3/envs/zero/lib/python3.9/site-packages/multiprocess/process.py\", line 315, in _bootstrap\n",
      "    self.run()\n",
      "  File \"/home/al2644/anaconda3/envs/zero/lib/python3.9/site-packages/multiprocess/process.py\", line 108, in run\n",
      "    self._target(*self._args, **self._kwargs)\n",
      "  File \"/home/al2644/anaconda3/envs/zero/lib/python3.9/site-packages/multiprocess/managers.py\", line 591, in _run_server\n",
      "    server.serve_forever()\n",
      "  File \"/home/al2644/anaconda3/envs/zero/lib/python3.9/site-packages/multiprocess/managers.py\", line 184, in serve_forever\n",
      "    sys.exit(0)\n",
      "SystemExit: 0\n",
      "\n",
      "During handling of the above exception, another exception occurred:\n",
      "\n",
      "Traceback (most recent call last):\n",
      "  File \"/home/al2644/anaconda3/envs/zero/lib/python3.9/site-packages/multiprocess/util.py\", line 300, in _run_finalizers\n",
      "    finalizer()\n",
      "  File \"/home/al2644/anaconda3/envs/zero/lib/python3.9/site-packages/multiprocess/util.py\", line 224, in __call__\n",
      "    res = self._callback(*self._args, **self._kwargs)\n",
      "  File \"/home/al2644/anaconda3/envs/zero/lib/python3.9/site-packages/multiprocess/util.py\", line 133, in _remove_temp_dir\n",
      "    rmtree(tempdir)\n",
      "  File \"/home/al2644/anaconda3/envs/zero/lib/python3.9/shutil.py\", line 734, in rmtree\n",
      "    _rmtree_safe_fd(fd, path, onerror)\n",
      "  File \"/home/al2644/anaconda3/envs/zero/lib/python3.9/shutil.py\", line 690, in _rmtree_safe_fd\n",
      "    onerror(os.unlink, fullname, sys.exc_info())\n",
      "  File \"/home/al2644/anaconda3/envs/zero/lib/python3.9/shutil.py\", line 688, in _rmtree_safe_fd\n",
      "    os.unlink(entry.name, dir_fd=topfd)\n",
      "OSError: [Errno 16] Device or resource busy: '.nfs000000009417d2c600006f08'\n"
     ]
    }
   ],
   "source": [
    "bigmath = bigmath['train'].filter(lambda x: x['problem'] in problem_set, num_proc=4)"
   ]
  },
  {
   "cell_type": "code",
   "execution_count": 37,
   "id": "34dc3750",
   "metadata": {},
   "outputs": [
    {
     "data": {
      "text/plain": [
       "<Axes: ylabel='Count'>"
      ]
     },
     "execution_count": 37,
     "metadata": {},
     "output_type": "execute_result"
    },
    {
     "data": {
      "image/png": "[encoded data removed]",
      "text/plain": [
       "<Figure size 640x480 with 1 Axes>"
      ]
     },
     "metadata": {},
     "output_type": "display_data"
    }
   ],
   "source": [
    "sns.histplot(bigmath['llama8b_solve_rate'])"
   ]
  },
  {
   "cell_type": "markdown",
   "id": "f6708988",
   "metadata": {},
   "source": [
    "# MATH"
   ]
  },
  {
   "cell_type": "code",
   "execution_count": 155,
   "id": "89429bbc",
   "metadata": {},
   "outputs": [],
   "source": [
    "math = load_from_disk(\"/share/goyal/lio/reasoning/data/hendrycks_math/dataset/\")"
   ]
  },
  {
   "cell_type": "code",
   "execution_count": 212,
   "id": "70d457b4",
   "metadata": {},
   "outputs": [],
   "source": [
    "math_df = math['train'].to_pandas()\n",
    "math_df = math_df[math_df['level'].isin(['Level 3', 'Level 4', 'Level 5'])]"
   ]
  },
  {
   "cell_type": "code",
   "execution_count": 217,
   "id": "c9b4c603",
   "metadata": {},
   "outputs": [],
   "source": [
    "from_openthought_df = pd.read_pickle(\"/share/goyal/lio/reasoning/data/hendrycks_math/level3to5/from_openthought.pickle\")\n",
    "input_df = pd.read_pickle(\"/share/goyal/lio/reasoning/data/hendrycks_math/level3to5/remain/input_df.pickle\")"
   ]
  },
  {
   "cell_type": "code",
   "execution_count": 232,
   "id": "e26a9c24",
   "metadata": {
    "scrolled": false
   },
   "outputs": [],
   "source": [
    "system = from_openthought_df['system'][idx]\n",
    "user = from_openthought_df['conversations'][idx][0]['value']"
   ]
  },
  {
   "cell_type": "markdown",
   "id": "cb9be118",
   "metadata": {},
   "source": [
    "# OpenThought"
   ]
  },
  {
   "cell_type": "code",
   "execution_count": 3,
   "id": "d5e149b1",
   "metadata": {},
   "outputs": [],
   "source": [
    "openthought_114k = load_dataset(\"open-r1/OpenThoughts-114k-math\")['train']"
   ]
  },
  {
   "cell_type": "code",
   "execution_count": 20,
   "id": "b75d5526",
   "metadata": {},
   "outputs": [
    {
     "data": {
      "application/vnd.jupyter.widget-view+json": {
       "model_id": "23466b72b07e43efa7d5ab80a144f6d3",
       "version_major": 2,
       "version_minor": 0
      },
      "text/plain": [
       "Filter:   0%|          | 0/89120 [00:00<?, ? examples/s]"
      ]
     },
     "metadata": {},
     "output_type": "display_data"
    }
   ],
   "source": [
    "deepscaler_openthought = openthought_114k.filter(lambda x: x['problem'].strip() in problem_set)"
   ]
  },
  {
   "cell_type": "code",
   "execution_count": 22,
   "id": "4233d92a",
   "metadata": {
    "scrolled": true
   },
   "outputs": [
    {
     "data": {
      "application/vnd.jupyter.widget-view+json": {
       "model_id": "b60bde0c8af9455c81db2287534b58af",
       "version_major": 2,
       "version_minor": 0
      },
      "text/plain": [
       "Filter (num_proc=4):   0%|          | 0/12868 [00:00<?, ? examples/s]"
      ]
     },
     "metadata": {},
     "output_type": "display_data"
    },
    {
     "name": "stderr",
     "output_type": "stream",
     "text": [
      "Traceback (most recent call last):\n",
      "  File \"/home/al2644/anaconda3/envs/zero/lib/python3.9/site-packages/multiprocess/process.py\", line 315, in _bootstrap\n",
      "    self.run()\n",
      "  File \"/home/al2644/anaconda3/envs/zero/lib/python3.9/site-packages/multiprocess/process.py\", line 108, in run\n",
      "    self._target(*self._args, **self._kwargs)\n",
      "  File \"/home/al2644/anaconda3/envs/zero/lib/python3.9/site-packages/multiprocess/managers.py\", line 591, in _run_server\n",
      "    server.serve_forever()\n",
      "  File \"/home/al2644/anaconda3/envs/zero/lib/python3.9/site-packages/multiprocess/managers.py\", line 184, in serve_forever\n",
      "    sys.exit(0)\n",
      "SystemExit: 0\n",
      "\n",
      "During handling of the above exception, another exception occurred:\n",
      "\n",
      "Traceback (most recent call last):\n",
      "  File \"/home/al2644/anaconda3/envs/zero/lib/python3.9/site-packages/multiprocess/util.py\", line 300, in _run_finalizers\n",
      "    finalizer()\n",
      "  File \"/home/al2644/anaconda3/envs/zero/lib/python3.9/site-packages/multiprocess/util.py\", line 224, in __call__\n",
      "    res = self._callback(*self._args, **self._kwargs)\n",
      "  File \"/home/al2644/anaconda3/envs/zero/lib/python3.9/site-packages/multiprocess/util.py\", line 133, in _remove_temp_dir\n",
      "    rmtree(tempdir)\n",
      "  File \"/home/al2644/anaconda3/envs/zero/lib/python3.9/shutil.py\", line 734, in rmtree\n",
      "    _rmtree_safe_fd(fd, path, onerror)\n",
      "  File \"/home/al2644/anaconda3/envs/zero/lib/python3.9/shutil.py\", line 690, in _rmtree_safe_fd\n",
      "    onerror(os.unlink, fullname, sys.exc_info())\n",
      "  File \"/home/al2644/anaconda3/envs/zero/lib/python3.9/shutil.py\", line 688, in _rmtree_safe_fd\n",
      "    os.unlink(entry.name, dir_fd=topfd)\n",
      "OSError: [Errno 16] Device or resource busy: '.nfs00000000700505dd00006ef1'\n"
     ]
    }
   ],
   "source": [
    "short_dataset = deepscaler_openthought.filter(lambda x: x['generated_token_count'] <= 3072, num_proc=4)"
   ]
  },
  {
   "cell_type": "code",
   "execution_count": 24,
   "id": "836b901a",
   "metadata": {},
   "outputs": [
    {
     "data": {
      "text/plain": [
       "Dataset({\n",
       "    features: ['source', 'problem', 'solution', 'messages', 'system', 'conversations', 'generated_token_count', 'correct'],\n",
       "    num_rows: 12868\n",
       "})"
      ]
     },
     "execution_count": 24,
     "metadata": {},
     "output_type": "execute_result"
    }
   ],
   "source": [
    "deepscaler_openthought"
   ]
  },
  {
   "cell_type": "markdown",
   "id": "5a8ba253",
   "metadata": {},
   "source": [
    "# DeepScaleR"
   ]
  },
  {
   "cell_type": "code",
   "execution_count": 6,
   "id": "2151ba68",
   "metadata": {},
   "outputs": [],
   "source": [
    "deepscaler = load_dataset(\"agentica-org/DeepScaleR-Preview-Dataset\")['train']"
   ]
  },
  {
   "cell_type": "code",
   "execution_count": 14,
   "id": "c398d552",
   "metadata": {},
   "outputs": [],
   "source": [
    "problem_set = '\\n'.join(set(deepscaler['problem']))"
   ]
  },
  {
   "cell_type": "markdown",
   "id": "e337eafd",
   "metadata": {},
   "source": [
    "# OpenThought-Difficult"
   ]
  },
  {
   "cell_type": "code",
   "execution_count": null,
   "id": "a0cb5a82",
   "metadata": {},
   "outputs": [],
   "source": [
    "from transformers import AutoTokenizer\n",
    "tokenizer = AutoTokenizer.from_pretrained(\"Qwen/Qwen2.5-1.5B\")\n",
    "train_dataset = OpenThoughtSFTDataset(\"/share/goyal/lio/reasoning/data/openthought-hard/coldstart.parquet\", \n",
    "                                      tokenizer=tokenizer,\n",
    "                                      prompt_key=\"prompt\",\n",
    "                                      max_length=16384,\n",
    "                                      truncation=\"right\"\n",
    "                                      )"
   ]
  },
  {
   "cell_type": "code",
   "execution_count": 442,
   "id": "9b75a04a",
   "metadata": {
    "scrolled": true
   },
   "outputs": [],
   "source": [
    "from datasets import load_from_disk, load_dataset\n",
    "df = pd.read_parquet(\"/share/goyal/lio/reasoning/data/openthought-hard/train.parquet\")"
   ]
  },
  {
   "cell_type": "code",
   "execution_count": 443,
   "id": "30ceb151",
   "metadata": {
    "scrolled": true
   },
   "outputs": [
    {
     "data": {
      "text/html": [
       "<div>\n",
       "<style scoped>\n",
       "    .dataframe tbody tr th:only-of-type {\n",
       "        vertical-align: middle;\n",
       "    }\n",
       "\n",
       "    .dataframe tbody tr th {\n",
       "        vertical-align: top;\n",
       "    }\n",
       "\n",
       "    .dataframe thead th {\n",
       "        text-align: right;\n",
       "    }\n",
       "</style>\n",
       "<table border=\"1\" class=\"dataframe\">\n",
       "  <thead>\n",
       "    <tr style=\"text-align: right;\">\n",
       "      <th></th>\n",
       "      <th>source</th>\n",
       "      <th>solution</th>\n",
       "      <th>messages</th>\n",
       "      <th>system</th>\n",
       "      <th>conversations</th>\n",
       "      <th>generated_token_count</th>\n",
       "      <th>correct</th>\n",
       "      <th>llama8b_solve_rate</th>\n",
       "      <th>data_source</th>\n",
       "      <th>prompt</th>\n",
       "      <th>ability</th>\n",
       "      <th>reward_model</th>\n",
       "      <th>extra_info</th>\n",
       "    </tr>\n",
       "  </thead>\n",
       "  <tbody>\n",
       "    <tr>\n",
       "      <th>0</th>\n",
       "      <td>olympiads</td>\n",
       "      <td>\\nLet $d$ be the greatest common divisor (gcd)...</td>\n",
       "      <td>[{'content': 'How many pairs \\((m, n)\\) of pos...</td>\n",
       "      <td>Your role as an assistant involves thoroughly ...</td>\n",
       "      <td>[{'from': 'user', 'value': 'Return your final ...</td>\n",
       "      <td>7763</td>\n",
       "      <td>True</td>\n",
       "      <td>0.015625</td>\n",
       "      <td>openthought-difficulty-filtered</td>\n",
       "      <td>[{'content': '&lt;|im_start|&gt;system\n",
       "Please reason...</td>\n",
       "      <td>math</td>\n",
       "      <td>{'ground_truth': '5', 'style': 'rule'}</td>\n",
       "      <td>{'index': 0, 'split': 'train'}</td>\n",
       "    </tr>\n",
       "    <tr>\n",
       "      <th>1</th>\n",
       "      <td>aops_forum</td>\n",
       "      <td>1. Given the polynomial:\\n   \\[\\n   P(x) = x^9...</td>\n",
       "      <td>[{'content': 'How many real numbers are roots ...</td>\n",
       "      <td>Your role as an assistant involves thoroughly ...</td>\n",
       "      <td>[{'from': 'user', 'value': 'Return your final ...</td>\n",
       "      <td>4776</td>\n",
       "      <td>True</td>\n",
       "      <td>0.062500</td>\n",
       "      <td>openthought-difficulty-filtered</td>\n",
       "      <td>[{'content': '&lt;|im_start|&gt;system\n",
       "Please reason...</td>\n",
       "      <td>math</td>\n",
       "      <td>{'ground_truth': '5', 'style': 'rule'}</td>\n",
       "      <td>{'index': 1, 'split': 'train'}</td>\n",
       "    </tr>\n",
       "    <tr>\n",
       "      <th>2</th>\n",
       "      <td>olympiads</td>\n",
       "      <td>\\nLet's break down the solution step-by-step, ...</td>\n",
       "      <td>[{'content': '\n",
       "$$\n",
       "\\cos \\left(\\frac{5}{2} \\pi-6...</td>\n",
       "      <td>Your role as an assistant involves thoroughly ...</td>\n",
       "      <td>[{'from': 'user', 'value': 'Return your final ...</td>\n",
       "      <td>8834</td>\n",
       "      <td>True</td>\n",
       "      <td>0.031250</td>\n",
       "      <td>openthought-difficulty-filtered</td>\n",
       "      <td>[{'content': '&lt;|im_start|&gt;system\n",
       "Please reason...</td>\n",
       "      <td>math</td>\n",
       "      <td>{'ground_truth': '\\cos^3 (4 \\alpha)', 'style':...</td>\n",
       "      <td>{'index': 2, 'split': 'train'}</td>\n",
       "    </tr>\n",
       "    <tr>\n",
       "      <th>3</th>\n",
       "      <td>aops_forum</td>\n",
       "      <td>1. **Understanding the Problem:**\\n   We are g...</td>\n",
       "      <td>[{'content': 'A  $9 \\times 9$  square consists...</td>\n",
       "      <td>Your role as an assistant involves thoroughly ...</td>\n",
       "      <td>[{'from': 'user', 'value': 'Return your final ...</td>\n",
       "      <td>5504</td>\n",
       "      <td>True</td>\n",
       "      <td>0.031250</td>\n",
       "      <td>openthought-difficulty-filtered</td>\n",
       "      <td>[{'content': '&lt;|im_start|&gt;system\n",
       "Please reason...</td>\n",
       "      <td>math</td>\n",
       "      <td>{'ground_truth': '27', 'style': 'rule'}</td>\n",
       "      <td>{'index': 3, 'split': 'train'}</td>\n",
       "    </tr>\n",
       "    <tr>\n",
       "      <th>4</th>\n",
       "      <td>olympiads</td>\n",
       "      <td>To tackle the problem of finding the area of q...</td>\n",
       "      <td>[{'content': 'Let rectangle \\(ABCD\\) have leng...</td>\n",
       "      <td>Your role as an assistant involves thoroughly ...</td>\n",
       "      <td>[{'from': 'user', 'value': 'Return your final ...</td>\n",
       "      <td>3986</td>\n",
       "      <td>True</td>\n",
       "      <td>0.046875</td>\n",
       "      <td>openthought-difficulty-filtered</td>\n",
       "      <td>[{'content': '&lt;|im_start|&gt;system\n",
       "Please reason...</td>\n",
       "      <td>math</td>\n",
       "      <td>{'ground_truth': '72', 'style': 'rule'}</td>\n",
       "      <td>{'index': 4, 'split': 'train'}</td>\n",
       "    </tr>\n",
       "    <tr>\n",
       "      <th>...</th>\n",
       "      <td>...</td>\n",
       "      <td>...</td>\n",
       "      <td>...</td>\n",
       "      <td>...</td>\n",
       "      <td>...</td>\n",
       "      <td>...</td>\n",
       "      <td>...</td>\n",
       "      <td>...</td>\n",
       "      <td>...</td>\n",
       "      <td>...</td>\n",
       "      <td>...</td>\n",
       "      <td>...</td>\n",
       "      <td>...</td>\n",
       "    </tr>\n",
       "    <tr>\n",
       "      <th>21687</th>\n",
       "      <td>olympiads</td>\n",
       "      <td>\\n1. **Understand Geometry and Symmetry**:\\n  ...</td>\n",
       "      <td>[{'content': 'Given a quadrilateral $ABCD$ ins...</td>\n",
       "      <td>Your role as an assistant involves thoroughly ...</td>\n",
       "      <td>[{'from': 'user', 'value': 'Return your final ...</td>\n",
       "      <td>6783</td>\n",
       "      <td>True</td>\n",
       "      <td>0.031250</td>\n",
       "      <td>openthought-difficulty-filtered</td>\n",
       "      <td>[{'content': '&lt;|im_start|&gt;system\n",
       "Please reason...</td>\n",
       "      <td>math</td>\n",
       "      <td>{'ground_truth': '\\frac{1}{2} d^2 \\sin \\alpha'...</td>\n",
       "      <td>{'index': 21687, 'split': 'train'}</td>\n",
       "    </tr>\n",
       "    <tr>\n",
       "      <th>21688</th>\n",
       "      <td>aops_forum</td>\n",
       "      <td>1. We start by interpreting the number \\(20102...</td>\n",
       "      <td>[{'content': 'Find the sum of all integers  $x...</td>\n",
       "      <td>Your role as an assistant involves thoroughly ...</td>\n",
       "      <td>[{'from': 'user', 'value': 'Return your final ...</td>\n",
       "      <td>2626</td>\n",
       "      <td>True</td>\n",
       "      <td>0.015625</td>\n",
       "      <td>openthought-difficulty-filtered</td>\n",
       "      <td>[{'content': '&lt;|im_start|&gt;system\n",
       "Please reason...</td>\n",
       "      <td>math</td>\n",
       "      <td>{'ground_truth': '32', 'style': 'rule'}</td>\n",
       "      <td>{'index': 21688, 'split': 'train'}</td>\n",
       "    </tr>\n",
       "    <tr>\n",
       "      <th>21689</th>\n",
       "      <td>olympiads</td>\n",
       "      <td>\\nLet's denote the original number as \\( x \\)....</td>\n",
       "      <td>[{'content': 'There are positive integers with...</td>\n",
       "      <td>Your role as an assistant involves thoroughly ...</td>\n",
       "      <td>[{'from': 'user', 'value': 'Return your final ...</td>\n",
       "      <td>3655</td>\n",
       "      <td>True</td>\n",
       "      <td>0.015625</td>\n",
       "      <td>openthought-difficulty-filtered</td>\n",
       "      <td>[{'content': '&lt;|im_start|&gt;system\n",
       "Please reason...</td>\n",
       "      <td>math</td>\n",
       "      <td>{'ground_truth': '625', 'style': 'rule'}</td>\n",
       "      <td>{'index': 21689, 'split': 'train'}</td>\n",
       "    </tr>\n",
       "    <tr>\n",
       "      <th>21690</th>\n",
       "      <td>olympiads</td>\n",
       "      <td>\\n1. **Identify Given Values:**\\n   The proble...</td>\n",
       "      <td>[{'content': 'A rectangle \\(ADEC\\) is circumsc...</td>\n",
       "      <td>Your role as an assistant involves thoroughly ...</td>\n",
       "      <td>[{'from': 'user', 'value': 'Return your final ...</td>\n",
       "      <td>8492</td>\n",
       "      <td>True</td>\n",
       "      <td>0.093750</td>\n",
       "      <td>openthought-difficulty-filtered</td>\n",
       "      <td>[{'content': '&lt;|im_start|&gt;system\n",
       "Please reason...</td>\n",
       "      <td>math</td>\n",
       "      <td>{'ground_truth': '30', 'style': 'rule'}</td>\n",
       "      <td>{'index': 21690, 'split': 'train'}</td>\n",
       "    </tr>\n",
       "    <tr>\n",
       "      <th>21691</th>\n",
       "      <td>olympiads</td>\n",
       "      <td>1. Given the Minkowski inequality in the conte...</td>\n",
       "      <td>[{'content': 'If real numbers \\( a_{ij} &gt; 0 \\)...</td>\n",
       "      <td>Your role as an assistant involves thoroughly ...</td>\n",
       "      <td>[{'from': 'user', 'value': 'Return your final ...</td>\n",
       "      <td>4862</td>\n",
       "      <td>True</td>\n",
       "      <td>0.484375</td>\n",
       "      <td>openthought-difficulty-filtered</td>\n",
       "      <td>[{'content': '&lt;|im_start|&gt;system\n",
       "Please reason...</td>\n",
       "      <td>math</td>\n",
       "      <td>{'ground_truth': '\\left(\\sum_{i=1}^{n} \\left(a...</td>\n",
       "      <td>{'index': 21691, 'split': 'train'}</td>\n",
       "    </tr>\n",
       "  </tbody>\n",
       "</table>\n",
       "<p>21692 rows × 13 columns</p>\n",
       "</div>"
      ],
      "text/plain": [
       "           source                                           solution  \\\n",
       "0       olympiads  \\nLet $d$ be the greatest common divisor (gcd)...   \n",
       "1      aops_forum  1. Given the polynomial:\\n   \\[\\n   P(x) = x^9...   \n",
       "2       olympiads  \\nLet's break down the solution step-by-step, ...   \n",
       "3      aops_forum  1. **Understanding the Problem:**\\n   We are g...   \n",
       "4       olympiads  To tackle the problem of finding the area of q...   \n",
       "...           ...                                                ...   \n",
       "21687   olympiads  \\n1. **Understand Geometry and Symmetry**:\\n  ...   \n",
       "21688  aops_forum  1. We start by interpreting the number \\(20102...   \n",
       "21689   olympiads  \\nLet's denote the original number as \\( x \\)....   \n",
       "21690   olympiads  \\n1. **Identify Given Values:**\\n   The proble...   \n",
       "21691   olympiads  1. Given the Minkowski inequality in the conte...   \n",
       "\n",
       "                                                messages  \\\n",
       "0      [{'content': 'How many pairs \\((m, n)\\) of pos...   \n",
       "1      [{'content': 'How many real numbers are roots ...   \n",
       "2      [{'content': '\n",
       "$$\n",
       "\\cos \\left(\\frac{5}{2} \\pi-6...   \n",
       "3      [{'content': 'A  $9 \\times 9$  square consists...   \n",
       "4      [{'content': 'Let rectangle \\(ABCD\\) have leng...   \n",
       "...                                                  ...   \n",
       "21687  [{'content': 'Given a quadrilateral $ABCD$ ins...   \n",
       "21688  [{'content': 'Find the sum of all integers  $x...   \n",
       "21689  [{'content': 'There are positive integers with...   \n",
       "21690  [{'content': 'A rectangle \\(ADEC\\) is circumsc...   \n",
       "21691  [{'content': 'If real numbers \\( a_{ij} > 0 \\)...   \n",
       "\n",
       "                                                  system  \\\n",
       "0      Your role as an assistant involves thoroughly ...   \n",
       "1      Your role as an assistant involves thoroughly ...   \n",
       "2      Your role as an assistant involves thoroughly ...   \n",
       "3      Your role as an assistant involves thoroughly ...   \n",
       "4      Your role as an assistant involves thoroughly ...   \n",
       "...                                                  ...   \n",
       "21687  Your role as an assistant involves thoroughly ...   \n",
       "21688  Your role as an assistant involves thoroughly ...   \n",
       "21689  Your role as an assistant involves thoroughly ...   \n",
       "21690  Your role as an assistant involves thoroughly ...   \n",
       "21691  Your role as an assistant involves thoroughly ...   \n",
       "\n",
       "                                           conversations  \\\n",
       "0      [{'from': 'user', 'value': 'Return your final ...   \n",
       "1      [{'from': 'user', 'value': 'Return your final ...   \n",
       "2      [{'from': 'user', 'value': 'Return your final ...   \n",
       "3      [{'from': 'user', 'value': 'Return your final ...   \n",
       "4      [{'from': 'user', 'value': 'Return your final ...   \n",
       "...                                                  ...   \n",
       "21687  [{'from': 'user', 'value': 'Return your final ...   \n",
       "21688  [{'from': 'user', 'value': 'Return your final ...   \n",
       "21689  [{'from': 'user', 'value': 'Return your final ...   \n",
       "21690  [{'from': 'user', 'value': 'Return your final ...   \n",
       "21691  [{'from': 'user', 'value': 'Return your final ...   \n",
       "\n",
       "       generated_token_count correct  llama8b_solve_rate  \\\n",
       "0                       7763    True            0.015625   \n",
       "1                       4776    True            0.062500   \n",
       "2                       8834    True            0.031250   \n",
       "3                       5504    True            0.031250   \n",
       "4                       3986    True            0.046875   \n",
       "...                      ...     ...                 ...   \n",
       "21687                   6783    True            0.031250   \n",
       "21688                   2626    True            0.015625   \n",
       "21689                   3655    True            0.015625   \n",
       "21690                   8492    True            0.093750   \n",
       "21691                   4862    True            0.484375   \n",
       "\n",
       "                           data_source  \\\n",
       "0      openthought-difficulty-filtered   \n",
       "1      openthought-difficulty-filtered   \n",
       "2      openthought-difficulty-filtered   \n",
       "3      openthought-difficulty-filtered   \n",
       "4      openthought-difficulty-filtered   \n",
       "...                                ...   \n",
       "21687  openthought-difficulty-filtered   \n",
       "21688  openthought-difficulty-filtered   \n",
       "21689  openthought-difficulty-filtered   \n",
       "21690  openthought-difficulty-filtered   \n",
       "21691  openthought-difficulty-filtered   \n",
       "\n",
       "                                                  prompt ability  \\\n",
       "0      [{'content': '<|im_start|>system\n",
       "Please reason...    math   \n",
       "1      [{'content': '<|im_start|>system\n",
       "Please reason...    math   \n",
       "2      [{'content': '<|im_start|>system\n",
       "Please reason...    math   \n",
       "3      [{'content': '<|im_start|>system\n",
       "Please reason...    math   \n",
       "4      [{'content': '<|im_start|>system\n",
       "Please reason...    math   \n",
       "...                                                  ...     ...   \n",
       "21687  [{'content': '<|im_start|>system\n",
       "Please reason...    math   \n",
       "21688  [{'content': '<|im_start|>system\n",
       "Please reason...    math   \n",
       "21689  [{'content': '<|im_start|>system\n",
       "Please reason...    math   \n",
       "21690  [{'content': '<|im_start|>system\n",
       "Please reason...    math   \n",
       "21691  [{'content': '<|im_start|>system\n",
       "Please reason...    math   \n",
       "\n",
       "                                            reward_model  \\\n",
       "0                 {'ground_truth': '5', 'style': 'rule'}   \n",
       "1                 {'ground_truth': '5', 'style': 'rule'}   \n",
       "2      {'ground_truth': '\\cos^3 (4 \\alpha)', 'style':...   \n",
       "3                {'ground_truth': '27', 'style': 'rule'}   \n",
       "4                {'ground_truth': '72', 'style': 'rule'}   \n",
       "...                                                  ...   \n",
       "21687  {'ground_truth': '\\frac{1}{2} d^2 \\sin \\alpha'...   \n",
       "21688            {'ground_truth': '32', 'style': 'rule'}   \n",
       "21689           {'ground_truth': '625', 'style': 'rule'}   \n",
       "21690            {'ground_truth': '30', 'style': 'rule'}   \n",
       "21691  {'ground_truth': '\\left(\\sum_{i=1}^{n} \\left(a...   \n",
       "\n",
       "                               extra_info  \n",
       "0          {'index': 0, 'split': 'train'}  \n",
       "1          {'index': 1, 'split': 'train'}  \n",
       "2          {'index': 2, 'split': 'train'}  \n",
       "3          {'index': 3, 'split': 'train'}  \n",
       "4          {'index': 4, 'split': 'train'}  \n",
       "...                                   ...  \n",
       "21687  {'index': 21687, 'split': 'train'}  \n",
       "21688  {'index': 21688, 'split': 'train'}  \n",
       "21689  {'index': 21689, 'split': 'train'}  \n",
       "21690  {'index': 21690, 'split': 'train'}  \n",
       "21691  {'index': 21691, 'split': 'train'}  \n",
       "\n",
       "[21692 rows x 13 columns]"
      ]
     },
     "execution_count": 443,
     "metadata": {},
     "output_type": "execute_result"
    }
   ],
   "source": [
    "df"
   ]
  },
  {
   "cell_type": "code",
   "execution_count": 448,
   "id": "af005d74",
   "metadata": {
    "scrolled": true
   },
   "outputs": [
    {
     "data": {
      "text/plain": [
       "1016.8125"
      ]
     },
     "execution_count": 448,
     "metadata": {},
     "output_type": "execute_result"
    }
   ],
   "source": [
    "21692 * 3 / 32 / 2 "
   ]
  },
  {
   "cell_type": "code",
   "execution_count": null,
   "id": "e86eb99f",
   "metadata": {},
   "outputs": [],
   "source": [
    "3779567"
   ]
  },
  {
   "cell_type": "code",
   "execution_count": 418,
   "id": "db0bd744",
   "metadata": {
    "scrolled": true
   },
   "outputs": [],
   "source": [
    "easy = df[df['llama8b_solve_rate'] > 0.6]\n",
    "easy = easy.sort_values(by='llama8b_solve_rate', ascending=False)"
   ]
  },
  {
   "cell_type": "code",
   "execution_count": 449,
   "id": "f6508ece",
   "metadata": {
    "scrolled": false
   },
   "outputs": [
    {
     "data": {
      "text/plain": [
       "'<|im_start|>system\\nPlease reason step by step, and  put your final answer within \\\\boxed{}<|im_end|>\\n<|im_start|>user\\nThe decimal expansion of $8/11$ is a repeating decimal. What is the least number of digits in a repeating block of 8/11?<|im_end|>\\n<|im_start|>assistant\\n<think>'"
      ]
     },
     "execution_count": 449,
     "metadata": {},
     "output_type": "execute_result"
    }
   ],
   "source": [
    "idx = 150\n",
    "easy['prompt'].iloc[idx][0]['content']"
   ]
  },
  {
   "cell_type": "code",
   "execution_count": 450,
   "id": "f32c74ad",
   "metadata": {},
   "outputs": [
    {
     "data": {
      "text/plain": [
       "np.float64(0.75)"
      ]
     },
     "execution_count": 450,
     "metadata": {},
     "output_type": "execute_result"
    }
   ],
   "source": [
    "easy['llama8b_solve_rate'].iloc[idx]"
   ]
  },
  {
   "cell_type": "code",
   "execution_count": 451,
   "id": "bd405c46",
   "metadata": {
    "scrolled": true
   },
   "outputs": [
    {
     "data": {
      "text/plain": [
       "{'ground_truth': '2', 'style': 'rule'}"
      ]
     },
     "execution_count": 451,
     "metadata": {},
     "output_type": "execute_result"
    }
   ],
   "source": [
    "easy['reward_model'].iloc[idx]"
   ]
  },
  {
   "cell_type": "code",
   "execution_count": null,
   "id": "a7b59a33",
   "metadata": {},
   "outputs": [],
   "source": [
    "simplescaling/s1K-1.1_tokenized"
   ]
  },
  {
   "cell_type": "markdown",
   "id": "de35610f",
   "metadata": {},
   "source": [
    "# s1"
   ]
  },
  {
   "cell_type": "code",
   "execution_count": 321,
   "id": "fbc05a0d",
   "metadata": {},
   "outputs": [
    {
     "data": {
      "application/vnd.jupyter.widget-view+json": {
       "model_id": "7513fa5ccafe4e70818e6fe6358c3c81",
       "version_major": 2,
       "version_minor": 0
      },
      "text/plain": [
       "README.md:   0%|          | 0.00/665 [00:00<?, ?B/s]"
      ]
     },
     "metadata": {},
     "output_type": "display_data"
    },
    {
     "data": {
      "application/vnd.jupyter.widget-view+json": {
       "model_id": "2e92f169a42442a2a0b9630cb0e09a80",
       "version_major": 2,
       "version_minor": 0
      },
      "text/plain": [
       "train-00000-of-00001.parquet:   0%|          | 0.00/35.5M [00:00<?, ?B/s]"
      ]
     },
     "metadata": {},
     "output_type": "display_data"
    },
    {
     "data": {
      "application/vnd.jupyter.widget-view+json": {
       "model_id": "dc695710998e4061929716d70778b9a3",
       "version_major": 2,
       "version_minor": 0
      },
      "text/plain": [
       "Generating train split:   0%|          | 0/1000 [00:00<?, ? examples/s]"
      ]
     },
     "metadata": {},
     "output_type": "display_data"
    }
   ],
   "source": [
    "s1ds = load_dataset(\"simplescaling/s1K-1.1_tokenized\")['train']"
   ]
  },
  {
   "cell_type": "markdown",
   "id": "ca1a0e9e",
   "metadata": {},
   "source": [
    "# SkyThought"
   ]
  },
  {
   "cell_type": "code",
   "execution_count": 256,
   "id": "67d22a34",
   "metadata": {},
   "outputs": [],
   "source": [
    "skythought_dataset = load_dataset(\"NovaSky-AI/Sky-T1-7B-step1-sft-5k\")['train']"
   ]
  },
  {
   "cell_type": "code",
   "execution_count": 261,
   "id": "ab7cb12b",
   "metadata": {},
   "outputs": [
    {
     "data": {
      "text/plain": [
       "{'from': 'user',\n",
       " 'value': 'Return your final response within \\\\boxed{{}}. Find all real numbers $x$ so that the product $(x + i)((x + 1) + i)((x + 2) + i)$ is pure imaginary.  Enter all the solutions, separated by commas.'}"
      ]
     },
     "execution_count": 261,
     "metadata": {},
     "output_type": "execute_result"
    }
   ],
   "source": [
    "skythought_dataset[0]['conversations'][0]"
   ]
  },
  {
   "cell_type": "code",
   "execution_count": 197,
   "id": "e963fcd6",
   "metadata": {},
   "outputs": [],
   "source": [
    "dataset = pd.read_parquet(\"/share/goyal/lio/reasoning/data/skythought/train.parquet\")"
   ]
  },
  {
   "cell_type": "code",
   "execution_count": 198,
   "id": "e30d00a2",
   "metadata": {},
   "outputs": [
    {
     "data": {
      "text/html": [
       "<div>\n",
       "<style scoped>\n",
       "    .dataframe tbody tr th:only-of-type {\n",
       "        vertical-align: middle;\n",
       "    }\n",
       "\n",
       "    .dataframe tbody tr th {\n",
       "        vertical-align: top;\n",
       "    }\n",
       "\n",
       "    .dataframe thead th {\n",
       "        text-align: right;\n",
       "    }\n",
       "</style>\n",
       "<table border=\"1\" class=\"dataframe\">\n",
       "  <thead>\n",
       "    <tr style=\"text-align: right;\">\n",
       "      <th></th>\n",
       "      <th>data_source</th>\n",
       "      <th>prompt</th>\n",
       "      <th>ability</th>\n",
       "      <th>reward_model</th>\n",
       "      <th>extra_info</th>\n",
       "    </tr>\n",
       "  </thead>\n",
       "  <tbody>\n",
       "    <tr>\n",
       "      <th>0</th>\n",
       "      <td>skythought-step1-sft-5k</td>\n",
       "      <td>[{'content': '&lt;|im_start|&gt;system\n",
       "Your role as ...</td>\n",
       "      <td>math</td>\n",
       "      <td>{'ground_truth': '-3, -1, 1', 'style': 'rule'}</td>\n",
       "      <td>{'index': 0, 'split': 'train'}</td>\n",
       "    </tr>\n",
       "    <tr>\n",
       "      <th>1</th>\n",
       "      <td>skythought-step1-sft-5k</td>\n",
       "      <td>[{'content': '&lt;|im_start|&gt;system\n",
       "Your role as ...</td>\n",
       "      <td>math</td>\n",
       "      <td>{'ground_truth': '22.21', 'style': 'rule'}</td>\n",
       "      <td>{'index': 1, 'split': 'train'}</td>\n",
       "    </tr>\n",
       "    <tr>\n",
       "      <th>2</th>\n",
       "      <td>skythought-step1-sft-5k</td>\n",
       "      <td>[{'content': '&lt;|im_start|&gt;system\n",
       "Your role as ...</td>\n",
       "      <td>math</td>\n",
       "      <td>{'ground_truth': '\\frac{13}{2}', 'style': 'rule'}</td>\n",
       "      <td>{'index': 2, 'split': 'train'}</td>\n",
       "    </tr>\n",
       "    <tr>\n",
       "      <th>3</th>\n",
       "      <td>skythought-step1-sft-5k</td>\n",
       "      <td>[{'content': '&lt;|im_start|&gt;system\n",
       "Your role as ...</td>\n",
       "      <td>math</td>\n",
       "      <td>{'ground_truth': '8820', 'style': 'rule'}</td>\n",
       "      <td>{'index': 3, 'split': 'train'}</td>\n",
       "    </tr>\n",
       "    <tr>\n",
       "      <th>4</th>\n",
       "      <td>skythought-step1-sft-5k</td>\n",
       "      <td>[{'content': '&lt;|im_start|&gt;system\n",
       "Your role as ...</td>\n",
       "      <td>math</td>\n",
       "      <td>{'ground_truth': '7', 'style': 'rule'}</td>\n",
       "      <td>{'index': 4, 'split': 'train'}</td>\n",
       "    </tr>\n",
       "    <tr>\n",
       "      <th>...</th>\n",
       "      <td>...</td>\n",
       "      <td>...</td>\n",
       "      <td>...</td>\n",
       "      <td>...</td>\n",
       "      <td>...</td>\n",
       "    </tr>\n",
       "    <tr>\n",
       "      <th>4651</th>\n",
       "      <td>skythought-step1-sft-5k</td>\n",
       "      <td>[{'content': '&lt;|im_start|&gt;system\n",
       "Your role as ...</td>\n",
       "      <td>math</td>\n",
       "      <td>{'ground_truth': '113', 'style': 'rule'}</td>\n",
       "      <td>{'index': 4651, 'split': 'train'}</td>\n",
       "    </tr>\n",
       "    <tr>\n",
       "      <th>4652</th>\n",
       "      <td>skythought-step1-sft-5k</td>\n",
       "      <td>[{'content': '&lt;|im_start|&gt;system\n",
       "Your role as ...</td>\n",
       "      <td>math</td>\n",
       "      <td>{'ground_truth': '2018', 'style': 'rule'}</td>\n",
       "      <td>{'index': 4652, 'split': 'train'}</td>\n",
       "    </tr>\n",
       "    <tr>\n",
       "      <th>4653</th>\n",
       "      <td>skythought-step1-sft-5k</td>\n",
       "      <td>[{'content': '&lt;|im_start|&gt;system\n",
       "Your role as ...</td>\n",
       "      <td>math</td>\n",
       "      <td>{'ground_truth': '76', 'style': 'rule'}</td>\n",
       "      <td>{'index': 4653, 'split': 'train'}</td>\n",
       "    </tr>\n",
       "    <tr>\n",
       "      <th>4654</th>\n",
       "      <td>skythought-step1-sft-5k</td>\n",
       "      <td>[{'content': '&lt;|im_start|&gt;system\n",
       "Your role as ...</td>\n",
       "      <td>math</td>\n",
       "      <td>{'ground_truth': '11', 'style': 'rule'}</td>\n",
       "      <td>{'index': 4654, 'split': 'train'}</td>\n",
       "    </tr>\n",
       "    <tr>\n",
       "      <th>4655</th>\n",
       "      <td>skythought-step1-sft-5k</td>\n",
       "      <td>[{'content': '&lt;|im_start|&gt;system\n",
       "Your role as ...</td>\n",
       "      <td>math</td>\n",
       "      <td>{'ground_truth': '\\frac{31}{36}', 'style': 'ru...</td>\n",
       "      <td>{'index': 4655, 'split': 'train'}</td>\n",
       "    </tr>\n",
       "  </tbody>\n",
       "</table>\n",
       "<p>4646 rows × 5 columns</p>\n",
       "</div>"
      ],
      "text/plain": [
       "                  data_source  \\\n",
       "0     skythought-step1-sft-5k   \n",
       "1     skythought-step1-sft-5k   \n",
       "2     skythought-step1-sft-5k   \n",
       "3     skythought-step1-sft-5k   \n",
       "4     skythought-step1-sft-5k   \n",
       "...                       ...   \n",
       "4651  skythought-step1-sft-5k   \n",
       "4652  skythought-step1-sft-5k   \n",
       "4653  skythought-step1-sft-5k   \n",
       "4654  skythought-step1-sft-5k   \n",
       "4655  skythought-step1-sft-5k   \n",
       "\n",
       "                                                 prompt ability  \\\n",
       "0     [{'content': '<|im_start|>system\n",
       "Your role as ...    math   \n",
       "1     [{'content': '<|im_start|>system\n",
       "Your role as ...    math   \n",
       "2     [{'content': '<|im_start|>system\n",
       "Your role as ...    math   \n",
       "3     [{'content': '<|im_start|>system\n",
       "Your role as ...    math   \n",
       "4     [{'content': '<|im_start|>system\n",
       "Your role as ...    math   \n",
       "...                                                 ...     ...   \n",
       "4651  [{'content': '<|im_start|>system\n",
       "Your role as ...    math   \n",
       "4652  [{'content': '<|im_start|>system\n",
       "Your role as ...    math   \n",
       "4653  [{'content': '<|im_start|>system\n",
       "Your role as ...    math   \n",
       "4654  [{'content': '<|im_start|>system\n",
       "Your role as ...    math   \n",
       "4655  [{'content': '<|im_start|>system\n",
       "Your role as ...    math   \n",
       "\n",
       "                                           reward_model  \\\n",
       "0        {'ground_truth': '-3, -1, 1', 'style': 'rule'}   \n",
       "1            {'ground_truth': '22.21', 'style': 'rule'}   \n",
       "2     {'ground_truth': '\\frac{13}{2}', 'style': 'rule'}   \n",
       "3             {'ground_truth': '8820', 'style': 'rule'}   \n",
       "4                {'ground_truth': '7', 'style': 'rule'}   \n",
       "...                                                 ...   \n",
       "4651           {'ground_truth': '113', 'style': 'rule'}   \n",
       "4652          {'ground_truth': '2018', 'style': 'rule'}   \n",
       "4653            {'ground_truth': '76', 'style': 'rule'}   \n",
       "4654            {'ground_truth': '11', 'style': 'rule'}   \n",
       "4655  {'ground_truth': '\\frac{31}{36}', 'style': 'ru...   \n",
       "\n",
       "                             extra_info  \n",
       "0        {'index': 0, 'split': 'train'}  \n",
       "1        {'index': 1, 'split': 'train'}  \n",
       "2        {'index': 2, 'split': 'train'}  \n",
       "3        {'index': 3, 'split': 'train'}  \n",
       "4        {'index': 4, 'split': 'train'}  \n",
       "...                                 ...  \n",
       "4651  {'index': 4651, 'split': 'train'}  \n",
       "4652  {'index': 4652, 'split': 'train'}  \n",
       "4653  {'index': 4653, 'split': 'train'}  \n",
       "4654  {'index': 4654, 'split': 'train'}  \n",
       "4655  {'index': 4655, 'split': 'train'}  \n",
       "\n",
       "[4646 rows x 5 columns]"
      ]
     },
     "execution_count": 198,
     "metadata": {},
     "output_type": "execute_result"
    }
   ],
   "source": [
    "dataset[dataset['reward_model'].apply(lambda x: x['ground_truth'] is not None)]"
   ]
  },
  {
   "cell_type": "code",
   "execution_count": 342,
   "id": "574e3e51",
   "metadata": {},
   "outputs": [],
   "source": [
    "df = pd.read_parquet(\"/share/goyal/lio/reasoning/data/sky_math8k/rl_dataset.parquet\")"
   ]
  },
  {
   "cell_type": "code",
   "execution_count": 345,
   "id": "27885e97",
   "metadata": {},
   "outputs": [
    {
     "data": {
      "text/plain": [
       "array([{'content': '<|im_start|>system\\nPlease reason step by step, and put your final answer within \\\\boxed{}<|im_end|>\\n<|im_start|>user\\nFind all real numbers $x$ so that the product $(x + i)((x + 1) + i)((x + 2) + i)$ is pure imaginary.  Enter all the solutions, separated by commas.<|im_end|>\\n<|im_start|>assistant\\n\\n<think>', 'role': 'user'}],\n",
       "      dtype=object)"
      ]
     },
     "execution_count": 345,
     "metadata": {},
     "output_type": "execute_result"
    }
   ],
   "source": [
    "df['prompt'][0]"
   ]
  },
  {
   "cell_type": "code",
   "execution_count": 330,
   "id": "80a3436b",
   "metadata": {
    "scrolled": true
   },
   "outputs": [],
   "source": [
    "tokenizer = AutoTokenizer.from_pretrained(\"Qwen/Qwen2.5-Math-1.5B\")\n",
    "\n",
    "df['tokenized_len'] = df['prompt'].apply(lambda x: tokenize_len(x, tokenizer))"
   ]
  },
  {
   "cell_type": "code",
   "execution_count": 337,
   "id": "d4d9ebfe",
   "metadata": {},
   "outputs": [],
   "source": [
    "def tokenized_len(prompt, tokenizer=tokenizer):\n",
    "    return len(tokenizer.encode(prompt[0]['content']))"
   ]
  },
  {
   "cell_type": "markdown",
   "id": "40dbf6f4",
   "metadata": {},
   "source": [
    "# Utils"
   ]
  },
  {
   "cell_type": "code",
   "execution_count": 328,
   "id": "15ade15e",
   "metadata": {},
   "outputs": [],
   "source": [
    "from transformers import AutoTokenizer\n",
    "\n",
    "tokenizer = AutoTokenizer.from_pretrained(\"Qwen/Qwen2.5-1.5B\")\n",
    "\n",
    "def tokenize_len(prompt, tokenizer=tokenizer):\n",
    "    prompt = prompt[0]['content']\n",
    "    return len(tokenizer.encode(prompt))"
   ]
  },
  {
   "cell_type": "code",
   "execution_count": 147,
   "id": "16227b1c",
   "metadata": {},
   "outputs": [],
   "source": [
    "path = \"/share/goyal/lio/reasoning/data/hendrycks_math/len_filter/train.parquet\"\n",
    "train_dataset[train_dataset['extra_info'].apply(lambda x: x['num_input_tokens'] <= 512)].to_parquet(path, index = False)"
   ]
  },
  {
   "cell_type": "code",
   "execution_count": 155,
   "id": "80ef8978",
   "metadata": {},
   "outputs": [],
   "source": [
    "path = \"/share/goyal/lio/reasoning/data/hendrycks_math/len_filter/test.parquet\"\n",
    "test_dataset[test_dataset['extra_info'].apply(lambda x: x['num_input_tokens'] <= 512)].to_parquet(path, index=False)"
   ]
  },
  {
   "cell_type": "markdown",
   "id": "fe23f327",
   "metadata": {},
   "source": [
    "# DeepScaleR Sub"
   ]
  },
  {
   "cell_type": "code",
   "execution_count": 2,
   "id": "74e0ec4c",
   "metadata": {},
   "outputs": [],
   "source": [
    "df = pd.read_parquet(\"/home/al2644/research/codebase/reasoning/rl-reasoning/data/train/one_shot_rlvr/dsr_sub.parquet\")"
   ]
  },
  {
   "cell_type": "code",
   "execution_count": 15,
   "id": "fe0e671c",
   "metadata": {},
   "outputs": [],
   "source": [
    "item = 100\n",
    "messages = df.loc[item].pop('prompt')"
   ]
  },
  {
   "cell_type": "code",
   "execution_count": 16,
   "id": "935db3c9",
   "metadata": {},
   "outputs": [
    {
     "data": {
      "text/plain": [
       "array([{'content': \"Seven cards numbered $1$ through $7$ are to be lined up in a row. Find the number of arrangements of these seven cards where one of the cards can be removed leaving the remaining six cards in either ascending or descending order. Let's think step by step and output the final answer within \\\\boxed{}.\", 'role': 'user'}],\n",
       "      dtype=object)"
      ]
     },
     "execution_count": 16,
     "metadata": {},
     "output_type": "execute_result"
    }
   ],
   "source": [
    "messages"
   ]
  },
  {
   "cell_type": "markdown",
   "id": "5d07a561",
   "metadata": {},
   "source": [
    "# Evaluation Datasets"
   ]
  },
  {
   "cell_type": "code",
   "execution_count": 458,
   "id": "fe18001c",
   "metadata": {},
   "outputs": [],
   "source": [
    "root = \"/share/goyal/lio/reasoning/data/deepscaler\"\n",
    "df = pd.read_parquet(os.path.join(root, \"aime.parquet\"))"
   ]
  },
  {
   "cell_type": "code",
   "execution_count": 466,
   "id": "4d024570",
   "metadata": {},
   "outputs": [],
   "source": [
    "import json\n",
    "\n",
    "root = \"/share/goyal/lio/reasoning/eval/benchmarks/distill/Qwen2.5_1.5B_openthought-hard_coldstart_max_length_16384_bsz_32_checkpoint-62_openthought-hard_distill_max_length_16384_bsz_32/global_step_1017/math500_test\"\n",
    "file = \"test_qwen25-openthought_-1_seed0_t0.6_s0_e-1.jsonl\"\n",
    "\n",
    "results = []\n",
    "with open(os.path.join(root, file), 'r') as f:\n",
    "    for line in f:\n",
    "        results.append(json.loads(line))"
   ]
  },
  {
   "cell_type": "code",
   "execution_count": 1,
   "id": "03b4885a",
   "metadata": {},
   "outputs": [],
   "source": [
    "generation = \"<|begin_of_thought|>\\n\\nOkay, let's try to tackle this problem step by step. The problem is about finding the maximum value of the expression (2a³ + 27c - 9ab)/λ³ given some conditions on the roots of the cubic polynomial f(x) = x³ + ax² + bx + c. The roots are real, with x₂ - x₁ = λ and x₃ > (x₁ + x₂)/2. \\n\\nFirst, I need to recall that for a cubic polynomial with roots x₁, x₂, x₃, the coefficients can be expressed using Vieta's formulas. So, let's write those down. \\n\\nVieta's formulas for f(x) = x³ + ax² + bx + c:\\n1. Sum of roots: x₁ + x₂ + x₃ = -a\\n2. Sum of products: x₁x₂ + x₁x₃ + x₂x₃ = b\\n3. Product of roots: x₁x₂x₃ = -c\\n\\nOur target expression is (2a³ + 27c - 9ab)/λ³. Let's see if we can express this in terms of the roots using Vieta's formulas. \\n\\nFirst, let's substitute a, b, c in terms of the roots. \\n\\nFrom Vieta:\\na = -(x₁ + x₂ + x₃)\\nb = x₁x₂ + x₁x₃ + x₂x₃\\nc = -x₁x₂x₃\\n\\nPlugging these into the expression:\\n\\n2a³ + 27c - 9ab \\n= 2(-(x₁ + x₂ + x₃))³ + 27(-x₁x₂x₃) - 9(-(x₁ + x₂ + x₃))(x₁x₂ + x₁x₃ + x₂x₃)\\n\\nLet me compute each term step by step.\\n\\nFirst term: 2(-(x₁ + x₂ + x₃))³ = -2(x₁ + x₂ + x₃)³\\n\\nSecond term: 27(-x₁x₂x₃) = -27x₁x₂x₃\\n\\nThird term: -9(-(x₁ + x₂ + x₃))(x₁x₂ + x₁x₃ + x₂x₃) = 9(x₁ + x₂ + x₃)(x₁x₂ + x₁x₃ + x₂x₃)\\n\\nSo combining all three:\\n\\n-2(x₁ + x₂ + x₃)³ -27x₁x₂x₃ + 9(x₁ + x₂ + x₃)(x₁x₂ + x₁x₃ + x₂x₃)\\n\\nHmm, this seems complex. Maybe there is a known identity that relates these terms? Let me think. \\n\\nRecall that for a cubic polynomial, the discriminant D is given by D = 18abcd - 4b³d + b²c² - 4ac³ - 27a²d² for ax³ + bx² + cx + d. But in our case, the polynomial is monic (leading coefficient 1), so a=1, but here the coefficients are a, b, c as given. Wait, actually, in the standard form, the discriminant for x³ + a x² + b x + c would be D = 18abc - 4a³c + a²b² - 4b³ - 27c². But I might be mixing up the formula. Let me verify:\\n\\nWait, the discriminant of a cubic x³ + px² + qx + r is given by:\\n\\nΔ = 18pqr - 4p³r + p²q² - 4q³ - 27r²\\n\\nYes, so in our case, with p = a, q = b, r = c, so Δ = 18abc - 4a³c + a²b² - 4b³ - 27c²\\n\\nBut I'm not sure if the discriminant is directly related here, but maybe. Since the polynomial has three real roots, the discriminant must be non-negative. However, the problem states that all roots are real, so Δ ≥ 0. But maybe the expression we're dealing with is related to the discriminant?\\n\\nWait, let's check the expression given: 2a³ + 27c - 9ab. If we compare with the discriminant formula:\\n\\nΔ = 18abc - 4a³c + a²b² - 4b³ - 27c²\\n\\nNot directly obvious. Maybe not. Let's try another approach.\\n\\nAlternatively, perhaps the expression (2a³ + 27c - 9ab) can be rewritten in terms of the roots. Let's try substituting the Vieta expressions into it.\\n\\nSo let's substitute a, b, c:\\n\\n2(-(x₁ + x₂ + x₃))³ + 27(-x₁x₂x₃) - 9(-(x₁ + x₂ + x₃))(x₁x₂ + x₁x₃ + x₂x₃)\\n\\nCompute each term:\\n\\nFirst term: 2*(-1)^3*(x₁ + x₂ + x₃)^3 = -2(x₁ + x₂ + x₃)^3\\n\\nSecond term: 27*(-x₁x₂x₃) = -27x₁x₂x₃\\n\\nThird term: -9*(-1)*(x₁ + x₂ + x₃)(x₁x₂ + x₁x₃ + x₂x₃) = 9(x₁ + x₂ + x₃)(x₁x₂ + x₁x₃ + x₂x₃)\\n\\nSo putting it all together:\\n\\n-2(x₁ + x₂ + x₃)^3 - 27x₁x₂x₃ + 9(x₁ + x₂ + x₃)(x₁x₂ + x₁x₃ + x₂x₃)\\n\\nHmm. Let's see if we can factor this or simplify it. Let's denote S = x₁ + x₂ + x₃, P = x₁x₂ + x₁x₃ + x₂x₃, Q = x₁x₂x₃. Then our expression becomes:\\n\\n-2S³ -27Q + 9S P\\n\\nBut for a cubic polynomial, the relationship between S, P, Q is given by Vieta's formulas. But perhaps we can relate this expression to something else.\\n\\nAlternatively, maybe using symmetric sums. Let's compute this expression for specific roots. Let's suppose that x₁, x₂, x₃ are variables with x₂ - x₁ = λ and x₃ > (x₁ + x₂)/2. Maybe we can parametrize the roots in terms of variables that capture the given conditions.\\n\\nGiven that x₂ - x₁ = λ, let's set x₁ = t - λ/2 and x₂ = t + λ/2 for some t. Then the midpoint of x₁ and x₂ is t, and the condition x₃ > (x₁ + x₂)/2 becomes x₃ > t. \\n\\nTherefore, let me set:\\n\\nx₁ = t - λ/2\\n\\nx₂ = t + λ/2\\n\\nx₃ = t + s, where s > 0 (since x₃ > t)\\n\\nSo now, our roots are expressed in terms of t, λ, and s > 0.\\n\\nNow, let's compute S, P, Q in terms of t, λ, s.\\n\\nFirst, S = x₁ + x₂ + x₃ = (t - λ/2) + (t + λ/2) + (t + s) = 3t + s\\n\\nSecond, P = x₁x₂ + x₁x₃ + x₂x₃\\n\\nCompute each term:\\n\\nx₁x₂ = (t - λ/2)(t + λ/2) = t² - (λ/2)² = t² - λ²/4\\n\\nx₁x₃ = (t - λ/2)(t + s) = t(t + s) - (λ/2)(t + s) = t² + ts - (λ t)/2 - (λ s)/2\\n\\nx₂x₃ = (t + λ/2)(t + s) = t(t + s) + (λ/2)(t + s) = t² + ts + (λ t)/2 + (λ s)/2\\n\\nAdding these together:\\n\\nP = [t² - λ²/4] + [t² + ts - (λ t)/2 - (λ s)/2] + [t² + ts + (λ t)/2 + (λ s)/2]\\n\\nLet's combine terms:\\n\\nFirst term: t² - λ²/4\\n\\nSecond term: t² + ts - (λ t)/2 - (λ s)/2\\n\\nThird term: t² + ts + (λ t)/2 + (λ s)/2\\n\\nAdding them:\\n\\nt² - λ²/4 + t² + ts - (λ t)/2 - (λ s)/2 + t² + ts + (λ t)/2 + (λ s)/2\\n\\nCombine like terms:\\n\\nt² + t² + t² = 3t²\\n\\nts + ts = 2ts\\n\\n-λ²/4\\n\\nFor the terms with λ t/2: - (λ t)/2 + (λ t)/2 = 0\\n\\nSimilarly, for λ s/2: - (λ s)/2 + (λ s)/2 = 0\\n\\nSo P = 3t² + 2ts - λ²/4\\n\\nNow Q = x₁x₂x₃ = (t - λ/2)(t + λ/2)(t + s) = [t² - (λ/2)^2](t + s) = (t² - λ²/4)(t + s)\\n\\nMultiply this out:\\n\\n= t³ + t² s - (λ²/4) t - (λ²/4) s\\n\\nNow, let's plug S, P, Q into the expression:\\n\\n-2S³ -27Q + 9S P\\n\\nFirst, compute S³:\\n\\nS = 3t + s\\n\\nS³ = (3t + s)^3 = 27t³ + 27t² s + 9t s² + s³\\n\\nMultiply by -2: -2*27t³ -2*27t² s -2*9t s² -2*s³ = -54t³ -54t² s -18t s² -2s³\\n\\nNext, compute -27Q:\\n\\nQ = t³ + t² s - (λ²/4) t - (λ²/4) s\\n\\nMultiply by -27: -27t³ -27t² s + (27λ²/4) t + (27λ²/4)s\\n\\nThird term: 9S P\\n\\nS = 3t + s\\n\\nP = 3t² + 2ts - λ²/4\\n\\nSo 9S P = 9*(3t + s)*(3t² + 2ts - λ²/4)\\n\\nLet's expand this product step by step.\\n\\nFirst, multiply (3t + s) with (3t² + 2ts - λ²/4):\\n\\n= 3t*(3t²) + 3t*(2ts) + 3t*(-λ²/4) + s*(3t²) + s*(2ts) + s*(-λ²/4)\\n\\n= 9t³ + 6t² s - (3t λ²)/4 + 3s t² + 2t s² - (s λ²)/4\\n\\nCombine like terms:\\n\\n9t³ + (6t² s + 3t² s) + (2t s²) + (-3t λ²/4 - s λ²/4)\\n\\n= 9t³ + 9t² s + 2t s² - (λ²/4)(3t + s)\\n\\nMultiply this by 9:\\n\\n9*(9t³ + 9t² s + 2t s² - (λ²/4)(3t + s)) = 81t³ + 81t² s + 18t s² - (9λ²/4)(3t + s)\\n\\nNow, combining all three parts:\\n\\nFirst part: -54t³ -54t² s -18t s² -2s³\\n\\nSecond part: -27t³ -27t² s + (27λ²/4) t + (27λ²/4)s\\n\\nThird part: 81t³ + 81t² s + 18t s² - (9λ²/4)(3t + s)\\n\\nLet's add them term by term.\\n\\nFor t³ terms:\\n\\n-54t³ -27t³ +81t³ = 0\\n\\nFor t² s terms:\\n\\n-54t² s -27t² s +81t² s = 0\\n\\nFor t s² terms:\\n\\n-18t s² +18t s² = 0\\n\\nFor s³ terms:\\n\\n-2s³ (from first part) + ... (second part has no s³ term, third part also none) so total -2s³\\n\\nNow the terms involving λ²:\\n\\nFrom second part: (27λ²/4) t + (27λ²/4)s\\n\\nFrom third part: - (9λ²/4)(3t + s) = -27λ²/4 t -9λ²/4 s\\n\\nAdding these together:\\n\\n(27λ²/4 t -27λ²/4 t) + (27λ²/4 s -9λ²/4 s) = 0 + (18λ²/4)s = (9λ²/2)s\\n\\nSo overall, combining all terms:\\n\\n-2s³ + (9λ²/2)s\\n\\nSo the entire expression simplifies to:\\n\\n-2s³ + (9λ²/2)s\\n\\nTherefore, the original expression (2a³ + 27c -9ab) equals -2s³ + (9λ²/2)s\\n\\nTherefore, the expression we need to maximize is:\\n\\n(2a³ + 27c -9ab)/λ³ = (-2s³ + (9λ²/2)s)/λ³ = (-2s³)/λ³ + (9λ²/2 s)/λ³ = -2(s/λ)^3 + (9/2)(s/λ)\\n\\nLet me set k = s/λ. Since s > 0 and λ > 0, k > 0. Then our expression becomes:\\n\\n-2k³ + (9/2)k\\n\\nSo now, the problem reduces to finding the maximum value of the function g(k) = -2k³ + (9/2)k for k > 0.\\n\\nThis is a calculus problem. To find the maximum, take the derivative of g(k) with respect to k, set it to zero, and solve for k.\\n\\nCompute g'(k):\\n\\ng'(k) = -6k² + 9/2\\n\\nSet g'(k) = 0:\\n\\n-6k² + 9/2 = 0\\n\\n=> 6k² = 9/2\\n\\n=> k² = (9/2)/6 = 9/12 = 3/4\\n\\n=> k = sqrt(3/4) = sqrt(3)/2 ≈ 0.866\\n\\nSince k > 0, we take the positive root. Now, check if this is a maximum by second derivative test.\\n\\nSecond derivative:\\n\\ng''(k) = -12k\\n\\nAt k = sqrt(3)/2, g''(k) = -12*(sqrt(3)/2) = -6sqrt(3) < 0, which means it's a local maximum.\\n\\nTherefore, the maximum value of g(k) is achieved at k = sqrt(3)/2.\\n\\nCompute g(sqrt(3)/2):\\n\\ng(sqrt(3)/2) = -2*(sqrt(3)/2)^3 + (9/2)*(sqrt(3)/2)\\n\\nCompute each term:\\n\\nFirst term: -2*( (3^(1/2))/2 )^3 = -2*( (3^(3/2))/8 ) = -2*(3√3)/8 = - (3√3)/4\\n\\nSecond term: (9/2)*(sqrt(3)/2) = (9√3)/4\\n\\nAdding both terms:\\n\\n- (3√3)/4 + (9√3)/4 = (6√3)/4 = (3√3)/2\\n\\nTherefore, the maximum value of g(k) is (3√3)/2.\\n\\nHence, the maximum value of (2a³ + 27c -9ab)/λ³ is (3√3)/2.\\n\\nBut wait, let me check if there are any constraints on k. Remember that we had s = kλ. But we have to ensure that the roots are real and satisfy x₃ > (x₁ + x₂)/2. However, in our parametrization, we set x₃ = t + s, and since s > 0, x₃ > t = (x₁ + x₂)/2, which is already satisfied. So as long as s > 0, the condition holds. But since k = s/λ > 0, and λ > 0, s > 0 is equivalent to k > 0, which we already considered. Therefore, the maximum is indeed (3√3)/2.\\n\\nBut let me verify this result by considering specific cases. For example, take λ = 1. Then the expression (2a³ +27c -9ab)/1³ should be maximized at 3√3/2. Let's check with k = sqrt(3)/2, so s = sqrt(3)/2.\\n\\nThen the roots are x₁ = t - 1/2, x₂ = t + 1/2, x₃ = t + sqrt(3)/2. Then S = 3t + sqrt(3)/2, P = 3t² + 2t*(sqrt(3)/2) - 1/4 = 3t² + t*sqrt(3) - 1/4, Q = (t² - 1/4)(t + sqrt(3)/2). Then compute a, b, c from Vieta's formulas. Then compute 2a³ +27c -9ab. It might be tedious, but perhaps we can check.\\n\\nAlternatively, note that our derivation led us to an expression dependent only on k, which is s/λ, and through substitution, we found the maximum. Therefore, the maximum value is (3√3)/2. However, let me recall that the problem states x₃ > (x₁ + x₂)/2, which in our parametrization is s > 0. Therefore, as long as s is positive, which it is, we are okay. So there are no further constraints, and the maximum is indeed (3√3)/2.\\n\\nWait, but just to be thorough, let's see if when k = sqrt(3)/2, the cubic polynomial indeed has three real roots. Since we are given that all roots are real, but when we parametrize, we need to ensure that the cubic with these roots is valid. However, since we are given that all roots are real and satisfy the given conditions, our parametrization already takes that into account. Therefore, as long as s > 0, the roots are real and satisfy the required conditions. Therefore, the maximum value is indeed (3√3)/2.\\n\\nThus, the maximum value of (2a³ +27c -9ab)/λ³ is (3√3)/2.\\n\\n**Final Answer**\\n\\\\boxed{\\\\dfrac{3\\\\sqrt{3}}{2}}\\n\\n<|end_of_thought|>\\n\\n<|begin_of_solution|>\\n\\nGiven real numbers \\\\(a, b, c\\\\) and a positive number \\\\(\\\\lambda\\\\) such that the polynomial \\\\(f(x) = x^3 + ax^2 + bx + c\\\\) has three real roots \\\\(x_1, x_2, x_3\\\\) with the conditions \\\\(x_2 - x_1 = \\\\lambda\\\\) and \\\\(x_3 > \\\\frac{1}{2}(x_1 + x_2)\\\\), we need to find the maximum value of \\\\(\\\\frac{2a^3 + 27c - 9ab}{\\\\lambda^3}\\\\).\\n\\nUsing Vieta's formulas for the polynomial \\\\(f(x)\\\\):\\n1. \\\\(x_1 + x_2 + x_3 = -a\\\\)\\n2. \\\\(x_1x_2 + x_1x_3 + x_2x_3 = b\\\\)\\n3. \\\\(x_1x_2x_3 = -c\\\\)\\n\\nWe parametrize the roots as follows:\\n- \\\\(x_1 = t - \\\\frac{\\\\lambda}{2}\\\\)\\n- \\\\(x_2 = t + \\\\frac{\\\\lambda}{2}\\\\)\\n- \\\\(x_3 = t + s\\\\) where \\\\(s > 0\\\\)\\n\\nSubstituting these into Vieta's formulas, we get:\\n- \\\\(S = x_1 + x_2 + x_3 = 3t + s\\\\)\\n- \\\\(P = x_1x_2 + x_1x_3 + x_2x_3 = 3t^2 + 2ts - \\\\frac{\\\\lambda^2}{4}\\\\)\\n- \\\\(Q = x_1x_2x_3 = (t^2 - \\\\frac{\\\\lambda^2}{4})(t + s)\\\\)\\n\\nSubstituting \\\\(a = -S\\\\), \\\\(b = P\\\\), and \\\\(c = -Q\\\\) into the expression \\\\(2a^3 + 27c - 9ab\\\\), we simplify it to:\\n\\\\[\\n-2s^3 + \\\\frac{9}{2}\\\\lambda^2 s\\n\\\\]\\n\\nIntroducing \\\\(k = \\\\frac{s}{\\\\lambda}\\\\), the expression becomes:\\n\\\\[\\n\\\\frac{-2s^3 + \\\\frac{9}{2}\\\\lambda^2 s}{\\\\lambda^3} = -2k^3 + \\\\frac{9}{2}k\\n\\\\]\\n\\nTo maximize \\\\(-2k^3 + \\\\frac{9}{2}k\\\\), we take the derivative and set it to zero:\\n\\\\[\\ng'(k) = -6k^2 + \\\\frac{9}{2} = 0 \\\\implies k^2 = \\\\frac{3}{4} \\\\implies k = \\\\frac{\\\\sqrt{3}}{2}\\n\\\\]\\n\\nChecking the second derivative confirms a maximum. Substituting \\\\(k = \\\\frac{\\\\sqrt{3}}{2}\\\\) back into the expression gives:\\n\\\\[\\n-2\\\\left(\\\\frac{\\\\sqrt{3}}{2}\\\\right)^3 + \\\\frac{9}{2}\\\\left(\\\\frac{\\\\sqrt{3}}{2}\\\\right) = \\\\frac{3\\\\sqrt{3}}{2}\\n\\\\]\\n\\nThus, the maximum value of \\\\(\\\\frac{2a^3 + 27c - 9ab}{\\\\lambda^3}\\\\) is \\\\(\\\\boxed{\\\\dfrac{3\\\\sqrt{3}}{2}}\\\\).\\n\\n<|end_of_solution|>\""
   ]
  },
  {
   "cell_type": "code",
   "execution_count": 4,
   "id": "8fa483a9",
   "metadata": {},
   "outputs": [
    {
     "name": "stdout",
     "output_type": "stream",
     "text": [
      "<|begin_of_thought|>\n",
      "\n",
      "Okay, let's try to tackle this problem step by step. The problem is about finding the maximum value of the expression (2a³ + 27c - 9ab)/λ³ given some conditions on the roots of the cubic polynomial f(x) = x³ + ax² + bx + c. The roots are real, with x₂ - x₁ = λ and x₃ > (x₁ + x₂)/2. \n",
      "\n",
      "First, I need to recall that for a cubic polynomial with roots x₁, x₂, x₃, the coefficients can be expressed using Vieta's formulas. So, let's write those down. \n",
      "\n",
      "Vieta's formulas for f(x) = x³ + ax² + bx + c:\n",
      "1. Sum of roots: x₁ + x₂ + x₃ = -a\n",
      "2. Sum of products: x₁x₂ + x₁x₃ + x₂x₃ = b\n",
      "3. Product of roots: x₁x₂x₃ = -c\n",
      "\n",
      "Our target expression is (2a³ + 27c - 9ab)/λ³. Let's see if we can express this in terms of the roots using Vieta's formulas. \n",
      "\n",
      "First, let's substitute a, b, c in terms of the roots. \n",
      "\n",
      "From Vieta:\n",
      "a = -(x₁ + x₂ + x₃)\n",
      "b = x₁x₂ + x₁x₃ + x₂x₃\n",
      "c = -x₁x₂x₃\n",
      "\n",
      "Plugging these into the expression:\n",
      "\n",
      "2a³ + 27c - 9ab \n",
      "= 2(-(x₁ + x₂ + x₃))³ + 27(-x₁x₂x₃) - 9(-(x₁ + x₂ + x₃))(x₁x₂ + x₁x₃ + x₂x₃)\n",
      "\n",
      "Let me compute each term step by step.\n",
      "\n",
      "First term: 2(-(x₁ + x₂ + x₃))³ = -2(x₁ + x₂ + x₃)³\n",
      "\n",
      "Second term: 27(-x₁x₂x₃) = -27x₁x₂x₃\n",
      "\n",
      "Third term: -9(-(x₁ + x₂ + x₃))(x₁x₂ + x₁x₃ + x₂x₃) = 9(x₁ + x₂ + x₃)(x₁x₂ + x₁x₃ + x₂x₃)\n",
      "\n",
      "So combining all three:\n",
      "\n",
      "-2(x₁ + x₂ + x₃)³ -27x₁x₂x₃ + 9(x₁ + x₂ + x₃)(x₁x₂ + x₁x₃ + x₂x₃)\n",
      "\n",
      "Hmm, this seems complex. Maybe there is a known identity that relates these terms? Let me think. \n",
      "\n",
      "Recall that for a cubic polynomial, the discriminant D is given by D = 18abcd - 4b³d + b²c² - 4ac³ - 27a²d² for ax³ + bx² + cx + d. But in our case, the polynomial is monic (leading coefficient 1), so a=1, but here the coefficients are a, b, c as given. Wait, actually, in the standard form, the discriminant for x³ + a x² + b x + c would be D = 18abc - 4a³c + a²b² - 4b³ - 27c². But I might be mixing up the formula. Let me verify:\n",
      "\n",
      "Wait, the discriminant of a cubic x³ + px² + qx + r is given by:\n",
      "\n",
      "Δ = 18pqr - 4p³r + p²q² - 4q³ - 27r²\n",
      "\n",
      "Yes, so in our case, with p = a, q = b, r = c, so Δ = 18abc - 4a³c + a²b² - 4b³ - 27c²\n",
      "\n",
      "But I'm not sure if the discriminant is directly related here, but maybe. Since the polynomial has three real roots, the discriminant must be non-negative. However, the problem states that all roots are real, so Δ ≥ 0. But maybe the expression we're dealing with is related to the discriminant?\n",
      "\n",
      "Wait, let's check the expression given: 2a³ + 27c - 9ab. If we compare with the discriminant formula:\n",
      "\n",
      "Δ = 18abc - 4a³c + a²b² - 4b³ - 27c²\n",
      "\n",
      "Not directly obvious. Maybe not. Let's try another approach.\n",
      "\n",
      "Alternatively, perhaps the expression (2a³ + 27c - 9ab) can be rewritten in terms of the roots. Let's try substituting the Vieta expressions into it.\n",
      "\n",
      "So let's substitute a, b, c:\n",
      "\n",
      "2(-(x₁ + x₂ + x₃))³ + 27(-x₁x₂x₃) - 9(-(x₁ + x₂ + x₃))(x₁x₂ + x₁x₃ + x₂x₃)\n",
      "\n",
      "Compute each term:\n",
      "\n",
      "First term: 2*(-1)^3*(x₁ + x₂ + x₃)^3 = -2(x₁ + x₂ + x₃)^3\n",
      "\n",
      "Second term: 27*(-x₁x₂x₃) = -27x₁x₂x₃\n",
      "\n",
      "Third term: -9*(-1)*(x₁ + x₂ + x₃)(x₁x₂ + x₁x₃ + x₂x₃) = 9(x₁ + x₂ + x₃)(x₁x₂ + x₁x₃ + x₂x₃)\n",
      "\n",
      "So putting it all together:\n",
      "\n",
      "-2(x₁ + x₂ + x₃)^3 - 27x₁x₂x₃ + 9(x₁ + x₂ + x₃)(x₁x₂ + x₁x₃ + x₂x₃)\n",
      "\n",
      "Hmm. Let's see if we can factor this or simplify it. Let's denote S = x₁ + x₂ + x₃, P = x₁x₂ + x₁x₃ + x₂x₃, Q = x₁x₂x₃. Then our expression becomes:\n",
      "\n",
      "-2S³ -27Q + 9S P\n",
      "\n",
      "But for a cubic polynomial, the relationship between S, P, Q is given by Vieta's formulas. But perhaps we can relate this expression to something else.\n",
      "\n",
      "Alternatively, maybe using symmetric sums. Let's compute this expression for specific roots. Let's suppose that x₁, x₂, x₃ are variables with x₂ - x₁ = λ and x₃ > (x₁ + x₂)/2. Maybe we can parametrize the roots in terms of variables that capture the given conditions.\n",
      "\n",
      "Given that x₂ - x₁ = λ, let's set x₁ = t - λ/2 and x₂ = t + λ/2 for some t. Then the midpoint of x₁ and x₂ is t, and the condition x₃ > (x₁ + x₂)/2 becomes x₃ > t. \n",
      "\n",
      "Therefore, let me set:\n",
      "\n",
      "x₁ = t - λ/2\n",
      "\n",
      "x₂ = t + λ/2\n",
      "\n",
      "x₃ = t + s, where s > 0 (since x₃ > t)\n",
      "\n",
      "So now, our roots are expressed in terms of t, λ, and s > 0.\n",
      "\n",
      "Now, let's compute S, P, Q in terms of t, λ, s.\n",
      "\n",
      "First, S = x₁ + x₂ + x₃ = (t - λ/2) + (t + λ/2) + (t + s) = 3t + s\n",
      "\n",
      "Second, P = x₁x₂ + x₁x₃ + x₂x₃\n",
      "\n",
      "Compute each term:\n",
      "\n",
      "x₁x₂ = (t - λ/2)(t + λ/2) = t² - (λ/2)² = t² - λ²/4\n",
      "\n",
      "x₁x₃ = (t - λ/2)(t + s) = t(t + s) - (λ/2)(t + s) = t² + ts - (λ t)/2 - (λ s)/2\n",
      "\n",
      "x₂x₃ = (t + λ/2)(t + s) = t(t + s) + (λ/2)(t + s) = t² + ts + (λ t)/2 + (λ s)/2\n",
      "\n",
      "Adding these together:\n",
      "\n",
      "P = [t² - λ²/4] + [t² + ts - (λ t)/2 - (λ s)/2] + [t² + ts + (λ t)/2 + (λ s)/2]\n",
      "\n",
      "Let's combine terms:\n",
      "\n",
      "First term: t² - λ²/4\n",
      "\n",
      "Second term: t² + ts - (λ t)/2 - (λ s)/2\n",
      "\n",
      "Third term: t² + ts + (λ t)/2 + (λ s)/2\n",
      "\n",
      "Adding them:\n",
      "\n",
      "t² - λ²/4 + t² + ts - (λ t)/2 - (λ s)/2 + t² + ts + (λ t)/2 + (λ s)/2\n",
      "\n",
      "Combine like terms:\n",
      "\n",
      "t² + t² + t² = 3t²\n",
      "\n",
      "ts + ts = 2ts\n",
      "\n",
      "-λ²/4\n",
      "\n",
      "For the terms with λ t/2: - (λ t)/2 + (λ t)/2 = 0\n",
      "\n",
      "Similarly, for λ s/2: - (λ s)/2 + (λ s)/2 = 0\n",
      "\n",
      "So P = 3t² + 2ts - λ²/4\n",
      "\n",
      "Now Q = x₁x₂x₃ = (t - λ/2)(t + λ/2)(t + s) = [t² - (λ/2)^2](t + s) = (t² - λ²/4)(t + s)\n",
      "\n",
      "Multiply this out:\n",
      "\n",
      "= t³ + t² s - (λ²/4) t - (λ²/4) s\n",
      "\n",
      "Now, let's plug S, P, Q into the expression:\n",
      "\n",
      "-2S³ -27Q + 9S P\n",
      "\n",
      "First, compute S³:\n",
      "\n",
      "S = 3t + s\n",
      "\n",
      "S³ = (3t + s)^3 = 27t³ + 27t² s + 9t s² + s³\n",
      "\n",
      "Multiply by -2: -2*27t³ -2*27t² s -2*9t s² -2*s³ = -54t³ -54t² s -18t s² -2s³\n",
      "\n",
      "Next, compute -27Q:\n",
      "\n",
      "Q = t³ + t² s - (λ²/4) t - (λ²/4) s\n",
      "\n",
      "Multiply by -27: -27t³ -27t² s + (27λ²/4) t + (27λ²/4)s\n",
      "\n",
      "Third term: 9S P\n",
      "\n",
      "S = 3t + s\n",
      "\n",
      "P = 3t² + 2ts - λ²/4\n",
      "\n",
      "So 9S P = 9*(3t + s)*(3t² + 2ts - λ²/4)\n",
      "\n",
      "Let's expand this product step by step.\n",
      "\n",
      "First, multiply (3t + s) with (3t² + 2ts - λ²/4):\n",
      "\n",
      "= 3t*(3t²) + 3t*(2ts) + 3t*(-λ²/4) + s*(3t²) + s*(2ts) + s*(-λ²/4)\n",
      "\n",
      "= 9t³ + 6t² s - (3t λ²)/4 + 3s t² + 2t s² - (s λ²)/4\n",
      "\n",
      "Combine like terms:\n",
      "\n",
      "9t³ + (6t² s + 3t² s) + (2t s²) + (-3t λ²/4 - s λ²/4)\n",
      "\n",
      "= 9t³ + 9t² s + 2t s² - (λ²/4)(3t + s)\n",
      "\n",
      "Multiply this by 9:\n",
      "\n",
      "9*(9t³ + 9t² s + 2t s² - (λ²/4)(3t + s)) = 81t³ + 81t² s + 18t s² - (9λ²/4)(3t + s)\n",
      "\n",
      "Now, combining all three parts:\n",
      "\n",
      "First part: -54t³ -54t² s -18t s² -2s³\n",
      "\n",
      "Second part: -27t³ -27t² s + (27λ²/4) t + (27λ²/4)s\n",
      "\n",
      "Third part: 81t³ + 81t² s + 18t s² - (9λ²/4)(3t + s)\n",
      "\n",
      "Let's add them term by term.\n",
      "\n",
      "For t³ terms:\n",
      "\n",
      "-54t³ -27t³ +81t³ = 0\n",
      "\n",
      "For t² s terms:\n",
      "\n",
      "-54t² s -27t² s +81t² s = 0\n",
      "\n",
      "For t s² terms:\n",
      "\n",
      "-18t s² +18t s² = 0\n",
      "\n",
      "For s³ terms:\n",
      "\n",
      "-2s³ (from first part) + ... (second part has no s³ term, third part also none) so total -2s³\n",
      "\n",
      "Now the terms involving λ²:\n",
      "\n",
      "From second part: (27λ²/4) t + (27λ²/4)s\n",
      "\n",
      "From third part: - (9λ²/4)(3t + s) = -27λ²/4 t -9λ²/4 s\n",
      "\n",
      "Adding these together:\n",
      "\n",
      "(27λ²/4 t -27λ²/4 t) + (27λ²/4 s -9λ²/4 s) = 0 + (18λ²/4)s = (9λ²/2)s\n",
      "\n",
      "So overall, combining all terms:\n",
      "\n",
      "-2s³ + (9λ²/2)s\n",
      "\n",
      "So the entire expression simplifies to:\n",
      "\n",
      "-2s³ + (9λ²/2)s\n",
      "\n",
      "Therefore, the original expression (2a³ + 27c -9ab) equals -2s³ + (9λ²/2)s\n",
      "\n",
      "Therefore, the expression we need to maximize is:\n",
      "\n",
      "(2a³ + 27c -9ab)/λ³ = (-2s³ + (9λ²/2)s)/λ³ = (-2s³)/λ³ + (9λ²/2 s)/λ³ = -2(s/λ)^3 + (9/2)(s/λ)\n",
      "\n",
      "Let me set k = s/λ. Since s > 0 and λ > 0, k > 0. Then our expression becomes:\n",
      "\n",
      "-2k³ + (9/2)k\n",
      "\n",
      "So now, the problem reduces to finding the maximum value of the function g(k) = -2k³ + (9/2)k for k > 0.\n",
      "\n",
      "This is a calculus problem. To find the maximum, take the derivative of g(k) with respect to k, set it to zero, and solve for k.\n",
      "\n",
      "Compute g'(k):\n",
      "\n",
      "g'(k) = -6k² + 9/2\n",
      "\n",
      "Set g'(k) = 0:\n",
      "\n",
      "-6k² + 9/2 = 0\n",
      "\n",
      "=> 6k² = 9/2\n",
      "\n",
      "=> k² = (9/2)/6 = 9/12 = 3/4\n",
      "\n",
      "=> k = sqrt(3/4) = sqrt(3)/2 ≈ 0.866\n",
      "\n",
      "Since k > 0, we take the positive root. Now, check if this is a maximum by second derivative test.\n",
      "\n",
      "Second derivative:\n",
      "\n",
      "g''(k) = -12k\n",
      "\n",
      "At k = sqrt(3)/2, g''(k) = -12*(sqrt(3)/2) = -6sqrt(3) < 0, which means it's a local maximum.\n",
      "\n",
      "Therefore, the maximum value of g(k) is achieved at k = sqrt(3)/2.\n",
      "\n",
      "Compute g(sqrt(3)/2):\n",
      "\n",
      "g(sqrt(3)/2) = -2*(sqrt(3)/2)^3 + (9/2)*(sqrt(3)/2)\n",
      "\n",
      "Compute each term:\n",
      "\n",
      "First term: -2*( (3^(1/2))/2 )^3 = -2*( (3^(3/2))/8 ) = -2*(3√3)/8 = - (3√3)/4\n",
      "\n",
      "Second term: (9/2)*(sqrt(3)/2) = (9√3)/4\n",
      "\n",
      "Adding both terms:\n",
      "\n",
      "- (3√3)/4 + (9√3)/4 = (6√3)/4 = (3√3)/2\n",
      "\n",
      "Therefore, the maximum value of g(k) is (3√3)/2.\n",
      "\n",
      "Hence, the maximum value of (2a³ + 27c -9ab)/λ³ is (3√3)/2.\n",
      "\n",
      "But wait, let me check if there are any constraints on k. Remember that we had s = kλ. But we have to ensure that the roots are real and satisfy x₃ > (x₁ + x₂)/2. However, in our parametrization, we set x₃ = t + s, and since s > 0, x₃ > t = (x₁ + x₂)/2, which is already satisfied. So as long as s > 0, the condition holds. But since k = s/λ > 0, and λ > 0, s > 0 is equivalent to k > 0, which we already considered. Therefore, the maximum is indeed (3√3)/2.\n",
      "\n",
      "But let me verify this result by considering specific cases. For example, take λ = 1. Then the expression (2a³ +27c -9ab)/1³ should be maximized at 3√3/2. Let's check with k = sqrt(3)/2, so s = sqrt(3)/2.\n",
      "\n",
      "Then the roots are x₁ = t - 1/2, x₂ = t + 1/2, x₃ = t + sqrt(3)/2. Then S = 3t + sqrt(3)/2, P = 3t² + 2t*(sqrt(3)/2) - 1/4 = 3t² + t*sqrt(3) - 1/4, Q = (t² - 1/4)(t + sqrt(3)/2). Then compute a, b, c from Vieta's formulas. Then compute 2a³ +27c -9ab. It might be tedious, but perhaps we can check.\n",
      "\n",
      "Alternatively, note that our derivation led us to an expression dependent only on k, which is s/λ, and through substitution, we found the maximum. Therefore, the maximum value is (3√3)/2. However, let me recall that the problem states x₃ > (x₁ + x₂)/2, which in our parametrization is s > 0. Therefore, as long as s is positive, which it is, we are okay. So there are no further constraints, and the maximum is indeed (3√3)/2.\n",
      "\n",
      "Wait, but just to be thorough, let's see if when k = sqrt(3)/2, the cubic polynomial indeed has three real roots. Since we are given that all roots are real, but when we parametrize, we need to ensure that the cubic with these roots is valid. However, since we are given that all roots are real and satisfy the given conditions, our parametrization already takes that into account. Therefore, as long as s > 0, the roots are real and satisfy the required conditions. Therefore, the maximum value is indeed (3√3)/2.\n",
      "\n",
      "Thus, the maximum value of (2a³ +27c -9ab)/λ³ is (3√3)/2.\n",
      "\n",
      "**Final Answer**\n",
      "\\boxed{\\dfrac{3\\sqrt{3}}{2}}\n",
      "\n",
      "<|end_of_thought|>\n",
      "\n",
      "<|begin_of_solution|>\n",
      "\n",
      "Given real numbers \\(a, b, c\\) and a positive number \\(\\lambda\\) such that the polynomial \\(f(x) = x^3 + ax^2 + bx + c\\) has three real roots \\(x_1, x_2, x_3\\) with the conditions \\(x_2 - x_1 = \\lambda\\) and \\(x_3 > \\frac{1}{2}(x_1 + x_2)\\), we need to find the maximum value of \\(\\frac{2a^3 + 27c - 9ab}{\\lambda^3}\\).\n",
      "\n",
      "Using Vieta's formulas for the polynomial \\(f(x)\\):\n",
      "1. \\(x_1 + x_2 + x_3 = -a\\)\n",
      "2. \\(x_1x_2 + x_1x_3 + x_2x_3 = b\\)\n",
      "3. \\(x_1x_2x_3 = -c\\)\n",
      "\n",
      "We parametrize the roots as follows:\n",
      "- \\(x_1 = t - \\frac{\\lambda}{2}\\)\n",
      "- \\(x_2 = t + \\frac{\\lambda}{2}\\)\n",
      "- \\(x_3 = t + s\\) where \\(s > 0\\)\n",
      "\n",
      "Substituting these into Vieta's formulas, we get:\n",
      "- \\(S = x_1 + x_2 + x_3 = 3t + s\\)\n",
      "- \\(P = x_1x_2 + x_1x_3 + x_2x_3 = 3t^2 + 2ts - \\frac{\\lambda^2}{4}\\)\n",
      "- \\(Q = x_1x_2x_3 = (t^2 - \\frac{\\lambda^2}{4})(t + s)\\)\n",
      "\n",
      "Substituting \\(a = -S\\), \\(b = P\\), and \\(c = -Q\\) into the expression \\(2a^3 + 27c - 9ab\\), we simplify it to:\n",
      "\\[\n",
      "-2s^3 + \\frac{9}{2}\\lambda^2 s\n",
      "\\]\n",
      "\n",
      "Introducing \\(k = \\frac{s}{\\lambda}\\), the expression becomes:\n",
      "\\[\n",
      "\\frac{-2s^3 + \\frac{9}{2}\\lambda^2 s}{\\lambda^3} = -2k^3 + \\frac{9}{2}k\n",
      "\\]\n",
      "\n",
      "To maximize \\(-2k^3 + \\frac{9}{2}k\\), we take the derivative and set it to zero:\n",
      "\\[\n",
      "g'(k) = -6k^2 + \\frac{9}{2} = 0 \\implies k^2 = \\frac{3}{4} \\implies k = \\frac{\\sqrt{3}}{2}\n",
      "\\]\n",
      "\n",
      "Checking the second derivative confirms a maximum. Substituting \\(k = \\frac{\\sqrt{3}}{2}\\) back into the expression gives:\n",
      "\\[\n",
      "-2\\left(\\frac{\\sqrt{3}}{2}\\right)^3 + \\frac{9}{2}\\left(\\frac{\\sqrt{3}}{2}\\right) = \\frac{3\\sqrt{3}}{2}\n",
      "\\]\n",
      "\n",
      "Thus, the maximum value of \\(\\frac{2a^3 + 27c - 9ab}{\\lambda^3}\\) is \\(\\boxed{\\dfrac{3\\sqrt{3}}{2}}\\).\n",
      "\n",
      "<|end_of_solution|>\n"
     ]
    }
   ],
   "source": [
    "print(generation)"
   ]
  },
  {
   "cell_type": "code",
   "execution_count": 7,
   "id": "4f6de092",
   "metadata": {},
   "outputs": [],
   "source": [
    "processed_generation = generation.replace(\"<|begin_of_thought|>\", \"\") \\\n",
    "        .replace(\"<|end_of_thought|>\", \"\") \\\n",
    "        .replace(\"<|begin_of_solution|>\", \"\") \\\n",
    "        .replace(\"<|end_of_solution|>\", \"\") \\\n",
    "        .replace(\"\\n\\n\\n\", \"\\n\\n\") \\\n",
    "        .strip(\"\\n\")"
   ]
  },
  {
   "cell_type": "code",
   "execution_count": 8,
   "id": "e33934ac",
   "metadata": {
    "scrolled": true
   },
   "outputs": [
    {
     "name": "stdout",
     "output_type": "stream",
     "text": [
      "Okay, let's try to tackle this problem step by step. The problem is about finding the maximum value of the expression (2a³ + 27c - 9ab)/λ³ given some conditions on the roots of the cubic polynomial f(x) = x³ + ax² + bx + c. The roots are real, with x₂ - x₁ = λ and x₃ > (x₁ + x₂)/2. \n",
      "\n",
      "First, I need to recall that for a cubic polynomial with roots x₁, x₂, x₃, the coefficients can be expressed using Vieta's formulas. So, let's write those down. \n",
      "\n",
      "Vieta's formulas for f(x) = x³ + ax² + bx + c:\n",
      "1. Sum of roots: x₁ + x₂ + x₃ = -a\n",
      "2. Sum of products: x₁x₂ + x₁x₃ + x₂x₃ = b\n",
      "3. Product of roots: x₁x₂x₃ = -c\n",
      "\n",
      "Our target expression is (2a³ + 27c - 9ab)/λ³. Let's see if we can express this in terms of the roots using Vieta's formulas. \n",
      "\n",
      "First, let's substitute a, b, c in terms of the roots. \n",
      "\n",
      "From Vieta:\n",
      "a = -(x₁ + x₂ + x₃)\n",
      "b = x₁x₂ + x₁x₃ + x₂x₃\n",
      "c = -x₁x₂x₃\n",
      "\n",
      "Plugging these into the expression:\n",
      "\n",
      "2a³ + 27c - 9ab \n",
      "= 2(-(x₁ + x₂ + x₃))³ + 27(-x₁x₂x₃) - 9(-(x₁ + x₂ + x₃))(x₁x₂ + x₁x₃ + x₂x₃)\n",
      "\n",
      "Let me compute each term step by step.\n",
      "\n",
      "First term: 2(-(x₁ + x₂ + x₃))³ = -2(x₁ + x₂ + x₃)³\n",
      "\n",
      "Second term: 27(-x₁x₂x₃) = -27x₁x₂x₃\n",
      "\n",
      "Third term: -9(-(x₁ + x₂ + x₃))(x₁x₂ + x₁x₃ + x₂x₃) = 9(x₁ + x₂ + x₃)(x₁x₂ + x₁x₃ + x₂x₃)\n",
      "\n",
      "So combining all three:\n",
      "\n",
      "-2(x₁ + x₂ + x₃)³ -27x₁x₂x₃ + 9(x₁ + x₂ + x₃)(x₁x₂ + x₁x₃ + x₂x₃)\n",
      "\n",
      "Hmm, this seems complex. Maybe there is a known identity that relates these terms? Let me think. \n",
      "\n",
      "Recall that for a cubic polynomial, the discriminant D is given by D = 18abcd - 4b³d + b²c² - 4ac³ - 27a²d² for ax³ + bx² + cx + d. But in our case, the polynomial is monic (leading coefficient 1), so a=1, but here the coefficients are a, b, c as given. Wait, actually, in the standard form, the discriminant for x³ + a x² + b x + c would be D = 18abc - 4a³c + a²b² - 4b³ - 27c². But I might be mixing up the formula. Let me verify:\n",
      "\n",
      "Wait, the discriminant of a cubic x³ + px² + qx + r is given by:\n",
      "\n",
      "Δ = 18pqr - 4p³r + p²q² - 4q³ - 27r²\n",
      "\n",
      "Yes, so in our case, with p = a, q = b, r = c, so Δ = 18abc - 4a³c + a²b² - 4b³ - 27c²\n",
      "\n",
      "But I'm not sure if the discriminant is directly related here, but maybe. Since the polynomial has three real roots, the discriminant must be non-negative. However, the problem states that all roots are real, so Δ ≥ 0. But maybe the expression we're dealing with is related to the discriminant?\n",
      "\n",
      "Wait, let's check the expression given: 2a³ + 27c - 9ab. If we compare with the discriminant formula:\n",
      "\n",
      "Δ = 18abc - 4a³c + a²b² - 4b³ - 27c²\n",
      "\n",
      "Not directly obvious. Maybe not. Let's try another approach.\n",
      "\n",
      "Alternatively, perhaps the expression (2a³ + 27c - 9ab) can be rewritten in terms of the roots. Let's try substituting the Vieta expressions into it.\n",
      "\n",
      "So let's substitute a, b, c:\n",
      "\n",
      "2(-(x₁ + x₂ + x₃))³ + 27(-x₁x₂x₃) - 9(-(x₁ + x₂ + x₃))(x₁x₂ + x₁x₃ + x₂x₃)\n",
      "\n",
      "Compute each term:\n",
      "\n",
      "First term: 2*(-1)^3*(x₁ + x₂ + x₃)^3 = -2(x₁ + x₂ + x₃)^3\n",
      "\n",
      "Second term: 27*(-x₁x₂x₃) = -27x₁x₂x₃\n",
      "\n",
      "Third term: -9*(-1)*(x₁ + x₂ + x₃)(x₁x₂ + x₁x₃ + x₂x₃) = 9(x₁ + x₂ + x₃)(x₁x₂ + x₁x₃ + x₂x₃)\n",
      "\n",
      "So putting it all together:\n",
      "\n",
      "-2(x₁ + x₂ + x₃)^3 - 27x₁x₂x₃ + 9(x₁ + x₂ + x₃)(x₁x₂ + x₁x₃ + x₂x₃)\n",
      "\n",
      "Hmm. Let's see if we can factor this or simplify it. Let's denote S = x₁ + x₂ + x₃, P = x₁x₂ + x₁x₃ + x₂x₃, Q = x₁x₂x₃. Then our expression becomes:\n",
      "\n",
      "-2S³ -27Q + 9S P\n",
      "\n",
      "But for a cubic polynomial, the relationship between S, P, Q is given by Vieta's formulas. But perhaps we can relate this expression to something else.\n",
      "\n",
      "Alternatively, maybe using symmetric sums. Let's compute this expression for specific roots. Let's suppose that x₁, x₂, x₃ are variables with x₂ - x₁ = λ and x₃ > (x₁ + x₂)/2. Maybe we can parametrize the roots in terms of variables that capture the given conditions.\n",
      "\n",
      "Given that x₂ - x₁ = λ, let's set x₁ = t - λ/2 and x₂ = t + λ/2 for some t. Then the midpoint of x₁ and x₂ is t, and the condition x₃ > (x₁ + x₂)/2 becomes x₃ > t. \n",
      "\n",
      "Therefore, let me set:\n",
      "\n",
      "x₁ = t - λ/2\n",
      "\n",
      "x₂ = t + λ/2\n",
      "\n",
      "x₃ = t + s, where s > 0 (since x₃ > t)\n",
      "\n",
      "So now, our roots are expressed in terms of t, λ, and s > 0.\n",
      "\n",
      "Now, let's compute S, P, Q in terms of t, λ, s.\n",
      "\n",
      "First, S = x₁ + x₂ + x₃ = (t - λ/2) + (t + λ/2) + (t + s) = 3t + s\n",
      "\n",
      "Second, P = x₁x₂ + x₁x₃ + x₂x₃\n",
      "\n",
      "Compute each term:\n",
      "\n",
      "x₁x₂ = (t - λ/2)(t + λ/2) = t² - (λ/2)² = t² - λ²/4\n",
      "\n",
      "x₁x₃ = (t - λ/2)(t + s) = t(t + s) - (λ/2)(t + s) = t² + ts - (λ t)/2 - (λ s)/2\n",
      "\n",
      "x₂x₃ = (t + λ/2)(t + s) = t(t + s) + (λ/2)(t + s) = t² + ts + (λ t)/2 + (λ s)/2\n",
      "\n",
      "Adding these together:\n",
      "\n",
      "P = [t² - λ²/4] + [t² + ts - (λ t)/2 - (λ s)/2] + [t² + ts + (λ t)/2 + (λ s)/2]\n",
      "\n",
      "Let's combine terms:\n",
      "\n",
      "First term: t² - λ²/4\n",
      "\n",
      "Second term: t² + ts - (λ t)/2 - (λ s)/2\n",
      "\n",
      "Third term: t² + ts + (λ t)/2 + (λ s)/2\n",
      "\n",
      "Adding them:\n",
      "\n",
      "t² - λ²/4 + t² + ts - (λ t)/2 - (λ s)/2 + t² + ts + (λ t)/2 + (λ s)/2\n",
      "\n",
      "Combine like terms:\n",
      "\n",
      "t² + t² + t² = 3t²\n",
      "\n",
      "ts + ts = 2ts\n",
      "\n",
      "-λ²/4\n",
      "\n",
      "For the terms with λ t/2: - (λ t)/2 + (λ t)/2 = 0\n",
      "\n",
      "Similarly, for λ s/2: - (λ s)/2 + (λ s)/2 = 0\n",
      "\n",
      "So P = 3t² + 2ts - λ²/4\n",
      "\n",
      "Now Q = x₁x₂x₃ = (t - λ/2)(t + λ/2)(t + s) = [t² - (λ/2)^2](t + s) = (t² - λ²/4)(t + s)\n",
      "\n",
      "Multiply this out:\n",
      "\n",
      "= t³ + t² s - (λ²/4) t - (λ²/4) s\n",
      "\n",
      "Now, let's plug S, P, Q into the expression:\n",
      "\n",
      "-2S³ -27Q + 9S P\n",
      "\n",
      "First, compute S³:\n",
      "\n",
      "S = 3t + s\n",
      "\n",
      "S³ = (3t + s)^3 = 27t³ + 27t² s + 9t s² + s³\n",
      "\n",
      "Multiply by -2: -2*27t³ -2*27t² s -2*9t s² -2*s³ = -54t³ -54t² s -18t s² -2s³\n",
      "\n",
      "Next, compute -27Q:\n",
      "\n",
      "Q = t³ + t² s - (λ²/4) t - (λ²/4) s\n",
      "\n",
      "Multiply by -27: -27t³ -27t² s + (27λ²/4) t + (27λ²/4)s\n",
      "\n",
      "Third term: 9S P\n",
      "\n",
      "S = 3t + s\n",
      "\n",
      "P = 3t² + 2ts - λ²/4\n",
      "\n",
      "So 9S P = 9*(3t + s)*(3t² + 2ts - λ²/4)\n",
      "\n",
      "Let's expand this product step by step.\n",
      "\n",
      "First, multiply (3t + s) with (3t² + 2ts - λ²/4):\n",
      "\n",
      "= 3t*(3t²) + 3t*(2ts) + 3t*(-λ²/4) + s*(3t²) + s*(2ts) + s*(-λ²/4)\n",
      "\n",
      "= 9t³ + 6t² s - (3t λ²)/4 + 3s t² + 2t s² - (s λ²)/4\n",
      "\n",
      "Combine like terms:\n",
      "\n",
      "9t³ + (6t² s + 3t² s) + (2t s²) + (-3t λ²/4 - s λ²/4)\n",
      "\n",
      "= 9t³ + 9t² s + 2t s² - (λ²/4)(3t + s)\n",
      "\n",
      "Multiply this by 9:\n",
      "\n",
      "9*(9t³ + 9t² s + 2t s² - (λ²/4)(3t + s)) = 81t³ + 81t² s + 18t s² - (9λ²/4)(3t + s)\n",
      "\n",
      "Now, combining all three parts:\n",
      "\n",
      "First part: -54t³ -54t² s -18t s² -2s³\n",
      "\n",
      "Second part: -27t³ -27t² s + (27λ²/4) t + (27λ²/4)s\n",
      "\n",
      "Third part: 81t³ + 81t² s + 18t s² - (9λ²/4)(3t + s)\n",
      "\n",
      "Let's add them term by term.\n",
      "\n",
      "For t³ terms:\n",
      "\n",
      "-54t³ -27t³ +81t³ = 0\n",
      "\n",
      "For t² s terms:\n",
      "\n",
      "-54t² s -27t² s +81t² s = 0\n",
      "\n",
      "For t s² terms:\n",
      "\n",
      "-18t s² +18t s² = 0\n",
      "\n",
      "For s³ terms:\n",
      "\n",
      "-2s³ (from first part) + ... (second part has no s³ term, third part also none) so total -2s³\n",
      "\n",
      "Now the terms involving λ²:\n",
      "\n",
      "From second part: (27λ²/4) t + (27λ²/4)s\n",
      "\n",
      "From third part: - (9λ²/4)(3t + s) = -27λ²/4 t -9λ²/4 s\n",
      "\n",
      "Adding these together:\n",
      "\n",
      "(27λ²/4 t -27λ²/4 t) + (27λ²/4 s -9λ²/4 s) = 0 + (18λ²/4)s = (9λ²/2)s\n",
      "\n",
      "So overall, combining all terms:\n",
      "\n",
      "-2s³ + (9λ²/2)s\n",
      "\n",
      "So the entire expression simplifies to:\n",
      "\n",
      "-2s³ + (9λ²/2)s\n",
      "\n",
      "Therefore, the original expression (2a³ + 27c -9ab) equals -2s³ + (9λ²/2)s\n",
      "\n",
      "Therefore, the expression we need to maximize is:\n",
      "\n",
      "(2a³ + 27c -9ab)/λ³ = (-2s³ + (9λ²/2)s)/λ³ = (-2s³)/λ³ + (9λ²/2 s)/λ³ = -2(s/λ)^3 + (9/2)(s/λ)\n",
      "\n",
      "Let me set k = s/λ. Since s > 0 and λ > 0, k > 0. Then our expression becomes:\n",
      "\n",
      "-2k³ + (9/2)k\n",
      "\n",
      "So now, the problem reduces to finding the maximum value of the function g(k) = -2k³ + (9/2)k for k > 0.\n",
      "\n",
      "This is a calculus problem. To find the maximum, take the derivative of g(k) with respect to k, set it to zero, and solve for k.\n",
      "\n",
      "Compute g'(k):\n",
      "\n",
      "g'(k) = -6k² + 9/2\n",
      "\n",
      "Set g'(k) = 0:\n",
      "\n",
      "-6k² + 9/2 = 0\n",
      "\n",
      "=> 6k² = 9/2\n",
      "\n",
      "=> k² = (9/2)/6 = 9/12 = 3/4\n",
      "\n",
      "=> k = sqrt(3/4) = sqrt(3)/2 ≈ 0.866\n",
      "\n",
      "Since k > 0, we take the positive root. Now, check if this is a maximum by second derivative test.\n",
      "\n",
      "Second derivative:\n",
      "\n",
      "g''(k) = -12k\n",
      "\n",
      "At k = sqrt(3)/2, g''(k) = -12*(sqrt(3)/2) = -6sqrt(3) < 0, which means it's a local maximum.\n",
      "\n",
      "Therefore, the maximum value of g(k) is achieved at k = sqrt(3)/2.\n",
      "\n",
      "Compute g(sqrt(3)/2):\n",
      "\n",
      "g(sqrt(3)/2) = -2*(sqrt(3)/2)^3 + (9/2)*(sqrt(3)/2)\n",
      "\n",
      "Compute each term:\n",
      "\n",
      "First term: -2*( (3^(1/2))/2 )^3 = -2*( (3^(3/2))/8 ) = -2*(3√3)/8 = - (3√3)/4\n",
      "\n",
      "Second term: (9/2)*(sqrt(3)/2) = (9√3)/4\n",
      "\n",
      "Adding both terms:\n",
      "\n",
      "- (3√3)/4 + (9√3)/4 = (6√3)/4 = (3√3)/2\n",
      "\n",
      "Therefore, the maximum value of g(k) is (3√3)/2.\n",
      "\n",
      "Hence, the maximum value of (2a³ + 27c -9ab)/λ³ is (3√3)/2.\n",
      "\n",
      "But wait, let me check if there are any constraints on k. Remember that we had s = kλ. But we have to ensure that the roots are real and satisfy x₃ > (x₁ + x₂)/2. However, in our parametrization, we set x₃ = t + s, and since s > 0, x₃ > t = (x₁ + x₂)/2, which is already satisfied. So as long as s > 0, the condition holds. But since k = s/λ > 0, and λ > 0, s > 0 is equivalent to k > 0, which we already considered. Therefore, the maximum is indeed (3√3)/2.\n",
      "\n",
      "But let me verify this result by considering specific cases. For example, take λ = 1. Then the expression (2a³ +27c -9ab)/1³ should be maximized at 3√3/2. Let's check with k = sqrt(3)/2, so s = sqrt(3)/2.\n",
      "\n",
      "Then the roots are x₁ = t - 1/2, x₂ = t + 1/2, x₃ = t + sqrt(3)/2. Then S = 3t + sqrt(3)/2, P = 3t² + 2t*(sqrt(3)/2) - 1/4 = 3t² + t*sqrt(3) - 1/4, Q = (t² - 1/4)(t + sqrt(3)/2). Then compute a, b, c from Vieta's formulas. Then compute 2a³ +27c -9ab. It might be tedious, but perhaps we can check.\n",
      "\n",
      "Alternatively, note that our derivation led us to an expression dependent only on k, which is s/λ, and through substitution, we found the maximum. Therefore, the maximum value is (3√3)/2. However, let me recall that the problem states x₃ > (x₁ + x₂)/2, which in our parametrization is s > 0. Therefore, as long as s is positive, which it is, we are okay. So there are no further constraints, and the maximum is indeed (3√3)/2.\n",
      "\n",
      "Wait, but just to be thorough, let's see if when k = sqrt(3)/2, the cubic polynomial indeed has three real roots. Since we are given that all roots are real, but when we parametrize, we need to ensure that the cubic with these roots is valid. However, since we are given that all roots are real and satisfy the given conditions, our parametrization already takes that into account. Therefore, as long as s > 0, the roots are real and satisfy the required conditions. Therefore, the maximum value is indeed (3√3)/2.\n",
      "\n",
      "Thus, the maximum value of (2a³ +27c -9ab)/λ³ is (3√3)/2.\n",
      "\n",
      "**Final Answer**\n",
      "\\boxed{\\dfrac{3\\sqrt{3}}{2}}\n",
      "\n",
      "\n",
      "\n",
      "Given real numbers \\(a, b, c\\) and a positive number \\(\\lambda\\) such that the polynomial \\(f(x) = x^3 + ax^2 + bx + c\\) has three real roots \\(x_1, x_2, x_3\\) with the conditions \\(x_2 - x_1 = \\lambda\\) and \\(x_3 > \\frac{1}{2}(x_1 + x_2)\\), we need to find the maximum value of \\(\\frac{2a^3 + 27c - 9ab}{\\lambda^3}\\).\n",
      "\n",
      "Using Vieta's formulas for the polynomial \\(f(x)\\):\n",
      "1. \\(x_1 + x_2 + x_3 = -a\\)\n",
      "2. \\(x_1x_2 + x_1x_3 + x_2x_3 = b\\)\n",
      "3. \\(x_1x_2x_3 = -c\\)\n",
      "\n",
      "We parametrize the roots as follows:\n",
      "- \\(x_1 = t - \\frac{\\lambda}{2}\\)\n",
      "- \\(x_2 = t + \\frac{\\lambda}{2}\\)\n",
      "- \\(x_3 = t + s\\) where \\(s > 0\\)\n",
      "\n",
      "Substituting these into Vieta's formulas, we get:\n",
      "- \\(S = x_1 + x_2 + x_3 = 3t + s\\)\n",
      "- \\(P = x_1x_2 + x_1x_3 + x_2x_3 = 3t^2 + 2ts - \\frac{\\lambda^2}{4}\\)\n",
      "- \\(Q = x_1x_2x_3 = (t^2 - \\frac{\\lambda^2}{4})(t + s)\\)\n",
      "\n",
      "Substituting \\(a = -S\\), \\(b = P\\), and \\(c = -Q\\) into the expression \\(2a^3 + 27c - 9ab\\), we simplify it to:\n",
      "\\[\n",
      "-2s^3 + \\frac{9}{2}\\lambda^2 s\n",
      "\\]\n",
      "\n",
      "Introducing \\(k = \\frac{s}{\\lambda}\\), the expression becomes:\n",
      "\\[\n",
      "\\frac{-2s^3 + \\frac{9}{2}\\lambda^2 s}{\\lambda^3} = -2k^3 + \\frac{9}{2}k\n",
      "\\]\n",
      "\n",
      "To maximize \\(-2k^3 + \\frac{9}{2}k\\), we take the derivative and set it to zero:\n",
      "\\[\n",
      "g'(k) = -6k^2 + \\frac{9}{2} = 0 \\implies k^2 = \\frac{3}{4} \\implies k = \\frac{\\sqrt{3}}{2}\n",
      "\\]\n",
      "\n",
      "Checking the second derivative confirms a maximum. Substituting \\(k = \\frac{\\sqrt{3}}{2}\\) back into the expression gives:\n",
      "\\[\n",
      "-2\\left(\\frac{\\sqrt{3}}{2}\\right)^3 + \\frac{9}{2}\\left(\\frac{\\sqrt{3}}{2}\\right) = \\frac{3\\sqrt{3}}{2}\n",
      "\\]\n",
      "\n",
      "Thus, the maximum value of \\(\\frac{2a^3 + 27c - 9ab}{\\lambda^3}\\) is \\(\\boxed{\\dfrac{3\\sqrt{3}}{2}}\\).\n"
     ]
    }
   ],
   "source": [
    "print(processed_generation)"
   ]
  },
  {
   "cell_type": "markdown",
   "id": "53451365",
   "metadata": {},
   "source": [
    "# Super RL"
   ]
  },
  {
   "cell_type": "code",
   "execution_count": 3,
   "id": "2c5e3813",
   "metadata": {},
   "outputs": [],
   "source": [
    "dataset_dir = \"/share/goyal/lio/reasoning/data/deepmath_4096\"\n",
    "dataset = load_from_disk(dataset_dir)"
   ]
  },
  {
   "cell_type": "code",
   "execution_count": 34,
   "id": "7abbc94d",
   "metadata": {},
   "outputs": [],
   "source": [
    "dataset_dir = \"/share/goyal/lio/reasoning/data/superrl_4096\"\n",
    "superrl = load_from_disk(dataset_dir)"
   ]
  },
  {
   "cell_type": "code",
   "execution_count": 15,
   "id": "38f42aba",
   "metadata": {
    "scrolled": false
   },
   "outputs": [
    {
     "data": {
      "text/plain": [
       "0   \n",
       "1.0      0.033652\n",
       "1.5      0.074516\n",
       "2.0      0.197106\n",
       "2.5      0.199510\n",
       "3.0      5.682419\n",
       "3.5      1.033604\n",
       "4.0      7.530888\n",
       "4.5      4.329119\n",
       "5.0     16.624201\n",
       "5.5     13.489736\n",
       "6.0     14.859863\n",
       "6.5      6.771309\n",
       "7.0      7.302534\n",
       "7.5      6.011730\n",
       "8.0     10.436998\n",
       "8.5      4.040671\n",
       "9.0      1.319648\n",
       "9.5      0.060093\n",
       "10.0     0.002404\n",
       "Name: proportion, dtype: float64"
      ]
     },
     "execution_count": 15,
     "metadata": {},
     "output_type": "execute_result"
    }
   ],
   "source": [
    "stats = pd.DataFrame(dataset['difficulty']).value_counts(normalize=True) * 100\n",
    "stats.sort_index()"
   ]
  },
  {
   "cell_type": "markdown",
   "id": "a12773a9",
   "metadata": {},
   "source": [
    "# DeepMath"
   ]
  },
  {
   "cell_type": "code",
   "execution_count": 3,
   "id": "afe627f1",
   "metadata": {},
   "outputs": [],
   "source": [
    "deepmath = load_dataset(\"zwhe99/DeepMath-103K\")"
   ]
  },
  {
   "cell_type": "code",
   "execution_count": 4,
   "id": "bf95941a",
   "metadata": {},
   "outputs": [],
   "source": [
    "def tokenize_len (example, tokenizer):\n",
    "    question = example.pop('question')\n",
    "    generations = [example.pop(\"r1_solution_1\"), example.pop(\"r1_solution_2\"), example.pop(\"r1_solution_3\")]\n",
    "    generation = generations[0]\n",
    "    for gen in generations:\n",
    "        if len(gen) < len(generation):\n",
    "            generation = gen\n",
    "    problem_token_count = len(tokenizer.encode(question))\n",
    "    generation_token_count = len(tokenizer.encode(generation))\n",
    "    \n",
    "    return {\n",
    "        \"generation\": generation,\n",
    "        \"problem_token_count\": problem_token_count,\n",
    "        \"generation_token_count\": generation_token_count\n",
    "    }"
   ]
  },
  {
   "cell_type": "code",
   "execution_count": 5,
   "id": "55ca8099",
   "metadata": {},
   "outputs": [
    {
     "data": {
      "application/vnd.jupyter.widget-view+json": {
       "model_id": "af1201f0e3d04ba2a9050f79299531e8",
       "version_major": 2,
       "version_minor": 0
      },
      "text/plain": [
       "Map:   0%|          | 0/103022 [00:00<?, ? examples/s]"
      ]
     },
     "metadata": {},
     "output_type": "display_data"
    }
   ],
   "source": [
    "columns = ['r1_solution_1', 'r1_solution_2', 'r1_solution_3']\n",
    "deepmath = deepmath['train'].map(lambda x: tokenize_len(x, tokenizer), remove_columns = columns)"
   ]
  },
  {
   "cell_type": "code",
   "execution_count": 11,
   "id": "f2858ede",
   "metadata": {},
   "outputs": [],
   "source": [
    "columns = ['problem_token_count', 'generation_token_count']\n",
    "token_count_df = pd.DataFrame(deepmath.select_columns(columns))"
   ]
  },
  {
   "cell_type": "code",
   "execution_count": 13,
   "id": "d11e0c92",
   "metadata": {},
   "outputs": [],
   "source": [
    "token_count_df['problem_token_count'] = token_count_df['problem_token_count'].apply(lambda x: len(x))\n",
    "token_count_df['generation_token_count'] = token_count_df['generation_token_count'].apply(lambda x: len(x))"
   ]
  },
  {
   "cell_type": "code",
   "execution_count": 17,
   "id": "a5357f1c",
   "metadata": {},
   "outputs": [],
   "source": [
    "token_count_df['total_token_count'] = token_count_df['problem_token_count'] + token_count_df['generation_token_count']"
   ]
  },
  {
   "cell_type": "code",
   "execution_count": 19,
   "id": "05328e3d",
   "metadata": {},
   "outputs": [],
   "source": [
    "token_count_df = token_count_df[token_count_df['total_token_count'] <= 4096]"
   ]
  },
  {
   "cell_type": "code",
   "execution_count": 23,
   "id": "68e505c0",
   "metadata": {
    "scrolled": false
   },
   "outputs": [
    {
     "name": "stderr",
     "output_type": "stream",
     "text": [
      "100%|███████████████████████████████████████████████████████████████████████████████████| 1024/1024 [00:01<00:00, 733.81it/s]\n"
     ]
    }
   ],
   "source": [
    "from tqdm import tqdm\n",
    "max_problem_token = 1024\n",
    "stats = {}\n",
    "for problem_token in tqdm(range(max_problem_token)):\n",
    "    num = len(token_count_df[(token_count_df['problem_token_count'] <= problem_token) & (token_count_df['generation_token_count'] <= 4096 - problem_token)])\n",
    "    stats[problem_token] = num"
   ]
  },
  {
   "cell_type": "code",
   "execution_count": 30,
   "id": "8b5b4fe8",
   "metadata": {},
   "outputs": [],
   "source": [
    "stats = pd.DataFrame.from_dict(stats, orient=\"index\").rename(columns = {0: \"num\"})"
   ]
  },
  {
   "cell_type": "markdown",
   "id": "9aa78c78",
   "metadata": {},
   "source": [
    "# DeepMath-Hard-SFT"
   ]
  },
  {
   "cell_type": "code",
   "execution_count": 6,
   "id": "2f319234",
   "metadata": {},
   "outputs": [],
   "source": [
    "deepmath_hard_sft = load_dataset(\"aochongoliverli/deepmath-4096-hard-sft\")['train']"
   ]
  },
  {
   "cell_type": "code",
   "execution_count": 4,
   "id": "0654e29e",
   "metadata": {},
   "outputs": [],
   "source": [
    "tokenizer = AutoTokenizer.from_pretrained(\"Qwen/Qwen2.5-Math-1.5B\")"
   ]
  },
  {
   "cell_type": "code",
   "execution_count": 8,
   "id": "48e232cc",
   "metadata": {},
   "outputs": [],
   "source": [
    "idx = 100\n",
    "example = deepmath_hard_sft[idx]"
   ]
  },
  {
   "cell_type": "code",
   "execution_count": 14,
   "id": "d24d091a",
   "metadata": {
    "scrolled": true
   },
   "outputs": [
    {
     "data": {
      "text/plain": [
       "\"<|im_start|>system\\nPlease reason step by step, and put your final answer within \\\\boxed{}.<|im_end|>\\n<|im_start|>user\\nEvaluate the surface integral \\\\( \\\\int \\\\int_S z \\\\, dS \\\\) where \\\\( S \\\\) is the surface of the hemisphere defined by \\\\( x^2 + y^2 + z^2 = a^2 \\\\) with \\\\( z \\\\geq 0 \\\\).<|im_end|>\\n<|im_start|>assistant\\nOkay, so I need to evaluate the surface integral of z over the hemisphere defined by x² + y² + z² = a² with z ≥ 0. Hmm, surface integrals... right. Let me recall how to approach this.\\n\\nFirst, I remember that a surface integral is like integrating a function over a curved surface, as opposed to a flat region in double integrals. For a scalar function, the formula is ∫∫_S f(x,y,z) dS. In this case, the function is z, and the surface S is the upper hemisphere of radius a.\\n\\nTo compute this, I need to parameterize the surface. The hemisphere can be parameterized using spherical coordinates, since it's a sphere of radius a. In spherical coordinates, the parametrization would be:\\n\\nx = a sinφ cosθ\\n\\ny = a sinφ sinθ\\n\\nz = a cosφ\\n\\nwhere φ ranges from 0 to π/2 (since it's the upper hemisphere) and θ ranges from 0 to 2π.\\n\\nBut wait, before I proceed, let me make sure. Alternatively, I could use a parametrization in terms of x and y, expressing z in terms of x and y. That is, z = sqrt(a² - x² - y²). But then, when you parametrize the surface like that, you have to compute dS, which involves the differential area element for a surface defined as z = f(x, y). The formula for dS in that case is sqrt( (∂z/∂x)² + (∂z/∂y)² + 1 ) dA, where dA is dx dy.\\n\\nHmm, so maybe both methods are possible. Let me see which one might be simpler. Using spherical coordinates might be more straightforward because of the symmetry of the hemisphere. Using Cartesian coordinates might involve more complicated integration limits and integrand. Let me try spherical coordinates first.\\n\\nSo, parametrizing with φ and θ. Then, the differential area element dS on a sphere is known to be a² sinφ dφ dθ. Wait, but let me verify that. Because in spherical coordinates, the radius is fixed (a here), so when you parameterize the surface, the differential element is given by the cross product of the partial derivatives of the parametrization with respect to φ and θ.\\n\\nRight. The general formula for dS is |r_φ × r_θ| dφ dθ, where r(φ, θ) is the parametrization. Let's compute that.\\n\\nGiven:\\n\\nr(φ, θ) = (a sinφ cosθ, a sinφ sinθ, a cosφ)\\n\\nCompute the partial derivatives:\\n\\nr_φ = derivative with respect to φ:\\n\\n= (a cosφ cosθ, a cosφ sinθ, -a sinφ)\\n\\nr_θ = derivative with respect to θ:\\n\\n= (-a sinφ sinθ, a sinφ cosθ, 0)\\n\\nThen, take the cross product r_φ × r_θ:\\n\\nLet's compute component-wise:\\n\\ni component: (a cosφ sinθ)(0) - (-a sinφ)(a sinφ cosθ) = 0 + a² sin²φ cosθ\\n\\nWait, hold on, cross product components:\\n\\nThe cross product of vectors (u1, u2, u3) and (v1, v2, v3) is:\\n\\n(u2v3 - u3v2, u3v1 - u1v3, u1v2 - u2v1)\\n\\nSo, for r_φ × r_θ:\\n\\nFirst component (i): r_φ,y * r_θ,z - r_φ,z * r_θ,y\\n\\nr_φ,y = a cosφ sinθ\\n\\nr_θ,z = 0\\n\\nr_φ,z = -a sinφ\\n\\nr_θ,y = a sinφ cosθ\\n\\nSo, i component: (a cosφ sinθ)(0) - (-a sinφ)(a sinφ cosθ) = 0 + a² sin²φ cosθ\\n\\nSecond component (j): r_φ,z * r_θ,x - r_φ,x * r_θ,z\\n\\nr_φ,z = -a sinφ\\n\\nr_θ,x = -a sinφ sinθ\\n\\nr_φ,x = a cosφ cosθ\\n\\nr_θ,z = 0\\n\\nSo, j component: (-a sinφ)(-a sinφ sinθ) - (a cosφ cosθ)(0) = a² sin²φ sinθ - 0 = a² sin²φ sinθ\\n\\nThird component (k): r_φ,x * r_θ,y - r_φ,y * r_θ,x\\n\\nr_φ,x = a cosφ cosθ\\n\\nr_θ,y = a sinφ cosθ\\n\\nr_φ,y = a cosφ sinθ\\n\\nr_θ,x = -a sinφ sinθ\\n\\nSo, k component: (a cosφ cosθ)(a sinφ cosθ) - (a cosφ sinθ)(-a sinφ sinθ)\\n\\n= a² cosφ sinφ cos²θ + a² cosφ sinφ sin²θ\\n\\n= a² cosφ sinφ (cos²θ + sin²θ)\\n\\n= a² cosφ sinφ (1)\\n\\n= a² cosφ sinφ\\n\\nTherefore, the cross product r_φ × r_θ = (a² sin²φ cosθ, a² sin²φ sinθ, a² cosφ sinφ)\\n\\nThen, the magnitude of this vector is sqrt[ (a² sin²φ cosθ)^2 + (a² sin²φ sinθ)^2 + (a² cosφ sinφ)^2 ]\\n\\nFactor out a^4 sin²φ:\\n\\n= a² sinφ sqrt[ sin²φ (cos²θ + sin²θ) + cos²φ ]\\n\\nSince cos²θ + sin²θ = 1, this becomes:\\n\\n= a² sinφ sqrt[ sin²φ + cos²φ ]\\n\\n= a² sinφ sqrt[1] = a² sinφ\\n\\nTherefore, dS = |r_φ × r_θ| dφ dθ = a² sinφ dφ dθ\\n\\nSo, that's the differential surface element. Got that.\\n\\nSo, the integral becomes:\\n\\n∫∫_S z dS = ∫ (θ=0 to 2π) ∫ (φ=0 to π/2) z(φ, θ) * a² sinφ dφ dθ\\n\\nBut z(φ, θ) in spherical coordinates is a cosφ.\\n\\nSo substitute z:\\n\\n= ∫₀^{2π} ∫₀^{π/2} (a cosφ) * a² sinφ dφ dθ\\n\\n= a³ ∫₀^{2π} dθ ∫₀^{π/2} cosφ sinφ dφ\\n\\nFirst, compute the integral over φ. Let's make substitution:\\n\\nLet u = sinφ, then du = cosφ dφ\\n\\nSo ∫ cosφ sinφ dφ = ∫ u du = (1/2) u² + C\\n\\nSo from φ=0 to φ=π/2:\\n\\n(1/2)(sin²(π/2) - sin²(0)) = (1/2)(1 - 0) = 1/2\\n\\nTherefore, the integral over φ is 1/2.\\n\\nThen, the integral over θ is ∫₀^{2π} dθ = 2π\\n\\nThus, the total integral is a³ * 2π * (1/2) = a³ π\\n\\nHmm, so the answer is π a³. Let me check if that makes sense.\\n\\nAlternatively, let's see if using Cartesian coordinates would give the same result. Let me try that approach for verification.\\n\\nIn Cartesian coordinates, the surface is z = sqrt(a² - x² - y²). So, we can parametrize the surface using x and y, where x² + y² ≤ a².\\n\\nThen, the differential surface element dS is sqrt( (∂z/∂x)^2 + (∂z/∂y)^2 + 1 ) dx dy\\n\\nCompute ∂z/∂x:\\n\\n∂z/∂x = (1/(2 sqrt(a² - x² - y²)))(-2x) = -x / sqrt(a² - x² - y²)\\n\\nSimilarly, ∂z/∂y = -y / sqrt(a² - x² - y²)\\n\\nTherefore, (∂z/∂x)^2 + (∂z/∂y)^2 + 1 = (x² + y²)/(a² - x² - y²) + 1 = (x² + y² + a² - x² - y²)/(a² - x² - y²) ) = a² / (a² - x² - y²)\\n\\nTherefore, dS = sqrt(a² / (a² - x² - y²)) dx dy = a / sqrt(a² - x² - y²) dx dy\\n\\nTherefore, the integral becomes:\\n\\n∫∫_{x² + y² ≤ a²} z * (a / sqrt(a² - x² - y²)) dx dy\\n\\nBut z is sqrt(a² - x² - y²), so substituting:\\n\\n= ∫∫_{x² + y² ≤ a²} sqrt(a² - x² - y²) * (a / sqrt(a² - x² - y²)) dx dy\\n\\nSimplify:\\n\\n= ∫∫_{x² + y² ≤ a²} a dx dy\\n\\n= a * Area of the disk x² + y² ≤ a²\\n\\nThe area of the disk is π a², so the integral is a * π a² = π a³\\n\\nSame result! So both methods give π a³, so that seems consistent. Therefore, the answer is π a³.\\n\\nWait, but just to make sure, let me think if there's another way to do this, maybe using symmetry or another coordinate system.\\n\\nAlternatively, using polar coordinates on the xy-plane. Wait, that's essentially what we did in the second method, right? When we used Cartesian coordinates and converted to polar coordinates for the disk. Let me recap:\\n\\nIn the second method, after simplifying, the integral became a times the area of the disk, which is a * π a² = π a³. That's straightforward. So that's a neat way to do it. So actually, if you recognize that when you have z dS over the hemisphere, and when you parametrize it in terms of x and y, the integrand simplifies nicely because z and dS combine to give a constant times the area element. That's probably the quicker way.\\n\\nBut since both methods gave the same result, I can be more confident that π a³ is the correct answer.\\n\\nAnother way to think about it: The integral of z over the hemisphere. Since the hemisphere is symmetric around the z-axis, we can maybe use polar coordinates or spherical coordinates and take advantage of symmetry. The integral over θ would just give 2π, as we saw, and the integral over φ would involve sinφ cosφ, which integrates to 1/2, leading to the same result.\\n\\nAlternatively, maybe using surface area elements. Wait, but the integral isn't just the surface area; it's the integral of z over the surface. But in any case, the result is π a³. Let me check dimensions as well. The integral of z (which has dimensions of length) over a surface (dimensions of length squared) should have dimensions of length cubed. π a³ is indeed length cubed, so that's consistent.\\n\\nAlternatively, consider scaling: if a=1, then the integral would be π. If a=2, integral would be 8π. Seems reasonable.\\n\\nAlternatively, think about Pappus's theorem. Wait, Pappus's theorem relates the surface area of a surface of revolution to the product of the length of the curve being rotated and the distance traveled by the centroid. But here, we have an integral of z over the surface. Hmm, not sure if that applies here.\\n\\nBut perhaps integrating z over the hemisphere: since the hemisphere is symmetric, the average value of z multiplied by the surface area would be the integral. Let's see, the surface area of the hemisphere is 2π a² (since half of 4π a²). The average value of z would be (1/(2π a²)) ∫∫ z dS. If our result is π a³, then the average value is (π a³) / (2π a²) = a/2, which makes sense. Because the centroid of a hemisphere is at z = 3a/8, wait, no. Wait, no, actually, the center of mass of a hemispherical shell is at z = a/2. Wait, is that right?\\n\\nWait, center of mass for a surface (shell) versus a solid hemisphere. For a solid hemisphere, the center of mass is at 3a/8, but for a surface, the center of mass is different. Let me recall.\\n\\nFor a hemispherical shell, the centroid (center of mass assuming uniform density) is at z = a/2. Let me confirm. If we parameterize it in spherical coordinates, the average z-coordinate would be the integral of z over the surface divided by the surface area.\\n\\nSo, as above, the integral of z over the surface is π a³, and the surface area is 2π a². So average z is π a³ / (2π a²) = a/2. So the centroid is at z = a/2, which makes sense for a surface, as opposed to the solid hemisphere which is lower. So that seems reasonable, so that also gives me confidence the integral is correct.\\n\\nTherefore, putting it all together, the value of the surface integral is π a³.\\n\\n**Final Answer**\\nThe value of the surface integral is \\\\boxed{\\\\pi a^3}.\\n</think>\\n\\nTo evaluate the surface integral \\\\( \\\\int \\\\int_S z \\\\, dS \\\\) where \\\\( S \\\\) is the surface of the hemisphere defined by \\\\( x^2 + y^2 + z^2 = a^2 \\\\) with \\\\( z \\\\geq 0 \\\\), we can use spherical coordinates for parametrization.\\n\\n1. **Parametrization of the Hemisphere**:\\n   - The hemisphere can be parameterized using spherical coordinates:\\n     \\\\[\\n     x = a \\\\sin\\\\phi \\\\cos\\\\theta, \\\\quad y = a \\\\sin\\\\phi \\\\sin\\\\theta, \\\\quad z = a \\\\cos\\\\phi\\n     \\\\]\\n   - Here, \\\\(\\\\phi\\\\) ranges from \\\\(0\\\\) to \\\\(\\\\pi/2\\\\) and \\\\(\\\\theta\\\\) ranges from \\\\(0\\\\) to \\\\(2\\\\pi\\\\).\\n\\n2. **Differential Surface Element**:\\n   - The differential surface element \\\\(dS\\\\) on a sphere of radius \\\\(a\\\\) is given by:\\n     \\\\[\\n     dS = a^2 \\\\sin\\\\phi \\\\, d\\\\phi \\\\, d\\\\theta\\n     \\\\]\\n\\n3. **Setting Up the Integral**:\\n   - The integral becomes:\\n     \\\\[\\n     \\\\int \\\\int_S z \\\\, dS = \\\\int_0^{2\\\\pi} \\\\int_0^{\\\\pi/2} (a \\\\cos\\\\phi) \\\\cdot a^2 \\\\sin\\\\phi \\\\, d\\\\phi \\\\, d\\\\theta\\n     \\\\]\\n   - Simplifying the integrand:\\n     \\\\[\\n     = a^3 \\\\int_0^{2\\\\pi} \\\\int_0^{\\\\pi/2} \\\\cos\\\\phi \\\\sin\\\\phi \\\\, d\\\\phi \\\\, d\\\\theta\\n     \\\\]\\n\\n4. **Evaluating the Integrals**:\\n   - The integral over \\\\(\\\\phi\\\\):\\n     \\\\[\\n     \\\\int_0^{\\\\pi/2} \\\\cos\\\\phi \\\\sin\\\\phi \\\\, d\\\\phi = \\\\left[ \\\\frac{1}{2} \\\\sin^2\\\\phi \\\\right]_0^{\\\\pi/2} = \\\\frac{1}{2}\\n     \\\\]\\n   - The integral over \\\\(\\\\theta\\\\):\\n     \\\\[\\n     \\\\int_0^{2\\\\pi} d\\\\theta = 2\\\\pi\\n     \\\\]\\n\\n5. **Combining Results**:\\n   - Multiplying the results of the integrals:\\n     \\\\[\\n     a^3 \\\\cdot 2\\\\pi \\\\cdot \\\\frac{1}{2} = \\\\pi a^3\\n     \\\\]\\n\\nThus, the value of the surface integral is \\\\(\\\\boxed{\\\\pi a^3}\\\\).<|im_end|>\\n\""
      ]
     },
     "execution_count": 14,
     "metadata": {},
     "output_type": "execute_result"
    }
   ],
   "source": [
    "tokenizer.apply_chat_template(example['conversations'],tokenize=False)"
   ]
  },
  {
   "cell_type": "markdown",
   "id": "3c669b9d",
   "metadata": {},
   "source": [
    "# Math-500"
   ]
  },
  {
   "cell_type": "code",
   "execution_count": 48,
   "id": "596f6e67",
   "metadata": {},
   "outputs": [
    {
     "data": {
      "application/vnd.jupyter.widget-view+json": {
       "model_id": "100acf9f71c74a80954dcf80b4b758ee",
       "version_major": 2,
       "version_minor": 0
      },
      "text/plain": [
       "Filter:   0%|          | 0/500 [00:00<?, ? examples/s]"
      ]
     },
     "metadata": {},
     "output_type": "display_data"
    }
   ],
   "source": [
    "math500 = load_dataset(\"HuggingFaceH4/MATH-500\")['test']\n",
    "math_500_hard = math500.filter(lambda x: x['level'] >= 3.0)"
   ]
  },
  {
   "cell_type": "code",
   "execution_count": 64,
   "id": "f7b48b44",
   "metadata": {
    "scrolled": true
   },
   "outputs": [
    {
     "name": "stdout",
     "output_type": "stream",
     "text": [
      "<|im_start|>system\n",
      "Please reason step by step, and put your final answer within \\boxed{}.<|im_end|>\n",
      "<|im_start|>user\n",
      "Find the number of integer values of $k$ in the closed interval $[-500,500]$ for which the equation $\\log(kx)=2\\log(x+2)$ has exactly one real solution.<|im_end|>\n",
      "<|im_start|>assistant\n",
      "\n"
     ]
    }
   ],
   "source": [
    "idx = 50\n",
    "conversations = [{'role': 'user', 'content': math_500_hard[idx]['problem']}]\n",
    "print(tokenizer.apply_chat_template(conversations, tokenize =False, add_generation_prompt=True))"
   ]
  },
  {
   "cell_type": "code",
   "execution_count": 65,
   "id": "b3a1be39",
   "metadata": {
    "scrolled": true
   },
   "outputs": [
    {
     "name": "stdout",
     "output_type": "stream",
     "text": [
      "Solution:  501\n"
     ]
    }
   ],
   "source": [
    "print(\"Solution: \", math_500_hard[idx]['answer'])"
   ]
  },
  {
   "cell_type": "code",
   "execution_count": null,
   "id": "3e81fb4c",
   "metadata": {
    "scrolled": true
   },
   "outputs": [],
   "source": [
    "print(\"Level: \", math_500_hard[idx]['level'])"
   ]
  },
  {
   "cell_type": "code",
   "execution_count": null,
   "id": "36129dde",
   "metadata": {},
   "outputs": [],
   "source": [
    "<|im_start|>system\n",
    "Please reason step by step, and put your final answer within \\boxed{}.<|im_end|>\n",
    "<|im_start|>user\n",
    "In right triangle $ABC$ with $\\angle B = 90^\\circ$, we have $\\sin A = 2\\cos A$.  What is $\\tan A$?<|im_end|>\n",
    "<|im_start|>assistant\n",
    "Okay, so I need to find tan A in a right triangle ABC where angle B is 90 degrees, and sin A equals 3 cos A. Hmm, let's start by recalling some trigonometric identities and properties of right triangles.\n",
    "\n",
    "First, in a right triangle, the angles add up to 180 degrees, and since angle B is 90 degrees, angles A and C must add up to 90 degrees as well. That means they are complementary angles. So, angle A + angle C = 90 degrees. That might come in handy later.\n",
    "\n",
    "Now, the problem states that sin A = 3 cos A. I need to find tan A. Remember that tan A is sin A over cos A. So, if I can find sin A and cos A, then dividing them will give me tan A. But they already told me that sin A is twice cos A, so maybe I can express tan A directly in terms of this relationship.\n",
    "\n",
    "Let me write down the given equation:\n",
    "\n",
    "sin A = 3 cos A\n",
    "\n",
    "If I divide both sides by cos A (assuming cos A is not zero, which makes sense in a right triangle since angles are between 0 and 90 degrees, so cos A can't be zero), I get:\n",
    "\n",
    "sin A / cos A = 3\n",
    "\n",
    "But sin A / cos A is exactly tan A. So, tan A = 3.\n",
    "\n",
    "Wait, that seems too straightforward. Let me verify if there's any catch here. The problem mentions it's a right triangle, so maybe I need to check if there are any constraints or if there's something I missed.\n",
    "\n",
    "In a right triangle, all sides are positive, and the trigonometric functions depend on the sides. Let me try to use the Pythagorean theorem to relate the sides. Let's denote the sides as follows:\n",
    "\n",
    "- AB and BC are the legs, and AC is the hypotenuse.\n",
    "\n",
    "Given that angle B is 90 degrees, AB is adjacent to angle A, BC is opposite to angle A, and AC is the hypotenuse.\n",
    "\n",
    "So, sin A = opposite / hypotenuse = BC / AC\n",
    "\n",
    "cos A = adjacent / hypotenuse = AB / AC\n",
    "\n",
    "tan A = opposite / adjacent = BC / AB\n",
    "\n",
    "Given that sin A = 3 cos A, substituting the expressions:\n",
    "\n",
    "BC / AC = 3 * (AB / AC)\n",
    "                                 \n",
    "Wait"
   ]
  },
  {
   "cell_type": "markdown",
   "id": "ba092be6",
   "metadata": {},
   "source": [
    "# Reasoning Trace"
   ]
  },
  {
   "cell_type": "code",
   "execution_count": 34,
   "id": "0149fcd5",
   "metadata": {
    "scrolled": true
   },
   "outputs": [
    {
     "data": {
      "application/vnd.jupyter.widget-view+json": {
       "model_id": "26d35f02813543eb83b0c4f64f37fc4e",
       "version_major": 2,
       "version_minor": 0
      },
      "text/plain": [
       "README.md:   0%|          | 0.00/480 [00:00<?, ?B/s]"
      ]
     },
     "metadata": {},
     "output_type": "display_data"
    },
    {
     "data": {
      "application/vnd.jupyter.widget-view+json": {
       "model_id": "82d28fe75aee41ca8e96951f1f9a42b7",
       "version_major": 2,
       "version_minor": 0
      },
      "text/plain": [
       "train-00000-of-00002.parquet:   0%|          | 0.00/111M [00:00<?, ?B/s]"
      ]
     },
     "metadata": {},
     "output_type": "display_data"
    },
    {
     "data": {
      "application/vnd.jupyter.widget-view+json": {
       "model_id": "685a6990bbc549c09baa661c8faf270a",
       "version_major": 2,
       "version_minor": 0
      },
      "text/plain": [
       "train-00001-of-00002.parquet:   0%|          | 0.00/111M [00:00<?, ?B/s]"
      ]
     },
     "metadata": {},
     "output_type": "display_data"
    },
    {
     "data": {
      "application/vnd.jupyter.widget-view+json": {
       "model_id": "ad78bc434625438e9f8e245e86216a2c",
       "version_major": 2,
       "version_minor": 0
      },
      "text/plain": [
       "Generating train split:   0%|          | 0/46578 [00:00<?, ? examples/s]"
      ]
     },
     "metadata": {},
     "output_type": "display_data"
    }
   ],
   "source": [
    "dataset = load_dataset(\"aochongoliverli/Qwen2.5-Math-1.5B-deepmath-hard-1800-steps-4096-reasoning-data\")"
   ]
  },
  {
   "cell_type": "code",
   "execution_count": 35,
   "id": "2e3600be",
   "metadata": {},
   "outputs": [
    {
     "data": {
      "text/plain": [
       "DatasetDict({\n",
       "    train: Dataset({\n",
       "        features: ['index', 'question', 'correct_responses', 'num_correct', 'attempts', 'is_complete'],\n",
       "        num_rows: 46578\n",
       "    })\n",
       "})"
      ]
     },
     "execution_count": 35,
     "metadata": {},
     "output_type": "execute_result"
    }
   ],
   "source": [
    "dataset"
   ]
  },
  {
   "cell_type": "code",
   "execution_count": 36,
   "id": "02a685ef",
   "metadata": {},
   "outputs": [],
   "source": [
    "is_complete = dataset['train']['is_complete']\n",
    "attempts = dataset['train']['attempts']"
   ]
  },
  {
   "cell_type": "code",
   "execution_count": 37,
   "id": "3e8ba412",
   "metadata": {},
   "outputs": [
    {
     "name": "stdout",
     "output_type": "stream",
     "text": [
      "0.8580875091244794\n"
     ]
    }
   ],
   "source": [
    "print(sum(is_complete)/len(is_complete))"
   ]
  },
  {
   "cell_type": "code",
   "execution_count": 38,
   "id": "4be8e92c",
   "metadata": {},
   "outputs": [
    {
     "data": {
      "text/plain": [
       "np.float64(16.30022757525012)"
      ]
     },
     "execution_count": 38,
     "metadata": {},
     "output_type": "execute_result"
    }
   ],
   "source": [
    "pd.Series(attempts).mean()"
   ]
  },
  {
   "cell_type": "markdown",
   "id": "4b95de9f",
   "metadata": {},
   "source": [
    "# CountDown"
   ]
  },
  {
   "cell_type": "code",
   "execution_count": 3,
   "id": "df526fd3",
   "metadata": {},
   "outputs": [
    {
     "data": {
      "text/plain": [
       "'/home/cn356/oliver/research/perturb-r/notebook'"
      ]
     },
     "execution_count": 3,
     "metadata": {},
     "output_type": "execute_result"
    }
   ],
   "source": [
    "pwd"
   ]
  }
 ],
 "metadata": {
  "kernelspec": {
   "display_name": "Python 3 (ipykernel)",
   "language": "python",
   "name": "python3"
  },
  "language_info": {
   "codemirror_mode": {
    "name": "ipython",
    "version": 3
   },
   "file_extension": ".py",
   "mimetype": "text/x-python",
   "name": "python",
   "nbconvert_exporter": "python",
   "pygments_lexer": "ipython3",
   "version": "3.10.16"
  }
 },
 "nbformat": 4,
 "nbformat_minor": 5
}
