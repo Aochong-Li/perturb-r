{
 "cells": [
  {
   "cell_type": "code",
   "execution_count": 1,
   "id": "108b17fc",
   "metadata": {},
   "outputs": [],
   "source": [
    "import pandas as pd \n",
    "import os \n",
    "\n",
    "from transformers import AutoModelForCausalLM, AutoTokenizer\n",
    "from datasets import load_dataset\n",
    "\n",
    "import seaborn as sns\n",
    "\n",
    "from datasets import load_dataset\n",
    "import numpy as np\n",
    "import json"
   ]
  },
  {
   "cell_type": "code",
   "execution_count": 2,
   "id": "56a7421e",
   "metadata": {
    "scrolled": true
   },
   "outputs": [
    {
     "data": {
      "text/plain": [
       "'/home/al2644/research/codebase/reasoning/perturb-r/notebook'"
      ]
     },
     "execution_count": 2,
     "metadata": {},
     "output_type": "execute_result"
    }
   ],
   "source": [
    "pwd"
   ]
  },
  {
   "cell_type": "code",
   "execution_count": 4,
   "id": "7888e96b",
   "metadata": {},
   "outputs": [
    {
     "name": "stdout",
     "output_type": "stream",
     "text": [
      "/home/al2644/research/codebase/reasoning/perturb-r\n"
     ]
    }
   ],
   "source": [
    "cd /home/al2644/research/codebase/reasoning/perturb-r"
   ]
  },
  {
   "cell_type": "markdown",
   "id": "818fcb25",
   "metadata": {},
   "source": [
    "# Reasoning Results"
   ]
  },
  {
   "cell_type": "code",
   "execution_count": 5,
   "id": "88fa0269",
   "metadata": {
    "scrolled": false
   },
   "outputs": [
    {
     "name": "stdout",
     "output_type": "stream",
     "text": [
      "Qwen3-1.7B.pickle\n",
      "Pass@8 Accuracy: 0.6166666666666667\n",
      "Qwen3-1.7B_nothinking.pickle\n",
      "Pass@8 Accuracy: 0.2833333333333333\n",
      "Qwen3-8B.pickle\n",
      "Pass@8 Accuracy: 0.75\n",
      "Qwen3-8B_nothinking.pickle\n",
      "Pass@8 Accuracy: 0.4166666666666667\n"
     ]
    }
   ],
   "source": [
    "root = \"./results/aime2425/benchmark\"\n",
    "k = 8\n",
    "for fname in os.listdir(root):\n",
    "    if 'correct' not in fname:\n",
    "        print(fname)\n",
    "        df = pd.read_pickle(os.path.join(root, fname))\n",
    "        pass_at_k = df.groupby(\"problem\")[[\"correct\"]].max()[\"correct\"].mean()\n",
    "        print(f\"Pass@{k} Accuracy: {pass_at_k}\")"
   ]
  },
  {
   "cell_type": "code",
   "execution_count": 86,
   "id": "13482d0f",
   "metadata": {},
   "outputs": [],
   "source": [
    "df = pd.read_pickle(os.path.join(root, \"Qwen3-8B_nothinking.pickle\"))"
   ]
  },
  {
   "cell_type": "markdown",
   "id": "85303768",
   "metadata": {},
   "source": [
    "# Annotated Reasoning"
   ]
  },
  {
   "cell_type": "code",
   "execution_count": 74,
   "id": "12f3e99b",
   "metadata": {},
   "outputs": [],
   "source": [
    "import utils\n",
    "import importlib\n",
    "importlib.reload(utils)\n",
    "from utils.process_thinking import chunk_tool"
   ]
  },
  {
   "cell_type": "code",
   "execution_count": 82,
   "id": "3ed28026",
   "metadata": {
    "scrolled": true
   },
   "outputs": [],
   "source": [
    "root = \"./results/aime2425/annotated_reasoning/\"\n",
    "df = pd.read_pickle(os.path.join(root, \"Qwen3-1.7B.pickle\"))"
   ]
  },
  {
   "cell_type": "code",
   "execution_count": 92,
   "id": "0d40bf3c",
   "metadata": {},
   "outputs": [
    {
     "data": {
      "text/plain": [
       "problem                      Jen enters a lottery by picking $4$ distinct n...\n",
       "solution                                                                   116\n",
       "source                                                                 aime 24\n",
       "response                     <think>\\nOkay, so Jen is entering a lottery, r...\n",
       "correct                                                                    1.0\n",
       "chunks                       [<think>\\n, Okay, so Jen is entering a lottery...\n",
       "prompt                       <instruction>\\nYou are given a sequence of rea...\n",
       "idx                                                                         17\n",
       "1st_answer_annotation_raw                    [<answer_chunk>19</answer_chunk>]\n",
       "1st_answer_chunk_index                                                      19\n",
       "Name: 17, dtype: object"
      ]
     },
     "execution_count": 92,
     "metadata": {},
     "output_type": "execute_result"
    }
   ],
   "source": [
    "row"
   ]
  },
  {
   "cell_type": "code",
   "execution_count": 76,
   "id": "0fd43942",
   "metadata": {},
   "outputs": [],
   "source": [
    "idx = 10\n",
    "row=df.iloc[idx]\n",
    "problem, response, chunks, index, solution = row[\"problem\"], row[\"response\"], row[\"chunks\"], row[\"1st_answer_chunk_index\"], row[\"solution\"]"
   ]
  },
  {
   "cell_type": "code",
   "execution_count": 83,
   "id": "ff5a9e74",
   "metadata": {
    "scrolled": true
   },
   "outputs": [
    {
     "name": "stdout",
     "output_type": "stream",
     "text": [
      "19\n"
     ]
    }
   ],
   "source": [
    "print(index)"
   ]
  },
  {
   "cell_type": "code",
   "execution_count": 78,
   "id": "a600afb4",
   "metadata": {},
   "outputs": [
    {
     "name": "stdout",
     "output_type": "stream",
     "text": [
      "116\n"
     ]
    }
   ],
   "source": [
    "print(solution)"
   ]
  },
  {
   "cell_type": "code",
   "execution_count": 79,
   "id": "b62dacbe",
   "metadata": {},
   "outputs": [
    {
     "name": "stdout",
     "output_type": "stream",
     "text": [
      "Jen enters a lottery by picking $4$ distinct numbers from $S=\\{1,2,3,\\cdots,9,10\\}.$ $4$ numbers are randomly chosen from $S.$ She wins a prize if at least two of her numbers were $2$ of the randomly chosen numbers, and wins the grand prize if all four of her numbers were the randomly chosen numbers. The probability of her winning the grand prize given that she won a prize is $\\tfrac{m}{n}$ where $m$ and $n$ are relatively prime positive integers. Find $m+n$.\n"
     ]
    }
   ],
   "source": [
    "print(problem)"
   ]
  },
  {
   "cell_type": "code",
   "execution_count": 85,
   "id": "2ae98eea",
   "metadata": {
    "scrolled": true
   },
   "outputs": [],
   "source": [
    "first_attempt_chunks = chunks[:index+1]"
   ]
  },
  {
   "cell_type": "code",
   "execution_count": 86,
   "id": "752e6f24",
   "metadata": {
    "scrolled": true
   },
   "outputs": [
    {
     "name": "stdout",
     "output_type": "stream",
     "text": [
      "###START OF CHUNK0\n",
      "\n",
      "<think>\n",
      "\n",
      "###END OF CHUNK0\n",
      "\n",
      "###START OF CHUNK1\n",
      "\n",
      "Okay, so Jen is entering a lottery, right? She picks 4 distinct numbers from the set S = {1, 2, 3, ..., 9, 10}. Then, 4 numbers are randomly chosen from S. She wins a prize if at least two of her numbers are in the randomly chosen set, and she wins the grand prize if all four of her numbers are in the randomly chosen set. We need to find the probability that she wins the grand prize given that she won a prize. The answer should be in the form m/n where m and n are coprime, and then find m + n.\n",
      "\n",
      "###END OF CHUNK1\n",
      "\n",
      "###START OF CHUNK2\n",
      "\n",
      "\n",
      "Alright, let's break this down. So, the problem is a conditional probability question. The probability we need is P(grand prize | at least two of her numbers are in the randomly chosen set). In probability terms, that's P(grand prize and at least two numbers in the random set) divided by P(at least two numbers in the random set). \n",
      "\n",
      "\n",
      "###END OF CHUNK2\n",
      "\n",
      "###START OF CHUNK3\n",
      "\n",
      "But maybe there's a smarter way to approach this. Let me recall that conditional probability formula: P(A|B) = P(A ∩ B)/P(B). So, in this case, A is \"grand prize\" and B is \"at least two numbers in the random set.\" So, the problem is asking for P(grand prize | at least two numbers in the random set) = P(grand prize and at least two numbers in the random set) / P(at least two numbers in the random set). \n",
      "\n",
      "\n",
      "###END OF CHUNK3\n",
      "\n",
      "###START OF CHUNK4\n",
      "\n",
      "But wait, actually, the grand prize is a subset of the \"at least two numbers\" condition. Because if she wins the grand prize, then she has all four numbers in the random set, so that certainly satisfies \"at least two numbers.\" So, the numerator is just P(grand prize) and the denominator is P(at least two numbers). Therefore, the problem reduces to calculating P(grand prize) divided by P(at least two numbers). \n",
      "\n",
      "###END OF CHUNK4\n",
      "\n",
      "###START OF CHUNK5\n",
      "\n",
      "\n",
      "But let me confirm. If she has the grand prize, then she definitely has at least two numbers. So, the event \"grand prize\" is a subset of \"at least two numbers.\" Therefore, the conditional probability is just P(grand prize)/P(at least two numbers). Therefore, we need to compute those two probabilities.\n",
      "\n",
      "\n",
      "###END OF CHUNK5\n",
      "\n",
      "###START OF CHUNK6\n",
      "\n",
      "So, first, let's compute the total number of possible ways Jen can pick her numbers. She picks 4 distinct numbers from S, which has 10 numbers. So, the total number of possible combinations is C(10, 4). Then, the number of ways that she wins the grand prize is the number of combinations where all four of her numbers are in the randomly chosen set. So, the number of ways that the random selection includes her 4 numbers is 1 (since there's only one way to choose all four numbers). \n",
      "\n",
      "\n",
      "###END OF CHUNK6\n",
      "\n",
      "###START OF CHUNK7\n",
      "\n",
      "But wait, actually, the random selection is 4 numbers from S. So, the number of possible random selections is C(10, 4). So, the probability that she wins the grand prize is equal to the number of favorable outcomes divided by total outcomes. The number of favorable outcomes is the number of ways that her 4 numbers are selected, which is 1 (since she has fixed her numbers), and the total number of possible selections is C(10, 4). Therefore, the probability of winning the grand prize is 1 / C(10, 4). \n",
      "\n",
      "###END OF CHUNK7\n",
      "\n",
      "###START OF CHUNK8\n",
      "\n",
      "\n",
      "Wait, but hold on. Wait, actually, when we compute conditional probability, we need to consider the probability that both events happen. But maybe I need to think in terms of probabilities rather than combinations.\n",
      "\n",
      "###END OF CHUNK8\n",
      "\n",
      "###START OF CHUNK9\n",
      "\n",
      "\n",
      "Alternatively, maybe we can think of it as follows: Let me denote:\n",
      "\n",
      "Let G be the event that Jen wins the grand prize.\n",
      "\n",
      "Let P be the event that Jen wins at least two numbers in the random selection.\n",
      "\n",
      "###END OF CHUNK9\n",
      "\n",
      "###START OF CHUNK10\n",
      "\n",
      "\n",
      "We need P(G | P) = P(G ∩ P)/P(P). But since G is a subset of P, then G ∩ P = G, so P(G | P) = P(G)/P(P). So, yes, that's correct.\n",
      "\n",
      "###END OF CHUNK10\n",
      "\n",
      "###START OF CHUNK11\n",
      "\n",
      "\n",
      "Therefore, we need to compute P(G) and P(P), then divide them.\n",
      "\n",
      "So, first, compute P(G): the probability that all four of Jen's numbers are in the randomly selected 4 numbers. Since there are C(10, 4) possible combinations for the random selection, and Jen's combination is fixed. Therefore, the probability is 1 / C(10, 4). \n",
      "\n",
      "###END OF CHUNK11\n",
      "\n",
      "###START OF CHUNK12\n",
      "\n",
      "\n",
      "But let me check that. For example, if Jen's numbers are fixed, then the probability that the random selection includes all four of her numbers is 1 / C(10, 4). So that's correct.\n",
      "\n",
      "###END OF CHUNK12\n",
      "\n",
      "###START OF CHUNK13\n",
      "\n",
      "\n",
      "Now, P(P): the probability that at least two of her numbers are in the randomly selected 4 numbers. So, this is the probability that she has at least two numbers in the random set. \n",
      "\n",
      "###END OF CHUNK13\n",
      "\n",
      "###START OF CHUNK14\n",
      "\n",
      "\n",
      "So, we need to compute that. Let me think about how to compute that. \n",
      "\n",
      "The number of ways that Jen has exactly k numbers in the random selection, for k = 2, 3, 4. Then, sum them up. \n",
      "\n",
      "\n",
      "###END OF CHUNK14\n",
      "\n",
      "###START OF CHUNK15\n",
      "\n",
      "So, the total number of ways that she has at least two numbers is C(4, 2)*C(8, 2) + C(4, 3)*C(8, 1) + C(4, 4)*C(8, 0). Wait, hold on. Wait, no. Wait, the total number of ways that she has exactly k numbers in the random selection is C(4, k) * C(10 - 4, 4 - k). Wait, no. Wait, Jen's numbers are fixed. So, if she has exactly k numbers in the random selection, then we need to choose k numbers from her 4 numbers and 4 - k numbers from the remaining 6 numbers (since S has 10 numbers, and she has 4, so 10 - 4 = 6 numbers not in her set). Therefore, the number of ways is C(4, k) * C(6, 4 - k). \n",
      "\n",
      "###END OF CHUNK15\n",
      "\n",
      "###START OF CHUNK16\n",
      "\n",
      "\n",
      "Therefore, the total number of favorable outcomes for at least two numbers is sum_{k=2}^4 C(4, k) * C(6, 4 - k). \n",
      "\n",
      "So, let's compute that.\n",
      "\n",
      "First, for k=2: C(4,2)*C(6,2). \n",
      "\n",
      "C(4,2) is 6. C(6,2) is 15. So 6*15 = 90.\n",
      "\n",
      "###END OF CHUNK16\n",
      "\n",
      "###START OF CHUNK17\n",
      "\n",
      "\n",
      "For k=3: C(4,3)*C(6,1). C(4,3) is 4, C(6,1) is 6. So 4*6 = 24.\n",
      "\n",
      "For k=4: C(4,4)*C(6,0) = 1*1 = 1.\n",
      "\n",
      "Total is 90 + 24 + 1 = 115. \n",
      "\n",
      "Therefore, the total number of favorable outcomes for P is 115. \n",
      "\n",
      "###END OF CHUNK17\n",
      "\n",
      "###START OF CHUNK18\n",
      "\n",
      "\n",
      "Therefore, the probability P(P) is 115 / C(10, 4). \n",
      "\n",
      "Wait, but C(10, 4) is 210. So, 115 / 210. \n",
      "\n",
      "Therefore, P(G) is 1 / 210, and P(P) is 115 / 210. Therefore, the conditional probability is (1 / 210) / (115 / 210) ) = 1 / 115. \n",
      "\n",
      "###END OF CHUNK18\n",
      "\n",
      "###START OF CHUNK19\n",
      "\n",
      "\n",
      "Wait, so the probability is 1/115? Then m is 1, n is 115, so m + n is 116? But wait, that seems too straightforward. Let me check again.\n",
      "\n",
      "\n",
      "###END OF CHUNK19\n",
      "\n",
      "\n"
     ]
    }
   ],
   "source": [
    "stream=\"\"\n",
    "for i, chunk in enumerate(first_attempt_chunks):\n",
    "    stream+=f\"###START OF CHUNK{i}\\n\\n\" + chunk  + f\"\\n###END OF CHUNK{i}\\n\\n\"\n",
    "print(stream)"
   ]
  },
  {
   "cell_type": "code",
   "execution_count": null,
   "id": "1b486375",
   "metadata": {},
   "outputs": [],
   "source": [
    "prompt = \"\"\"<instruction> You are given a sequence of reasoning steps, divided into chunks, showing how a model solves a problem. For each chunk, your task is to classify it into deriving or checking.\n",
    "\n",
    "A checking chunk focuses on checking statements derived in prior chunks. Below are some example cases: \n",
    "    1. The model only self-verifies and confirms the prior results.\n",
    "    2. The model attempts an alternative approach, or continues an alternative approach that reaches the same intermediate results as prior chunks.\n",
    "    3. The model merely rephrases the problem or prior conclusions.\n",
    "A rule of thumb for identifying checking chunk is whether it does not reach new intermediate results not covered by prior chunks.\n",
    "\n",
    "A deriving chunk should not just check prior results but derive a step closer to the answer.\n",
    "    \n",
    "Process the chunks from the beginning to the end. At the end, respond with a classification dictionary where each key is the CHUNK_NUMBER and each value is either \"deriving\" or \"checking\" within the <output_dict></output_dict> tags.\n",
    "\n",
    "You MUST return the chunk number using the format: <output_dict>CLASSIFICATION</output_dict>\n",
    "This exact format is required for downstream processing.\n",
    "</instruction>\n",
    "<problem>\n",
    "{problem}\n",
    "</problem>\n",
    "<answer>\n",
    "{solution}\n",
    "</answer>\n",
    "\"\"\".format(problem = problem, solution=solution)"
   ]
  },
  {
   "cell_type": "code",
   "execution_count": 91,
   "id": "84a9bcf8",
   "metadata": {
    "scrolled": true
   },
   "outputs": [
    {
     "name": "stdout",
     "output_type": "stream",
     "text": [
      "<instruction> You are given a sequence of reasoning steps, divided into chunks, showing how a model solves a problem. For each chunk, your task is to classify it into deriving or checking.\n",
      "\n",
      "A checking chunk focuses on checking statements in prior chunks. Below are some example cases: \n",
      "    1. The model only self-verifies and confirms its prior results.\n",
      "    2. The model attempts an alternative approach, or continues an alternative approach that reaches the same intermediate results as prior chunks.\n",
      "    3. The model merely rephrases the problem or prior conclusions.\n",
      "A rule of thumb for identifying checking chunk is whether it reaches new intermediate results not covered by prior chunks.\n",
      "\n",
      "A deriving chunk should not just check prior results but derive a step closer to the answer.\n",
      "    \n",
      "Process the chunks from the beginning to the end. At the end, respond with a dictionary where each key is the CHUNK_NUMBER and each value is either \"deriving\" or \"checking\" within the <output_dict></output_dict> tags.\n",
      "\n",
      "You MUST return the chunk number using the format: <output_dict>CLASSIFICATION</output_dict>\n",
      "This exact format is required for downstream processing.\n",
      "</instruction>\n",
      "<problem>\n",
      "Jen enters a lottery by picking $4$ distinct numbers from $S=\\{1,2,3,\\cdots,9,10\\}.$ $4$ numbers are randomly chosen from $S.$ She wins a prize if at least two of her numbers were $2$ of the randomly chosen numbers, and wins the grand prize if all four of her numbers were the randomly chosen numbers. The probability of her winning the grand prize given that she won a prize is $\\tfrac{m}{n}$ where $m$ and $n$ are relatively prime positive integers. Find $m+n$.\n",
      "</problem>\n",
      "<answer>\n",
      "116\n",
      "</answer>\n",
      "###START OF CHUNK0\n",
      "\n",
      "<think>\n",
      "\n",
      "###END OF CHUNK0\n",
      "\n",
      "###START OF CHUNK1\n",
      "\n",
      "Okay, so Jen is entering a lottery, right? She picks 4 distinct numbers from the set S = {1, 2, 3, ..., 9, 10}. Then, 4 numbers are randomly chosen from S. She wins a prize if at least two of her numbers are in the randomly chosen set, and she wins the grand prize if all four of her numbers are in the randomly chosen set. We need to find the probability that she wins the grand prize given that she won a prize. The answer should be in the form m/n where m and n are coprime, and then find m + n.\n",
      "\n",
      "###END OF CHUNK1\n",
      "\n",
      "###START OF CHUNK2\n",
      "\n",
      "\n",
      "Alright, let's break this down. So, the problem is a conditional probability question. The probability we need is P(grand prize | at least two of her numbers are in the randomly chosen set). In probability terms, that's P(grand prize and at least two numbers in the random set) divided by P(at least two numbers in the random set). \n",
      "\n",
      "\n",
      "###END OF CHUNK2\n",
      "\n",
      "###START OF CHUNK3\n",
      "\n",
      "But maybe there's a smarter way to approach this. Let me recall that conditional probability formula: P(A|B) = P(A ∩ B)/P(B). So, in this case, A is \"grand prize\" and B is \"at least two numbers in the random set.\" So, the problem is asking for P(grand prize | at least two numbers in the random set) = P(grand prize and at least two numbers in the random set) / P(at least two numbers in the random set). \n",
      "\n",
      "\n",
      "###END OF CHUNK3\n",
      "\n",
      "###START OF CHUNK4\n",
      "\n",
      "But wait, actually, the grand prize is a subset of the \"at least two numbers\" condition. Because if she wins the grand prize, then she has all four numbers in the random set, so that certainly satisfies \"at least two numbers.\" So, the numerator is just P(grand prize) and the denominator is P(at least two numbers). Therefore, the problem reduces to calculating P(grand prize) divided by P(at least two numbers). \n",
      "\n",
      "###END OF CHUNK4\n",
      "\n",
      "###START OF CHUNK5\n",
      "\n",
      "\n",
      "But let me confirm. If she has the grand prize, then she definitely has at least two numbers. So, the event \"grand prize\" is a subset of \"at least two numbers.\" Therefore, the conditional probability is just P(grand prize)/P(at least two numbers). Therefore, we need to compute those two probabilities.\n",
      "\n",
      "\n",
      "###END OF CHUNK5\n",
      "\n",
      "###START OF CHUNK6\n",
      "\n",
      "So, first, let's compute the total number of possible ways Jen can pick her numbers. She picks 4 distinct numbers from S, which has 10 numbers. So, the total number of possible combinations is C(10, 4). Then, the number of ways that she wins the grand prize is the number of combinations where all four of her numbers are in the randomly chosen set. So, the number of ways that the random selection includes her 4 numbers is 1 (since there's only one way to choose all four numbers). \n",
      "\n",
      "\n",
      "###END OF CHUNK6\n",
      "\n",
      "###START OF CHUNK7\n",
      "\n",
      "But wait, actually, the random selection is 4 numbers from S. So, the number of possible random selections is C(10, 4). So, the probability that she wins the grand prize is equal to the number of favorable outcomes divided by total outcomes. The number of favorable outcomes is the number of ways that her 4 numbers are selected, which is 1 (since she has fixed her numbers), and the total number of possible selections is C(10, 4). Therefore, the probability of winning the grand prize is 1 / C(10, 4). \n",
      "\n",
      "###END OF CHUNK7\n",
      "\n",
      "###START OF CHUNK8\n",
      "\n",
      "\n",
      "Wait, but hold on. Wait, actually, when we compute conditional probability, we need to consider the probability that both events happen. But maybe I need to think in terms of probabilities rather than combinations.\n",
      "\n",
      "###END OF CHUNK8\n",
      "\n",
      "###START OF CHUNK9\n",
      "\n",
      "\n",
      "Alternatively, maybe we can think of it as follows: Let me denote:\n",
      "\n",
      "Let G be the event that Jen wins the grand prize.\n",
      "\n",
      "Let P be the event that Jen wins at least two numbers in the random selection.\n",
      "\n",
      "###END OF CHUNK9\n",
      "\n",
      "###START OF CHUNK10\n",
      "\n",
      "\n",
      "We need P(G | P) = P(G ∩ P)/P(P). But since G is a subset of P, then G ∩ P = G, so P(G | P) = P(G)/P(P). So, yes, that's correct.\n",
      "\n",
      "###END OF CHUNK10\n",
      "\n",
      "###START OF CHUNK11\n",
      "\n",
      "\n",
      "Therefore, we need to compute P(G) and P(P), then divide them.\n",
      "\n",
      "So, first, compute P(G): the probability that all four of Jen's numbers are in the randomly selected 4 numbers. Since there are C(10, 4) possible combinations for the random selection, and Jen's combination is fixed. Therefore, the probability is 1 / C(10, 4). \n",
      "\n",
      "###END OF CHUNK11\n",
      "\n",
      "###START OF CHUNK12\n",
      "\n",
      "\n",
      "But let me check that. For example, if Jen's numbers are fixed, then the probability that the random selection includes all four of her numbers is 1 / C(10, 4). So that's correct.\n",
      "\n",
      "###END OF CHUNK12\n",
      "\n",
      "###START OF CHUNK13\n",
      "\n",
      "\n",
      "Now, P(P): the probability that at least two of her numbers are in the randomly selected 4 numbers. So, this is the probability that she has at least two numbers in the random set. \n",
      "\n",
      "###END OF CHUNK13\n",
      "\n",
      "###START OF CHUNK14\n",
      "\n",
      "\n",
      "So, we need to compute that. Let me think about how to compute that. \n",
      "\n",
      "The number of ways that Jen has exactly k numbers in the random selection, for k = 2, 3, 4. Then, sum them up. \n",
      "\n",
      "\n",
      "###END OF CHUNK14\n",
      "\n",
      "###START OF CHUNK15\n",
      "\n",
      "So, the total number of ways that she has at least two numbers is C(4, 2)*C(8, 2) + C(4, 3)*C(8, 1) + C(4, 4)*C(8, 0). Wait, hold on. Wait, no. Wait, the total number of ways that she has exactly k numbers in the random selection is C(4, k) * C(10 - 4, 4 - k). Wait, no. Wait, Jen's numbers are fixed. So, if she has exactly k numbers in the random selection, then we need to choose k numbers from her 4 numbers and 4 - k numbers from the remaining 6 numbers (since S has 10 numbers, and she has 4, so 10 - 4 = 6 numbers not in her set). Therefore, the number of ways is C(4, k) * C(6, 4 - k). \n",
      "\n",
      "###END OF CHUNK15\n",
      "\n",
      "###START OF CHUNK16\n",
      "\n",
      "\n",
      "Therefore, the total number of favorable outcomes for at least two numbers is sum_{k=2}^4 C(4, k) * C(6, 4 - k). \n",
      "\n",
      "So, let's compute that.\n",
      "\n",
      "First, for k=2: C(4,2)*C(6,2). \n",
      "\n",
      "C(4,2) is 6. C(6,2) is 15. So 6*15 = 90.\n",
      "\n",
      "###END OF CHUNK16\n",
      "\n",
      "###START OF CHUNK17\n",
      "\n",
      "\n",
      "For k=3: C(4,3)*C(6,1). C(4,3) is 4, C(6,1) is 6. So 4*6 = 24.\n",
      "\n",
      "For k=4: C(4,4)*C(6,0) = 1*1 = 1.\n",
      "\n",
      "Total is 90 + 24 + 1 = 115. \n",
      "\n",
      "Therefore, the total number of favorable outcomes for P is 115. \n",
      "\n",
      "###END OF CHUNK17\n",
      "\n",
      "###START OF CHUNK18\n",
      "\n",
      "\n",
      "Therefore, the probability P(P) is 115 / C(10, 4). \n",
      "\n",
      "Wait, but C(10, 4) is 210. So, 115 / 210. \n",
      "\n",
      "Therefore, P(G) is 1 / 210, and P(P) is 115 / 210. Therefore, the conditional probability is (1 / 210) / (115 / 210) ) = 1 / 115. \n",
      "\n",
      "###END OF CHUNK18\n",
      "\n",
      "###START OF CHUNK19\n",
      "\n",
      "\n",
      "Wait, so the probability is 1/115? Then m is 1, n is 115, so m + n is 116? But wait, that seems too straightforward. Let me check again.\n",
      "\n",
      "\n",
      "###END OF CHUNK19\n",
      "\n",
      "\n"
     ]
    }
   ],
   "source": [
    "print(prompt + stream)"
   ]
  },
  {
   "cell_type": "code",
   "execution_count": 108,
   "id": "04c06fbe",
   "metadata": {},
   "outputs": [],
   "source": [
    "df = pd.read_pickle(os.path.join(root, \"Qwen3-1.7B_classify_chunk.pickle\"))"
   ]
  },
  {
   "cell_type": "code",
   "execution_count": 131,
   "id": "f830f2c6",
   "metadata": {},
   "outputs": [],
   "source": [
    "import re\n",
    "import json\n",
    "import ast\n",
    "\n",
    "def extract_classification(response: list):\n",
    "    response = response[0].replace(\"\\n\", \"\")\n",
    "    \n",
    "    pattern = r\"<output_dict>(.*?)</output_dict>\"\n",
    "    match = re.search(pattern, response)\n",
    "    \n",
    "    if match:\n",
    "        try:\n",
    "            return ast.literal_eval(match.group(1))\n",
    "        except:\n",
    "            return match.group(1)\n",
    "    else:\n",
    "        return None"
   ]
  },
  {
   "cell_type": "code",
   "execution_count": 122,
   "id": "cdddb928",
   "metadata": {},
   "outputs": [
    {
     "data": {
      "text/plain": [
       "['<output_dict>{0: \"deriving\", 1: \"deriving\", 2: \"deriving\", 3: \"deriving\", 4: \"deriving\", 5: \"deriving\", 6: \"deriving\", 7: \"deriving\", 8: \"deriving\", 9: \"deriving\", 10: \"deriving\", 11: \"deriving\", 12: \"deriving\", 13: \"deriving\", 14: \"deriving\", 15: \"deriving\", 16: \"deriving\", 17: \"deriving\", 18: \"deriving\", 19: \"deriving\", 20: \"checking\", 21: \"deriving\", 22: \"deriving\", 23: \"deriving\", 24: \"deriving\", 25: \"deriving\", 26: \"deriving\", 27: \"deriving\", 28: \"deriving\", 29: \"deriving\", 30: \"checking\", 31: \"checking\", 32: \"checking\"}</output_dict>']"
      ]
     },
     "execution_count": 122,
     "metadata": {},
     "output_type": "execute_result"
    }
   ],
   "source": [
    "df[\"response\"][0]"
   ]
  },
  {
   "cell_type": "code",
   "execution_count": 133,
   "id": "03b0a836",
   "metadata": {
    "scrolled": true
   },
   "outputs": [],
   "source": [
    "result = extract_classification(df[\"response\"][1])"
   ]
  },
  {
   "cell_type": "code",
   "execution_count": 135,
   "id": "b20d39a6",
   "metadata": {},
   "outputs": [
    {
     "data": {
      "text/plain": [
       "['<output_dict>\\n{\\n  0: \"deriving\",\\n  1: \"deriving\",\\n  2: \"deriving\",\\n  3: \"deriving\",\\n  4: \"deriving\",\\n  5: \"deriving\",\\n  6: \"deriving\",\\n  7: \"deriving\",\\n  8: \"deriving\",\\n  9: \"deriving\",\\n  10: \"deriving\",\\n  11: \"deriving\",\\n  12: \"deriving\",\\n  13: \"deriving\",\\n  14: \"deriving\",\\n  15: \"deriving\",\\n  16: \"deriving\",\\n  17: \"deriving\",\\n  18: \"deriving\",\\n  19: \"deriving\"\\n}\\n</output_dict>']"
      ]
     },
     "execution_count": 135,
     "metadata": {},
     "output_type": "execute_result"
    }
   ],
   "source": [
    "df[\"response\"][1]"
   ]
  },
  {
   "cell_type": "code",
   "execution_count": 132,
   "id": "5ae8c033",
   "metadata": {
    "scrolled": true
   },
   "outputs": [
    {
     "data": {
      "text/plain": [
       "{0: 'deriving',\n",
       " 1: 'deriving',\n",
       " 2: 'deriving',\n",
       " 3: 'deriving',\n",
       " 4: 'deriving',\n",
       " 5: 'deriving',\n",
       " 6: 'deriving',\n",
       " 7: 'deriving',\n",
       " 8: 'deriving',\n",
       " 9: 'deriving',\n",
       " 10: 'deriving',\n",
       " 11: 'deriving',\n",
       " 12: 'deriving',\n",
       " 13: 'deriving',\n",
       " 14: 'deriving',\n",
       " 15: 'deriving',\n",
       " 16: 'deriving',\n",
       " 17: 'deriving',\n",
       " 18: 'deriving',\n",
       " 19: 'deriving',\n",
       " 20: 'checking',\n",
       " 21: 'deriving',\n",
       " 22: 'deriving',\n",
       " 23: 'deriving',\n",
       " 24: 'deriving',\n",
       " 25: 'deriving',\n",
       " 26: 'deriving',\n",
       " 27: 'deriving',\n",
       " 28: 'deriving',\n",
       " 29: 'deriving',\n",
       " 30: 'checking',\n",
       " 31: 'checking',\n",
       " 32: 'checking'}"
      ]
     },
     "execution_count": 132,
     "metadata": {},
     "output_type": "execute_result"
    }
   ],
   "source": [
    "ast.literal_eval(result)"
   ]
  }
 ],
 "metadata": {
  "kernelspec": {
   "display_name": "Python 3 (ipykernel)",
   "language": "python",
   "name": "python3"
  },
  "language_info": {
   "codemirror_mode": {
    "name": "ipython",
    "version": 3
   },
   "file_extension": ".py",
   "mimetype": "text/x-python",
   "name": "python",
   "nbconvert_exporter": "python",
   "pygments_lexer": "ipython3",
   "version": "3.10.16"
  }
 },
 "nbformat": 4,
 "nbformat_minor": 5
}
