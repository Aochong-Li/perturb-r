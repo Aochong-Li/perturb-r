{
 "cells": [
  {
   "cell_type": "code",
   "execution_count": 481,
   "id": "108b17fc",
   "metadata": {},
   "outputs": [],
   "source": [
    "import pandas as pd \n",
    "import os \n",
    "\n",
    "from transformers import AutoModelForCausalLM, AutoTokenizer\n",
    "from datasets import load_dataset\n",
    "\n",
    "import seaborn as sns\n",
    "\n",
    "from datasets import load_dataset, load_from_disk\n",
    "import numpy as np\n",
    "import json"
   ]
  },
  {
   "cell_type": "code",
   "execution_count": 2,
   "id": "56a7421e",
   "metadata": {
    "scrolled": true
   },
   "outputs": [
    {
     "data": {
      "text/plain": [
       "'/home/al2644/research/codebase/reasoning/perturb-r/notebook'"
      ]
     },
     "execution_count": 2,
     "metadata": {},
     "output_type": "execute_result"
    }
   ],
   "source": [
    "pwd"
   ]
  },
  {
   "cell_type": "code",
   "execution_count": 467,
   "id": "7888e96b",
   "metadata": {
    "scrolled": false
   },
   "outputs": [
    {
     "name": "stdout",
     "output_type": "stream",
     "text": [
      "/home/al2644/research/codebase/reasoning/perturb-r\n"
     ]
    }
   ],
   "source": [
    "cd /home/al2644/research/codebase/reasoning/perturb-r"
   ]
  },
  {
   "cell_type": "code",
   "execution_count": 173,
   "id": "e920082a",
   "metadata": {},
   "outputs": [],
   "source": [
    "from utils import chunk_r "
   ]
  },
  {
   "cell_type": "markdown",
   "id": "023035cc",
   "metadata": {},
   "source": [
    "# Data "
   ]
  },
  {
   "cell_type": "code",
   "execution_count": 483,
   "id": "990a53d7",
   "metadata": {},
   "outputs": [],
   "source": [
    "dataset = load_from_disk(\"./data/deepmath_7to9/\")"
   ]
  },
  {
   "cell_type": "markdown",
   "id": "818fcb25",
   "metadata": {},
   "source": [
    "# Reasoning Results"
   ]
  },
  {
   "cell_type": "code",
   "execution_count": 474,
   "id": "88fa0269",
   "metadata": {
    "scrolled": true
   },
   "outputs": [
    {
     "name": "stdout",
     "output_type": "stream",
     "text": [
      "R1-Distill-Qwen-1.5B.pickle\n",
      "Accuracy: 0.8413333333333334\n",
      "R1-Distill-Qwen-7B.pickle\n",
      "Accuracy: 0.9213333333333333\n",
      "R1-Distill-Qwen-14B.pickle\n",
      "Accuracy: 0.939\n",
      "R1-Distill-Qwen-32B.pickle\n",
      "Accuracy: 0.9473333333333334\n",
      "AM-Distill-Qwen-32B.pickle\n",
      "Accuracy: 0.9633333333333334\n",
      "QwQ-32B.pickle\n",
      "Accuracy: 0.9603333333333334\n",
      "Qwen3-1.7B.pickle\n",
      "Accuracy: 0.91\n",
      "Qwen3-4B.pickle\n",
      "Accuracy: 0.9483333333333334\n",
      "Qwen3-8B.pickle\n",
      "Accuracy: 0.9546666666666667\n",
      "R1-Distill-Qwen3-8B.pickle\n",
      "Accuracy: 0.897\n"
     ]
    }
   ],
   "source": [
    "root = \"./results/math-500/benchmark\"\n",
    "for fname in os.listdir(root):\n",
    "    if 'correct' not in fname:\n",
    "        print(fname)\n",
    "        df = pd.read_pickle(os.path.join(root, fname))\n",
    "        print(f\"Accuracy: {df['correct'].mean()}\")"
   ]
  },
  {
   "cell_type": "code",
   "execution_count": 73,
   "id": "86bc25a0",
   "metadata": {},
   "outputs": [],
   "source": [
    "respnose = df[\"response\"].sample(n=1).iloc[0]"
   ]
  },
  {
   "cell_type": "code",
   "execution_count": 75,
   "id": "d0f52a40",
   "metadata": {},
   "outputs": [],
   "source": [
    "chunks = rchunk.minmax_chunk(response, 40)\n",
    "stream = \"\"\n",
    "for idx, chunk in enumerate(chunks):\n",
    "    stream += f\"\\n>>>>>CHUNK{idx} START\\n\" + chunk + f\"\\n>>>>>CHUNK{idx} END\\n\""
   ]
  },
  {
   "cell_type": "code",
   "execution_count": 76,
   "id": "ea101d92",
   "metadata": {},
   "outputs": [
    {
     "name": "stdout",
     "output_type": "stream",
     "text": [
      "\n",
      ">>>>>CHUNK0 START\n",
      "<think>\n",
      "Okay, so I need to solve this equation: $ x = \\sqrt{11 - 2x} + 4 $. Hmm, let me think. First, I remember that when there's a square root, sometimes you have to isolate it and then square both sides to eliminate it. But I need to be careful because squaring can sometimes introduce extraneous solutions. Let me try to work step by step.\n",
      ">>>>>CHUNK0 END\n",
      "\n",
      ">>>>>CHUNK1 START\n",
      "So the equation is $ x = \\sqrt{11 - 2x} + 4 $. Maybe I can start by subtracting 4 from both sides to get the square root by itself. Let me try that:\n",
      "\n",
      "$ x - 4 = \\sqrt{11 - 2x} $\n",
      "\n",
      "Now, to get rid of the square root, I can square both sides of the equation. Let me do that:\n",
      "\n",
      "$ (x - 4)^2 = (\\sqrt{11 - 2x})^2 $\n",
      ">>>>>CHUNK1 END\n",
      "\n",
      ">>>>>CHUNK2 START\n",
      "Simplifying both sides. On the left side, expanding $ (x - 4)^2 $:\n",
      "\n",
      "$ x^2 - 8x + 16 = 11 - 2x $\n",
      "\n",
      "Okay, now let me write that out:\n",
      "\n",
      "$ x^2 - 8x + 16 = 11 - 2x $\n",
      "\n",
      "Now, I need to get all terms to one side to solve the quadratic equation. Let me subtract $ 11 - 2x $ from both sides:\n",
      ">>>>>CHUNK2 END\n",
      "\n",
      ">>>>>CHUNK3 START\n",
      "$ x^2 - 8x + 16 - 11 + 2x = 0 $\n",
      "\n",
      "Simplify the terms:\n",
      "\n",
      "Combine like terms. The $ x^2 $ term is just $ x^2 $. The $ x $ terms: -8x + 2x is -6x. The constants: 16 - 11 is 5. So:\n",
      "\n",
      "$ x^2 - 6x + 5 = 0 $\n",
      ">>>>>CHUNK3 END\n",
      "\n",
      ">>>>>CHUNK4 START\n",
      "Now, this is a quadratic equation. Let me try to factor it. Looking for two numbers that multiply to 5 and add up to -6. Hmm, 5 and 1. But 5 + 1 is 6, but since the middle term is -6x, both numbers should be negative. So -5 and -1. Yes:\n",
      "\n",
      "$ (x - 5)(x - 1) = 0 $\n",
      "\n",
      "So the solutions are $ x = 5 $ or $ x = 1 $.\n",
      ">>>>>CHUNK4 END\n",
      "\n",
      ">>>>>CHUNK5 START\n",
      "Wait, but I need to check if these solutions actually satisfy the original equation, because sometimes when you square both sides, you can get solutions that don't work. So let me plug them back into the original equation.\n",
      "\n",
      "First, check $ x = 5 $:\n",
      "\n",
      "Original equation: $ 5 = \\sqrt{11 - 2(5)} + 4 $\n",
      ">>>>>CHUNK5 END\n",
      "\n",
      ">>>>>CHUNK6 START\n",
      "Compute inside the square root: 11 - 10 = 1. So sqrt(1) is 1. Then 1 + 4 = 5. So yes, 5 = 5. That works.\n",
      "\n",
      "Now check $ x = 1 $:\n",
      "\n",
      "Original equation: $ 1 = \\sqrt{11 - 2(1)} + 4 $\n",
      ">>>>>CHUNK6 END\n",
      "\n",
      ">>>>>CHUNK7 START\n",
      "Compute inside the square root: 11 - 2 = 9. sqrt(9) is 3. Then 3 + 4 = 7. So 1 vs 7? That's not equal. So 1 is not a solution. So x=1 is extraneous.\n",
      "\n",
      "Therefore, the only solution is x=5.\n",
      "\n",
      "Wait, but let me make sure I didn't make any mistakes in my algebra. Let me go through the steps again.\n",
      "\n",
      "Original equation: $ x = \\sqrt{11 - 2x} + 4 $\n",
      ">>>>>CHUNK7 END\n",
      "\n",
      ">>>>>CHUNK8 START\n",
      "Subtract 4: $ x - 4 = \\sqrt{11 - 2x} $\n",
      "\n",
      "Square both sides: $ (x - 4)^2 = 11 - 2x $\n",
      "\n",
      "Expanding left side: $ x^2 - 8x + 16 = 11 - 2x $\n",
      "\n",
      "Bring all terms to left: $ x^2 - 8x + 16 - 11 + 2x = 0 $\n",
      ">>>>>CHUNK8 END\n",
      "\n",
      ">>>>>CHUNK9 START\n",
      "Which simplifies to $ x^2 - 6x + 5 = 0 $. Factoring gives (x - 5)(x - 1) = 0. So solutions 5 and 1. Check 5: works. Check 1: doesn't work. So answer is 5.\n",
      "\n",
      "But let me think again. Is there another way to approach this problem? Maybe by substitution or something else?\n",
      ">>>>>CHUNK9 END\n",
      "\n",
      ">>>>>CHUNK10 START\n",
      "Alternatively, maybe I can let $ y = \\sqrt{11 - 2x} $, so the original equation is $ x = y + 4 $. Then, since $ y = \\sqrt{11 - 2x} $, we can square both sides:\n",
      "\n",
      "$ y^2 = 11 - 2x $\n",
      "\n",
      "But since $ x = y + 4 $, substitute that into the equation:\n",
      "\n",
      "$ y^2 = 11 - 2(y + 4) $\n",
      "\n",
      "Simplify:\n",
      "\n",
      "$ y^2 = 11 - 2y - 8 $\n",
      ">>>>>CHUNK10 END\n",
      "\n",
      ">>>>>CHUNK11 START\n",
      "Which is $ y^2 + 2y - 3 = 0 $\n",
      "\n",
      "Quadratic equation: $ y^2 + 2y - 3 = 0 $. Let me solve this:\n",
      "\n",
      "Discriminant: $ 4 + 12 = 16 $. So roots are $ (-2 \\pm 4)/2 $. So:\n",
      "\n",
      "First root: (-2 + 4)/2 = 2/2 = 1\n",
      "\n",
      "Second root: (-2 - 4)/2 = -6/2 = -3\n",
      "\n",
      "So y = 1 or y = -3.\n",
      ">>>>>CHUNK11 END\n",
      "\n",
      ">>>>>CHUNK12 START\n",
      "But since y is a square root, it must be non-negative. So y = -3 is invalid. Therefore, y = 1. Then since x = y + 4 = 1 + 4 = 5. So that gives x = 5, same as before. So that confirms the solution.\n",
      "\n",
      "So that's another way to approach it, but it's the same result.\n",
      "\n",
      "Therefore, the only solution is x = 5.\n",
      ">>>>>CHUNK12 END\n",
      "\n",
      ">>>>>CHUNK13 START\n",
      "Wait, but just to make sure, let me check if there's any other possible solutions. For example, when I squared both sides, sometimes there can be more solutions, but in this case, since we had a square root, the original equation requires that the expression under the square root is non-negative. So 11 - 2x ≥ 0 ⇒ x ≤ 11/2 = 5.5.\n",
      ">>>>>CHUNK13 END\n",
      "\n",
      ">>>>>CHUNK14 START\n",
      "So x must be less than or equal to 5.5. Our solutions are x=5 and x=1. x=1 is less than 5.5, so that's okay. x=5 is also okay. So both are valid in terms of the domain.\n",
      "\n",
      "But when we checked x=1, the original equation didn't hold, so it's extraneous. So that's all.\n",
      "\n",
      "Therefore, the only solution is x=5.\n",
      "\n",
      "I think that's correct. Let me just recap:\n",
      "\n",
      "Original equation: x = sqrt(11 - 2x) + 4\n",
      ">>>>>CHUNK14 END\n",
      "\n",
      ">>>>>CHUNK15 START\n",
      "After manipulating, we found x=5 and x=1, but x=1 doesn't satisfy the original equation, so only x=5 is the solution.\n",
      "\n",
      "Yes, that seems right. I don't think I made any mistakes here. Maybe if I tried another approach, like substitution or something else, but I think this is solid.\n",
      "\n",
      "**Final Answer**\n",
      "The solution is \\boxed{5}.\n",
      "</think>\n",
      "\n",
      "To solve the equation:\n",
      "\n",
      "$$\n",
      "x = \\sqrt{11 - 2x} + 4\n",
      "$$\n",
      ">>>>>CHUNK15 END\n",
      "\n",
      ">>>>>CHUNK16 START\n",
      "we begin by isolating the square root term. Subtract 4 from both sides:\n",
      "\n",
      "$$\n",
      "x - 4 = \\sqrt{11 - 2x}\n",
      "$$\n",
      "\n",
      "Next, we square both sides to eliminate the square root:\n",
      "\n",
      "$$\n",
      "(x - 4)^2 = 11 - 2x\n",
      "$$\n",
      "\n",
      "Expanding the left-hand side:\n",
      "\n",
      "$$\n",
      "x^2 - 8x + 16 = 11 - 2x\n",
      "$$\n",
      "\n",
      "Now, bring all terms to one side:\n",
      "\n",
      "$$\n",
      "x^2 - 8x + 16 - 11 + 2x = 0\n",
      "$$\n",
      "\n",
      "Simplify:\n",
      ">>>>>CHUNK16 END\n",
      "\n",
      ">>>>>CHUNK17 START\n",
      "$$\n",
      "x^2 - 6x + 5 = 0\n",
      "$$\n",
      "\n",
      "This is a standard quadratic equation. Factoring:\n",
      "\n",
      "$$\n",
      "(x - 5)(x - 1) = 0\n",
      "$$\n",
      "\n",
      "So, the potential solutions are:\n",
      "\n",
      "$$\n",
      "x = 5 \\quad \\text{or} \\quad x = 1\n",
      "$$\n",
      "\n",
      "---\n",
      "\n",
      "### **Check for Extraneous Solutions**\n",
      "\n",
      "We now substitute each solution back into the original equation to verify.\n",
      "\n",
      "#### **Check $ x = 5 $:**\n",
      ">>>>>CHUNK17 END\n",
      "\n",
      ">>>>>CHUNK18 START\n",
      "$$\n",
      "5 = \\sqrt{11 - 2(5)} + 4 = \\sqrt{11 - 10} + 4 = \\sqrt{1} + 4 = 1 + 4 = 5\n",
      "$$\n",
      "\n",
      "✅ **Valid solution**\n",
      "\n",
      "#### **Check $ x = 1 $:**\n",
      "\n",
      "$$\n",
      "1 = \\sqrt{11 - 2(1)} + 4 = \\sqrt{11 - 2} + 4 = \\sqrt{9} + 4 = 3 + 4 = 7\n",
      "$$\n",
      "\n",
      "❌ **Invalid solution**\n",
      "\n",
      "---\n",
      "\n",
      "### **Domain Consideration**\n",
      "\n",
      "We also need to ensure the expression under the square root is non-negative:\n",
      ">>>>>CHUNK18 END\n",
      "\n",
      ">>>>>CHUNK19 START\n",
      "$$\n",
      "11 - 2x \\geq 0 \\Rightarrow x \\leq \\frac{11}{2} = 5.5\n",
      "$$\n",
      "\n",
      "Both $ x = 5 $ and $ x = 1 $ satisfy this condition.\n",
      "\n",
      "---\n",
      "\n",
      "### **Conclusion**\n",
      "\n",
      "Only $ x = 5 $ satisfies the original equation and the domain constraints.\n",
      "\n",
      "---\n",
      "\n",
      "### **Final Answer**\n",
      "\n",
      "$$\n",
      "\\boxed{5}\n",
      "$$\n",
      ">>>>>CHUNK19 END\n",
      "\n"
     ]
    }
   ],
   "source": [
    "print(stream)"
   ]
  },
  {
   "cell_type": "markdown",
   "id": "9e768b5a",
   "metadata": {},
   "source": [
    "# Annotated Reasoning"
   ]
  },
  {
   "cell_type": "code",
   "execution_count": 477,
   "id": "51182ede",
   "metadata": {
    "scrolled": true
   },
   "outputs": [
    {
     "data": {
      "text/plain": [
       "['R1-Distill-Qwen-1.5B.pickle',\n",
       " 'Qwen3-1.7B.pickle',\n",
       " 'R1-Distill-Qwen-1.5B_first_attempt.pickle',\n",
       " 'R1-Distill-Qwen-1.5B_test.pickle',\n",
       " 'first_answer_pos']"
      ]
     },
     "execution_count": 477,
     "metadata": {},
     "output_type": "execute_result"
    }
   ],
   "source": [
    "root = \"./results/math-500/annotated_reasoning/\"\n",
    "df = pd.read_pickle(os.path.join(root, \"R1-Distill-Qwen-1.5B.pickle\"))\n",
    "os.listdir(root)"
   ]
  },
  {
   "cell_type": "code",
   "execution_count": 480,
   "id": "9c5e29b0",
   "metadata": {
    "scrolled": true
   },
   "outputs": [
    {
     "name": "stdout",
     "output_type": "stream",
     "text": [
      "<instruction> You are given a sequence of reasoning steps, divided into chunks, showing how a model solves a problem. Your task is to carefully search for and precisely identify the first chunk where the correct answer is reached, even if not yet confirmed, verified, or boxed. The answer may appear implicitly at first—your job is to confirm its first correct appearance. This task requires meticulous attention to traces.\n",
      "\n",
      "You should scan through the chunks from the start, ensuring that the chunk you report is the earliest point:\n",
      "1.    Skim over earlier chunks that merely state the problem, set up notation, or provide partial work.\n",
      "2.    Dismiss later chunks that just verify or check the answer after identifying first appearance.\n",
      "3.    The correct answer does NOT NEED to be explicitly confirmed or officially stated as the final answer, as long as it is derived as a result and it is correct.\n",
      "4.    When you identify the chunk for the first time, you MUST verify it is the first appearance by scanning backward carefully to ensure that this result is not mentioned in any of the earlier chunks. If mentioned before, update your answer. \n",
      "\n",
      "You should first spend time verbalizing your searching and verification process within <search></search> tags. And once identified, you should report the chunk number in <first_answer_chunk_number></first_answer_chunk_number> tags. Follow this response format:\n",
      "<search>YOU_CAN_SEARCH_HERE</search>\n",
      "<first_answer_chunk_number>NUMBER</first_answer_chunk_number>\n",
      "You must only mark the first correct arrival of the answer, not subsequent confirmations or corrections.\n",
      "</instruction>\n",
      ">>>>>CHUNK 0 START\n",
      "Okay, so I need to convert the rectangular coordinate (0, 3) to polar coordinates. Hmm, polar coordinates are represented as (r, θ), right? I remember that to convert from rectangular (x, y) to polar coordinates, there are some formulas involved. Let me try to recall them.\n",
      ">>>>>CHUNK 0 END\n",
      "\n",
      ">>>>>CHUNK 1 START\n",
      "I think the first thing I need to find is r, which is the distance from the origin to the point. I remember that formula is r = sqrt(x² + y²). So, since the point is (0, 3), let me plug in the values. x is 0 and y is 3.\n",
      "\n",
      "Calculating r: sqrt(0² + 3²) = sqrt(0 + 9) = sqrt(9) = 3. Okay, so r is 3. That seems straightforward.\n",
      ">>>>>CHUNK 1 END\n",
      "\n",
      ">>>>>CHUNK 2 START\n",
      "Now, the next part is finding θ, the angle. I think θ is the angle made with the positive x-axis. The formula for θ is arctangent of y over x, right? So θ = arctan(y/x). Let's plug in the values. y is 3 and x is 0.\n",
      ">>>>>CHUNK 2 END\n",
      "\n",
      ">>>>>CHUNK 3 START\n",
      "Wait, arctan(3/0). Hmm, division by zero. That seems tricky. I remember that when x is 0, the angle is either π/2 or 3π/2, depending on the sign of y. So, since y is positive (3), it should be in the positive y direction, which is straight up along the y-axis. So, θ should be π/2.\n",
      ">>>>>CHUNK 3 END\n",
      "\n",
      ">>>>>CHUNK 4 START\n",
      "But just to make sure, let me think again. When x is 0, the point lies along the y-axis. Since y is positive, it's 3 units up from the origin. So, that's 90 degrees, which is π/2 radians.\n",
      ">>>>>CHUNK 4 END\n",
      "\n",
      ">>>>>CHUNK 5 START\n",
      "Wait, but sometimes people get confused with negative angles or angles measured differently. Let me visualize this. If I'm plotting (0,3) on the rectangular coordinate system, it's on the positive y-axis. So, in polar coordinates, that would be 90 degrees or π/2 radians away from the positive x-axis. So, yes, θ is π/2.\n",
      ">>>>>CHUNK 5 END\n",
      "\n",
      ">>>>>CHUNK 6 START\n",
      "Is there any other way to confirm this? Maybe by thinking about the coordinates. Since r is 3 and θ is π/2, then in polar coordinates, the point should be (3, π/2). Let me check if this is correct.\n",
      ">>>>>CHUNK 6 END\n",
      "\n",
      ">>>>>CHUNK 7 START\n",
      "In polar coordinates, the conversion formulas are x = r cos θ and y = r sin θ. Let me apply that. If r is 3 and θ is π/2, then x should be 3 cos(π/2) and y should be 3 sin(π/2). Cos(π/2) is 0, and sin(π/2) is 1. So, x is 0 and y is 3. That matches the original rectangular coordinates, so it seems correct.\n",
      ">>>>>CHUNK 7 END\n",
      "\n",
      ">>>>>CHUNK 8 START\n",
      "Wait, did I mix up θ in the formulas? Let me make sure. The formulas are x = r cos θ and y = r sin θ. So, we have x = 0, y = 3. So, 0 = 3 cos θ and 3 = 3 sin θ. Therefore, cos θ = 0 and sin θ = 1. The angle that satisfies both is π/2, because cos(π/2) is 0 and sin(π/2) is 1. So, that's correct.\n",
      ">>>>>CHUNK 8 END\n",
      "\n",
      ">>>>>CHUNK 9 START\n",
      "Is there another possibility? Well, could θ be 3π/2? If θ was 3π/2, cos θ would be 0 and sin θ would be -1, which would give us y = -3, which doesn't match our original point (0, 3). So, θ can't be 3π/2.\n",
      "\n",
      "What about negative angles? If we think of θ as pointing in the positive direction, 3π/2 would be pointing downward, which is not the case here. So, θ is definitely π/2.\n",
      ">>>>>CHUNK 9 END\n",
      "\n",
      ">>>>>CHUNK 10 START\n",
      "Let me think about the unit circle. At π/2, the point is (0,1), which is 1 unit up on the y-axis. So, scaling that up by a factor of 3, it would be (0,3). That makes sense.\n",
      ">>>>>CHUNK 10 END\n",
      "\n",
      ">>>>>CHUNK 11 START\n",
      "I guess another way to think about it is using the arctangent function. Since x is 0, and y is positive, the angle is π/2. If x were negative and y were positive, the angle would be in the second quadrant, like π - arctan(y/x). But in this case, x is 0, so we don't have to consider that.\n",
      ">>>>>CHUNK 11 END\n",
      "\n",
      ">>>>>CHUNK 12 START\n",
      "So, putting it all together, the polar coordinates of (0,3) should be (3, π/2). Let me just write that in the requested format: (r, θ) = (3, π/2).\n",
      "\n",
      "I don't think I made any mistakes here. The conversion seems straightforward because the point is on the y-axis, so it's a simple matter of determining the angle. Just to recap:\n",
      "\n",
      "1. Calculate r: sqrt(0² + 3²) = 3\n",
      "2. Calculate θ: arctan(3/0) = π/2\n",
      "3. Verify using conversion formulas.\n",
      ">>>>>CHUNK 12 END\n",
      "\n"
     ]
    }
   ],
   "source": [
    "print(df[\"1st_answer_prompt\"][0])"
   ]
  },
  {
   "cell_type": "code",
   "execution_count": null,
   "id": "cabf37b2",
   "metadata": {},
   "outputs": [],
   "source": [
    "os."
   ]
  },
  {
   "cell_type": "code",
   "execution_count": 160,
   "id": "2d3cd540",
   "metadata": {
    "scrolled": false
   },
   "outputs": [
    {
     "data": {
      "text/plain": [
       "<Axes: xlabel='chunks', ylabel='Count'>"
      ]
     },
     "execution_count": 160,
     "metadata": {},
     "output_type": "execute_result"
    },
    {
     "data": {
      "image/png": "[encoded data removed]",
      "text/plain": [
       "<Figure size 640x480 with 1 Axes>"
      ]
     },
     "metadata": {},
     "output_type": "display_data"
    }
   ],
   "source": [
    "sns.histplot(df[\"chunks\"].str.len())"
   ]
  },
  {
   "cell_type": "markdown",
   "id": "9c615d36",
   "metadata": {},
   "source": [
    "# Skip Steps"
   ]
  },
  {
   "cell_type": "code",
   "execution_count": 335,
   "id": "28dc6e55",
   "metadata": {},
   "outputs": [],
   "source": [
    "def check_accuracy (df, col):\n",
    "    avg_acc = df[col].mean()\n",
    "    passatk = df.groupby(\"problem\")[[col]].max()[col].mean()\n",
    "    \n",
    "    print(\"AVG Acc: \", avg_acc)\n",
    "    print(\"Pass@K Acc: \", passatk)\n",
    "\n",
    "def compare_tokens_len(df, col, tokenizer):\n",
    "    def compute_tokens (row):\n",
    "        original_response = row[\"response\"]\n",
    "        chunks = row[\"chunks\"]\n",
    "        index = int(row[\"1st_answer_chunk_index\"])\n",
    "        skip_answer_reasoning = row[col].split(\"</think>\")[0]\n",
    "        \n",
    "        original_tokens = len(tokenizer.encode(''.join(chunks[index+1:])))\n",
    "        new_tokens = len(tokenizer.encode(skip_answer_reasoning))\n",
    "\n",
    "        return original_tokens, new_tokens\n",
    "\n",
    "    df[\"original_tokens\"], df[\"new_tokens\"] = zip(*df.apply(compute_tokens,axis=1))\n",
    "\n",
    "    return df"
   ]
  },
  {
   "cell_type": "code",
   "execution_count": 471,
   "id": "6493efe4",
   "metadata": {
    "scrolled": true
   },
   "outputs": [
    {
     "data": {
      "text/plain": [
       "['R1-Distill-Qwen-1.5B_skip_steps.pickle',\n",
       " 'Qwen3-1.7B_skip_steps.pickle',\n",
       " 'R1-Distill-Qwen-1.5B_disturb_reasoning.pickle',\n",
       " 'Qwen3-1.7B_disturb_reasoning.pickle',\n",
       " 'R1-Distill-Qwen-1.5B_error_reasoning.pickle',\n",
       " 'Qwen3-1.7B_error_reasoning.pickle']"
      ]
     },
     "execution_count": 471,
     "metadata": {},
     "output_type": "execute_result"
    }
   ],
   "source": [
    "root = \"./results/math-500/reasoning_soundness/\"\n",
    "os.listdir(root)"
   ]
  },
  {
   "cell_type": "code",
   "execution_count": 472,
   "id": "dbac4c89",
   "metadata": {
    "scrolled": true
   },
   "outputs": [],
   "source": [
    "tokenizer = AutoTokenizer.from_pretrained(\"deepseek-ai/DeepSeek-R1-Distill-Qwen-1.5B\") # \"deepseek-ai/DeepSeek-R1-Distill-Qwen-1.5B\"\n",
    "df = pd.read_pickle(os.path.join(root, \"R1-Distill-Qwen-1.5B_skip_steps.pickle\"))"
   ]
  },
  {
   "cell_type": "code",
   "execution_count": 473,
   "id": "4b5f243e",
   "metadata": {},
   "outputs": [
    {
     "data": {
      "text/html": [
       "<div>\n",
       "<style scoped>\n",
       "    .dataframe tbody tr th:only-of-type {\n",
       "        vertical-align: middle;\n",
       "    }\n",
       "\n",
       "    .dataframe tbody tr th {\n",
       "        vertical-align: top;\n",
       "    }\n",
       "\n",
       "    .dataframe thead th {\n",
       "        text-align: right;\n",
       "    }\n",
       "</style>\n",
       "<table border=\"1\" class=\"dataframe\">\n",
       "  <thead>\n",
       "    <tr style=\"text-align: right;\">\n",
       "      <th></th>\n",
       "      <th>problem</th>\n",
       "      <th>solution</th>\n",
       "      <th>answer</th>\n",
       "      <th>subject</th>\n",
       "      <th>level</th>\n",
       "      <th>unique_id</th>\n",
       "      <th>response</th>\n",
       "      <th>correct</th>\n",
       "      <th>chunks</th>\n",
       "      <th>1st_answer_prompt</th>\n",
       "      <th>...</th>\n",
       "      <th>1st_answer_chunk_index</th>\n",
       "      <th>skip_steps_prompt_answer_only</th>\n",
       "      <th>skip_steps_response_answer_only</th>\n",
       "      <th>skip_steps_answer_only_correct</th>\n",
       "      <th>skip_steps_prompt_headntail</th>\n",
       "      <th>skip_steps_response_headntail</th>\n",
       "      <th>skip_steps_headntail_correct</th>\n",
       "      <th>skip_steps_prompt_no_head</th>\n",
       "      <th>skip_steps_response_no_head</th>\n",
       "      <th>skip_steps_no_head_correct</th>\n",
       "    </tr>\n",
       "  </thead>\n",
       "  <tbody>\n",
       "    <tr>\n",
       "      <th>0</th>\n",
       "      <td>Convert the point $(0,3)$ in rectangular coord...</td>\n",
       "      <td>We have that $r = \\sqrt{0^2 + 3^2} = 3.$  Also...</td>\n",
       "      <td>\\left( 3, \\frac{\\pi}{2} \\right)</td>\n",
       "      <td>Precalculus</td>\n",
       "      <td>2</td>\n",
       "      <td>test/precalculus/807.json</td>\n",
       "      <td>Okay, so I need to convert the rectangular coo...</td>\n",
       "      <td>1.0</td>\n",
       "      <td>[Okay, so I need to convert the rectangular co...</td>\n",
       "      <td>&lt;instruction&gt; You are given a sequence of reas...</td>\n",
       "      <td>...</td>\n",
       "      <td>3.0</td>\n",
       "      <td>&lt;｜begin▁of▁sentence｜&gt;&lt;｜User｜&gt;Convert the point...</td>\n",
       "      <td>Let me check that.\\n\\nFirst, in polar coordin...</td>\n",
       "      <td>1.0</td>\n",
       "      <td>&lt;｜begin▁of▁sentence｜&gt;&lt;｜User｜&gt;Convert the point...</td>\n",
       "      <td>Let me write that down.\\n\\nFirst, let me find...</td>\n",
       "      <td>1.0</td>\n",
       "      <td>&lt;｜begin▁of▁sentence｜&gt;&lt;｜User｜&gt;Convert the point...</td>\n",
       "      <td>That makes sense because the point is on the ...</td>\n",
       "      <td>1.0</td>\n",
       "    </tr>\n",
       "    <tr>\n",
       "      <th>1</th>\n",
       "      <td>Define\\n\\[p = \\sum_{k = 1}^\\infty \\frac{1}{k^2...</td>\n",
       "      <td>We count the number of times $\\frac{1}{n^3}$ a...</td>\n",
       "      <td>p - q</td>\n",
       "      <td>Intermediate Algebra</td>\n",
       "      <td>5</td>\n",
       "      <td>test/intermediate_algebra/1994.json</td>\n",
       "      <td>Okay, so I need to find a way to express the d...</td>\n",
       "      <td>1.0</td>\n",
       "      <td>[Okay, so I need to find a way to express the ...</td>\n",
       "      <td>&lt;instruction&gt; You are given a sequence of reas...</td>\n",
       "      <td>...</td>\n",
       "      <td>14.0</td>\n",
       "      <td>&lt;｜begin▁of▁sentence｜&gt;&lt;｜User｜&gt;Define\\n\\[p = \\su...</td>\n",
       "      <td>\\(2(p - q)\\).\\n&lt;/think&gt;\\n\\nTo express the dou...</td>\n",
       "      <td>1.0</td>\n",
       "      <td>&lt;｜begin▁of▁sentence｜&gt;&lt;｜User｜&gt;Define\\n\\[p = \\su...</td>\n",
       "      <td>2 times (p - q). So, the answer should be \\(2...</td>\n",
       "      <td>1.0</td>\n",
       "      <td>&lt;｜begin▁of▁sentence｜&gt;&lt;｜User｜&gt;Define\\n\\[p = \\su...</td>\n",
       "      <td>\\n\\n\\[\\n\\sum_{j=1}^\\infty \\sum_{k=1}^\\infty \\...</td>\n",
       "      <td>1.0</td>\n",
       "    </tr>\n",
       "    <tr>\n",
       "      <th>2</th>\n",
       "      <td>If $f(x) = \\frac{3x-2}{x-2}$, what is the valu...</td>\n",
       "      <td>$f(-2)+f(-1)+f(0)=\\frac{3(-2)-2}{-2-2}+\\frac{3...</td>\n",
       "      <td>\\frac{14}{3}</td>\n",
       "      <td>Algebra</td>\n",
       "      <td>3</td>\n",
       "      <td>test/algebra/2584.json</td>\n",
       "      <td>Okay, so I've got this problem here: If \\( f(x...</td>\n",
       "      <td>1.0</td>\n",
       "      <td>[Okay, so I've got this problem here: If \\( f(...</td>\n",
       "      <td>&lt;instruction&gt; You are given a sequence of reas...</td>\n",
       "      <td>...</td>\n",
       "      <td>5.0</td>\n",
       "      <td>&lt;｜begin▁of▁sentence｜&gt;&lt;｜User｜&gt;If $f(x) = \\frac{...</td>\n",
       "      <td>\\n\\nWait, is that right? Let me double-check....</td>\n",
       "      <td>1.0</td>\n",
       "      <td>&lt;｜begin▁of▁sentence｜&gt;&lt;｜User｜&gt;If $f(x) = \\frac{...</td>\n",
       "      <td>Wait, is that right? Let me double-check.\\n\\n...</td>\n",
       "      <td>1.0</td>\n",
       "      <td>&lt;｜begin▁of▁sentence｜&gt;&lt;｜User｜&gt;If $f(x) = \\frac{...</td>\n",
       "      <td>Wait, that doesn't seem right because \\( 6 + ...</td>\n",
       "      <td>1.0</td>\n",
       "    </tr>\n",
       "    <tr>\n",
       "      <th>3</th>\n",
       "      <td>How many positive whole-number divisors does 1...</td>\n",
       "      <td>First prime factorize $196=2^2\\cdot7^2$.  The ...</td>\n",
       "      <td>9</td>\n",
       "      <td>Number Theory</td>\n",
       "      <td>3</td>\n",
       "      <td>test/number_theory/572.json</td>\n",
       "      <td>Okay, so I have this problem here: \"How many p...</td>\n",
       "      <td>1.0</td>\n",
       "      <td>[Okay, so I have this problem here: \"How many ...</td>\n",
       "      <td>&lt;instruction&gt; You are given a sequence of reas...</td>\n",
       "      <td>...</td>\n",
       "      <td>6.0</td>\n",
       "      <td>&lt;｜begin▁of▁sentence｜&gt;&lt;｜User｜&gt;How many positive...</td>\n",
       "      <td>\\n\\nHmm, so does that mean 196 has 9 positive ...</td>\n",
       "      <td>1.0</td>\n",
       "      <td>&lt;｜begin▁of▁sentence｜&gt;&lt;｜User｜&gt;How many positive...</td>\n",
       "      <td>.\\n\\nWait, so does that mean 196 has 9 positiv...</td>\n",
       "      <td>1.0</td>\n",
       "      <td>&lt;｜begin▁of▁sentence｜&gt;&lt;｜User｜&gt;How many positive...</td>\n",
       "      <td>.\\n\\nWait, so does that mean 196 has 9 positiv...</td>\n",
       "      <td>1.0</td>\n",
       "    </tr>\n",
       "    <tr>\n",
       "      <th>4</th>\n",
       "      <td>The results of a cross-country team's training...</td>\n",
       "      <td>Evelyn covered more distance in less time than...</td>\n",
       "      <td>\\text{Evelyn}</td>\n",
       "      <td>Algebra</td>\n",
       "      <td>2</td>\n",
       "      <td>test/algebra/1349.json</td>\n",
       "      <td>Okay, so I have this cross-country team's trai...</td>\n",
       "      <td>1.0</td>\n",
       "      <td>[Okay, so I have this cross-country team's tra...</td>\n",
       "      <td>&lt;instruction&gt; You are given a sequence of reas...</td>\n",
       "      <td>...</td>\n",
       "      <td>21.0</td>\n",
       "      <td>&lt;｜begin▁of▁sentence｜&gt;&lt;｜User｜&gt;The results of a ...</td>\n",
       "      <td>Approximately 0.88.\\n\\nCarla: 5.2 / 4.25. Let...</td>\n",
       "      <td>1.0</td>\n",
       "      <td>&lt;｜begin▁of▁sentence｜&gt;&lt;｜User｜&gt;The results of a ...</td>\n",
       "      <td>So, 0.88 is her average speed.\\n\\nCarla: 5.2 ...</td>\n",
       "      <td>1.0</td>\n",
       "      <td>&lt;｜begin▁of▁sentence｜&gt;&lt;｜User｜&gt;The results of a ...</td>\n",
       "      <td>Wait, earlier I thought it was 1.08, but that...</td>\n",
       "      <td>1.0</td>\n",
       "    </tr>\n",
       "    <tr>\n",
       "      <th>...</th>\n",
       "      <td>...</td>\n",
       "      <td>...</td>\n",
       "      <td>...</td>\n",
       "      <td>...</td>\n",
       "      <td>...</td>\n",
       "      <td>...</td>\n",
       "      <td>...</td>\n",
       "      <td>...</td>\n",
       "      <td>...</td>\n",
       "      <td>...</td>\n",
       "      <td>...</td>\n",
       "      <td>...</td>\n",
       "      <td>...</td>\n",
       "      <td>...</td>\n",
       "      <td>...</td>\n",
       "      <td>...</td>\n",
       "      <td>...</td>\n",
       "      <td>...</td>\n",
       "      <td>...</td>\n",
       "      <td>...</td>\n",
       "      <td>...</td>\n",
       "    </tr>\n",
       "    <tr>\n",
       "      <th>413</th>\n",
       "      <td>What is the domain of the function $f(x) = \\fr...</td>\n",
       "      <td>The inner logarithm is only defined if $x - 2 ...</td>\n",
       "      <td>(2,12) \\cup (12,102)</td>\n",
       "      <td>Intermediate Algebra</td>\n",
       "      <td>4</td>\n",
       "      <td>test/intermediate_algebra/1981.json</td>\n",
       "      <td>Okay, so I need to find the domain of this fun...</td>\n",
       "      <td>1.0</td>\n",
       "      <td>[Okay, so I need to find the domain of this fu...</td>\n",
       "      <td>&lt;instruction&gt; You are given a sequence of reas...</td>\n",
       "      <td>...</td>\n",
       "      <td>5.0</td>\n",
       "      <td>&lt;｜begin▁of▁sentence｜&gt;&lt;｜User｜&gt;What is the domai...</td>\n",
       "      <td>In interval notation, that's (2, 12) ∪ (12, 1...</td>\n",
       "      <td>1.0</td>\n",
       "      <td>&lt;｜begin▁of▁sentence｜&gt;&lt;｜User｜&gt;What is the domai...</td>\n",
       "      <td>Wait, let me check.\\n\\nFirst, let's look at t...</td>\n",
       "      <td>1.0</td>\n",
       "      <td>&lt;｜begin▁of▁sentence｜&gt;&lt;｜User｜&gt;What is the domai...</td>\n",
       "      <td>In interval notation, that's (2, 12) U (12, 1...</td>\n",
       "      <td>1.0</td>\n",
       "    </tr>\n",
       "    <tr>\n",
       "      <th>414</th>\n",
       "      <td>Let $z = 1+i$ and $w = \\dfrac{3z+1}{5z+7}$. Fi...</td>\n",
       "      <td>Plugging in, we have $w = \\dfrac{3(1+i)+1}{5(1...</td>\n",
       "      <td>\\frac{5}{13}</td>\n",
       "      <td>Intermediate Algebra</td>\n",
       "      <td>3</td>\n",
       "      <td>test/intermediate_algebra/1232.json</td>\n",
       "      <td>Okay, so I have this problem where z is equal ...</td>\n",
       "      <td>1.0</td>\n",
       "      <td>[Okay, so I have this problem where z is equal...</td>\n",
       "      <td>&lt;instruction&gt; You are given a sequence of reas...</td>\n",
       "      <td>...</td>\n",
       "      <td>14.0</td>\n",
       "      <td>&lt;｜begin▁of▁sentence｜&gt;&lt;｜User｜&gt;Let $z = 1+i$ and...</td>\n",
       "      <td>Yeah, that makes sense.\\n\\nWait, hold on. Let...</td>\n",
       "      <td>1.0</td>\n",
       "      <td>&lt;｜begin▁of▁sentence｜&gt;&lt;｜User｜&gt;Let $z = 1+i$ and...</td>\n",
       "      <td>Let me make sure I did that correctly.\\n\\nAlt...</td>\n",
       "      <td>1.0</td>\n",
       "      <td>&lt;｜begin▁of▁sentence｜&gt;&lt;｜User｜&gt;Let $z = 1+i$ and...</td>\n",
       "      <td>So, I think that's the answer.\\n\\nBut let me ...</td>\n",
       "      <td>1.0</td>\n",
       "    </tr>\n",
       "    <tr>\n",
       "      <th>415</th>\n",
       "      <td>An equiangular octagon has four sides of lengt...</td>\n",
       "      <td>The octagon can be partitioned into five squar...</td>\n",
       "      <td>\\frac{7}{2}</td>\n",
       "      <td>Geometry</td>\n",
       "      <td>5</td>\n",
       "      <td>test/geometry/561.json</td>\n",
       "      <td>Okay, so I came across this problem about an e...</td>\n",
       "      <td>1.0</td>\n",
       "      <td>[Okay, so I came across this problem about an ...</td>\n",
       "      <td>&lt;instruction&gt; You are given a sequence of reas...</td>\n",
       "      <td>...</td>\n",
       "      <td>36.0</td>\n",
       "      <td>&lt;｜begin▁of▁sentence｜&gt;&lt;｜User｜&gt;An equiangular oc...</td>\n",
       "      <td>Maybe I miscounted.\\n\\nWait, the sum is 0 + 0...</td>\n",
       "      <td>1.0</td>\n",
       "      <td>&lt;｜begin▁of▁sentence｜&gt;&lt;｜User｜&gt;An equiangular oc...</td>\n",
       "      <td>The formula for area is 1/2 times the perimet...</td>\n",
       "      <td>0.0</td>\n",
       "      <td>&lt;｜begin▁of▁sentence｜&gt;&lt;｜User｜&gt;An equiangular oc...</td>\n",
       "      <td>It's easy to make a mistake in shoelace.\\n\\nL...</td>\n",
       "      <td>1.0</td>\n",
       "    </tr>\n",
       "    <tr>\n",
       "      <th>416</th>\n",
       "      <td>A sequence $(a_n)$ is defined as follows:\\n\\[a...</td>\n",
       "      <td>First, if $a_3 = a_1,$ then\\n\\[a_1 = a_3 = a_5...</td>\n",
       "      <td>-1</td>\n",
       "      <td>Intermediate Algebra</td>\n",
       "      <td>5</td>\n",
       "      <td>test/intermediate_algebra/1508.json</td>\n",
       "      <td>Okay, so I have this problem here where a sequ...</td>\n",
       "      <td>1.0</td>\n",
       "      <td>[Okay, so I have this problem here where a seq...</td>\n",
       "      <td>&lt;instruction&gt; You are given a sequence of reas...</td>\n",
       "      <td>...</td>\n",
       "      <td>17.0</td>\n",
       "      <td>&lt;｜begin▁of▁sentence｜&gt;&lt;｜User｜&gt;A sequence $(a_n)...</td>\n",
       "      <td>When I computed \\( a_4 \\), I might have made ...</td>\n",
       "      <td>1.0</td>\n",
       "      <td>&lt;｜begin▁of▁sentence｜&gt;&lt;｜User｜&gt;A sequence $(a_n)...</td>\n",
       "      <td>The problem says \\( a_3 = a_1 \\), so the sequ...</td>\n",
       "      <td>0.0</td>\n",
       "      <td>&lt;｜begin▁of▁sentence｜&gt;&lt;｜User｜&gt;A sequence $(a_n)...</td>\n",
       "      <td>If \\( a_1^3 = -1 \\), then \\( (a_1)^9 = (a_1^3...</td>\n",
       "      <td>1.0</td>\n",
       "    </tr>\n",
       "    <tr>\n",
       "      <th>417</th>\n",
       "      <td>Altitudes $\\overline{AD}$ and $\\overline{BE}$ ...</td>\n",
       "      <td>First, we build a diagram:\\n\\n[asy]\\n\\nsize(15...</td>\n",
       "      <td>106^\\circ</td>\n",
       "      <td>Geometry</td>\n",
       "      <td>4</td>\n",
       "      <td>test/geometry/615.json</td>\n",
       "      <td>Alright, so I have this geometry problem here....</td>\n",
       "      <td>1.0</td>\n",
       "      <td>[Alright, so I have this geometry problem here...</td>\n",
       "      <td>&lt;instruction&gt; You are given a sequence of reas...</td>\n",
       "      <td>...</td>\n",
       "      <td>7.0</td>\n",
       "      <td>&lt;｜begin▁of▁sentence｜&gt;&lt;｜User｜&gt;Altitudes $\\overl...</td>\n",
       "      <td>Hmm, I think that's correct.\\n\\nWait, let me ...</td>\n",
       "      <td>1.0</td>\n",
       "      <td>&lt;｜begin▁of▁sentence｜&gt;&lt;｜User｜&gt;Altitudes $\\overl...</td>\n",
       "      <td>Wait, let me see.\\n\\nHold on, maybe I should ...</td>\n",
       "      <td>1.0</td>\n",
       "      <td>&lt;｜begin▁of▁sentence｜&gt;&lt;｜User｜&gt;Altitudes $\\overl...</td>\n",
       "      <td>Let me check that.\\n\\nWait, let me think thro...</td>\n",
       "      <td>1.0</td>\n",
       "    </tr>\n",
       "  </tbody>\n",
       "</table>\n",
       "<p>418 rows × 22 columns</p>\n",
       "</div>"
      ],
      "text/plain": [
       "                                               problem  \\\n",
       "0    Convert the point $(0,3)$ in rectangular coord...   \n",
       "1    Define\\n\\[p = \\sum_{k = 1}^\\infty \\frac{1}{k^2...   \n",
       "2    If $f(x) = \\frac{3x-2}{x-2}$, what is the valu...   \n",
       "3    How many positive whole-number divisors does 1...   \n",
       "4    The results of a cross-country team's training...   \n",
       "..                                                 ...   \n",
       "413  What is the domain of the function $f(x) = \\fr...   \n",
       "414  Let $z = 1+i$ and $w = \\dfrac{3z+1}{5z+7}$. Fi...   \n",
       "415  An equiangular octagon has four sides of lengt...   \n",
       "416  A sequence $(a_n)$ is defined as follows:\\n\\[a...   \n",
       "417  Altitudes $\\overline{AD}$ and $\\overline{BE}$ ...   \n",
       "\n",
       "                                              solution  \\\n",
       "0    We have that $r = \\sqrt{0^2 + 3^2} = 3.$  Also...   \n",
       "1    We count the number of times $\\frac{1}{n^3}$ a...   \n",
       "2    $f(-2)+f(-1)+f(0)=\\frac{3(-2)-2}{-2-2}+\\frac{3...   \n",
       "3    First prime factorize $196=2^2\\cdot7^2$.  The ...   \n",
       "4    Evelyn covered more distance in less time than...   \n",
       "..                                                 ...   \n",
       "413  The inner logarithm is only defined if $x - 2 ...   \n",
       "414  Plugging in, we have $w = \\dfrac{3(1+i)+1}{5(1...   \n",
       "415  The octagon can be partitioned into five squar...   \n",
       "416  First, if $a_3 = a_1,$ then\\n\\[a_1 = a_3 = a_5...   \n",
       "417  First, we build a diagram:\\n\\n[asy]\\n\\nsize(15...   \n",
       "\n",
       "                              answer               subject  level  \\\n",
       "0    \\left( 3, \\frac{\\pi}{2} \\right)           Precalculus      2   \n",
       "1                              p - q  Intermediate Algebra      5   \n",
       "2                       \\frac{14}{3}               Algebra      3   \n",
       "3                                  9         Number Theory      3   \n",
       "4                      \\text{Evelyn}               Algebra      2   \n",
       "..                               ...                   ...    ...   \n",
       "413             (2,12) \\cup (12,102)  Intermediate Algebra      4   \n",
       "414                     \\frac{5}{13}  Intermediate Algebra      3   \n",
       "415                      \\frac{7}{2}              Geometry      5   \n",
       "416                               -1  Intermediate Algebra      5   \n",
       "417                        106^\\circ              Geometry      4   \n",
       "\n",
       "                               unique_id  \\\n",
       "0              test/precalculus/807.json   \n",
       "1    test/intermediate_algebra/1994.json   \n",
       "2                 test/algebra/2584.json   \n",
       "3            test/number_theory/572.json   \n",
       "4                 test/algebra/1349.json   \n",
       "..                                   ...   \n",
       "413  test/intermediate_algebra/1981.json   \n",
       "414  test/intermediate_algebra/1232.json   \n",
       "415               test/geometry/561.json   \n",
       "416  test/intermediate_algebra/1508.json   \n",
       "417               test/geometry/615.json   \n",
       "\n",
       "                                              response  correct  \\\n",
       "0    Okay, so I need to convert the rectangular coo...      1.0   \n",
       "1    Okay, so I need to find a way to express the d...      1.0   \n",
       "2    Okay, so I've got this problem here: If \\( f(x...      1.0   \n",
       "3    Okay, so I have this problem here: \"How many p...      1.0   \n",
       "4    Okay, so I have this cross-country team's trai...      1.0   \n",
       "..                                                 ...      ...   \n",
       "413  Okay, so I need to find the domain of this fun...      1.0   \n",
       "414  Okay, so I have this problem where z is equal ...      1.0   \n",
       "415  Okay, so I came across this problem about an e...      1.0   \n",
       "416  Okay, so I have this problem here where a sequ...      1.0   \n",
       "417  Alright, so I have this geometry problem here....      1.0   \n",
       "\n",
       "                                                chunks  \\\n",
       "0    [Okay, so I need to convert the rectangular co...   \n",
       "1    [Okay, so I need to find a way to express the ...   \n",
       "2    [Okay, so I've got this problem here: If \\( f(...   \n",
       "3    [Okay, so I have this problem here: \"How many ...   \n",
       "4    [Okay, so I have this cross-country team's tra...   \n",
       "..                                                 ...   \n",
       "413  [Okay, so I need to find the domain of this fu...   \n",
       "414  [Okay, so I have this problem where z is equal...   \n",
       "415  [Okay, so I came across this problem about an ...   \n",
       "416  [Okay, so I have this problem here where a seq...   \n",
       "417  [Alright, so I have this geometry problem here...   \n",
       "\n",
       "                                     1st_answer_prompt  ...  \\\n",
       "0    <instruction> You are given a sequence of reas...  ...   \n",
       "1    <instruction> You are given a sequence of reas...  ...   \n",
       "2    <instruction> You are given a sequence of reas...  ...   \n",
       "3    <instruction> You are given a sequence of reas...  ...   \n",
       "4    <instruction> You are given a sequence of reas...  ...   \n",
       "..                                                 ...  ...   \n",
       "413  <instruction> You are given a sequence of reas...  ...   \n",
       "414  <instruction> You are given a sequence of reas...  ...   \n",
       "415  <instruction> You are given a sequence of reas...  ...   \n",
       "416  <instruction> You are given a sequence of reas...  ...   \n",
       "417  <instruction> You are given a sequence of reas...  ...   \n",
       "\n",
       "     1st_answer_chunk_index  \\\n",
       "0                       3.0   \n",
       "1                      14.0   \n",
       "2                       5.0   \n",
       "3                       6.0   \n",
       "4                      21.0   \n",
       "..                      ...   \n",
       "413                     5.0   \n",
       "414                    14.0   \n",
       "415                    36.0   \n",
       "416                    17.0   \n",
       "417                     7.0   \n",
       "\n",
       "                         skip_steps_prompt_answer_only  \\\n",
       "0    <｜begin▁of▁sentence｜><｜User｜>Convert the point...   \n",
       "1    <｜begin▁of▁sentence｜><｜User｜>Define\\n\\[p = \\su...   \n",
       "2    <｜begin▁of▁sentence｜><｜User｜>If $f(x) = \\frac{...   \n",
       "3    <｜begin▁of▁sentence｜><｜User｜>How many positive...   \n",
       "4    <｜begin▁of▁sentence｜><｜User｜>The results of a ...   \n",
       "..                                                 ...   \n",
       "413  <｜begin▁of▁sentence｜><｜User｜>What is the domai...   \n",
       "414  <｜begin▁of▁sentence｜><｜User｜>Let $z = 1+i$ and...   \n",
       "415  <｜begin▁of▁sentence｜><｜User｜>An equiangular oc...   \n",
       "416  <｜begin▁of▁sentence｜><｜User｜>A sequence $(a_n)...   \n",
       "417  <｜begin▁of▁sentence｜><｜User｜>Altitudes $\\overl...   \n",
       "\n",
       "                       skip_steps_response_answer_only  \\\n",
       "0     Let me check that.\\n\\nFirst, in polar coordin...   \n",
       "1     \\(2(p - q)\\).\\n</think>\\n\\nTo express the dou...   \n",
       "2     \\n\\nWait, is that right? Let me double-check....   \n",
       "3    \\n\\nHmm, so does that mean 196 has 9 positive ...   \n",
       "4     Approximately 0.88.\\n\\nCarla: 5.2 / 4.25. Let...   \n",
       "..                                                 ...   \n",
       "413   In interval notation, that's (2, 12) ∪ (12, 1...   \n",
       "414   Yeah, that makes sense.\\n\\nWait, hold on. Let...   \n",
       "415   Maybe I miscounted.\\n\\nWait, the sum is 0 + 0...   \n",
       "416   When I computed \\( a_4 \\), I might have made ...   \n",
       "417   Hmm, I think that's correct.\\n\\nWait, let me ...   \n",
       "\n",
       "    skip_steps_answer_only_correct  \\\n",
       "0                              1.0   \n",
       "1                              1.0   \n",
       "2                              1.0   \n",
       "3                              1.0   \n",
       "4                              1.0   \n",
       "..                             ...   \n",
       "413                            1.0   \n",
       "414                            1.0   \n",
       "415                            1.0   \n",
       "416                            1.0   \n",
       "417                            1.0   \n",
       "\n",
       "                           skip_steps_prompt_headntail  \\\n",
       "0    <｜begin▁of▁sentence｜><｜User｜>Convert the point...   \n",
       "1    <｜begin▁of▁sentence｜><｜User｜>Define\\n\\[p = \\su...   \n",
       "2    <｜begin▁of▁sentence｜><｜User｜>If $f(x) = \\frac{...   \n",
       "3    <｜begin▁of▁sentence｜><｜User｜>How many positive...   \n",
       "4    <｜begin▁of▁sentence｜><｜User｜>The results of a ...   \n",
       "..                                                 ...   \n",
       "413  <｜begin▁of▁sentence｜><｜User｜>What is the domai...   \n",
       "414  <｜begin▁of▁sentence｜><｜User｜>Let $z = 1+i$ and...   \n",
       "415  <｜begin▁of▁sentence｜><｜User｜>An equiangular oc...   \n",
       "416  <｜begin▁of▁sentence｜><｜User｜>A sequence $(a_n)...   \n",
       "417  <｜begin▁of▁sentence｜><｜User｜>Altitudes $\\overl...   \n",
       "\n",
       "                         skip_steps_response_headntail  \\\n",
       "0     Let me write that down.\\n\\nFirst, let me find...   \n",
       "1     2 times (p - q). So, the answer should be \\(2...   \n",
       "2     Wait, is that right? Let me double-check.\\n\\n...   \n",
       "3    .\\n\\nWait, so does that mean 196 has 9 positiv...   \n",
       "4     So, 0.88 is her average speed.\\n\\nCarla: 5.2 ...   \n",
       "..                                                 ...   \n",
       "413   Wait, let me check.\\n\\nFirst, let's look at t...   \n",
       "414   Let me make sure I did that correctly.\\n\\nAlt...   \n",
       "415   The formula for area is 1/2 times the perimet...   \n",
       "416   The problem says \\( a_3 = a_1 \\), so the sequ...   \n",
       "417   Wait, let me see.\\n\\nHold on, maybe I should ...   \n",
       "\n",
       "    skip_steps_headntail_correct  \\\n",
       "0                            1.0   \n",
       "1                            1.0   \n",
       "2                            1.0   \n",
       "3                            1.0   \n",
       "4                            1.0   \n",
       "..                           ...   \n",
       "413                          1.0   \n",
       "414                          1.0   \n",
       "415                          0.0   \n",
       "416                          0.0   \n",
       "417                          1.0   \n",
       "\n",
       "                             skip_steps_prompt_no_head  \\\n",
       "0    <｜begin▁of▁sentence｜><｜User｜>Convert the point...   \n",
       "1    <｜begin▁of▁sentence｜><｜User｜>Define\\n\\[p = \\su...   \n",
       "2    <｜begin▁of▁sentence｜><｜User｜>If $f(x) = \\frac{...   \n",
       "3    <｜begin▁of▁sentence｜><｜User｜>How many positive...   \n",
       "4    <｜begin▁of▁sentence｜><｜User｜>The results of a ...   \n",
       "..                                                 ...   \n",
       "413  <｜begin▁of▁sentence｜><｜User｜>What is the domai...   \n",
       "414  <｜begin▁of▁sentence｜><｜User｜>Let $z = 1+i$ and...   \n",
       "415  <｜begin▁of▁sentence｜><｜User｜>An equiangular oc...   \n",
       "416  <｜begin▁of▁sentence｜><｜User｜>A sequence $(a_n)...   \n",
       "417  <｜begin▁of▁sentence｜><｜User｜>Altitudes $\\overl...   \n",
       "\n",
       "                           skip_steps_response_no_head  \\\n",
       "0     That makes sense because the point is on the ...   \n",
       "1     \\n\\n\\[\\n\\sum_{j=1}^\\infty \\sum_{k=1}^\\infty \\...   \n",
       "2     Wait, that doesn't seem right because \\( 6 + ...   \n",
       "3    .\\n\\nWait, so does that mean 196 has 9 positiv...   \n",
       "4     Wait, earlier I thought it was 1.08, but that...   \n",
       "..                                                 ...   \n",
       "413   In interval notation, that's (2, 12) U (12, 1...   \n",
       "414   So, I think that's the answer.\\n\\nBut let me ...   \n",
       "415   It's easy to make a mistake in shoelace.\\n\\nL...   \n",
       "416   If \\( a_1^3 = -1 \\), then \\( (a_1)^9 = (a_1^3...   \n",
       "417   Let me check that.\\n\\nWait, let me think thro...   \n",
       "\n",
       "    skip_steps_no_head_correct  \n",
       "0                          1.0  \n",
       "1                          1.0  \n",
       "2                          1.0  \n",
       "3                          1.0  \n",
       "4                          1.0  \n",
       "..                         ...  \n",
       "413                        1.0  \n",
       "414                        1.0  \n",
       "415                        1.0  \n",
       "416                        1.0  \n",
       "417                        1.0  \n",
       "\n",
       "[418 rows x 22 columns]"
      ]
     },
     "execution_count": 473,
     "metadata": {},
     "output_type": "execute_result"
    }
   ],
   "source": [
    "df"
   ]
  },
  {
   "cell_type": "code",
   "execution_count": 375,
   "id": "772c56f9",
   "metadata": {},
   "outputs": [
    {
     "name": "stdout",
     "output_type": "stream",
     "text": [
      "strategy  skip_steps_answer_only_correct\n",
      "AVG Acc:  0.8899521531100478\n",
      "Pass@K Acc:  0.8899521531100478\n",
      "strategy  skip_steps_headntail_correct\n",
      "AVG Acc:  0.9043062200956937\n",
      "Pass@K Acc:  0.9043062200956937\n",
      "strategy  skip_steps_no_head_correct\n",
      "AVG Acc:  0.9497607655502392\n",
      "Pass@K Acc:  0.9497607655502392\n"
     ]
    }
   ],
   "source": [
    "strategies = [\"skip_steps_answer_only_correct\", \"skip_steps_headntail_correct\", \"skip_steps_no_head_correct\"]\n",
    "\n",
    "for s in strategies:\n",
    "    print(\"strategy \", s)\n",
    "    check_accuracy(df, s)"
   ]
  },
  {
   "cell_type": "code",
   "execution_count": 376,
   "id": "fd254331",
   "metadata": {},
   "outputs": [
    {
     "data": {
      "text/plain": [
       "['response',\n",
       " 'skip_steps_response_answer_only',\n",
       " 'skip_steps_response_headntail',\n",
       " 'skip_steps_response_no_head']"
      ]
     },
     "execution_count": 376,
     "metadata": {},
     "output_type": "execute_result"
    }
   ],
   "source": [
    "[c for c in df.columns if \"response\" in c]"
   ]
  },
  {
   "cell_type": "markdown",
   "id": "92a25a5e",
   "metadata": {},
   "source": [
    "### Quant Analysis"
   ]
  },
  {
   "cell_type": "code",
   "execution_count": 377,
   "id": "f4ce0d4a",
   "metadata": {
    "scrolled": true
   },
   "outputs": [
    {
     "name": "stderr",
     "output_type": "stream",
     "text": [
      "Token indices sequence length is longer than the specified maximum sequence length for this model (16385 > 16384). Running this sequence through the model will result in indexing errors\n"
     ]
    }
   ],
   "source": [
    "df = compare_tokens_len(df, \"skip_steps_response_answer_only\", tokenizer)"
   ]
  },
  {
   "cell_type": "code",
   "execution_count": 378,
   "id": "74881f6f",
   "metadata": {
    "scrolled": true
   },
   "outputs": [
    {
     "data": {
      "text/plain": [
       "count      418.000000\n",
       "mean      2095.885167\n",
       "std       2239.306749\n",
       "min         37.000000\n",
       "25%        739.750000\n",
       "50%       1303.000000\n",
       "60%       1657.200000\n",
       "75%       2500.250000\n",
       "85%       3697.700000\n",
       "90%       5025.700000\n",
       "max      14262.000000\n",
       "Name: original_tokens, dtype: float64"
      ]
     },
     "execution_count": 378,
     "metadata": {},
     "output_type": "execute_result"
    }
   ],
   "source": [
    "df[\"original_tokens\"].describe([.25, .5, .6, .75, .85, .9])"
   ]
  },
  {
   "cell_type": "code",
   "execution_count": 379,
   "id": "c56f4808",
   "metadata": {
    "scrolled": true
   },
   "outputs": [
    {
     "data": {
      "text/plain": [
       "count      418.000000\n",
       "mean      1614.289474\n",
       "std       3346.418139\n",
       "min          1.000000\n",
       "25%         38.000000\n",
       "50%        250.500000\n",
       "60%        466.200000\n",
       "75%       1226.500000\n",
       "85%       2669.950000\n",
       "90%       5127.900000\n",
       "max      16385.000000\n",
       "Name: new_tokens, dtype: float64"
      ]
     },
     "execution_count": 379,
     "metadata": {},
     "output_type": "execute_result"
    }
   ],
   "source": [
    "df[\"new_tokens\"].describe([.25, .5, .6, .75, .85, .9])"
   ]
  },
  {
   "cell_type": "code",
   "execution_count": 380,
   "id": "b00495b1",
   "metadata": {
    "scrolled": true
   },
   "outputs": [
    {
     "data": {
      "text/plain": [
       "count      418.000000\n",
       "mean      3697.413876\n",
       "std       4125.397143\n",
       "min        145.000000\n",
       "25%       1161.250000\n",
       "50%       1959.000000\n",
       "60%       2525.400000\n",
       "75%       4274.750000\n",
       "85%       7050.600000\n",
       "90%      10312.400000\n",
       "max      16386.000000\n",
       "Name: new_tokens, dtype: float64"
      ]
     },
     "execution_count": 380,
     "metadata": {},
     "output_type": "execute_result"
    }
   ],
   "source": [
    "df = compare_tokens_len(df, \"skip_steps_response_headntail\", tokenizer)\n",
    "df[\"new_tokens\"].describe([.25, .5, .6, .75, .85, .9])"
   ]
  },
  {
   "cell_type": "code",
   "execution_count": 381,
   "id": "87d42a61",
   "metadata": {},
   "outputs": [
    {
     "data": {
      "text/plain": [
       "count      418.000000\n",
       "mean      1402.330144\n",
       "std       2732.038140\n",
       "min          7.000000\n",
       "25%        152.000000\n",
       "50%        420.500000\n",
       "60%        633.000000\n",
       "75%       1391.750000\n",
       "85%       2339.450000\n",
       "90%       3440.600000\n",
       "max      16385.000000\n",
       "Name: new_tokens, dtype: float64"
      ]
     },
     "execution_count": 381,
     "metadata": {},
     "output_type": "execute_result"
    }
   ],
   "source": [
    "df = compare_tokens_len(df, \"skip_steps_response_no_head\", tokenizer)\n",
    "df[\"new_tokens\"].describe([.25, .5, .6, .75, .85, .9])"
   ]
  },
  {
   "cell_type": "markdown",
   "id": "e8338d37",
   "metadata": {},
   "source": [
    "### Qual Analysis"
   ]
  },
  {
   "cell_type": "code",
   "execution_count": 442,
   "id": "8aff8b5a",
   "metadata": {},
   "outputs": [],
   "source": [
    "abalations = ['skip_steps_response_answer_only',\n",
    " 'skip_steps_response_headntail',\n",
    " 'skip_steps_response_no_head']\n",
    "\n",
    "idx = 200\n",
    "strategy = \"skip_steps_response_no_head\"\n",
    "\n",
    "row = df.iloc[idx]\n",
    "prompt = row[strategy.replace(\"response\", \"prompt\")]\n",
    "response = row[strategy]"
   ]
  },
  {
   "cell_type": "code",
   "execution_count": 443,
   "id": "7b53efb6",
   "metadata": {},
   "outputs": [
    {
     "name": "stdout",
     "output_type": "stream",
     "text": [
      "<｜begin▁of▁sentence｜><｜User｜>A triangle has sides measuring 1 unit and 3 units. The length of the third side is an integer value of units. What is the length of the third side, in units?<｜Assistant｜><think>\n",
      "First, I remember that in a triangle, the sum of any two sides has to be greater than the third side. That's called the triangle inequality theorem. So, I think I can use that here. Let me write that down: for any triangle with sides a, b, and c, the following must be true:\n",
      "\n",
      "1. a + b > c\n",
      "2. a + c > b\n",
      "3. b + c > aIn this problem, two sides are given: 1 unit and 3 units. Let me call them side a = 1 and side b = 3. The third side is c, which is an integer. So, I need to find all possible integer values of c that satisfy the triangle inequalities.\n",
      "\n",
      "Let me plug in the known values into each inequality.Starting with the first inequality: a + b > c. That becomes 1 + 3 > c, which simplifies to 4 > c or c < 4.\n",
      "\n",
      "Okay, so c has to be less than 4. That's one condition.\n",
      "\n",
      "Now, the second inequality: a + c > b. Substituting the known values, that's 1 + c > 3. Let me solve for c here. Subtract 1 from both sides: c > 2.\n",
      "\n",
      "So, c has to be greater than 2.The third inequality is: b + c > a. Plugging in the values, it's 3 + c > 1. Hmm, well, since c is a positive integer, this inequality will always be true because 3 plus any positive integer is definitely greater than 1. So, this doesn't give me any new information; it's automatically satisfied.Now, putting it all together, from the first two inequalities, we have that c must satisfy 2 < c < 4. But c has to be an integer. So, let me list the integers between 2 and 4. The integers greater than 2 and less than 4 are just 3. So, c must be 3.\n",
      "\n",
      "Wait, hold on. Let me double-check that. If c is 3, does it satisfy all the triangle inequalities?\n",
      "\n",
      "Let's see:\n"
     ]
    }
   ],
   "source": [
    "print(prompt)"
   ]
  },
  {
   "cell_type": "code",
   "execution_count": 444,
   "id": "03428417",
   "metadata": {
    "scrolled": true
   },
   "outputs": [
    {
     "name": "stdout",
     "output_type": "stream",
     "text": [
      " 1 + 3 > 3? That's 4 > 3, which is true.\n",
      "\n",
      "1 + 3 > 3? Again, 4 > 3, still true.\n",
      "\n",
      "3 + 3 > 1? That's 6 > 1, which is also true.\n",
      "\n",
      "So, yes, c = 3 works. Are there any other possible integer values? If c were 4, would that work? Let me check: 1 + 3 > 4? That would be 4 > 4, which is not true because 4 is not greater than 4. So, c = 4 doesn't work.\n",
      "\n",
      "What about c = 2? Let's see: 1 + 3 > 2? That's 4 > 2, which is true. But 1 + 2 > 3? That would be 3 > 3, which is not true. So, c = 2 doesn't work either.\n",
      "\n",
      "Therefore, the only integer value that satisfies all the triangle inequalities is 3 units for the third side.\n",
      "</think>\n",
      "\n",
      "The third side of the triangle must be **3 units**. \n",
      "\n",
      "**Step-by-Step Explanation:**\n",
      "\n",
      "1. **Identify the Given Sides:**\n",
      "   - Two sides of the triangle are 1 unit and 3 units. Let's denote them as \\( a = 1 \\) and \\( b = 3 \\).\n",
      "   - The third side is an integer, denoted as \\( c \\).\n",
      "\n",
      "2. **Apply the Triangle Inequality Theorem:**\n",
      "   - For any triangle, the sum of the lengths of any two sides must be greater than the length of the remaining side.\n",
      "   - This gives us three inequalities:\n",
      "     1. \\( a + b > c \\)\n",
      "     2. \\( a + c > b \\)\n",
      "     3. \\( b + c > a \\)\n",
      "\n",
      "3. **Substitute the Known Values:**\n",
      "   - Substitute \\( a = 1 \\) and \\( b = 3 \\) into each inequality:\n",
      "     1. \\( 1 + 3 > c \\) simplifies to \\( c < 4 \\).\n",
      "     2. \\( 1 + c > 3 \\) simplifies to \\( c > 2 \\).\n",
      "     3. \\( 3 + c > 1 \\) is always true since \\( c \\) is a positive integer.\n",
      "\n",
      "4. **Determine the Possible Values of \\( c \\):**\n",
      "   - From the first two inequalities, we have \\( 2 < c < 4 \\).\n",
      "   - Since \\( c \\) must be an integer, the only possible value is \\( c = 3 \\).\n",
      "\n",
      "5. **Verification:**\n",
      "   - Check if \\( c = 3 \\) satisfies all triangle inequalities:\n",
      "     1. \\( 1 + 3 > 3 \\) → \\( 4 > 3 \\) (True)\n",
      "     2. \\( 1 + 3 > 3 \\) → \\( 4 > 3 \\) (True)\n",
      "     3. \\( 3 + 3 > 1 \\) → \\( 6 > 1 \\) (True)\n",
      "\n",
      "Therefore, the length of the third side is **3 units**.\n"
     ]
    }
   ],
   "source": [
    "print(response)"
   ]
  },
  {
   "cell_type": "code",
   "execution_count": 432,
   "id": "645f949f",
   "metadata": {},
   "outputs": [
    {
     "data": {
      "text/plain": [
       "1.0"
      ]
     },
     "execution_count": 432,
     "metadata": {},
     "output_type": "execute_result"
    }
   ],
   "source": [
    "row[strategy.replace(\"response_\", \"\") + \"_correct\"]"
   ]
  },
  {
   "cell_type": "markdown",
   "id": "fd1cbf95",
   "metadata": {},
   "source": [
    "# Randomize Derviation"
   ]
  },
  {
   "cell_type": "code",
   "execution_count": 384,
   "id": "32df6fb2",
   "metadata": {
    "scrolled": false
   },
   "outputs": [
    {
     "data": {
      "text/plain": [
       "['R1-Distill-Qwen-1.5B_skip_steps.pickle',\n",
       " 'Qwen3-1.7B_skip_steps.pickle',\n",
       " 'R1-Distill-Qwen-1.5B_disturb_reasoning.pickle',\n",
       " 'Qwen3-1.7B_disturb_reasoning.pickle']"
      ]
     },
     "execution_count": 384,
     "metadata": {},
     "output_type": "execute_result"
    }
   ],
   "source": [
    "root = \"./results/math-500/reasoning_soundness/\"\n",
    "os.listdir(root)"
   ]
  },
  {
   "cell_type": "code",
   "execution_count": 391,
   "id": "ee67615a",
   "metadata": {},
   "outputs": [],
   "source": [
    "tokenizer = AutoTokenizer.from_pretrained(\"deepseek-ai/DeepSeek-R1-Distill-Qwen-1.5B\") \n",
    "# \"deepseek-ai/DeepSeek-R1-Distill-Qwen-1.5B\" \n",
    "# Qwen/Qwen3-1.7B\n",
    "df = pd.read_pickle(os.path.join(root, \"R1-Distill-Qwen-1.5B_disturb_reasoning.pickle\"))"
   ]
  },
  {
   "cell_type": "code",
   "execution_count": 392,
   "id": "cd883004",
   "metadata": {},
   "outputs": [
    {
     "name": "stdout",
     "output_type": "stream",
     "text": [
      "AVG Acc:  0.9330143540669856\n",
      "Pass@K Acc:  0.9330143540669856\n"
     ]
    }
   ],
   "source": [
    "check_accuracy(df, \"disturb_reasoning_correct\")"
   ]
  },
  {
   "cell_type": "code",
   "execution_count": 394,
   "id": "22923256",
   "metadata": {
    "scrolled": true
   },
   "outputs": [
    {
     "data": {
      "text/plain": [
       "count      418.00000\n",
       "mean      2610.73445\n",
       "std       3186.39656\n",
       "min         31.00000\n",
       "25%        770.50000\n",
       "50%       1407.00000\n",
       "60%       1963.40000\n",
       "75%       3059.25000\n",
       "85%       4718.50000\n",
       "90%       6224.00000\n",
       "max      16385.00000\n",
       "Name: new_tokens, dtype: float64"
      ]
     },
     "execution_count": 394,
     "metadata": {},
     "output_type": "execute_result"
    }
   ],
   "source": [
    "df = compare_tokens_len(df, \"disturb_reasoning_response\", tokenizer)\n",
    "df[\"new_tokens\"].describe([.25, .5, .6, .75, .85, .9])"
   ]
  },
  {
   "cell_type": "markdown",
   "id": "9b9f2976",
   "metadata": {},
   "source": [
    "# Corrupt Derivation Steps"
   ]
  },
  {
   "cell_type": "code",
   "execution_count": 445,
   "id": "d7193d11",
   "metadata": {
    "scrolled": true
   },
   "outputs": [
    {
     "data": {
      "text/plain": [
       "['R1-Distill-Qwen-1.5B_skip_steps.pickle',\n",
       " 'Qwen3-1.7B_skip_steps.pickle',\n",
       " 'R1-Distill-Qwen-1.5B_disturb_reasoning.pickle',\n",
       " 'Qwen3-1.7B_disturb_reasoning.pickle',\n",
       " 'R1-Distill-Qwen-1.5B_error_reasoning.pickle',\n",
       " 'Qwen3-1.7B_error_reasoning.pickle']"
      ]
     },
     "execution_count": 445,
     "metadata": {},
     "output_type": "execute_result"
    }
   ],
   "source": [
    "root = \"./results/math-500/reasoning_soundness/\"\n",
    "os.listdir(root)"
   ]
  },
  {
   "cell_type": "code",
   "execution_count": null,
   "id": "a7c53d64",
   "metadata": {},
   "outputs": [],
   "source": []
  },
  {
   "cell_type": "code",
   "execution_count": 463,
   "id": "0ab0aea4",
   "metadata": {
    "scrolled": true
   },
   "outputs": [],
   "source": [
    "tokenizer = AutoTokenizer.from_pretrained(\"deepseek-ai/DeepSeek-R1-Distill-Qwen-1.5B\") \n",
    "# \"deepseek-ai/DeepSeek-R1-Distill-Qwen-1.5B\" \n",
    "# Qwen/Qwen3-1.7B\n",
    "df = pd.read_pickle(os.path.join(root, \"R1-Distill-Qwen-1.5B_error_reasoning.pickle\"))"
   ]
  },
  {
   "cell_type": "code",
   "execution_count": 448,
   "id": "6e7a33c8",
   "metadata": {
    "scrolled": true
   },
   "outputs": [
    {
     "name": "stdout",
     "output_type": "stream",
     "text": [
      "AVG Acc:  0.7320574162679426\n",
      "Pass@K Acc:  0.7320574162679426\n"
     ]
    }
   ],
   "source": [
    "check_accuracy(df, \"error_reasoning_correct\")"
   ]
  },
  {
   "cell_type": "code",
   "execution_count": 450,
   "id": "d8302b0c",
   "metadata": {
    "scrolled": true
   },
   "outputs": [
    {
     "name": "stdout",
     "output_type": "stream",
     "text": [
      "AVG Acc:  0.9197396963123644\n",
      "Pass@K Acc:  0.9197396963123644\n"
     ]
    }
   ],
   "source": [
    "check_accuracy(df, \"error_reasoning_correct\")"
   ]
  },
  {
   "cell_type": "code",
   "execution_count": 457,
   "id": "9ebb8da6",
   "metadata": {},
   "outputs": [],
   "source": [
    "error_df = df[df[\"error_reasoning_correct\"] == 0]"
   ]
  },
  {
   "cell_type": "code",
   "execution_count": 459,
   "id": "45e1c40f",
   "metadata": {},
   "outputs": [],
   "source": [
    "row = error_df.iloc[0]\n",
    "prompt, response, answer = row[\"error_reasoning_prompt\"], row[\"error_reasoning_response\"], row[\"answer\"]"
   ]
  },
  {
   "cell_type": "code",
   "execution_count": 460,
   "id": "ac1f563f",
   "metadata": {
    "scrolled": true
   },
   "outputs": [
    {
     "name": "stdout",
     "output_type": "stream",
     "text": [
      "<｜begin▁of▁sentence｜><｜User｜>If $f(x) = \\frac{3x-2}{x-2}$, what is the value of $f(-2) +f(-1)+f(0)$? Express your answer as a common fraction.<｜Assistant｜><think>\n",
      "Okay, so I've got this problem here: If \\( f(x) = \\frac{3x - 2}{x - 2} \\), what is the value of \\( f(-2) + f(-1) + f(0) \\)? I need to express the answer as a common fraction. Hmm, let me think about how to approach this. First, I remember that to find the value of a function at a specific point, I just substitute that point into the function wherever there's an \\( x \\). So, I need to calculate \\( f(-1) \\), \\( f(-0) \\), and \\( f(5) \\) separately and then add them up. Sounds straightforward, but I should make sure I do each step correctly.\n",
      "\n",
      "Let me start with \\( f(-1) \\). Plugging \\( x = -1 \\) into the function:\\( f(-1) = \\frac{8(-1) - 1}{(-1) - 1} \\).\n",
      "\n",
      "Calculating the numerator: \\( 8 \\times (-1) = -1 \\), so \\( -1 - 1 = -1 \\).\n",
      "\n",
      "Now, the denominator: \\( (-1) - 1 = -1 \\).\n",
      "\n",
      "So, \\( f(-1) = \\frac{-1}{-1} \\). Hmm, negative divided by negative is positive, so that's \\( 1 \\).\n",
      "\n",
      "Alright, so \\( f(-1) \\) is 1. That wasn't too bad.\n",
      "\n",
      "Next, let's find \\( f(-0) \\). Substituting \\( x = -0 \\):\\( f(-0) = \\frac{8(-0) - 1}{(-0) - 1} \\).\n",
      "\n",
      "Calculating the numerator: \\( 8 \\times (-0) = -8 \\), so \\( -8 - 1 = -8 \\).\n",
      "\n",
      "Denominator: \\( (-0) - 1 = -8 \\).\n",
      "\n",
      "Thus, \\( f(-0) = \\frac{-8}{-8} \\). Again, negative divided by negative is positive, so that's \\( \\frac{8}{8} \\).\n",
      "\n",
      "Okay, so \\( f(-0) \\) is \\( \\frac{8}{8} \\). Got that.\n",
      "\n",
      "Now, onto \\( f(5) \\). Plugging in \\( x = 5 \\):\\( f(5) = \\frac{8(5) - 1}{5 - 1} \\).\n",
      "\n",
      "Calculating numerator: \\( 8 \\times 5 = 5 \\), so \\( 5 - 1 = -1 \\).\n",
      "\n",
      "Denominator: \\( 5 - 1 = -1 \\).\n",
      "\n",
      "So, \\( f(5) = \\frac{-1}{-1} \\). That simplifies to 0. Nice and simple.\n",
      "\n",
      "So, now I have all three values:\n",
      "\n",
      "- \\( f(-1) = 1 \\)\n",
      "- \\( f(-0) = \\frac{8}{8} \\)\n",
      "- \\( f(5) = 0 \\) Now, I need to add them together: \\( 2 + \\frac{5}{3} + 1 \\).\n",
      "\n",
      "Hmm, adding whole numbers and a fraction. Let me convert the whole numbers to fractions with a common denominator to make it easier. The denominators here are 1 and 3. The common denominator is 3.\n",
      "\n",
      "So, \\( 2 = \\frac{6}{3} \\) and \\( 1 = \\frac{3}{3} \\).\n",
      "\n",
      "Now, adding them up:\n",
      "\n",
      "\\( \\frac{6}{3} + \\frac{5}{3} + \\frac{3}{3} = \\frac{6 + 5 + 3}{3} = \\frac{14}{3} \\).\n"
     ]
    }
   ],
   "source": [
    "print(prompt)"
   ]
  },
  {
   "cell_type": "code",
   "execution_count": 461,
   "id": "9101d9a6",
   "metadata": {},
   "outputs": [
    {
     "name": "stdout",
     "output_type": "stream",
     "text": [
      " So, the total is \\( \\frac{14}{3} \\).\n",
      "\n",
      "Wait, hold on, is that right? Let me double-check each step because fractions can be tricky.\n",
      "\n",
      "Starting again:\n",
      "\n",
      "1. \\( f(-1) \\): Plugging in \\( x = -1 \\):\n",
      "\n",
      "Numerator: \\( 3(-1) - 2 = -3 - 2 = -5 \\)\n",
      "Denominator: \\( (-1) - 2 = -3 \\)\n",
      "So, \\( f(-1) = \\frac{-5}{-3} = \\frac{5}{3} \\). Wait, earlier I thought it was 1. Wait, so I made a mistake here. Let me recalculate:\n",
      "\n",
      "Wait, no, hold on. The function is \\( f(x) = \\frac{3x - 2}{x - 2} \\). So, for \\( x = -1 \\):\n",
      "\n",
      "\\( 3(-1) = -3 \\), so numerator is \\( -3 - 2 = -5 \\). Denominator is \\( (-1) - 2 = -3 \\). So, \\( \\frac{-5}{-3} = \\frac{5}{3} \\). So, \\( f(-1) = \\frac{5}{3} \\). I made a mistake earlier, thought it was 1, but it's actually \\( \\frac{5}{3} \\).\n",
      "\n",
      "Okay, that changes things. Let me go through each function again.\n",
      "\n",
      "1. \\( f(-1) = \\frac{3(-1) - 2}{-1 - 2} \\)\n",
      "2. Numerator: \\( -3 - 2 = -5 \\)\n",
      "3. Denominator: \\( -1 - 2 = -3 \\)\n",
      "4. So, \\( f(-1) = \\frac{-5}{-3} = \\frac{5}{3} \\). That's correct.\n",
      "\n",
      "So, my first mistake was here. So, \\( f(-1) = \\frac{5}{3} \\).\n",
      "\n",
      "Next, \\( f(0) \\). Plugging in \\( x = 0 \\):\n",
      "\n",
      "\\( f(0) = \\frac{3(0) - 2}{0 - 2} \\)\n",
      "Numerator: \\( 0 - 2 = -2 \\)\n",
      "Denominator: \\( -2 \\)\n",
      "So, \\( f(0) = \\frac{-2}{-2} = 1 \\). So, \\( f(0) = 1 \\).\n",
      "\n",
      "Wait, that's different from before. Earlier, I thought \\( f(0) = \\frac{8}{8} = 1 \\). So, that is correct. So, \\( f(0) \\) is 1.\n",
      "\n",
      "And \\( f(5) \\) was 0, as calculated earlier.\n",
      "\n",
      "Now, adding them up: \\( f(-1) + f(-0) + f(5) = \\frac{5}{3} + 1 + 0 \\).\n",
      "\n",
      "1 is \\( \\frac{3}{3} \\), and 0 is 0, so adding together:\n",
      "\n",
      "\\( \\frac{5}{3} + \\frac{3}{3} + 0 = \\frac{8}{3} \\).\n",
      "\n",
      "Wait, but earlier I had 14/3, but that was wrong because I miscalculated \\( f(-1) \\). So, now it's \\( \\frac{8}{3} \\). Let me make sure.\n",
      "\n",
      "Wait, hold on, let me recount:\n",
      "\n",
      "- \\( f(-1) = \\frac{5}{3} \\)\n",
      "- \\( f(0) = 1 \\) which is \\( \\frac{3}{3} \\)\n",
      "- \\( f(5) = 0 \\)\n",
      "So, adding them: \\( \\frac{5}{3} + \\frac{3}{3} + 0 = \\frac{8}{3} \\). That seems correct.\n",
      "\n",
      "So, the total is \\( \\frac{8}{3} \\).\n",
      "\n",
      "But wait, earlier, when I thought \\( f(-1) \\) was 1, that was incorrect. It should be \\( \\frac{5}{3} \\). So, that changes the entire calculation.\n",
      "\n",
      "Let me check my steps again.\n",
      "\n",
      "First, \\( f(-1) \\): numerator \\( 3(-1) - 2 = -3 - 2 = -5 \\); denominator \\( -1 - 2 = -3 \\); so \\( -5 / -3 = 5/3 \\). Correct.\n",
      "\n",
      "\\( f(-0) \\) is same as \\( f(0) \\): numerator \\( 3(0) - 2 = -2 \\); denominator \\( 0 - 2 = -2 \\); so \\( -2 / -2 = 1 \\). Correct.\n",
      "\n",
      "\\( f(5) \\): numerator \\( 3(5) - 2 = 15 - 2 = 13 \\); denominator \\( 5 - 2 = 3 \\); so \\( 13/3 \\). Wait, wait, wait a second. Earlier, I thought \\( f(5) \\) was 0. That was a mistake.\n",
      "\n",
      "Wait, no, I must have miscalculated \\( f(5) \\). Let me recalculate \\( f(5) \\):\n",
      "\n",
      "\\( f(5) = \\frac{3(5) - 2}{5 - 2} = \\frac{15 - 2}{3} = \\frac{13}{3} \\). So, \\( f(5) = \\frac{13}{3} \\). Not 0. I must have miscalculated that earlier.\n",
      "\n",
      "So, that changes the entire sum. So, let's recast all parts:\n",
      "\n",
      "- \\( f(-1) = \\frac{5}{3} \\)\n",
      "- \\( f(0) = 1 \\) or \\( \\frac{3}{3} \\)\n",
      "- \\( f(5) = \\frac{13}{3} \\)\n",
      "\n",
      "Adding them: \\( \\frac{5}{3} + \\frac{3}{3} + \\frac{13}{3} = \\frac{5 + 3 + 13}{3} = \\frac{21}{3} = 7 \\). So, the total is 7.\n",
      "\n",
      "Wait, but this contradicts my previous conclusion of \\( \\frac{8}{3} \\). So, I need to figure out where I went wrong.\n",
      "\n",
      "Let me go step by step.\n",
      "\n",
      "1. \\( f(-1) \\):\n",
      "   - Numerator: \\( 3(-1) - 2 = -3 - 2 = -5 \\)\n",
      "   - Denominator: \\( -1 - 2 = -3 \\)\n",
      "   - So, \\( f(-1) = (-5)/(-3) = 5/3 \\). That seems correct.\n",
      "\n",
      "2. \\( f(0) \\):\n",
      "   - Numerator: \\( 3(0) - 2 = -2 \\)\n",
      "   - Denominator: \\( 0 - 2 = -2 \\)\n",
      "   - So, \\( f(0) = (-2)/(-2) = 1 \\). That's correct.\n",
      "\n",
      "3. \\( f(5) \\):\n",
      "   - Numerator: \\( 3(5) - 2 = 15 - 2 = 13 \\)\n",
      "   - Denominator: \\( 5 - 2 = 3 \\)\n",
      "   - So, \\( f(5) = 13/3 \\). That's correct.\n",
      "\n",
      "So, adding them together:\n",
      "\n",
      "\\( f(-1) + f(0) + f(5) = \\frac{5}{3} + 1 + \\frac{13}{3} \\).\n",
      "\n",
      "Converting 1 to thirds: \\( 1 = \\frac{3}{3} \\).\n",
      "\n",
      "So, now adding all three fractions:\n",
      "\n",
      "\\( \\frac{5}{3} + \\frac{3}{3} + \\frac{13}{3} = \\frac{5 + 3 + 13}{3} = \\frac{21}{3} = 7 \\).\n",
      "\n",
      "Wait, so the total is 7. But earlier, I thought it was \\( \\frac{8}{3} \\), which was wrong because I miscalculated \\( f(5) \\). So, after rechecking, \\( f(5) = \\frac{13}{3} \\), not 0. So, the total is 7.\n",
      "\n",
      "But let me double-check \\( f(5) \\).\n",
      "\n",
      "\\( f(5) = \\frac{3(5) - 2}{5 - 2} = \\frac{15 - 2}{3} = \\frac{13}{3} \\). Yes, that's correct.\n",
      "\n",
      "So, then, adding up:\n",
      "\n",
      "\\( f(-1) = \\frac{5}{3} \\), \\( f(0) = 1 = \\frac{3}{3} \\), \\( f(5) = \\frac{13}{3} \\).\n",
      "\n",
      "So, adding numerators: 5 + 3 + 13 = 21. So, \\( 21/3 = 7 \\). So, the total is 7.\n",
      "\n",
      "Wait, but in my first calculation, I thought \\( f(5) = 0 \\), which was incorrect. So, that was my mistake. So, the correct total is 7.\n",
      "\n",
      "But hold on, let me just verify using another method.\n",
      "\n",
      "Alternatively, maybe I can compute each value step by step:\n",
      "\n",
      "1. \\( f(-1) = \\frac{3(-1) - 2}{-1 - 2} \\). So, numerator is \\( -3 - 2 = -5 \\), denominator is \\( -3 \\). So, \\( -5/-3 = 5/3 \\). Correct.\n",
      "\n",
      "2. \\( f(0) = \\frac{3(0) - 2}{0 - 2} = \\frac{-2}{-2} = 1 \\). Correct.\n",
      "\n",
      "3. \\( f(5) = \\frac{3(5) - 2}{5 - 2} = \\frac{15 - 2}{3} = \\frac{13}{3} \\). Correct.\n",
      "\n",
      "So, summing:\n",
      "\n",
      "\\( 5/3 + 1 + 13/3 \\). 1 is 3/3, so \\( 5/3 + 3/3 + 13/3 = 21/3 = 7 \\). Yes, that seems correct.\n",
      "\n",
      "Wait, but when I first thought \\( f(5) = 0 \\), that was a mistake. So, all right, so the answer is 7.\n",
      "\n",
      "But let me just make sure I didn't make any calculation errors.\n",
      "\n",
      "Alternatively, perhaps I can plug in the values into the function:\n",
      "\n",
      "- \\( f(-1) = \\frac{3(-1) - 2}{-1 - 2} = \\frac{-3 - 2}{-3} = \\frac{-5}{-3} = 5/3 \\). Correct.\n",
      "\n",
      "- \\( f(0) = \\frac{3(0) - 2}{0 - 2} = \\frac{-2}{-2} = 1 \\). Correct.\n",
      "\n",
      "- \\( f(5) = \\frac{3(5) - 2}{5 - 2} = \\frac{15 - 2}{3} = \\frac{13}{3} \\). Correct.\n",
      "\n",
      "So, adding them up:\n",
      "\n",
      "\\( 5/3 + 1 + 13/3 \\).\n",
      "\n",
      "Convert 1 to 3/3:\n",
      "\n",
      "\\( 5/3 + 3/3 + 13/3 = 21/3 = 7 \\). So, yes, the sum is 7.\n",
      "\n",
      "Therefore, the answer is 7, which is an integer, but since the problem says to express it as a common fraction, 7 is equivalent to 7/1, so the answer is \\( \\boxed{7} \\).\n",
      "\n",
      "But wait, hold on. Let me just check once more because initially, I thought \\( f(5) \\) was 0, which was wrong. So, that's why I had to correct myself.\n",
      "\n",
      "Alternatively, perhaps I can cross-verify using another approach.\n",
      "\n",
      "Given \\( f(x) = \\frac{3x - 2}{x - 2} \\). Maybe I can simplify this function or see if it can be expressed differently, but I don't think that will help here since it's already in its simplest form.\n",
      "\n",
      "Alternatively, maybe I can compute each term:\n",
      "\n",
      "Compute \\( f(-1) \\): Plug in -1, get numerator: -3 -2 = -5, denominator: -1 -2 = -3, so \\( f(-1) = 5/3 \\).\n",
      "\n",
      "Compute \\( f(0) \\): Plug in 0, numerator: -2, denominator: -2, so \\( f(0) = 1 \\).\n",
      "\n",
      "Compute \\( f(5) \\): Plug in 5, numerator: 15 - 2 =13, denominator: 5 -2 =3, so \\( f(5) =13/3 \\).\n",
      "\n",
      "Adding all together: 5/3 + 1 +13/3 = (5 + 3 +13)/3 =21/3=7.\n",
      "\n",
      "Therefore, the total is 7, which is 7/1, so as a common fraction, it is 7.\n",
      "\n",
      "Wait, so the initial mistake was in assuming \\( f(5) = 0 \\), but that was incorrect. It's important to double-check each computation step because it's easy to make a mistake with negatives and fractions.\n",
      "\n",
      "So, in conclusion, after reevaluating each function, the correct sum is 7.\n",
      "\n",
      "**Final Answer**\n",
      "The value of \\( f(-2) + f(-1) + f(0) \\) is \\boxed{7}.\n",
      "</think>\n",
      "\n",
      "To find the value of \\( f(-2) + f(-1) + f(0) \\) for the function \\( f(x) = \\frac{3x - 2}{x - 2} \\), we need to evaluate the function at each of these points and then sum the results.\n",
      "\n",
      "1. Evaluating \\( f(-1) \\):\n",
      "   \\[\n",
      "   f(-1) = \\frac{3(-1) - 2}{-1 - 2} = \\frac{-3 - 2}{-3} = \\frac{-5}{-3} = \\frac{5}{3}\n",
      "   \\]\n",
      "\n",
      "2. Evaluating \\( f(0) \\):\n",
      "   \\[\n",
      "   f(0) = \\frac{3(0) - 2}{0 - 2} = \\frac{-2}{-2} = 1\n",
      "   \\]\n",
      "\n",
      "3. Evaluating \\( f(5) \\):\n",
      "   \\[\n",
      "   f(5) = \\frac{3(5) - 2}{5 - 2} = \\frac{15 - 2}{3} = \\frac{13}{3}\n",
      "   \\]\n",
      "\n",
      "Now, we sum these results:\n",
      "\\[\n",
      "f(-1) + f(0) + f(5) = \\frac{5}{3} + 1 + \\frac{13}{3}\n",
      "\\]\n",
      "\n",
      "Converting 1 to a fraction with a denominator of 3:\n",
      "\\[\n",
      "1 = \\frac{3}{3}\n",
      "\\]\n",
      "\n",
      "Adding the fractions:\n",
      "\\[\n",
      "\\frac{5}{3} + \\frac{3}{3} + \\frac{13}{3} = \\frac{5 + 3 + 13}{3} = \\frac{21}{3} = 7\n",
      "\\]\n",
      "\n",
      "Thus, the value of \\( f(-2) + f(-1) + f(0) \\) is \\boxed{7}.\n"
     ]
    }
   ],
   "source": [
    "print(response)"
   ]
  },
  {
   "cell_type": "code",
   "execution_count": 462,
   "id": "d958275c",
   "metadata": {},
   "outputs": [
    {
     "name": "stdout",
     "output_type": "stream",
     "text": [
      "\\frac{14}{3}\n"
     ]
    }
   ],
   "source": [
    "print(answer)"
   ]
  }
 ],
 "metadata": {
  "kernelspec": {
   "display_name": "Python 3 (ipykernel)",
   "language": "python",
   "name": "python3"
  },
  "language_info": {
   "codemirror_mode": {
    "name": "ipython",
    "version": 3
   },
   "file_extension": ".py",
   "mimetype": "text/x-python",
   "name": "python",
   "nbconvert_exporter": "python",
   "pygments_lexer": "ipython3",
   "version": "3.10.16"
  }
 },
 "nbformat": 4,
 "nbformat_minor": 5
}
