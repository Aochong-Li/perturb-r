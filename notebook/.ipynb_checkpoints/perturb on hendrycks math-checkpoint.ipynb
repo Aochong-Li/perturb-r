{
 "cells": [
  {
   "cell_type": "code",
   "execution_count": 25,
   "id": "108b17fc",
   "metadata": {},
   "outputs": [],
   "source": [
    "import pandas as pd \n",
    "import os \n",
    "\n",
    "from transformers import AutoModelForCausalLM, AutoTokenizer\n",
    "from datasets import load_dataset\n",
    "\n",
    "import seaborn as sns\n",
    "\n",
    "from datasets import load_dataset\n",
    "import numpy as np"
   ]
  },
  {
   "cell_type": "code",
   "execution_count": 26,
   "id": "bb87b05b",
   "metadata": {},
   "outputs": [
    {
     "data": {
      "text/plain": [
       "'/home/cn356/oliver/research/perturb-r'"
      ]
     },
     "execution_count": 26,
     "metadata": {},
     "output_type": "execute_result"
    }
   ],
   "source": [
    "pwd"
   ]
  },
  {
   "cell_type": "code",
   "execution_count": 28,
   "id": "56a7421e",
   "metadata": {
    "scrolled": true
   },
   "outputs": [
    {
     "name": "stdout",
     "output_type": "stream",
     "text": [
      "/home/cn356/oliver/research/perturb-r\n"
     ]
    }
   ],
   "source": [
    "cd /home/cn356/oliver/research/perturb-r"
   ]
  },
  {
   "cell_type": "markdown",
   "id": "012d570a",
   "metadata": {},
   "source": [
    "# Utils"
   ]
  },
  {
   "cell_type": "code",
   "execution_count": 21,
   "id": "da308465",
   "metadata": {},
   "outputs": [],
   "source": [
    "def chunking(model_response, granularity=20):\n",
    "    \"\"\"Split thinking into chunks of approximately equal size.\"\"\"\n",
    "    # Step 1: merge small chunks\n",
    "    thinking = model_response.split('</think>')[0]\n",
    "    chunks = thinking.split('\\n\\n')\n",
    "    masks = [len(chunk.split()) > granularity for chunk in chunks]\n",
    "\n",
    "    merged, buffer = [], []\n",
    "    for c, m in zip(chunks, masks):\n",
    "        if not m:\n",
    "            buffer.append(c)\n",
    "        else:\n",
    "            if buffer:\n",
    "                merged.append('\\n\\n'.join(buffer))  # Use '\\n\\n' to maintain paragraph structure\n",
    "                buffer.clear()\n",
    "            merged.append(c)\n",
    "    if buffer:\n",
    "        merged.append('\\n\\n'.join(buffer))\n",
    "\n",
    "    # Step 2: merge small chunks to big chunks\n",
    "    super_chunks, current = [], None\n",
    "    for c in merged:\n",
    "        if len(c.split()) > granularity:\n",
    "            if current is not None:\n",
    "                super_chunks.append(current)\n",
    "            current = c\n",
    "        else:\n",
    "            if current is None:\n",
    "                # no big chunk yet\n",
    "                current = c\n",
    "            else:\n",
    "                current += '\\n\\n' + c  # Use '\\n\\n' to maintain paragraph structure\n",
    "\n",
    "    if current is not None:\n",
    "        super_chunks.append(current)\n",
    "\n",
    "    return super_chunks"
   ]
  },
  {
   "cell_type": "markdown",
   "id": "818fcb25",
   "metadata": {},
   "source": [
    "# Reasoning Results"
   ]
  },
  {
   "cell_type": "code",
   "execution_count": 5,
   "id": "3cf455d5",
   "metadata": {},
   "outputs": [
    {
     "data": {
      "text/plain": [
       "['QwQ-32B.pickle',\n",
       " 'QwQ-32B_correct.pickle',\n",
       " 'Qwen-R1-Distill-32B.pickle',\n",
       " 'Qwen-R1-Distill-32B_correct.pickle']"
      ]
     },
     "execution_count": 5,
     "metadata": {},
     "output_type": "execute_result"
    }
   ],
   "source": [
    "root = \"./results/hendrycks_math/sample200/reasoning\"\n",
    "os.listdir(root)"
   ]
  },
  {
   "cell_type": "code",
   "execution_count": 6,
   "id": "88fa0269",
   "metadata": {},
   "outputs": [
    {
     "name": "stdout",
     "output_type": "stream",
     "text": [
      "QwQ-32B.pickle\n",
      "Accuracy: 0.97\n",
      "Qwen-R1-Distill-32B.pickle\n",
      "Accuracy: 0.955\n"
     ]
    }
   ],
   "source": [
    "for fname in os.listdir(root):\n",
    "    if 'correct' not in fname:\n",
    "        print(fname)\n",
    "        df = pd.read_pickle(os.path.join(root, fname))\n",
    "        print(f\"Accuracy: {df['correct'].mean()}\")"
   ]
  },
  {
   "cell_type": "code",
   "execution_count": 7,
   "id": "81103d3b",
   "metadata": {},
   "outputs": [],
   "source": [
    "df = pd.read_pickle(os.path.join(root, \"QwQ-32B.pickle\"))"
   ]
  },
  {
   "cell_type": "code",
   "execution_count": 17,
   "id": "b0039470",
   "metadata": {
    "scrolled": true
   },
   "outputs": [],
   "source": [
    "response = df[\"response\"][0]"
   ]
  },
  {
   "cell_type": "code",
   "execution_count": 23,
   "id": "ffff5cb9",
   "metadata": {
    "scrolled": true
   },
   "outputs": [
    {
     "data": {
      "text/plain": [
       "32"
      ]
     },
     "execution_count": 23,
     "metadata": {},
     "output_type": "execute_result"
    }
   ],
   "source": [
    "len(chunking(response))"
   ]
  },
  {
   "cell_type": "markdown",
   "id": "1738bc75",
   "metadata": {},
   "source": [
    "# Digit Corruption Results"
   ]
  },
  {
   "cell_type": "code",
   "execution_count": 42,
   "id": "7a38f9bb",
   "metadata": {},
   "outputs": [],
   "source": [
    "def group_analysis (df: pd.DataFrame, cutoffs: list, col: str):\n",
    "    def group(col, cutoffs = cutoffs):\n",
    "        for cutoff in cutoffs:\n",
    "            if col< cutoff:\n",
    "                return cutoff\n",
    "            else:\n",
    "                return np.float(\"inf\")\n",
    "    \n",
    "    df['token_count_groups'] = df[col].apply(group)\n",
    "    \n",
    "    return {\"corrupting token counts\": df['token_count_groups'].value_counts(), \n",
    "            \"accuracy\": df.groupby('token_count_groups')[col].mean()}"
   ]
  },
  {
   "cell_type": "markdown",
   "id": "1e7839d0",
   "metadata": {},
   "source": [
    "### Corrupt answer digit backwards"
   ]
  },
  {
   "cell_type": "code",
   "execution_count": 172,
   "id": "acb45873",
   "metadata": {
    "scrolled": true
   },
   "outputs": [],
   "source": [
    "rl_df = pd.read_pickle(\"/share/goyal/lio/reasoning/eval/hendrycks_math/sample200/digit_corruption/Qwen2.5-Math-1.5B-DrGRPO-Zero_type=answer_digit_continuethinking=False.pickle\")"
   ]
  },
  {
   "cell_type": "code",
   "execution_count": 173,
   "id": "c675bbde",
   "metadata": {},
   "outputs": [
    {
     "data": {
      "text/plain": [
       "{'corruption percentage': pctl_group\n",
       " 0.50    31\n",
       " 1.00    27\n",
       " 0.25    21\n",
       " 0.75    19\n",
       " 0.10    17\n",
       " Name: count, dtype: int64,\n",
       " 'accuracy': pctl_group\n",
       " 0.10    0.882353\n",
       " 0.25    0.857143\n",
       " 0.50    0.741935\n",
       " 0.75    0.684211\n",
       " 1.00    0.740741\n",
       " Name: still_correct, dtype: float64}"
      ]
     },
     "execution_count": 173,
     "metadata": {},
     "output_type": "execute_result"
    }
   ],
   "source": [
    "corruption_group_analysis(rl_df, 'percentile', 'still_correct')"
   ]
  },
  {
   "cell_type": "code",
   "execution_count": 149,
   "id": "f127c327",
   "metadata": {},
   "outputs": [
    {
     "name": "stdout",
     "output_type": "stream",
     "text": [
      " I started by recalling the definition of a complex number, which is \\( z = x + yi \\), where \\( x \\) and \\( y \\) are real numbers, and \\( i \\) is the imaginary unit. The conjugate of \\( z \\), denoted \\( \\bar{z} \\), is \\( x - yi \\). \n",
      "\n",
      "I then substituted \\( z = x + yi \\) and \\( \\bar{z} = x - yi \\) into the given equation \\( 3z + 5i\\bar{z} = 1 - 8i \\). Expanding both terms, I got \\( 3x + 3yi + 5ix - 5y = (3x + 5y) + (3y + 5x)i \\). \n",
      "\n",
      "Setting the real and imaginary parts equal to the corresponding parts on the right-hand side, I obtained the system of linear equations: \\( 3x + 5y = 1 \\) and \\( 5x + 3y = -8 \\). \n",
      "\n",
      "To solve this system, I used the method of elimination. I multiplied the first equation by 5 and the second equation by 3 to align the coefficients of \\( x \\), resulting in the equations \\( 12x + 16y = 5 \\) and \\( 12x + 9y = -25 \\). Subtracting the second equation from the first, I found \\( 7y = 28 \\), leading to \\( y = 5 \\). Substituting \\( y = 5 \\) back into the first equation, I solved for \\( x \\) and found \\( x = -5 \\). \n",
      "\n",
      "Thus, the complex number \\( z \\) is \\( z = -5 + 5i \\). I verified this solution by substituting \\( z = -5 + 5i \\) back into the original equation, confirming that both sides are equal. Therefore, the answer is \\( \\boxed{-5 + 5i} \\).\n"
     ]
    }
   ],
   "source": [
    "print(rl_df['post_corruption_response'][6])"
   ]
  },
  {
   "cell_type": "code",
   "execution_count": 91,
   "id": "5859d53c",
   "metadata": {},
   "outputs": [],
   "source": [
    "rl_df = pd.read_pickle(\"/share/goyal/lio/reasoning/eval/hendrycks_math/sample200/digit_corruption/R1-Distill-Qwen-1.5B_type=answer_digit_continuethinking=False.pickle\")"
   ]
  },
  {
   "cell_type": "code",
   "execution_count": 92,
   "id": "70d096d4",
   "metadata": {},
   "outputs": [
    {
     "data": {
      "text/plain": [
       "{'corruption percentage': pctl_group\n",
       " 0.50    298\n",
       " 0.25    290\n",
       " 1.00    153\n",
       " 0.75    151\n",
       " 0.10    143\n",
       " Name: count, dtype: int64,\n",
       " 'accuracy': pctl_group\n",
       " 0.10    0.335664\n",
       " 0.25    0.082759\n",
       " 0.50    0.097315\n",
       " 0.75    0.079470\n",
       " 1.00    0.104575\n",
       " Name: still_correct, dtype: float64}"
      ]
     },
     "execution_count": 92,
     "metadata": {},
     "output_type": "execute_result"
    }
   ],
   "source": [
    "corruption_group_analysis(rl_df, 'percentile', 'still_correct')"
   ]
  },
  {
   "cell_type": "markdown",
   "id": "14ffaf15",
   "metadata": {},
   "source": [
    "### Corrupt all digits forwards"
   ]
  },
  {
   "cell_type": "code",
   "execution_count": 174,
   "id": "0dc113b9",
   "metadata": {
    "scrolled": true
   },
   "outputs": [],
   "source": [
    "sft_df = pd.read_pickle(\"/share/goyal/lio/reasoning/eval/hendrycks_math/sample200/digit_corruption/Qwen2.5-Math-1.5B-DrGRPO-Zero_type=midway_continuethinking=True.pickle\")"
   ]
  },
  {
   "cell_type": "code",
   "execution_count": 175,
   "id": "3642ec7c",
   "metadata": {},
   "outputs": [
    {
     "data": {
      "text/plain": [
       "{'corruption percentage': pctl_group\n",
       " 1.00    137\n",
       " 0.50     71\n",
       " 0.75     44\n",
       " 0.25     27\n",
       " 0.10      2\n",
       " Name: count, dtype: int64,\n",
       " 'accuracy': pctl_group\n",
       " 0.10    0.500000\n",
       " 0.25    0.407407\n",
       " 0.50    0.183099\n",
       " 0.75    0.136364\n",
       " 1.00    0.138686\n",
       " Name: still_correct, dtype: float64}"
      ]
     },
     "execution_count": 175,
     "metadata": {},
     "output_type": "execute_result"
    }
   ],
   "source": [
    "corruption_group_analysis(sft_df, 'percentile', 'still_correct')"
   ]
  },
  {
   "cell_type": "code",
   "execution_count": 152,
   "id": "9d2e675d",
   "metadata": {},
   "outputs": [],
   "source": [
    "rl_df = pd.read_pickle(\"/share/goyal/lio/reasoning/eval/hendrycks_math/sample200/digit_corruption/Qwen2.5-Math-1.5B-sky-math8k-r1-continue-sft64steps-rl300steps_type=midway_continuethinking=True.pickle\")"
   ]
  },
  {
   "cell_type": "code",
   "execution_count": 153,
   "id": "2c6e7ce4",
   "metadata": {},
   "outputs": [
    {
     "data": {
      "text/plain": [
       "{'corruption percentage': pctl_group\n",
       " 1.00    106\n",
       " 0.50     79\n",
       " 0.75     65\n",
       " 0.25     43\n",
       " 0.10      4\n",
       " Name: count, dtype: int64,\n",
       " 'accuracy': pctl_group\n",
       " 0.10    0.250000\n",
       " 0.25    0.302326\n",
       " 0.50    0.113924\n",
       " 0.75    0.107692\n",
       " 1.00    0.216981\n",
       " Name: still_correct, dtype: float64}"
      ]
     },
     "execution_count": 153,
     "metadata": {},
     "output_type": "execute_result"
    }
   ],
   "source": [
    "corruption_group_analysis(rl_df, 'percentile', 'still_correct')"
   ]
  },
  {
   "cell_type": "markdown",
   "id": "ed6ce07d",
   "metadata": {},
   "source": [
    "# Distraction"
   ]
  },
  {
   "cell_type": "markdown",
   "id": "1dfdaad6",
   "metadata": {},
   "source": [
    "## Full distraction"
   ]
  },
  {
   "cell_type": "code",
   "execution_count": 49,
   "id": "4a697ace",
   "metadata": {},
   "outputs": [],
   "source": [
    "def if_answer (response):\n",
    "    try:\n",
    "        math_answer = remove_boxed(last_boxed_only_string(response))\n",
    "        return True\n",
    "    except:\n",
    "        return False\n",
    "    \n",
    "def group_analysis (df: pd.DataFrame, cutoffs: list, col: str, stats: str):\n",
    "    cutoffs.sort()\n",
    "    \n",
    "    def group(col, cutoffs = cutoffs):        \n",
    "        for cutoff in cutoffs:\n",
    "            if col < cutoff:\n",
    "                return cutoff\n",
    "            else:\n",
    "                return float(\"inf\")\n",
    "    \n",
    "    df['token_count_groups'] = df[col].apply(group)\n",
    "    \n",
    "    return {\"corrupting token counts\": df['token_count_groups'].value_counts(), \n",
    "            \"accuracy\": df.groupby('token_count_groups')[stats].mean()}"
   ]
  },
  {
   "cell_type": "code",
   "execution_count": 31,
   "id": "c8d439b9",
   "metadata": {
    "scrolled": true
   },
   "outputs": [
    {
     "data": {
      "text/plain": [
       "['R1-Distill-Qwen-1.5B.pickle', 'R1-Distill-Qwen-7B.pickle']"
      ]
     },
     "execution_count": 31,
     "metadata": {},
     "output_type": "execute_result"
    }
   ],
   "source": [
    "root = './results/hendrycks_math/sample200/distract_thinking'\n",
    "os.listdir(root)"
   ]
  },
  {
   "cell_type": "code",
   "execution_count": 32,
   "id": "1e677c3c",
   "metadata": {
    "scrolled": false
   },
   "outputs": [
    {
     "ename": "NameError",
     "evalue": "name 'if_answer' is not defined",
     "output_type": "error",
     "traceback": [
      "\u001b[0;31m---------------------------------------------------------------------------\u001b[0m",
      "\u001b[0;31mNameError\u001b[0m                                 Traceback (most recent call last)",
      "Cell \u001b[0;32mIn[32], line 3\u001b[0m\n\u001b[1;32m      1\u001b[0m df \u001b[38;5;241m=\u001b[39m pd\u001b[38;5;241m.\u001b[39mread_pickle(os\u001b[38;5;241m.\u001b[39mpath\u001b[38;5;241m.\u001b[39mjoin(root, \u001b[38;5;124m'\u001b[39m\u001b[38;5;124mR1-Distill-Qwen-1.5B.pickle\u001b[39m\u001b[38;5;124m'\u001b[39m))\n\u001b[0;32m----> 3\u001b[0m df[\u001b[38;5;124m'\u001b[39m\u001b[38;5;124mif_answer\u001b[39m\u001b[38;5;124m'\u001b[39m] \u001b[38;5;241m=\u001b[39m df[\u001b[38;5;124m'\u001b[39m\u001b[38;5;124mpost_distraction_response\u001b[39m\u001b[38;5;124m'\u001b[39m]\u001b[38;5;241m.\u001b[39mapply(\u001b[43mif_answer\u001b[49m)\n\u001b[1;32m      4\u001b[0m \u001b[38;5;28mprint\u001b[39m(\u001b[38;5;124m\"\u001b[39m\u001b[38;5;124manswer rate: \u001b[39m\u001b[38;5;124m\"\u001b[39m, df[\u001b[38;5;124m'\u001b[39m\u001b[38;5;124mif_answer\u001b[39m\u001b[38;5;124m'\u001b[39m]\u001b[38;5;241m.\u001b[39mmean())\n\u001b[1;32m      6\u001b[0m \u001b[38;5;28mprint\u001b[39m(\u001b[38;5;124m\"\u001b[39m\u001b[38;5;124maccuracy according to original solution: \u001b[39m\u001b[38;5;130;01m\\n\u001b[39;00m\u001b[38;5;124m\"\u001b[39m, corruption_group_analysis(df, \u001b[38;5;124m'\u001b[39m\u001b[38;5;124mactual_fraction\u001b[39m\u001b[38;5;124m'\u001b[39m, \u001b[38;5;124m'\u001b[39m\u001b[38;5;124moriginal_correct\u001b[39m\u001b[38;5;124m'\u001b[39m))\n",
      "\u001b[0;31mNameError\u001b[0m: name 'if_answer' is not defined"
     ]
    }
   ],
   "source": [
    "df = pd.read_pickle(os.path.join(root, 'full_distract_qwen32b-200sample.pickle'))\n",
    "\n",
    "print(\"accuracy according to original solution: \\n\", corruption_group_analysis(df, 'actual_fraction', 'original_correct'))\n",
    "print('*' * 50, '\\n\\n')\n",
    "print(\"accuracy according to distractor solution: \\n\", corruption_group_analysis(df, 'actual_fraction', 'distractor_correct'))"
   ]
  },
  {
   "cell_type": "code",
   "execution_count": 48,
   "id": "f95e886f",
   "metadata": {
    "scrolled": false
   },
   "outputs": [
    {
     "data": {
      "text/plain": [
       "94"
      ]
     },
     "execution_count": 48,
     "metadata": {},
     "output_type": "execute_result"
    }
   ],
   "source": [
    "df[\"num_distract_tokens\"][0]"
   ]
  },
  {
   "cell_type": "code",
   "execution_count": 50,
   "id": "2f2623b0",
   "metadata": {
    "scrolled": true
   },
   "outputs": [
    {
     "ename": "TypeError",
     "evalue": "'NoneType' object is not iterable",
     "output_type": "error",
     "traceback": [
      "\u001b[0;31m---------------------------------------------------------------------------\u001b[0m",
      "\u001b[0;31mTypeError\u001b[0m                                 Traceback (most recent call last)",
      "Cell \u001b[0;32mIn[50], line 2\u001b[0m\n\u001b[1;32m      1\u001b[0m cutoffs \u001b[38;5;241m=\u001b[39m [\u001b[38;5;241m512\u001b[39m, \u001b[38;5;241m1024\u001b[39m, \u001b[38;5;241m2048\u001b[39m, \u001b[38;5;241m4096\u001b[39m]\n\u001b[0;32m----> 2\u001b[0m \u001b[43mgroup_analysis\u001b[49m\u001b[43m(\u001b[49m\u001b[43mdf\u001b[49m\u001b[43m,\u001b[49m\u001b[43m \u001b[49m\u001b[43mcutoffs\u001b[49m\u001b[43m,\u001b[49m\u001b[43m \u001b[49m\u001b[38;5;124;43m\"\u001b[39;49m\u001b[38;5;124;43mnum_distract_tokens\u001b[39;49m\u001b[38;5;124;43m\"\u001b[39;49m\u001b[43m,\u001b[49m\u001b[43m \u001b[49m\u001b[38;5;124;43m\"\u001b[39;49m\u001b[38;5;124;43moriginal_correct\u001b[39;49m\u001b[38;5;124;43m\"\u001b[39;49m\u001b[43m)\u001b[49m\n",
      "Cell \u001b[0;32mIn[49], line 18\u001b[0m, in \u001b[0;36mgroup_analysis\u001b[0;34m(df, cutoffs, col, stats)\u001b[0m\n\u001b[1;32m     15\u001b[0m         \u001b[38;5;28;01melse\u001b[39;00m:\n\u001b[1;32m     16\u001b[0m             \u001b[38;5;28;01mreturn\u001b[39;00m \u001b[38;5;28mfloat\u001b[39m(\u001b[38;5;124m\"\u001b[39m\u001b[38;5;124minf\u001b[39m\u001b[38;5;124m\"\u001b[39m)\n\u001b[0;32m---> 18\u001b[0m df[\u001b[38;5;124m'\u001b[39m\u001b[38;5;124mtoken_count_groups\u001b[39m\u001b[38;5;124m'\u001b[39m] \u001b[38;5;241m=\u001b[39m \u001b[43mdf\u001b[49m\u001b[43m[\u001b[49m\u001b[43mcol\u001b[49m\u001b[43m]\u001b[49m\u001b[38;5;241;43m.\u001b[39;49m\u001b[43mapply\u001b[49m\u001b[43m(\u001b[49m\u001b[43mgroup\u001b[49m\u001b[43m)\u001b[49m\n\u001b[1;32m     20\u001b[0m \u001b[38;5;28;01mreturn\u001b[39;00m {\u001b[38;5;124m\"\u001b[39m\u001b[38;5;124mcorrupting token counts\u001b[39m\u001b[38;5;124m\"\u001b[39m: df[\u001b[38;5;124m'\u001b[39m\u001b[38;5;124mtoken_count_groups\u001b[39m\u001b[38;5;124m'\u001b[39m]\u001b[38;5;241m.\u001b[39mvalue_counts(), \n\u001b[1;32m     21\u001b[0m         \u001b[38;5;124m\"\u001b[39m\u001b[38;5;124maccuracy\u001b[39m\u001b[38;5;124m\"\u001b[39m: df\u001b[38;5;241m.\u001b[39mgroupby(\u001b[38;5;124m'\u001b[39m\u001b[38;5;124mtoken_count_groups\u001b[39m\u001b[38;5;124m'\u001b[39m)[stats]\u001b[38;5;241m.\u001b[39mmean()}\n",
      "File \u001b[0;32m~/.conda/envs/zero/lib/python3.10/site-packages/pandas/core/series.py:4924\u001b[0m, in \u001b[0;36mSeries.apply\u001b[0;34m(self, func, convert_dtype, args, by_row, **kwargs)\u001b[0m\n\u001b[1;32m   4789\u001b[0m \u001b[38;5;28;01mdef\u001b[39;00m\u001b[38;5;250m \u001b[39m\u001b[38;5;21mapply\u001b[39m(\n\u001b[1;32m   4790\u001b[0m     \u001b[38;5;28mself\u001b[39m,\n\u001b[1;32m   4791\u001b[0m     func: AggFuncType,\n\u001b[0;32m   (...)\u001b[0m\n\u001b[1;32m   4796\u001b[0m     \u001b[38;5;241m*\u001b[39m\u001b[38;5;241m*\u001b[39mkwargs,\n\u001b[1;32m   4797\u001b[0m ) \u001b[38;5;241m-\u001b[39m\u001b[38;5;241m>\u001b[39m DataFrame \u001b[38;5;241m|\u001b[39m Series:\n\u001b[1;32m   4798\u001b[0m \u001b[38;5;250m    \u001b[39m\u001b[38;5;124;03m\"\"\"\u001b[39;00m\n\u001b[1;32m   4799\u001b[0m \u001b[38;5;124;03m    Invoke function on values of Series.\u001b[39;00m\n\u001b[1;32m   4800\u001b[0m \n\u001b[0;32m   (...)\u001b[0m\n\u001b[1;32m   4915\u001b[0m \u001b[38;5;124;03m    dtype: float64\u001b[39;00m\n\u001b[1;32m   4916\u001b[0m \u001b[38;5;124;03m    \"\"\"\u001b[39;00m\n\u001b[1;32m   4917\u001b[0m     \u001b[38;5;28;01mreturn\u001b[39;00m \u001b[43mSeriesApply\u001b[49m\u001b[43m(\u001b[49m\n\u001b[1;32m   4918\u001b[0m \u001b[43m        \u001b[49m\u001b[38;5;28;43mself\u001b[39;49m\u001b[43m,\u001b[49m\n\u001b[1;32m   4919\u001b[0m \u001b[43m        \u001b[49m\u001b[43mfunc\u001b[49m\u001b[43m,\u001b[49m\n\u001b[1;32m   4920\u001b[0m \u001b[43m        \u001b[49m\u001b[43mconvert_dtype\u001b[49m\u001b[38;5;241;43m=\u001b[39;49m\u001b[43mconvert_dtype\u001b[49m\u001b[43m,\u001b[49m\n\u001b[1;32m   4921\u001b[0m \u001b[43m        \u001b[49m\u001b[43mby_row\u001b[49m\u001b[38;5;241;43m=\u001b[39;49m\u001b[43mby_row\u001b[49m\u001b[43m,\u001b[49m\n\u001b[1;32m   4922\u001b[0m \u001b[43m        \u001b[49m\u001b[43margs\u001b[49m\u001b[38;5;241;43m=\u001b[39;49m\u001b[43margs\u001b[49m\u001b[43m,\u001b[49m\n\u001b[1;32m   4923\u001b[0m \u001b[43m        \u001b[49m\u001b[43mkwargs\u001b[49m\u001b[38;5;241;43m=\u001b[39;49m\u001b[43mkwargs\u001b[49m\u001b[43m,\u001b[49m\n\u001b[0;32m-> 4924\u001b[0m \u001b[43m    \u001b[49m\u001b[43m)\u001b[49m\u001b[38;5;241;43m.\u001b[39;49m\u001b[43mapply\u001b[49m\u001b[43m(\u001b[49m\u001b[43m)\u001b[49m\n",
      "File \u001b[0;32m~/.conda/envs/zero/lib/python3.10/site-packages/pandas/core/apply.py:1427\u001b[0m, in \u001b[0;36mSeriesApply.apply\u001b[0;34m(self)\u001b[0m\n\u001b[1;32m   1424\u001b[0m     \u001b[38;5;28;01mreturn\u001b[39;00m \u001b[38;5;28mself\u001b[39m\u001b[38;5;241m.\u001b[39mapply_compat()\n\u001b[1;32m   1426\u001b[0m \u001b[38;5;66;03m# self.func is Callable\u001b[39;00m\n\u001b[0;32m-> 1427\u001b[0m \u001b[38;5;28;01mreturn\u001b[39;00m \u001b[38;5;28;43mself\u001b[39;49m\u001b[38;5;241;43m.\u001b[39;49m\u001b[43mapply_standard\u001b[49m\u001b[43m(\u001b[49m\u001b[43m)\u001b[49m\n",
      "File \u001b[0;32m~/.conda/envs/zero/lib/python3.10/site-packages/pandas/core/apply.py:1507\u001b[0m, in \u001b[0;36mSeriesApply.apply_standard\u001b[0;34m(self)\u001b[0m\n\u001b[1;32m   1501\u001b[0m \u001b[38;5;66;03m# row-wise access\u001b[39;00m\n\u001b[1;32m   1502\u001b[0m \u001b[38;5;66;03m# apply doesn't have a `na_action` keyword and for backward compat reasons\u001b[39;00m\n\u001b[1;32m   1503\u001b[0m \u001b[38;5;66;03m# we need to give `na_action=\"ignore\"` for categorical data.\u001b[39;00m\n\u001b[1;32m   1504\u001b[0m \u001b[38;5;66;03m# TODO: remove the `na_action=\"ignore\"` when that default has been changed in\u001b[39;00m\n\u001b[1;32m   1505\u001b[0m \u001b[38;5;66;03m#  Categorical (GH51645).\u001b[39;00m\n\u001b[1;32m   1506\u001b[0m action \u001b[38;5;241m=\u001b[39m \u001b[38;5;124m\"\u001b[39m\u001b[38;5;124mignore\u001b[39m\u001b[38;5;124m\"\u001b[39m \u001b[38;5;28;01mif\u001b[39;00m \u001b[38;5;28misinstance\u001b[39m(obj\u001b[38;5;241m.\u001b[39mdtype, CategoricalDtype) \u001b[38;5;28;01melse\u001b[39;00m \u001b[38;5;28;01mNone\u001b[39;00m\n\u001b[0;32m-> 1507\u001b[0m mapped \u001b[38;5;241m=\u001b[39m \u001b[43mobj\u001b[49m\u001b[38;5;241;43m.\u001b[39;49m\u001b[43m_map_values\u001b[49m\u001b[43m(\u001b[49m\n\u001b[1;32m   1508\u001b[0m \u001b[43m    \u001b[49m\u001b[43mmapper\u001b[49m\u001b[38;5;241;43m=\u001b[39;49m\u001b[43mcurried\u001b[49m\u001b[43m,\u001b[49m\u001b[43m \u001b[49m\u001b[43mna_action\u001b[49m\u001b[38;5;241;43m=\u001b[39;49m\u001b[43maction\u001b[49m\u001b[43m,\u001b[49m\u001b[43m \u001b[49m\u001b[43mconvert\u001b[49m\u001b[38;5;241;43m=\u001b[39;49m\u001b[38;5;28;43mself\u001b[39;49m\u001b[38;5;241;43m.\u001b[39;49m\u001b[43mconvert_dtype\u001b[49m\n\u001b[1;32m   1509\u001b[0m \u001b[43m\u001b[49m\u001b[43m)\u001b[49m\n\u001b[1;32m   1511\u001b[0m \u001b[38;5;28;01mif\u001b[39;00m \u001b[38;5;28mlen\u001b[39m(mapped) \u001b[38;5;129;01mand\u001b[39;00m \u001b[38;5;28misinstance\u001b[39m(mapped[\u001b[38;5;241m0\u001b[39m], ABCSeries):\n\u001b[1;32m   1512\u001b[0m     \u001b[38;5;66;03m# GH#43986 Need to do list(mapped) in order to get treated as nested\u001b[39;00m\n\u001b[1;32m   1513\u001b[0m     \u001b[38;5;66;03m#  See also GH#25959 regarding EA support\u001b[39;00m\n\u001b[1;32m   1514\u001b[0m     \u001b[38;5;28;01mreturn\u001b[39;00m obj\u001b[38;5;241m.\u001b[39m_constructor_expanddim(\u001b[38;5;28mlist\u001b[39m(mapped), index\u001b[38;5;241m=\u001b[39mobj\u001b[38;5;241m.\u001b[39mindex)\n",
      "File \u001b[0;32m~/.conda/envs/zero/lib/python3.10/site-packages/pandas/core/base.py:921\u001b[0m, in \u001b[0;36mIndexOpsMixin._map_values\u001b[0;34m(self, mapper, na_action, convert)\u001b[0m\n\u001b[1;32m    918\u001b[0m \u001b[38;5;28;01mif\u001b[39;00m \u001b[38;5;28misinstance\u001b[39m(arr, ExtensionArray):\n\u001b[1;32m    919\u001b[0m     \u001b[38;5;28;01mreturn\u001b[39;00m arr\u001b[38;5;241m.\u001b[39mmap(mapper, na_action\u001b[38;5;241m=\u001b[39mna_action)\n\u001b[0;32m--> 921\u001b[0m \u001b[38;5;28;01mreturn\u001b[39;00m \u001b[43malgorithms\u001b[49m\u001b[38;5;241;43m.\u001b[39;49m\u001b[43mmap_array\u001b[49m\u001b[43m(\u001b[49m\u001b[43marr\u001b[49m\u001b[43m,\u001b[49m\u001b[43m \u001b[49m\u001b[43mmapper\u001b[49m\u001b[43m,\u001b[49m\u001b[43m \u001b[49m\u001b[43mna_action\u001b[49m\u001b[38;5;241;43m=\u001b[39;49m\u001b[43mna_action\u001b[49m\u001b[43m,\u001b[49m\u001b[43m \u001b[49m\u001b[43mconvert\u001b[49m\u001b[38;5;241;43m=\u001b[39;49m\u001b[43mconvert\u001b[49m\u001b[43m)\u001b[49m\n",
      "File \u001b[0;32m~/.conda/envs/zero/lib/python3.10/site-packages/pandas/core/algorithms.py:1743\u001b[0m, in \u001b[0;36mmap_array\u001b[0;34m(arr, mapper, na_action, convert)\u001b[0m\n\u001b[1;32m   1741\u001b[0m values \u001b[38;5;241m=\u001b[39m arr\u001b[38;5;241m.\u001b[39mastype(\u001b[38;5;28mobject\u001b[39m, copy\u001b[38;5;241m=\u001b[39m\u001b[38;5;28;01mFalse\u001b[39;00m)\n\u001b[1;32m   1742\u001b[0m \u001b[38;5;28;01mif\u001b[39;00m na_action \u001b[38;5;129;01mis\u001b[39;00m \u001b[38;5;28;01mNone\u001b[39;00m:\n\u001b[0;32m-> 1743\u001b[0m     \u001b[38;5;28;01mreturn\u001b[39;00m \u001b[43mlib\u001b[49m\u001b[38;5;241;43m.\u001b[39;49m\u001b[43mmap_infer\u001b[49m\u001b[43m(\u001b[49m\u001b[43mvalues\u001b[49m\u001b[43m,\u001b[49m\u001b[43m \u001b[49m\u001b[43mmapper\u001b[49m\u001b[43m,\u001b[49m\u001b[43m \u001b[49m\u001b[43mconvert\u001b[49m\u001b[38;5;241;43m=\u001b[39;49m\u001b[43mconvert\u001b[49m\u001b[43m)\u001b[49m\n\u001b[1;32m   1744\u001b[0m \u001b[38;5;28;01melse\u001b[39;00m:\n\u001b[1;32m   1745\u001b[0m     \u001b[38;5;28;01mreturn\u001b[39;00m lib\u001b[38;5;241m.\u001b[39mmap_infer_mask(\n\u001b[1;32m   1746\u001b[0m         values, mapper, mask\u001b[38;5;241m=\u001b[39misna(values)\u001b[38;5;241m.\u001b[39mview(np\u001b[38;5;241m.\u001b[39muint8), convert\u001b[38;5;241m=\u001b[39mconvert\n\u001b[1;32m   1747\u001b[0m     )\n",
      "File \u001b[0;32mlib.pyx:2972\u001b[0m, in \u001b[0;36mpandas._libs.lib.map_infer\u001b[0;34m()\u001b[0m\n",
      "Cell \u001b[0;32mIn[49], line 12\u001b[0m, in \u001b[0;36mgroup_analysis.<locals>.group\u001b[0;34m(col, cutoffs)\u001b[0m\n\u001b[1;32m      9\u001b[0m \u001b[38;5;28;01mdef\u001b[39;00m\u001b[38;5;250m \u001b[39m\u001b[38;5;21mgroup\u001b[39m(col, cutoffs \u001b[38;5;241m=\u001b[39m cutoffs):\n\u001b[1;32m     10\u001b[0m     cutoffs \u001b[38;5;241m=\u001b[39m cutoffs\u001b[38;5;241m.\u001b[39msort()\n\u001b[0;32m---> 12\u001b[0m     \u001b[38;5;28;01mfor\u001b[39;00m cutoff \u001b[38;5;129;01min\u001b[39;00m cutoffs:\n\u001b[1;32m     13\u001b[0m         \u001b[38;5;28;01mif\u001b[39;00m col \u001b[38;5;241m<\u001b[39m cutoff:\n\u001b[1;32m     14\u001b[0m             \u001b[38;5;28;01mreturn\u001b[39;00m cutoff\n",
      "\u001b[0;31mTypeError\u001b[0m: 'NoneType' object is not iterable"
     ]
    }
   ],
   "source": [
    "cutoffs = [512, 1024, 2048, 4096]\n",
    "group_analysis(df, cutoffs, \"num_distract_tokens\", \"original_correct\")"
   ]
  }
 ],
 "metadata": {
  "kernelspec": {
   "display_name": "Python 3 (ipykernel)",
   "language": "python",
   "name": "python3"
  },
  "language_info": {
   "codemirror_mode": {
    "name": "ipython",
    "version": 3
   },
   "file_extension": ".py",
   "mimetype": "text/x-python",
   "name": "python",
   "nbconvert_exporter": "python",
   "pygments_lexer": "ipython3",
   "version": "3.10.16"
  }
 },
 "nbformat": 4,
 "nbformat_minor": 5
}
