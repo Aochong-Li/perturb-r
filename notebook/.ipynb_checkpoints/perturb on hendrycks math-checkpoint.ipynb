{
 "cells": [
  {
   "cell_type": "code",
   "execution_count": 5,
   "id": "108b17fc",
   "metadata": {},
   "outputs": [],
   "source": [
    "import pandas as pd \n",
    "import os \n",
    "\n",
    "from transformers import AutoModelForCausalLM, AutoTokenizer\n",
    "from datasets import load_dataset\n",
    "\n",
    "import seaborn as sns\n",
    "\n",
    "from datasets import load_dataset\n",
    "import numpy as np"
   ]
  },
  {
   "cell_type": "markdown",
   "id": "818fcb25",
   "metadata": {},
   "source": [
    "# Reasoning Results"
   ]
  },
  {
   "cell_type": "code",
   "execution_count": null,
   "id": "88fa0269",
   "metadata": {},
   "outputs": [],
   "source": [
    "df = pd.read_pickle(\"\")"
   ]
  },
  {
   "cell_type": "markdown",
   "id": "1738bc75",
   "metadata": {},
   "source": [
    "# Digit Corruption Results"
   ]
  },
  {
   "cell_type": "code",
   "execution_count": 5,
   "id": "7a38f9bb",
   "metadata": {},
   "outputs": [],
   "source": [
    "def corruption_group_analysis (df: pd.DataFrame, percentile:str, stats: str):\n",
    "    def group(pct):\n",
    "        if pct <= .1:\n",
    "            return .1\n",
    "        elif pct <=.25:\n",
    "            return .25\n",
    "        elif pct <= 0.5:\n",
    "            return .5\n",
    "        elif pct <= .75:\n",
    "            return .75\n",
    "        else:\n",
    "            return 1.0\n",
    "    df['pctl_group'] = df[percentile].apply(group)\n",
    "    return {\"corruption percentage\": df['pctl_group'].value_counts(), \n",
    "            \"accuracy\": df.groupby('pctl_group')[stats].mean()}"
   ]
  },
  {
   "cell_type": "markdown",
   "id": "1e7839d0",
   "metadata": {},
   "source": [
    "### Corrupt answer digit backwards"
   ]
  },
  {
   "cell_type": "code",
   "execution_count": 172,
   "id": "acb45873",
   "metadata": {
    "scrolled": true
   },
   "outputs": [],
   "source": [
    "rl_df = pd.read_pickle(\"/share/goyal/lio/reasoning/eval/hendrycks_math/sample200/digit_corruption/Qwen2.5-Math-1.5B-DrGRPO-Zero_type=answer_digit_continuethinking=False.pickle\")"
   ]
  },
  {
   "cell_type": "code",
   "execution_count": 173,
   "id": "c675bbde",
   "metadata": {},
   "outputs": [
    {
     "data": {
      "text/plain": [
       "{'corruption percentage': pctl_group\n",
       " 0.50    31\n",
       " 1.00    27\n",
       " 0.25    21\n",
       " 0.75    19\n",
       " 0.10    17\n",
       " Name: count, dtype: int64,\n",
       " 'accuracy': pctl_group\n",
       " 0.10    0.882353\n",
       " 0.25    0.857143\n",
       " 0.50    0.741935\n",
       " 0.75    0.684211\n",
       " 1.00    0.740741\n",
       " Name: still_correct, dtype: float64}"
      ]
     },
     "execution_count": 173,
     "metadata": {},
     "output_type": "execute_result"
    }
   ],
   "source": [
    "corruption_group_analysis(rl_df, 'percentile', 'still_correct')"
   ]
  },
  {
   "cell_type": "code",
   "execution_count": 149,
   "id": "f127c327",
   "metadata": {},
   "outputs": [
    {
     "name": "stdout",
     "output_type": "stream",
     "text": [
      " I started by recalling the definition of a complex number, which is \\( z = x + yi \\), where \\( x \\) and \\( y \\) are real numbers, and \\( i \\) is the imaginary unit. The conjugate of \\( z \\), denoted \\( \\bar{z} \\), is \\( x - yi \\). \n",
      "\n",
      "I then substituted \\( z = x + yi \\) and \\( \\bar{z} = x - yi \\) into the given equation \\( 3z + 5i\\bar{z} = 1 - 8i \\). Expanding both terms, I got \\( 3x + 3yi + 5ix - 5y = (3x + 5y) + (3y + 5x)i \\). \n",
      "\n",
      "Setting the real and imaginary parts equal to the corresponding parts on the right-hand side, I obtained the system of linear equations: \\( 3x + 5y = 1 \\) and \\( 5x + 3y = -8 \\). \n",
      "\n",
      "To solve this system, I used the method of elimination. I multiplied the first equation by 5 and the second equation by 3 to align the coefficients of \\( x \\), resulting in the equations \\( 12x + 16y = 5 \\) and \\( 12x + 9y = -25 \\). Subtracting the second equation from the first, I found \\( 7y = 28 \\), leading to \\( y = 5 \\). Substituting \\( y = 5 \\) back into the first equation, I solved for \\( x \\) and found \\( x = -5 \\). \n",
      "\n",
      "Thus, the complex number \\( z \\) is \\( z = -5 + 5i \\). I verified this solution by substituting \\( z = -5 + 5i \\) back into the original equation, confirming that both sides are equal. Therefore, the answer is \\( \\boxed{-5 + 5i} \\).\n"
     ]
    }
   ],
   "source": [
    "print(rl_df['post_corruption_response'][6])"
   ]
  },
  {
   "cell_type": "code",
   "execution_count": 91,
   "id": "5859d53c",
   "metadata": {},
   "outputs": [],
   "source": [
    "rl_df = pd.read_pickle(\"/share/goyal/lio/reasoning/eval/hendrycks_math/sample200/digit_corruption/R1-Distill-Qwen-1.5B_type=answer_digit_continuethinking=False.pickle\")"
   ]
  },
  {
   "cell_type": "code",
   "execution_count": 92,
   "id": "70d096d4",
   "metadata": {},
   "outputs": [
    {
     "data": {
      "text/plain": [
       "{'corruption percentage': pctl_group\n",
       " 0.50    298\n",
       " 0.25    290\n",
       " 1.00    153\n",
       " 0.75    151\n",
       " 0.10    143\n",
       " Name: count, dtype: int64,\n",
       " 'accuracy': pctl_group\n",
       " 0.10    0.335664\n",
       " 0.25    0.082759\n",
       " 0.50    0.097315\n",
       " 0.75    0.079470\n",
       " 1.00    0.104575\n",
       " Name: still_correct, dtype: float64}"
      ]
     },
     "execution_count": 92,
     "metadata": {},
     "output_type": "execute_result"
    }
   ],
   "source": [
    "corruption_group_analysis(rl_df, 'percentile', 'still_correct')"
   ]
  },
  {
   "cell_type": "markdown",
   "id": "14ffaf15",
   "metadata": {},
   "source": [
    "### Corrupt all digits forwards"
   ]
  },
  {
   "cell_type": "code",
   "execution_count": 174,
   "id": "0dc113b9",
   "metadata": {
    "scrolled": true
   },
   "outputs": [],
   "source": [
    "sft_df = pd.read_pickle(\"/share/goyal/lio/reasoning/eval/hendrycks_math/sample200/digit_corruption/Qwen2.5-Math-1.5B-DrGRPO-Zero_type=midway_continuethinking=True.pickle\")"
   ]
  },
  {
   "cell_type": "code",
   "execution_count": 175,
   "id": "3642ec7c",
   "metadata": {},
   "outputs": [
    {
     "data": {
      "text/plain": [
       "{'corruption percentage': pctl_group\n",
       " 1.00    137\n",
       " 0.50     71\n",
       " 0.75     44\n",
       " 0.25     27\n",
       " 0.10      2\n",
       " Name: count, dtype: int64,\n",
       " 'accuracy': pctl_group\n",
       " 0.10    0.500000\n",
       " 0.25    0.407407\n",
       " 0.50    0.183099\n",
       " 0.75    0.136364\n",
       " 1.00    0.138686\n",
       " Name: still_correct, dtype: float64}"
      ]
     },
     "execution_count": 175,
     "metadata": {},
     "output_type": "execute_result"
    }
   ],
   "source": [
    "corruption_group_analysis(sft_df, 'percentile', 'still_correct')"
   ]
  },
  {
   "cell_type": "code",
   "execution_count": 152,
   "id": "9d2e675d",
   "metadata": {},
   "outputs": [],
   "source": [
    "rl_df = pd.read_pickle(\"/share/goyal/lio/reasoning/eval/hendrycks_math/sample200/digit_corruption/Qwen2.5-Math-1.5B-sky-math8k-r1-continue-sft64steps-rl300steps_type=midway_continuethinking=True.pickle\")"
   ]
  },
  {
   "cell_type": "code",
   "execution_count": 153,
   "id": "2c6e7ce4",
   "metadata": {},
   "outputs": [
    {
     "data": {
      "text/plain": [
       "{'corruption percentage': pctl_group\n",
       " 1.00    106\n",
       " 0.50     79\n",
       " 0.75     65\n",
       " 0.25     43\n",
       " 0.10      4\n",
       " Name: count, dtype: int64,\n",
       " 'accuracy': pctl_group\n",
       " 0.10    0.250000\n",
       " 0.25    0.302326\n",
       " 0.50    0.113924\n",
       " 0.75    0.107692\n",
       " 1.00    0.216981\n",
       " Name: still_correct, dtype: float64}"
      ]
     },
     "execution_count": 153,
     "metadata": {},
     "output_type": "execute_result"
    }
   ],
   "source": [
    "corruption_group_analysis(rl_df, 'percentile', 'still_correct')"
   ]
  },
  {
   "cell_type": "markdown",
   "id": "ed6ce07d",
   "metadata": {},
   "source": [
    "# Distraction"
   ]
  },
  {
   "cell_type": "markdown",
   "id": "1dfdaad6",
   "metadata": {},
   "source": [
    "## Full distraction"
   ]
  },
  {
   "cell_type": "code",
   "execution_count": 4,
   "id": "c8d439b9",
   "metadata": {
    "scrolled": true
   },
   "outputs": [
    {
     "data": {
      "text/plain": [
       "['R1-Distill-Qwen-1.5B.pickle',\n",
       " 'R1-Distill-Qwen-7B.pickle',\n",
       " 'R1-Distill-Qwen-14B.pickle',\n",
       " 'R1-Distill-Llama-8B.pickle',\n",
       " 'Qwen3-30B-A3B.pickle',\n",
       " 'Qwen3-4B.pickle',\n",
       " 'Qwen3-1.7B.pickle',\n",
       " 'DAPO-Qwen-32B.pickle',\n",
       " 'DeepScaleR-1.5B-Preview.pickle',\n",
       " 'L1-Qwen-1.5B-Max.pickle',\n",
       " 'Qwen3-30B-A3B-Base.pickle',\n",
       " 'Qwen3-4B-Base.pickle',\n",
       " 'Qwen3-1.7B-Base.pickle',\n",
       " 'Qwen2.5-Math-1.5B-sky-math8k-r1-sft64steps-rl143steps.pickle',\n",
       " 'Qwen2.5-Math-1.5B-sky-math8k-sft64steps.pickle',\n",
       " 'Qwen2.5-Math-1.5B-sky-math8k-sft640steps.pickle',\n",
       " 'Qwen2.5-Math-1.5B-sky-math8k-sft1270steps.pickle',\n",
       " 'Qwen2.5-Math-1.5B-sky-math8k-r1-continue-sft64steps-rl300steps.pickle',\n",
       " 'Qwen2.5-Math-1.5B-DrGRPO-Zero.pickle',\n",
       " 'Qwen2.5-Math-7B-DrGRPO-Zero.pickle']"
      ]
     },
     "execution_count": 4,
     "metadata": {},
     "output_type": "execute_result"
    }
   ],
   "source": [
    "root = '/share/goyal/lio/reasoning/eval/hendrycks_math/sample200/distraction'\n",
    "os.listdir(root)"
   ]
  },
  {
   "cell_type": "code",
   "execution_count": 15,
   "id": "1e677c3c",
   "metadata": {
    "scrolled": true
   },
   "outputs": [
    {
     "name": "stdout",
     "output_type": "stream",
     "text": [
      "accuracy according to original solution: \n",
      " {'corruption percentage': pctl_group\n",
      "0.25    202\n",
      "0.50    167\n",
      "0.75    167\n",
      "1.00    167\n",
      "0.10     71\n",
      "Name: count, dtype: int64, 'accuracy': pctl_group\n",
      "0.10    0.295775\n",
      "0.25    0.391089\n",
      "0.50    0.257485\n",
      "0.75    0.329341\n",
      "1.00    0.053892\n",
      "Name: original_correct, dtype: float64}\n",
      "************************************************** \n",
      "\n",
      "\n",
      "accuracy according to distractor solution: \n",
      " {'corruption percentage': pctl_group\n",
      "0.25    202\n",
      "0.50    167\n",
      "0.75    167\n",
      "1.00    167\n",
      "0.10     71\n",
      "Name: count, dtype: int64, 'accuracy': pctl_group\n",
      "0.10    0.380282\n",
      "0.25    0.514851\n",
      "0.50    0.694611\n",
      "0.75    0.604790\n",
      "1.00    0.946108\n",
      "Name: distractor_correct, dtype: float64}\n"
     ]
    }
   ],
   "source": [
    "root = '/share/goyal/lio/reasoning/eval/hendrycks_math/sample200/distraction'\n",
    "df = pd.read_pickle(os.path.join(root, 'DeepScaleR-1.5B-Preview.pickle'))\n",
    "\n",
    "print(\"accuracy according to original solution: \\n\", corruption_group_analysis(df, 'actual_fraction', 'original_correct'))\n",
    "print('*' * 50, '\\n\\n')\n",
    "print(\"accuracy according to distractor solution: \\n\", corruption_group_analysis(df, 'actual_fraction', 'distractor_correct'))"
   ]
  },
  {
   "cell_type": "code",
   "execution_count": 166,
   "id": "cae3deb3",
   "metadata": {},
   "outputs": [],
   "source": [
    "sample_df = df[(df['actual_fraction']==1.0)&(df['original_correct'] == 1.0)]\n",
    "idx = 1\n",
    "data = sample_df.iloc[idx]"
   ]
  },
  {
   "cell_type": "code",
   "execution_count": 167,
   "id": "0bb1a008",
   "metadata": {
    "scrolled": true
   },
   "outputs": [
    {
     "name": "stdout",
     "output_type": "stream",
     "text": [
      "<|im_start|>system\n",
      "The user asks a qusetion and the assistant first thinks about the reasoning process and provides with the answer at the end. The reasoning process is enclosed within <think> </think> and put your final answer within \\boxed{}.<|im_end|>\n",
      "<|im_start|>user\n",
      "What is the smallest positive multiple of $6$ that is also a multiple of $8$?<|im_end|>\n",
      "<|im_start|>assistant\n",
      "<think>\n",
      "++++++++++++++++++++++++++++++++++++++++++++++++++\n",
      " So I need to find the value of \\(a\\) such that the function \\(f(n)\\) is continuous at \\(n = a\\). The function is defined as follows: \\[f(n) = \\begin{cases} 4n + 3 & \\text{if } n < a \\\\ 7n - 12 & \\text{if } n \\ge a \\end{cases}\\] For the function to be continuous at \\(n = a\\), the left-hand limit as \\(n\\) approaches \\(a\\) must equal the right-hand limit as \\(n\\) approaches \\(a\\), and both must equal \\(f(a)\\). In other words, \\[\\lim_{n \\to a^-} f(n) = \\lim_{n \\to a^+} f(n) = f(a)\\] The left-hand limit is given by the expression for \\(n < a\\), which is \\(4n + 3\\). The right-hand limit is given by the expression for \\(n \\ge a\\), which is \\(7n - 12\\). Since \\(f(a) = 7a - 12\\) (because \\(a \\ge a\\)), we need to set the left-hand limit equal to the right-hand limit and solve for \\(a\\). \\[\\lim_{n \\to a^-} (4n + 3) = \\lim_{n \\to a^+} (7n - 12)\\] So, \\(4a + 3 = 7a - 12\\). Let's solve this equation for \\(a\\). First, subtract \\(4a\\) from both sides: \\[3 = 3a - 12\\] Then, add 12 to both sides: \\[15 = 3a\\] Finally, divide both sides by 3: \\[a = 5\\] So, the value of \\(a\\) that makes the function continuous is \\(5\\). Let me check this by plugging \\(a = 5\\) back into the function definitions. For \\(n < 5\\), the function is \\(4n + 3\\), and for \\(n \\ge 5\\), the function is \\(7n - 12\\). The left-hand limit as \\(n\\) approaches 5 is \\(4(5) + 3 = 20 + 3 = 23\\). The right-hand limit as \\(n\\) approaches 5 is \\(7(5) - 12 = 35 - 12 = 23\\). And \\(f(5) = 7(5) - 12 = 35 - 12 = 23\\). Since the left-hand limit, the right-hand limit, and the function value at \\(n = 5\\) are all equal to 23, the function is indeed continuous at \\(n = 5\\). Therefore, the value of \\(a\\) is 5. \n",
      "++++++++++++++++++++++++++++++++++++++++++++++++++\n",
      "5</think>\n",
      "\n",
      "\n",
      "\n",
      "To find the smallest positive multiple of 6 that is also a multiple of 8, we need to find the least common multiple (LCM) of 6 and 8. The LCM of two numbers is the smallest number that is a multiple of both. \n",
      "\n",
      "First, let's find the prime factorizations of 6 and 8:\n",
      "- The prime factorization of 6 is \\(6 = 2 \\times 3\\).\n",
      "- The prime factorization of 8 is \\(8 = 2^3\\).\n",
      "\n",
      "The LCM is found by taking the highest power of each prime that appears in the factorizations:\n",
      "- The highest power of 2 is \\(2^3\\) (from 8).\n",
      "- The highest power of 3 is \\(3^1\\) (from 6).\n",
      "\n",
      "Thus, the LCM is \\(2^3 \\times 3 = 8 \\times 3 = 24\\).\n",
      "\n",
      "Therefore, the smallest positive multiple of 6 that is also a multiple of 8 is \\(\\boxed{24}\\).\n"
     ]
    }
   ],
   "source": [
    "print(data['problem'])\n",
    "print(\"+\" * 50)\n",
    "print(data['distract_reasoning'])\n",
    "print(\"+\" * 50)\n",
    "print(data['post_distraction_response'])"
   ]
  }
 ],
 "metadata": {
  "kernelspec": {
   "display_name": "Python 3 (ipykernel)",
   "language": "python",
   "name": "python3"
  },
  "language_info": {
   "codemirror_mode": {
    "name": "ipython",
    "version": 3
   },
   "file_extension": ".py",
   "mimetype": "text/x-python",
   "name": "python",
   "nbconvert_exporter": "python",
   "pygments_lexer": "ipython3",
   "version": "3.12.4"
  }
 },
 "nbformat": 4,
 "nbformat_minor": 5
}
