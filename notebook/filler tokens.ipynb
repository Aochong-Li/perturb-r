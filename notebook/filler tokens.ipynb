{
 "cells": [
  {
   "cell_type": "code",
   "execution_count": 2,
   "id": "108b17fc",
   "metadata": {},
   "outputs": [],
   "source": [
    "import pandas as pd \n",
    "import os \n",
    "\n",
    "from transformers import AutoModelForCausalLM, AutoTokenizer\n",
    "from datasets import load_dataset\n",
    "\n",
    "import seaborn as sns\n",
    "\n",
    "from datasets import load_dataset\n",
    "import numpy as np\n",
    "import json"
   ]
  },
  {
   "cell_type": "code",
   "execution_count": 3,
   "id": "56a7421e",
   "metadata": {
    "scrolled": true
   },
   "outputs": [
    {
     "data": {
      "text/plain": [
       "'/home/al2644/research/codebase/reasoning/perturb-r/notebook'"
      ]
     },
     "execution_count": 3,
     "metadata": {},
     "output_type": "execute_result"
    }
   ],
   "source": [
    "pwd"
   ]
  },
  {
   "cell_type": "code",
   "execution_count": 6,
   "id": "7888e96b",
   "metadata": {},
   "outputs": [
    {
     "name": "stdout",
     "output_type": "stream",
     "text": [
      "/home/al2644/research/codebase/reasoning/perturb-r\n"
     ]
    }
   ],
   "source": [
    "cd /home/al2644/research/codebase/reasoning/perturb-r"
   ]
  },
  {
   "cell_type": "markdown",
   "id": "818fcb25",
   "metadata": {},
   "source": [
    "# Reasoning Results"
   ]
  },
  {
   "cell_type": "code",
   "execution_count": 7,
   "id": "88fa0269",
   "metadata": {
    "scrolled": false
   },
   "outputs": [
    {
     "name": "stdout",
     "output_type": "stream",
     "text": [
      "R1-Distill-Qwen-1.5B.pickle\n",
      "Accuracy: 0.4706666666666667\n",
      "R1-Distill-Qwen-7B.pickle\n",
      "Accuracy: 0.6553333333333333\n",
      "Qwen3-1.7B.pickle\n",
      "Accuracy: 0.56\n",
      "Qwen3-4B.pickle\n",
      "Accuracy: 0.7246666666666667\n",
      "Qwen3-1.7B_nothinking.pickle\n",
      "Accuracy: 0.24133333333333334\n",
      "Qwen3-4B_nothinking.pickle\n",
      "Accuracy: 0.3293333333333333\n",
      "Qwen3-8B.pickle\n",
      "Accuracy: 0.7453333333333333\n",
      "Qwen3-8B_nothinking.pickle\n",
      "Accuracy: 0.3426666666666667\n",
      "Qwen3-30B-A3B.pickle\n",
      "Accuracy: 0.7946666666666666\n",
      "Qwen3-30B-A3B_nothinking.pickle\n",
      "Accuracy: 0.36933333333333335\n"
     ]
    }
   ],
   "source": [
    "root = \"./results/deepmath_7to9/benchmark\"\n",
    "for fname in os.listdir(root):\n",
    "    if 'correct' not in fname:\n",
    "        print(fname)\n",
    "        df = pd.read_pickle(os.path.join(root, fname))\n",
    "        print(f\"Accuracy: {df['correct'].mean()}\")"
   ]
  },
  {
   "cell_type": "markdown",
   "id": "4929d5da",
   "metadata": {},
   "source": [
    "# Filler Thinking Results"
   ]
  },
  {
   "cell_type": "code",
   "execution_count": 8,
   "id": "0aa1a8ae",
   "metadata": {},
   "outputs": [
    {
     "data": {
      "text/plain": [
       "['Qwen3-1.7B.pickle']"
      ]
     },
     "execution_count": 8,
     "metadata": {},
     "output_type": "execute_result"
    }
   ],
   "source": [
    "root = \"./results/deepmath_7to9/filler_thinking\"\n",
    "os.listdir(root)"
   ]
  },
  {
   "cell_type": "code",
   "execution_count": 9,
   "id": "cbb14c92",
   "metadata": {},
   "outputs": [],
   "source": [
    "df = pd.read_pickle(os.path.join(root, 'Qwen3-1.7B.pickle'))"
   ]
  },
  {
   "cell_type": "code",
   "execution_count": 24,
   "id": "758ac31d",
   "metadata": {},
   "outputs": [
    {
     "data": {
      "text/plain": [
       "0.5137614678899083"
      ]
     },
     "execution_count": 24,
     "metadata": {},
     "output_type": "execute_result"
    }
   ],
   "source": [
    "df.groupby(\"problem\")[[\"still_correct\"]].max()[\"still_correct\"].mean()"
   ]
  }
 ],
 "metadata": {
  "kernelspec": {
   "display_name": "Python 3 (ipykernel)",
   "language": "python",
   "name": "python3"
  },
  "language_info": {
   "codemirror_mode": {
    "name": "ipython",
    "version": 3
   },
   "file_extension": ".py",
   "mimetype": "text/x-python",
   "name": "python",
   "nbconvert_exporter": "python",
   "pygments_lexer": "ipython3",
   "version": "3.10.16"
  }
 },
 "nbformat": 4,
 "nbformat_minor": 5
}
