{
 "cells": [
  {
   "cell_type": "code",
   "execution_count": 1,
   "id": "e427172c",
   "metadata": {},
   "outputs": [],
   "source": [
    "import pandas as pd\n",
    "import numpy as np\n",
    "import os\n",
    "import sys\n",
    "import json"
   ]
  },
  {
   "cell_type": "code",
   "execution_count": 9,
   "id": "252ab392",
   "metadata": {},
   "outputs": [],
   "source": [
    "path = \"/home/al2644/research/lib/SkyThought/deepseek-ai_DeepSeek-R1-Distill-Qwen-1.5B_aime24_76987d/summary.json\"\n",
    "with open(path, 'rb') as f:\n",
    "    results = json.load(f)"
   ]
  },
  {
   "cell_type": "code",
   "execution_count": 10,
   "id": "320ef3b5",
   "metadata": {
    "scrolled": true
   },
   "outputs": [
    {
     "data": {
      "text/plain": [
       "{'configuration': {'task': {'name': 'aime24',\n",
       "   'config': {'handler': 'aime',\n",
       "    'dataset_path': 'AI-MO/aimo-validation-aime',\n",
       "    'dataset_subset': None,\n",
       "    'dataset_split': 'train',\n",
       "    'dataset_kwargs': {},\n",
       "    'question_key': 'problem',\n",
       "    'answer_key': 'answer',\n",
       "    'templating_parameters': {'template': 'Return your final response within \\\\boxed{{}}. {prompt}'},\n",
       "    'preprocess_config': {'url': '2024'}},\n",
       "   'start': 0,\n",
       "   'end': -1},\n",
       "  'model': {'name': 'deepseek-ai/DeepSeek-R1-Distill-Qwen-1.5B',\n",
       "   'config': {'model_id': 'deepseek-ai/DeepSeek-R1-Distill-Qwen-1.5B',\n",
       "    'name': 'DeepSeek-R1-Distill-Qwen-1.5B',\n",
       "    'system_prompt': None,\n",
       "    'user_template': None,\n",
       "    'assistant_prefill': None}},\n",
       "  'backend': {'name': 'vllm', 'backend_args': {}},\n",
       "  'sampling_params': {'temperature': 0, 'top_p': 1, 'max_tokens': 32768}},\n",
       " 'total_completion_tokens': 750392,\n",
       " 'avg_completion_tokens': 25013.067,\n",
       " 'total_prompt_tokens': 3631,\n",
       " 'avg_prompt_tokens': 121.033,\n",
       " 'accuracy': 0.2333,\n",
       " 'pass_at_k': None}"
      ]
     },
     "execution_count": 10,
     "metadata": {},
     "output_type": "execute_result"
    }
   ],
   "source": [
    "results"
   ]
  },
  {
   "cell_type": "code",
   "execution_count": 2,
   "id": "5064f338",
   "metadata": {},
   "outputs": [],
   "source": [
    "from datasets import load_dataset"
   ]
  },
  {
   "cell_type": "code",
   "execution_count": 17,
   "id": "10fb7a56",
   "metadata": {},
   "outputs": [],
   "source": [
    "train_dataset = load_dataset(\"SynthLabsAI/Big-Math-RL-Verified\")['train']"
   ]
  },
  {
   "cell_type": "code",
   "execution_count": 43,
   "id": "f396a98c",
   "metadata": {},
   "outputs": [],
   "source": [
    "math500 = load_dataset(\"HuggingFaceH4/MATH-500\")['test']\n",
    "math500 = pd.DataFrame(math500)"
   ]
  },
  {
   "cell_type": "code",
   "execution_count": 19,
   "id": "c4fa9112",
   "metadata": {},
   "outputs": [],
   "source": [
    "dataset_df = pd.DataFrame(train_dataset)"
   ]
  },
  {
   "cell_type": "code",
   "execution_count": 29,
   "id": "e54ea8ab",
   "metadata": {},
   "outputs": [],
   "source": [
    "aime_24 = load_dataset(\"Maxwell-Jia/AIME_2024\")['train']"
   ]
  },
  {
   "cell_type": "code",
   "execution_count": 33,
   "id": "d1575173",
   "metadata": {},
   "outputs": [],
   "source": [
    "answer_str = [str(ans) for ans in aime_24['Answer']]"
   ]
  },
  {
   "cell_type": "code",
   "execution_count": 36,
   "id": "a765ede6",
   "metadata": {},
   "outputs": [],
   "source": [
    "subset = dataset_df[dataset_df['source'] == 'amc_aime']"
   ]
  },
  {
   "cell_type": "code",
   "execution_count": 51,
   "id": "8b3c3c22",
   "metadata": {},
   "outputs": [],
   "source": [
    "math_df = dataset_df[dataset_df['source'] == 'math']"
   ]
  },
  {
   "cell_type": "code",
   "execution_count": 60,
   "id": "ac5efefe",
   "metadata": {
    "scrolled": true
   },
   "outputs": [
    {
     "data": {
      "text/plain": [
       "'Given $p$: $|4x-3|\\\\leqslant 1$ and $q$: $x^{2}-(2a+1)x+a^{2}+a\\\\leqslant 0$, find the range of values for $a$ if $p$ is a necessary but not sufficient condition for $q$.'"
      ]
     },
     "execution_count": 60,
     "metadata": {},
     "output_type": "execute_result"
    }
   ],
   "source": [
    "dataset_df['problem'][0]"
   ]
  },
  {
   "cell_type": "markdown",
   "id": "09d9c24c",
   "metadata": {},
   "source": [
    "# TRAIN Dataset"
   ]
  },
  {
   "cell_type": "code",
   "execution_count": 51,
   "id": "bc65cceb",
   "metadata": {},
   "outputs": [
    {
     "data": {
      "application/vnd.jupyter.widget-view+json": {
       "model_id": "013341f53d7748bebce9cf6c26a6af31",
       "version_major": 2,
       "version_minor": 0
      },
      "text/plain": [
       "Resolving data files:   0%|          | 0/20 [00:00<?, ?it/s]"
      ]
     },
     "metadata": {},
     "output_type": "display_data"
    }
   ],
   "source": [
    "open_r1_ds = load_dataset(\"open-r1/OpenR1-Math-220k\")"
   ]
  },
  {
   "cell_type": "code",
   "execution_count": 52,
   "id": "ee636897",
   "metadata": {},
   "outputs": [
    {
     "data": {
      "text/plain": [
       "DatasetDict({\n",
       "    train: Dataset({\n",
       "        features: ['problem', 'solution', 'answer', 'problem_type', 'question_type', 'source', 'uuid', 'is_reasoning_complete', 'generations', 'correctness_math_verify', 'correctness_llama', 'finish_reasons', 'correctness_count', 'messages'],\n",
       "        num_rows: 93733\n",
       "    })\n",
       "})"
      ]
     },
     "execution_count": 52,
     "metadata": {},
     "output_type": "execute_result"
    }
   ],
   "source": [
    "open_r1_ds"
   ]
  },
  {
   "cell_type": "code",
   "execution_count": 53,
   "id": "f59e5423",
   "metadata": {},
   "outputs": [
    {
     "name": "stdout",
     "output_type": "stream",
     "text": [
      "1. Arrange the consecutive natural numbers from 1 to 99 in sequence to form a large number:\n",
      "1234567891011…979899,\n",
      "By extracting four consecutive digits, you can get a four-digit number, such as 5678, 1011, etc. Among the four-digit numbers obtained by this method, the largest is . $\\qquad$\n"
     ]
    },
    {
     "ename": "NameError",
     "evalue": "name 'problem' is not defined",
     "output_type": "error",
     "traceback": [
      "\u001b[0;31m---------------------------------------------------------------------------\u001b[0m",
      "\u001b[0;31mNameError\u001b[0m                                 Traceback (most recent call last)",
      "Cell \u001b[0;32mIn[53], line 4\u001b[0m\n\u001b[1;32m      2\u001b[0m data \u001b[38;5;241m=\u001b[39m open_r1_ds[\u001b[38;5;124m'\u001b[39m\u001b[38;5;124mtrain\u001b[39m\u001b[38;5;124m'\u001b[39m][idx]\n\u001b[1;32m      3\u001b[0m \u001b[38;5;28mprint\u001b[39m(data[\u001b[38;5;124m'\u001b[39m\u001b[38;5;124mproblem\u001b[39m\u001b[38;5;124m'\u001b[39m])\n\u001b[0;32m----> 4\u001b[0m \u001b[43mproblem\u001b[49m(data[\u001b[38;5;124m'\u001b[39m\u001b[38;5;124manswer\u001b[39m\u001b[38;5;124m'\u001b[39m][\u001b[38;5;241m0\u001b[39m])\n",
      "\u001b[0;31mNameError\u001b[0m: name 'problem' is not defined"
     ]
    }
   ],
   "source": [
    "idx = 100\n",
    "data = open_r1_ds['train'][idx]\n",
    "print(data['problem'])\n",
    "print(data['answer'][0])"
   ]
  },
  {
   "cell_type": "code",
   "execution_count": 54,
   "id": "272e24b3",
   "metadata": {},
   "outputs": [
    {
     "data": {
      "text/plain": [
       "dict_keys(['problem', 'solution', 'answer', 'problem_type', 'question_type', 'source', 'uuid', 'is_reasoning_complete', 'generations', 'correctness_math_verify', 'correctness_llama', 'finish_reasons', 'correctness_count', 'messages'])"
      ]
     },
     "execution_count": 54,
     "metadata": {},
     "output_type": "execute_result"
    }
   ],
   "source": [
    "data.keys()"
   ]
  },
  {
   "cell_type": "markdown",
   "id": "9130a5dd",
   "metadata": {},
   "source": [
    "# Tokenizer"
   ]
  },
  {
   "cell_type": "code",
   "execution_count": 33,
   "id": "1e84c5df",
   "metadata": {},
   "outputs": [],
   "source": [
    "from transformers import AutoTokenizer"
   ]
  },
  {
   "cell_type": "code",
   "execution_count": 34,
   "id": "c349f09d",
   "metadata": {},
   "outputs": [],
   "source": [
    "base_tokenizer = AutoTokenizer.from_pretrained(\"Qwen/Qwen2.5-1.5B\")\n",
    "r1_tokenizer = AutoTokenizer.from_pretrained(\"deepseek-ai/DeepSeek-R1-Distill-Qwen-1.5B\")"
   ]
  },
  {
   "cell_type": "code",
   "execution_count": 45,
   "id": "6b281115",
   "metadata": {},
   "outputs": [],
   "source": [
    "DEFAULT_CHAT_TEMPLATE = \"\"\"{% if not add_generation_prompt is defined %}{% set add_generation_prompt = false %}{% endif %}{% set ns = namespace(is_first=false, is_tool=false, is_output_first=true, system_prompt='') %}{%- for message in messages %}{%- if message['role'] == 'system' %}{% set ns.system_prompt = message['content'] %}{%- endif %}{%- endfor %}{{bos_token}}{{ns.system_prompt}}{%- for message in messages %}{%- if message['role'] == 'user' %}{%- set ns.is_tool = false -%}{{'<｜User｜>' + message['content']}}{%- endif %}{%- if message['role'] == 'assistant' and message['content'] is none %}{%- set ns.is_tool = false -%}{%- for tool in message['tool_calls']%}{%- if not ns.is_first %}{{'<｜Assistant｜><｜tool▁calls▁begin｜><｜tool▁call▁begin｜>' + tool['type'] + '<｜tool▁sep｜>' + tool['function']['name'] + '\\\\n' + '```json' + '\\\\n' + tool['function']['arguments'] + '\\\\n' + '```' + '<｜tool▁call▁end｜>'}}{%- set ns.is_first = true -%}{%- else %}{{'\\\\n' + '<｜tool▁call▁begin｜>' + tool['type'] + '<｜tool▁sep｜>' + tool['function']['name'] + '\\\\n' + '```json' + '\\\\n' + tool['function']['arguments'] + '\\\\n' + '```' + '<｜tool▁call▁end｜>'}}{{'<｜tool▁calls▁end｜><｜end▁of▁sentence｜>'}}{%- endif %}{%- endfor %}{%- endif %}{%- if message['role'] == 'assistant' and message['content'] is not none %}{%- if ns.is_tool %}{{'<｜tool▁outputs▁end｜>' + message['content'] + '<｜end▁of▁sentence｜>'}}{%- set ns.is_tool = false -%}{%- else %}{% set content = message['content'] %}{{'<｜Assistant｜>' + content + '<｜end▁of▁sentence｜>'}}{%- endif %}{%- endif %}{%- if message['role'] == 'tool' %}{%- set ns.is_tool = true -%}{%- if ns.is_output_first %}{{'<｜tool▁outputs▁begin｜><｜tool▁output▁begin｜>' + message['content'] + '<｜tool▁output▁end｜>'}}{%- set ns.is_output_first = false %}{%- else %}{{'\\\\n<｜tool▁output▁begin｜>' + message['content'] + '<｜tool▁output▁end｜>'}}{%- endif %}{%- endif %}{%- endfor -%}{% if ns.is_tool %}{{'<｜tool▁outputs▁end｜>'}}{% endif %}{% if add_generation_prompt and not ns.is_tool %}{{'<｜Assistant｜><think>\\\\n'}}{% endif %}\"\"\"\n",
    "r1_tokenizer.chat_template = DEFAULT_CHAT_TEMPLATE"
   ]
  },
  {
   "cell_type": "code",
   "execution_count": 47,
   "id": "31429de5",
   "metadata": {},
   "outputs": [
    {
     "data": {
      "text/plain": [
       "'<|im_start|>system\\nYou are a helpful assistant.<|im_end|>\\n<|im_start|>user\\n1. Arrange the consecutive natural numbers from 1 to 99 in sequence to form a large number:\\n1234567891011…979899,\\nBy extracting four consecutive digits, you can get a four-digit number, such as 5678, 1011, etc. Among the four-digit numbers obtained by this method, the largest is . $\\\\qquad$<|im_end|>\\n<|im_start|>assistant\\n<think>\\nOkay, let\\'s tackle this problem step by step. So, we need to form the largest possible four-digit number by extracting four consecutive digits from the sequence of natural numbers from 1 to 99 written together. The example given is 1234567891011…979899. \\n\\nFirst, I need to visualize how the numbers are arranged. Starting from 1, we have single-digit numbers (1-9) and then from 10 onwards, they become two-digit numbers. So the sequence goes 1,2,3,...,9,1,0,1,1,1,2,...,9,9. \\n\\nTo find the largest four-digit number, I should look for the highest possible digits in the thousands, hundreds, tens, and units places. Since we\\'re dealing with consecutive digits from the sequence, the key is to find where the digits naturally form the largest possible number.\\n\\nStarting from the beginning, the numbers are 1,2,3,4,...,9. When we reach 9, the next number is 10. So after 9, the sequence becomes 1,0, then 1,1, then 1,2, etc. \\n\\nIf I list out the beginning part: 1234567891011121314...979899. So the transition from single-digit to two-digit numbers happens at the 9th digit (which is 9), then the 10th digit is 1 (from 10), 11th is 0, 12th is 1 (from 11), 13th is 1, 14th is 1, and so on.\\n\\nTo get the largest four-digit number, we need the first digit (thousands place) to be as high as possible. The highest single-digit number is 9, but if we can find a 9 followed by higher digits, that would be better. However, after 9 comes 1 and 0 (from 10), which gives 9101... but 9101 is lower than 9999, which isn\\'t possible here. \\n\\nWait, but since we are dealing with consecutive digits, maybe the largest number comes from the transition between numbers. Let\\'s think: When we have the number 9, followed by 10, that would be written as 910. So the digits after 9 are 1,0,1,1,1,2,... So the four-digit numbers starting at 9 would be 9101, 1011, 0111, etc. These are not very high.\\n\\nAlternatively, maybe somewhere in the two-digit numbers, we can find a sequence of digits that forms a high four-digit number. For example, when the numbers reach the 80s or 90s. Let\\'s see: Numbers from 80 to 99 are two-digit numbers. Let\\'s break down how they are written:\\n\\n80 is written as 8 and 0, 81 as 8 and 1, ..., 89 as 8 and 9, 90 as 9 and 0, 91 as 9 and 1, ..., 99 as 9 and 9.\\n\\nSo, when writing numbers from 80 onwards, the digits would be: 8081828384858687888990919293949596979899.\\n\\nLooking at this sequence, let\\'s check for four consecutive digits. Let\\'s start from 89: the number 89 is written as 8 and 9, then 90 is 9 and 0. So the digits around 89-90 would be ...8 9 9 0... So that would form 8990. Hmm, 8990. Is that a candidate? Maybe, but let\\'s check later numbers.\\n\\nLooking at numbers around 97, 98, 99: The sequence would be ...979899. So let\\'s break it down. 97 is 9 and 7, 98 is 9 and 8, 99 is 9 and 9. So the digits here are 9 7 9 8 9 9. Therefore, the four-digit numbers here would be 9798, 7989, 9899. The largest among these is 9899. That\\'s pretty high. \\n\\nBut wait, maybe there\\'s a higher one. Let\\'s check the transition from 95 to 96 to 97, etc. Let\\'s see:\\n\\nNumbers 95: 9 5, 96:9 6, 97:9 7, 98:9 8, 99:9 9. So the digits here would be ...9 5 9 6 9 7 9 8 9 9. So four-digit numbers here would be 9596, 5969, 9697, 6979, 9798, 7989, 9899. The highest here is 9798 and 9899. 9899 is higher.\\n\\nBut let\\'s check another area. Maybe between 89 and 90. Wait, 89 is 8 9, 90 is 9 0, so the digits are 8 9 9 0. So that\\'s 8990, which is lower than 9899.\\n\\nWhat about between 99 and 100? Wait, but we only go up to 99. So after 99, the sequence ends. So the last digits are 9 9.\\n\\nWait, let\\'s step back. The entire sequence is from 1 to 99. So after 99, there\\'s nothing. So the last digits are the digits of 99, which are 9 and 9. Therefore, the four-digit numbers near the end would be ...979899. Let\\'s see: The numbers 97, 98, 99. So written as 9 7 9 8 9 9. Therefore, the last four-digit numbers are 7989, 9899. 9899 is the last one. But wait, 99 is the last number, so after 99, the sequence stops. Therefore, the digits are ...979899. Let\\'s index the positions:\\n\\nLet\\'s break down the last part:\\n\\n... 95 96 97 98 99\\n\\nWhich translates to:\\n\\n...9 5 9 6 9 7 9 8 9 9\\n\\nSo starting from the first 9 in 95, the digits are:\\n\\n9 (from 95), 5, 9 (from 96), 6, 9 (from 97), 7, 9 (from 98), 8, 9 (from 99), 9.\\n\\nWait, perhaps I need to write out the exact sequence. Let\\'s take numbers from 95 to 99:\\n\\n95: 9,5\\n\\n96:9,6\\n\\n97:9,7\\n\\n98:9,8\\n\\n99:9,9\\n\\nSo the sequence from 95 to 99 is: 9 5 9 6 9 7 9 8 9 9\\n\\nTherefore, if we look at four consecutive digits here:\\n\\nStarting at 95: 9 5 9 6 → 9596\\n\\nNext: 5 9 6 9 → 5969\\n\\nNext: 9 6 9 7 → 9697\\n\\nNext: 6 9 7 9 → 6979\\n\\nNext: 9 7 9 8 → 9798\\n\\nNext: 7 9 8 9 → 7989\\n\\nNext: 9 8 9 9 → 9899\\n\\nSo the four-digit numbers here are 9596, 5969, 9697, 6979, 9798, 7989, 9899.\\n\\nAmong these, 9899 is the highest. \\n\\nBut let\\'s check another part. Maybe earlier in the 90s. Let\\'s take numbers like 91,92,93,94, etc.:\\n\\nFor example, numbers 90: 9,0; 91:9,1; 92:9,2; 93:9,3; 94:9,4; 95:9,5; etc.\\n\\nSo the digits from 90 to 95 are: 9 0 9 1 9 2 9 3 9 4 9 5\\n\\nSo four-digit numbers here would be:\\n\\n9091, 0919, 9192, 1929, 9293, 2939, 9394, 3949, 9495. The highest here is 9495, which is lower than 9899.\\n\\nHow about numbers in the 80s? Let\\'s see:\\n\\nNumbers 85:8,5; 86:8,6; 87:8,7; 88:8,8; 89:8,9; 90:9,0.\\n\\nSo the digits here are: 8 5 8 6 8 7 8 8 8 9 9 0\\n\\nFour-digit numbers here:\\n\\n8586, 5868, 8687, 6878, 8788, 7888, 8889, 8890. The highest here is 8890, still lower than 9899.\\n\\nHmm. What about numbers like 99 itself? Since 99 is written as 9,9, so the digits around it are 9,8 (from 98), 9,9 (from 99). So as we saw earlier, 9899 is the four-digit number there.\\n\\nWait, is there a place where we can get 9999? That would be the largest possible, but since numbers go up to 99, and each number is at most two digits, to get 9999, we need four consecutive 9s. But where would that happen? Let\\'s check.\\n\\nLooking at the transition from 9 to 99. Wait, 9 is a single digit, then next numbers are 10, 11, etc. So after 9 comes 10, which is 1 and 0, so no 9s there. The next time we have a 9 in the tens place is 90, which is 9 and 0. But 90 is followed by 91 (9,1), 92 (9,2), ..., 99 (9,9). So the only place where two 9s are consecutive is in 99, which is 9 and 9. So in the entire sequence, the only two consecutive 9s are in the number 99. Therefore, the only place with two 9s is at the end. So to get four consecutive 9s, we would need two consecutive 99s, but since we only have one 99, that\\'s not possible. Therefore, the maximum number of consecutive 9s is two. Therefore, the highest four-digit number cannot have more than two 9s. \\n\\nTherefore, the next best is three 9s. Wait, but even three 9s would require three consecutive 9s. Since 99 is written as 9,9, followed by nothing. So after 99, there\\'s no number, so the sequence ends. So the only two consecutive 9s are in 99. Therefore, even three consecutive 9s are impossible. Therefore, the maximum number of consecutive 9s is two. \\n\\nTherefore, the best we can do is a four-digit number starting with 98, 97, etc., followed by high digits. \\n\\nLooking back at 9899, which is 98 followed by 99, but since 99 is two digits, when we write 98 as 9,8 and 99 as 9,9, the digits are 9,8,9,9. So 9899. \\n\\nIs there a higher four-digit number elsewhere? Let\\'s check numbers around 95 to 99. For example, 9798. Wait, 9798 is 9,7,9,8. 9798 versus 9899. 9899 is higher because the first two digits are 98 vs 97. \\n\\nAnother area: when moving from a higher single-digit to a two-digit number. Wait, the transition from 9 (single-digit) to 10 (two-digit) gives us 9101... but that\\'s low. Similarly, other transitions from single to two-digit numbers would result in lower numbers.\\n\\nWhat about in the middle of two-digit numbers? For example, between 89 and 90: 89 is 8,9; 90 is 9,0. So the digits are 8,9,9,0. That gives 8990. \\n\\nAlternatively, between 79 and 80: 79 is 7,9; 80 is 8,0. So digits 7,9,8,0 forming 7980. Not high. \\n\\nWait, perhaps between 59 and 60: 5,9,6,0. 5960. Also low. \\n\\nSo perhaps the highest four-digit numbers are in the 90s. Let\\'s check another part. Let\\'s take 94,95,96,97. \\n\\n94 is 9,4; 95 is 9,5; 96 is 9,6; etc. So the digits here are 9,4,9,5,9,6,9,7. So four-digit numbers here would be 9495, 4959, 9596, 5969, etc. The highest here is 9596, which is lower than 9899.\\n\\nHow about 99 is the last number, so after 99, there\\'s nothing. So the last four digits are 9,8,9,9 from the numbers 98 and 99. So that\\'s 9899. \\n\\nWait, but let\\'s check another possible spot. If we have a number like 98 followed by 99, which is written as 9,8,9,9. So 9899. \\n\\nBut what about 97,98,99: the digits are 9,7,9,8,9,9. So starting at the second 9 (from 97), we have 9,7,9,8 → 9798. Then next is 7,9,8,9 → 7989. Then 9,8,9,9 → 9899. So 9899 is the highest here. \\n\\nIs there any other place where we can get a higher number? Let\\'s think. For example, maybe numbers like 9192, but that\\'s 9192 which is less than 9899. \\n\\nAlternatively, let\\'s check numbers like 89,90,91. 89 is 8,9; 90 is 9,0; 91 is 9,1. So the digits are 8,9,9,0,9,1. The four-digit numbers here are 8990, 9909, 9091. The highest is 9909. Wait, 9909. Is that possible? Let\\'s verify.\\n\\nWait, the transition from 89 to 90 to 91 is as follows:\\n\\nNumber 89: 8,9\\n\\nNumber 90: 9,0\\n\\nNumber 91: 9,1\\n\\nSo the digits are: 8,9,9,0,9,1. \\n\\nTherefore, starting at the first 8: 8,9,9,0 → 8990\\n\\nNext: 9,9,0,9 → 9909\\n\\nNext: 9,0,9,1 → 9091\\n\\nSo 9909 is a four-digit number here. That\\'s higher than 9899. Wait, 9909 vs 9899. 9909 is larger because the first two digits are 99 vs 98. \\n\\nBut wait, is 9909 actually present in the sequence?\\n\\nHold on, let\\'s check the exact digits. After 89 comes 90, which is written as 9,0. Then 91 is written as 9,1. So the digits after 89 are: 8,9 (from 89), 9,0 (from 90), 9,1 (from 91). Wait, no. Wait, after 89 is 90. So the sequence is:\\n\\n...8,9 (from 89), then 9,0 (from 90), then 9,1 (from 91), etc. So between 89 and 90, the digits are 8,9,9,0. So 8990. Then the next four digits would be 9,0,9,1 (from 90 and 91). So 9091. But wait, if we take overlapping digits, starting at the second 9 in 89: 9 (from 89), 9 (from 90), 0 (from 90), 9 (from 91). Wait, but that\\'s not consecutive. Wait, let\\'s clarify:\\n\\nNumbers:\\n\\n89: digits 8,9\\n\\n90: digits 9,0\\n\\n91: digits 9,1\\n\\nSo the sequence is: 8,9,9,0,9,1\\n\\nTherefore, the four-digit numbers are:\\n\\nDigits 1-4: 8,9,9,0 → 8990\\n\\nDigits 2-5: 9,9,0,9 → 9909\\n\\nDigits 3-6: 9,0,9,1 → 9091\\n\\nSo 9909 is indeed a valid four-digit number here. That\\'s higher than 9899 (9909 vs 9899). So 9909 is higher. \\n\\nSo that seems like a better candidate. How come I didn\\'t think of this earlier?\\n\\nWait, but hold on. Let\\'s confirm the exact sequence. After 89 (which is 8,9), the next number is 90 (9,0). So the digits go 8,9,9,0. Then after 90 is 91 (9,1). So the next digits are 9,1. So the full sequence is 8,9,9,0,9,1. Therefore, the four-digit numbers starting from position 2: 9,9,0,9 → 9909. \\n\\nBut wait, the number 90 is written as 9,0. Then 91 is written as 9,1. Therefore, after 90 comes 91. So between the end of 90 (which is 0) and the start of 91 (which is 9), there is no digit in between. So the digits are 9,0,9,1. Wait, that would make the four-digit number starting at the third digit: 9,0,9,1, which is 9091. Wait, but how do we get 9909? Let\\'s index the digits:\\n\\nPositions:\\n\\n1:8 (from 89)\\n\\n2:9 (from 89)\\n\\n3:9 (from 90)\\n\\n4:0 (from 90)\\n\\n5:9 (from 91)\\n\\n6:1 (from 91)\\n\\nSo the four-digit numbers are:\\n\\nPositions 1-4: 8,9,9,0 → 8990\\n\\nPositions 2-5:9,9,0,9 →9909\\n\\nPositions 3-6:9,0,9,1→9091\\n\\nSo positions 2-5: digits 9,9,0,9. But wait, digit 5 is part of the number 91. So 91 is written as 9,1. So digit 5 is 9, which is the first digit of 91. Then digit 6 is 1. So positions 2-5: digits 9 (from 89), 9 (from 90), 0 (from 90), 9 (from 91). Therefore, 9,9,0,9. That\\'s 9909. \\n\\nBut wait, the number 90 is \"9\", \"0\", and 91 is \"9\", \"1\". So between 90 and 91, the transition is from 0 to 9. So the digits are ...9,0,9,1... So the 0 is the last digit of 90, and the 9 is the first digit of 91. Therefore, yes, the digits 9,0,9,1. But if we take digits starting from the last 9 of 89 (position 2), then 9 (position 3) from 90, 0 (position4) from 90, and 9 (position5) from 91. So positions 2-5: 9,9,0,9. So 9909 is indeed present. \\n\\nTherefore, 9909 is a four-digit number in the sequence. Since 9909 is higher than 9899, this would be a better candidate. \\n\\nBut wait, let\\'s check another transition. For example, between 99 and the next number, but since 99 is the last number, there is no next number. So the digits end at 99. \\n\\nAnother possible high number could be 9999, but as we discussed earlier, there aren\\'t four 9s in a row. The maximum is two 9s from 99. So 9999 isn\\'t possible. \\n\\nSimilarly, 9998 would require three 9s followed by an 8, but we only have two 9s. \\n\\nSo 9909 seems higher than 9899. \\n\\nBut let\\'s check another transition. For example, between 98 and 99. 98 is written as 9,8 and 99 is 9,9. So the digits are 9,8,9,9. Which gives 9899. \\n\\nBut between 89 and 90, we had 9909. Which is higher. \\n\\nIs there a higher four-digit number elsewhere? Let\\'s check another transition. For example, 59 to 60. 59 is 5,9; 60 is 6,0. So the digits are 5,9,6,0. That\\'s 5960. Not high. \\n\\nHow about between 69 and 70? 6,9,7,0. 6970. Still low. \\n\\nAnother thought: If we have a two-digit number ending with 9 followed by another two-digit number starting with 9. For example, 59 followed by 90? Wait, 59 is 5,9; 60 is 6,0. So no, that\\'s 5,9,6,0. \\n\\nWait, but if we have a two-digit number ending with 9 followed by another number starting with 9. For example, 89 followed by 90. 89 is 8,9; 90 is 9,0. So digits are 8,9,9,0. 8990. \\n\\nSimilarly, 79 followed by 80: 7,9,8,0. 7980. \\n\\nBut the key one is 89 followed by 90 and 91, giving us 8990, 9909, 9091. \\n\\nSo 9909 is 9909. Now, comparing this with 9899. \\n\\nSince 9909 is higher than 9899 (as 99 > 98), this would be the larger number. \\n\\nBut wait, let\\'s confirm if 9909 is indeed present in the sequence. Let\\'s verify the exact digits:\\n\\nNumbers around there are 89,90,91. \\n\\n89: 8,9\\n\\n90:9,0\\n\\n91:9,1\\n\\nSo the digits are 8,9,9,0,9,1. \\n\\nSo starting from the second digit (the first 9 of 89), we get 9,9,0,9 (digits 2-5). But wait, the first 9 is part of 89, then the next 9 is part of 90, then 0 is part of 90, then the next 9 is part of 91. So yes, digits 9,9,0,9 are consecutive in the sequence. Therefore, 9909 is a valid four-digit number here. \\n\\nTherefore, 9909 is larger than 9899. \\n\\nBut wait, let\\'s check if there\\'s an even higher number. Let\\'s see:\\n\\nIs there a four-digit number starting with 99? For that, we need two 9s followed by two more digits. Since 99 is written as 9,9. Then the next number after 99 is nothing, so the sequence ends. Therefore, after 99, there are no digits. So the only 99 is at the end, followed by nothing. So the digits after 99 are not present. Therefore, the four-digit number starting with 99 would require the next two digits, which don\\'t exist. \\n\\nHowever, in the transition from 89 to 90 to 91, we have 9909, which starts with 99. So that\\'s valid. \\n\\nIs there another place where we have 99 followed by higher digits? For instance, 99 followed by 100, but we don\\'t have 100. The sequence stops at 99. \\n\\nAlternatively, in another part of the sequence where a number ending with 9 is followed by a number starting with 9, but such instances are:\\n\\nFor example, 9 (single-digit) followed by 9 (single-digit)? But after single-digit 9 comes 10. So 9 is followed by 10, which is 1,0. So digits are 9,1,0. So no 9 after 9 there. \\n\\nAnother instance is two-digit numbers ending with 9 followed by a number starting with 9. For example, 19 followed by 90. Wait, 19 is 1,9; 20 is 2,0. So no. Similarly, 29 followed by 30: 2,9,3,0. \\n\\nWait, the only instance where a two-digit number ending with 9 is followed by a number starting with 9 is 89 followed by 90. Which gives 8,9,9,0 as digits. So 8990. \\n\\nBut wait, 90 is 9,0. So after 89 (8,9) comes 90 (9,0). Therefore, the digits are 8,9,9,0. So 8990. Then after 90 comes 91 (9,1). So the digits are 9,0,9,1. So the four-digit number 9091. \\n\\nBut overlapping these, starting at the second 9 of 89: 9 (from 89), 9 (from 90), 0 (from 90), 9 (from 91) → 9909. \\n\\nTherefore, 9909 is formed by the last 9 of 89, the 9 and 0 of 90, and the 9 of 91. Wait, but how exactly are these digits arranged? Let\\'s lay them out step by step:\\n\\n1. Number 89: digits 8, 9\\n2. Number 90: digits 9, 0\\n3. Number 91: digits 9, 1\\n\\nSo the entire sequence from 89 to 91 is: 8,9,9,0,9,1\\n\\nSo positions:\\n\\n1:8\\n\\n2:9\\n\\n3:9\\n\\n4:0\\n\\n5:9\\n\\n6:1\\n\\nTherefore, the four-digit numbers are:\\n\\n- Positions 1-4: 8,9,9,0 → 8990\\n\\n- Positions 2-5:9,9,0,9 →9909\\n\\n- Positions 3-6:9,0,9,1 →9091\\n\\nTherefore, 9909 is indeed part of the sequence. So that\\'s valid. \\n\\nTherefore, 9909 is higher than 9899. So that must be the answer. \\n\\nWait, but let\\'s confirm once again. Let me check if there\\'s another place where we can get 99 followed by a higher number. For example, 99 followed by another 99. But since we only have one 99, the digits after 99 are nonexistent. So no.\\n\\nAlternatively, in the transition from 99 to nothing. So 99 is the last number, written as 9,9. So the last two digits are 9,9. Before that is 98, which is 9,8. So the digits before 99 are 9,8,9,9. So 9899. \\n\\nBut in the case of 89,90,91, we have 9909. Therefore, 9909 is higher than 9899.\\n\\nBut wait, is 9909 actually present? Because the four digits are from two different numbers: 89,90,91. But the digits are consecutive in the overall sequence. So even though they come from different numbers, as long as the digits are consecutive in the sequence, it\\'s valid. \\n\\nYes, the problem statement says \"extracting four consecutive digits\" regardless of which numbers they come from. So 9909 is valid. \\n\\nTherefore, 9909 is a higher four-digit number than 9899. \\n\\nBut wait, let\\'s check another possible place where we might get 9979 or something. Wait, but to get 99, we need two consecutive 9s. The only two consecutive 9s are in 99. So unless there\\'s another place with 99. \\n\\nWait, for example, if there\\'s a number like 99, which is at the end. So the digits around 99 would be ...98,99. So 98 is 9,8 and 99 is 9,9. So the digits are 9,8,9,9. So 9899. \\n\\nBut 9909 comes from 89,90,91. So let\\'s see:\\n\\nBut how does 9909 compare to other numbers in the 90s. For example, 95,96,97, etc. But the highest four-digit number we found in the 95-99 range was 9899. \\n\\nSo, between 9909 and 9899, 9909 is higher. \\n\\nBut wait, is there a 9910 or something? Let\\'s see. After 91 comes 92, which is 9,2. So 9909 is followed by 9091, 0912, etc. So 9091, 0912, those are lower. \\n\\nTherefore, the highest four-digit number is 9909. But let\\'s check if there\\'s a 991X or similar. \\n\\nWait, after 91 is 92, which is 9,2. So the digits after 9909 would be 9091, 0912, 9129, etc., which are all lower. \\n\\nAlternatively, between other numbers. Let\\'s think. Suppose there is a transition from a number ending with 9 to a number starting with 9, but only 89 to 90 provides that, leading to 9909. \\n\\nWait, let\\'s check number 79 followed by 80. 79 is 7,9; 80 is 8,0. So digits 7,9,8,0. 7980. Not high. \\n\\nSimilarly, 69 followed by 70: 6,9,7,0. 6970. \\n\\nSo the key is, the only transition where a number ending with 9 is followed by a number starting with 9 is 89 followed by 90. Because 90 is the next number after 89, and 90 starts with 9. Wait, but 90 is ninety, which is 9,0. So the first digit is 9. \\n\\nTherefore, in that case, the two-digit number 90 starts with 9, so after 89 (which ends with 9), we have 90 starting with 9. Therefore, the digits are 8,9,9,0, which forms 8990. But as we saw earlier, overlapping this gives us 9909. \\n\\nSo the key here is that overlapping the numbers can give us a higher four-digit number. \\n\\nTherefore, the conclusion is that 9909 is the highest four-digit number in the sequence. \\n\\nBut wait, let\\'s check one more time. Suppose someone claims that 9989 is higher. Is that possible? To get 9989, we would need the digits 9,9,8,9. Where would that occur? \\n\\nLooking at the numbers, 99 is written as 9,9. The previous number is 98, which is 9,8. So the digits before 99 are 9,8 (from 98), followed by 9,9 (from 99). So the digits are 9,8,9,9. Which forms 9899, not 9989. \\n\\nAlternatively, is there a number 99 followed by 89? But after 99 is the end. So no. \\n\\nAlternatively, a number like 99,89, but since numbers go from 1 to 99, 89 comes before 90. So the sequence is ...89,90,91,...99. So 89 is much earlier. \\n\\nTherefore, 9989 is not present. \\n\\nAnother candidate: 9979. To get that, we need 9,9,7,9. That would require 99 followed by 79. But 79 is way before 99. \\n\\nSo no. \\n\\nTherefore, the highest four-digit number is 9909. \\n\\nBut wait, let\\'s check one more time. 9909 versus 9899. \\n\\n9909 is higher because the first two digits are 99 versus 98. \\n\\nSo 9909 is larger. \\n\\nBut wait, another way to check: Let\\'s list all possible four-digit numbers in the critical areas and compare. \\n\\nFrom 89,90,91: 8990,9909,9091\\n\\nFrom 95-99:9596,5969,9697,6979,9798,7989,9899\\n\\nComparing the highest from each:\\n\\n9909 vs 9899. 9909 is higher. \\n\\nBut wait, is there another place where a higher number exists? \\n\\nLet\\'s check numbers like 92,93,94,95:\\n\\nDigits:9,2,9,3,9,4,9,5. Four-digit numbers:9293,2939,9394,3949,9495. Highest is 9495. \\n\\nLower than 9909. \\n\\nHow about numbers 80-84:\\n\\nDigits:8,0,8,1,8,2,8,3,8,4. Four-digit numbers:8081,0818,8182,1828,8283,2838,8384. Highest is 8384. \\n\\nStill lower. \\n\\nHow about numbers like 1213: 1,2,1,3 → 1213. Not high. \\n\\nAlternatively, 1999: but 1999 would require the digits 1,9,9,9. Where would that be? For example, number 19 (1,9), followed by 99 (9,9). But 19 is 1,9, then 20 is 2,0. So no 9 after 19. \\n\\nWait, 199 is not in the sequence because we go up to 99. So numbers are only up to two digits. Therefore, after 19 comes 20. So 19:1,9; 20:2,0. So digits 1,9,2,0. So 1920. \\n\\nNo. \\n\\nAnother thought: the number 9995. But again, we need consecutive digits. \\n\\nAlternatively, 8990, which we saw earlier. \\n\\nSo after checking all possible areas, it seems that 9909 is the highest four-digit number. \\n\\nBut wait, let\\'s check the exact position of the digits. \\n\\nAfter number 89 (digits 8,9), comes number 90 (digits 9,0). Then number 91 (digits 9,1). Therefore, the digits are: 8,9,9,0,9,1. \\n\\nTherefore, starting from the second digit (the first 9 of 89), the four digits are 9,9,0,9. That is, positions 2-5:9,9,0,9. \\n\\nBut position 5 here is the first digit of 91, which is 9. \\n\\nTherefore, yes, those four digits are consecutive in the overall sequence. Therefore, 9909 is indeed present. \\n\\nTherefore, the largest four-digit number is 9909. \\n\\nBut wait, let\\'s check one more thing. Let\\'s confirm that there isn\\'t a higher number in the transition from 99 to a higher number, but since the sequence ends at 99, there\\'s no higher number. \\n\\nAlternatively, if there\\'s a number like 9995, but since numbers only go up to 99, that\\'s not possible. \\n\\nTherefore, after careful consideration, the highest four-digit number is 9909. \\n\\nBut wait, hold on. Let me check the transition from 89 to 90 again. \\n\\nNumber 89:8,9\\n\\nNumber 90:9,0\\n\\nNumber 91:9,1\\n\\nTherefore, the digits are 8,9,9,0,9,1. \\n\\nThe four-digit numbers here are 8990, 9909, 9091. \\n\\n9909 is valid, as explained. \\n\\nBut let\\'s think if there\\'s a higher number elsewhere. Let\\'s check numbers around 95-99 again. \\n\\nNumbers:\\n\\n95:9,5\\n\\n96:9,6\\n\\n97:9,7\\n\\n98:9,8\\n\\n99:9,9\\n\\nSo the digits are:9,5,9,6,9,7,9,8,9,9. \\n\\nFour-digit numbers here:\\n\\n9,5,9,6→9596\\n\\n5,9,6,9→5969\\n\\n9,6,9,7→9697\\n\\n6,9,7,9→6979\\n\\n9,7,9,8→9798\\n\\n7,9,8,9→7989\\n\\n9,8,9,9→9899\\n\\nThe highest here is 9899. \\n\\nSo 9899 vs 9909: 9909 is higher. \\n\\nTherefore, the conclusion is that 9909 is the largest four-digit number. \\n\\nBut to be absolutely thorough, let\\'s check another transition. For instance, 49 followed by 50:4,9,5,0→4950. Low. \\n\\nOr 59 followed by 60:5,9,6,0. 5960. \\n\\nNo, not high. \\n\\nAnother possible high number could be 9799, but where would that be? \\n\\nLooking at the digits around 97,98,99:\\n\\n97:9,7\\n\\n98:9,8\\n\\n99:9,9\\n\\nSo the digits are:9,7,9,8,9,9. \\n\\nFour-digit numbers here:\\n\\n9,7,9,8→9798\\n\\n7,9,8,9→7989\\n\\n9,8,9,9→9899\\n\\nNo 9799 here. \\n\\nAlternatively, 9997: but that would require four digits after 99, which is not possible. \\n\\nAnother possible check: If there\\'s a number like 1999, but since numbers are only up to 99, we can\\'t have three consecutive 9s. \\n\\nTherefore, 9909 remains the highest. \\n\\nBut wait, wait a second. Let\\'s check if there\\'s a number like 9991 somewhere. But again, three 9s are not possible. \\n\\nAlternatively, 9929: but that would require 9,9,2,9. Where would that come from? \\n\\nAfter 99 is 99, so no. Before 99 is 98 (9,8), 99 is 9,9. So no 2 there. \\n\\nAnother idea: Let\\'s check the transition from 90 to 91 to 92 to 93. \\n\\n90:9,0; 91:9,1; 92:9,2; 93:9,3\\n\\nDigits:9,0,9,1,9,2,9,3\\n\\nFour-digit numbers:\\n\\n9,0,9,1→9091\\n\\n0,9,1,9→0919\\n\\n9,1,9,2→9192\\n\\n1,9,2,9→1929\\n\\n9,2,9,3→9293\\n\\nThe highest here is 9293. Lower than 9909. \\n\\nTherefore, yes, 9909 still holds. \\n\\nAlternatively, 9909 vs something like 9919. Is 9919 present?\\n\\nTo get 9919, we need digits 9,9,1,9. That would require number 99 (9,9), followed by 19 (1,9). But after 99 comes nothing, so 19 is much earlier in the sequence. \\n\\nTherefore, no. \\n\\nSo, after exhausting all possibilities, I can confidently say that the largest four-digit number is 9909. \\n\\nBut wait, I just recalled that sometimes when forming numbers, leading zeros are not considered, but in this problem, the examples given include 1011, which has a leading zero in the third digit (from 10). Wait, no, wait. Wait, the example is 1011. Let me check:\\n\\nThe number 10 is written as 1,0, then 11 is written as 1,1. So the digits after 9 are 1,0,1,1, which form 1011. So leading zeros are allowed in the four-digit number. Because the digits are consecutive, even if the first digit is zero, it\\'s still considered a four-digit number. But in terms of numerical value, 0111 is 111, but the problem says \"four-digit number\", so perhaps leading zeros are allowed. Wait, but in the example, they mention 1011, which doesn\\'t have a leading zero. Another example is 5678, which is four digits. \\n\\nWait, the problem states: \"you can get a four-digit number, such as 5678, 1011, etc.\" So 1011 is considered a four-digit number even though the third digit is zero. But if a four-digit number starts with zero, like 0111, would that be considered as 0111 (which is 111) or disallowed? \\n\\nThe problem says \"four-digit numbers obtained by this method\". Since we\\'re extracting four consecutive digits, if they start with zero, then technically it\\'s a four-digit number with leading zero, but in reality, it\\'s a three-digit number. However, the problem examples include 1011, which is a four-digit number without leading zeros. The problem might consider all four-digit sequences as four-digit numbers, even with leading zeros. But when asking for the largest, numerically, the largest number would be the one with the highest numerical value, so leading zeros would make the number smaller. \\n\\nTherefore, even if leading zeros are allowed in the problem\\'s definition, the largest number would still be the one without leading zeros, starting with the highest possible digit. \\n\\nTherefore, 9909 is a four-digit number without leading zeros and is higher than 9899. \\n\\nHence, the answer should be 9909. \\n\\nBut wait, in the initial analysis, I thought 9899 was the answer, but upon closer examination of the transition from 89 to 90 to 91, I found 9909, which is higher. \\n\\nTherefore, the correct answer should be 9909. \\n\\nHowever, I need to make absolutely sure. Let me verify by writing out the exact digits around 89,90,91:\\n\\n- 87:8,7\\n\\n- 88:8,8\\n\\n- 89:8,9\\n\\n- 90:9,0\\n\\n- 91:9,1\\n\\n- 92:9,2\\n\\nSo between 89 and 91, the digits are:\\n\\n8,9 (from 89), 9,0 (from 90), 9,1 (from 91)\\n\\nSo that\\'s 8,9,9,0,9,1. \\n\\nTherefore, the four-digit numbers here are:\\n\\n1. 8,9,9,0 → 8990\\n\\n2. 9,9,0,9 → 9909\\n\\n3. 9,0,9,1 → 9091\\n\\nSo 9909 is indeed present. \\n\\nComparing 9909 and 9899:\\n\\n9909 is 9,9,0,9\\n\\n9899 is 9,8,9,9\\n\\nSince the first two digits of 9909 are 99 versus 98 for 9899, 9909 is larger. \\n\\nTherefore, the largest four-digit number is 9909. \\n\\nBut let\\'s check if there\\'s a higher number in another part. For example, what about the four-digit number formed by the digits of 99 and part of the previous number? \\n\\n99 is preceded by 98:9,8,9,9 →9899. \\n\\nSo that\\'s 9899. \\n\\nBut 9909 is higher. \\n\\nTherefore, the final answer is 9909. \\n\\nHowever, I recall that when I initially thought about this problem, I considered the end part where we have 979899, which forms 9798, 7989, and 9899. But since we found a higher number elsewhere, that changes things. \\n\\nYes, 9909 is higher. \\n\\nTherefore, the answer should be \\\\boxed{9909}\\n\\n**Final Answer**\\n\\\\boxed{9909}\\n</think>\\n\\nTo find the largest four-digit number formed by extracting four consecutive digits from the sequence of natural numbers from 1 to 99, we need to examine the sequence carefully. \\n\\nThe sequence of numbers from 1 to 99 is written as:\\n\\\\[ 123456789101112131415161718192021222324252627282930313233343536373839404142434445464748495051525354555657585960616263646566676869707172737475767778798081828384858687888990919293949596979899 \\\\]\\n\\nKey steps to identify the largest four-digit number:\\n1. **Transition from 89 to 90 to 91**:\\n   - The number 89 is written as 8,9.\\n   - The number 90 is written as 9,0.\\n   - The number 91 is written as 9,1.\\n   - The sequence of digits around these numbers is: 8,9,9,0,9,1.\\n   - Extracting four consecutive digits from this sequence:\\n     - Positions 2-5: 9,9,0,9 forms the number 9909.\\n\\n2. **Comparison with other candidates**:\\n   - Checking other transitions (e.g., 95-99) yields numbers like 9798, 7989, and 9899, but these are all lower than 9909.\\n   - The number 9899 is formed by the transition from 98 to 99, but it is lower than 9909.\\n\\n3. **Verification**:\\n   - The number 9909 is confirmed to be present in the sequence and is the highest four-digit number found.\\n\\nThus, the largest four-digit number obtained by extracting four consecutive digits from the sequence is:\\n\\\\[\\n\\\\boxed{9909}\\n\\\\]<|im_end|>\\n'"
      ]
     },
     "execution_count": 47,
     "metadata": {},
     "output_type": "execute_result"
    }
   ],
   "source": [
    "base_tokenizer.apply_chat_template(data['messages'], tokenize = False)"
   ]
  },
  {
   "cell_type": "code",
   "execution_count": 40,
   "id": "454cb3e1",
   "metadata": {},
   "outputs": [
    {
     "data": {
      "text/plain": [
       "{'content': '1. Arrange the consecutive natural numbers from 1 to 99 in sequence to form a large number:\\n1234567891011…979899,\\nBy extracting four consecutive digits, you can get a four-digit number, such as 5678, 1011, etc. Among the four-digit numbers obtained by this method, the largest is . $\\\\qquad$',\n",
       " 'role': 'user'}"
      ]
     },
     "execution_count": 40,
     "metadata": {},
     "output_type": "execute_result"
    }
   ],
   "source": [
    "data['messages'][0]"
   ]
  }
 ],
 "metadata": {
  "kernelspec": {
   "display_name": "Python 3 (ipykernel)",
   "language": "python",
   "name": "python3"
  },
  "language_info": {
   "codemirror_mode": {
    "name": "ipython",
    "version": 3
   },
   "file_extension": ".py",
   "mimetype": "text/x-python",
   "name": "python",
   "nbconvert_exporter": "python",
   "pygments_lexer": "ipython3",
   "version": "3.12.4"
  }
 },
 "nbformat": 4,
 "nbformat_minor": 5
}
