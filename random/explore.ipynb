{
 "cells": [
  {
   "cell_type": "code",
   "execution_count": 1,
   "id": "e427172c",
   "metadata": {},
   "outputs": [],
   "source": [
    "import pandas as pd\n",
    "import numpy as np\n",
    "import os\n",
    "import sys\n",
    "import json"
   ]
  },
  {
   "cell_type": "code",
   "execution_count": 9,
   "id": "252ab392",
   "metadata": {},
   "outputs": [],
   "source": [
    "path = \"/home/al2644/research/lib/SkyThought/deepseek-ai_DeepSeek-R1-Distill-Qwen-1.5B_aime24_76987d/summary.json\"\n",
    "with open(path, 'rb') as f:\n",
    "    results = json.load(f)"
   ]
  },
  {
   "cell_type": "code",
   "execution_count": 10,
   "id": "320ef3b5",
   "metadata": {
    "scrolled": true
   },
   "outputs": [
    {
     "data": {
      "text/plain": [
       "{'configuration': {'task': {'name': 'aime24',\n",
       "   'config': {'handler': 'aime',\n",
       "    'dataset_path': 'AI-MO/aimo-validation-aime',\n",
       "    'dataset_subset': None,\n",
       "    'dataset_split': 'train',\n",
       "    'dataset_kwargs': {},\n",
       "    'question_key': 'problem',\n",
       "    'answer_key': 'answer',\n",
       "    'templating_parameters': {'template': 'Return your final response within \\\\boxed{{}}. {prompt}'},\n",
       "    'preprocess_config': {'url': '2024'}},\n",
       "   'start': 0,\n",
       "   'end': -1},\n",
       "  'model': {'name': 'deepseek-ai/DeepSeek-R1-Distill-Qwen-1.5B',\n",
       "   'config': {'model_id': 'deepseek-ai/DeepSeek-R1-Distill-Qwen-1.5B',\n",
       "    'name': 'DeepSeek-R1-Distill-Qwen-1.5B',\n",
       "    'system_prompt': None,\n",
       "    'user_template': None,\n",
       "    'assistant_prefill': None}},\n",
       "  'backend': {'name': 'vllm', 'backend_args': {}},\n",
       "  'sampling_params': {'temperature': 0, 'top_p': 1, 'max_tokens': 32768}},\n",
       " 'total_completion_tokens': 750392,\n",
       " 'avg_completion_tokens': 25013.067,\n",
       " 'total_prompt_tokens': 3631,\n",
       " 'avg_prompt_tokens': 121.033,\n",
       " 'accuracy': 0.2333,\n",
       " 'pass_at_k': None}"
      ]
     },
     "execution_count": 10,
     "metadata": {},
     "output_type": "execute_result"
    }
   ],
   "source": [
    "results"
   ]
  },
  {
   "cell_type": "code",
   "execution_count": 2,
   "id": "5064f338",
   "metadata": {},
   "outputs": [],
   "source": [
    "from datasets import load_dataset"
   ]
  },
  {
   "cell_type": "code",
   "execution_count": 17,
   "id": "10fb7a56",
   "metadata": {},
   "outputs": [],
   "source": [
    "train_dataset = load_dataset(\"SynthLabsAI/Big-Math-RL-Verified\")['train']"
   ]
  },
  {
   "cell_type": "code",
   "execution_count": 43,
   "id": "f396a98c",
   "metadata": {},
   "outputs": [],
   "source": [
    "math500 = load_dataset(\"HuggingFaceH4/MATH-500\")['test']\n",
    "math500 = pd.DataFrame(math500)"
   ]
  },
  {
   "cell_type": "code",
   "execution_count": 19,
   "id": "c4fa9112",
   "metadata": {},
   "outputs": [],
   "source": [
    "dataset_df = pd.DataFrame(train_dataset)"
   ]
  },
  {
   "cell_type": "code",
   "execution_count": 29,
   "id": "e54ea8ab",
   "metadata": {},
   "outputs": [],
   "source": [
    "aime_24 = load_dataset(\"Maxwell-Jia/AIME_2024\")['train']"
   ]
  },
  {
   "cell_type": "code",
   "execution_count": 33,
   "id": "d1575173",
   "metadata": {},
   "outputs": [],
   "source": [
    "answer_str = [str(ans) for ans in aime_24['Answer']]"
   ]
  },
  {
   "cell_type": "code",
   "execution_count": 36,
   "id": "a765ede6",
   "metadata": {},
   "outputs": [],
   "source": [
    "subset = dataset_df[dataset_df['source'] == 'amc_aime']"
   ]
  },
  {
   "cell_type": "code",
   "execution_count": 51,
   "id": "8b3c3c22",
   "metadata": {},
   "outputs": [],
   "source": [
    "math_df = dataset_df[dataset_df['source'] == 'math']"
   ]
  },
  {
   "cell_type": "code",
   "execution_count": 60,
   "id": "ac5efefe",
   "metadata": {
    "scrolled": true
   },
   "outputs": [
    {
     "data": {
      "text/plain": [
       "'Given $p$: $|4x-3|\\\\leqslant 1$ and $q$: $x^{2}-(2a+1)x+a^{2}+a\\\\leqslant 0$, find the range of values for $a$ if $p$ is a necessary but not sufficient condition for $q$.'"
      ]
     },
     "execution_count": 60,
     "metadata": {},
     "output_type": "execute_result"
    }
   ],
   "source": [
    "dataset_df['problem'][0]"
   ]
  },
  {
   "cell_type": "markdown",
   "id": "09d9c24c",
   "metadata": {},
   "source": [
    "# TRAIN Dataset"
   ]
  },
  {
   "cell_type": "code",
   "execution_count": 51,
   "id": "bc65cceb",
   "metadata": {},
   "outputs": [
    {
     "data": {
      "application/vnd.jupyter.widget-view+json": {
       "model_id": "013341f53d7748bebce9cf6c26a6af31",
       "version_major": 2,
       "version_minor": 0
      },
      "text/plain": [
       "Resolving data files:   0%|          | 0/20 [00:00<?, ?it/s]"
      ]
     },
     "metadata": {},
     "output_type": "display_data"
    }
   ],
   "source": [
    "open_r1_ds = load_dataset(\"open-r1/OpenR1-Math-220k\")"
   ]
  },
  {
   "cell_type": "code",
   "execution_count": 52,
   "id": "ee636897",
   "metadata": {},
   "outputs": [
    {
     "data": {
      "text/plain": [
       "DatasetDict({\n",
       "    train: Dataset({\n",
       "        features: ['problem', 'solution', 'answer', 'problem_type', 'question_type', 'source', 'uuid', 'is_reasoning_complete', 'generations', 'correctness_math_verify', 'correctness_llama', 'finish_reasons', 'correctness_count', 'messages'],\n",
       "        num_rows: 93733\n",
       "    })\n",
       "})"
      ]
     },
     "execution_count": 52,
     "metadata": {},
     "output_type": "execute_result"
    }
   ],
   "source": [
    "open_r1_ds"
   ]
  },
  {
   "cell_type": "code",
   "execution_count": 64,
   "id": "f59e5423",
   "metadata": {},
   "outputs": [
    {
     "name": "stdout",
     "output_type": "stream",
     "text": [
      "2. In a computer game, a turtle moves across a grid on the computer screen, which contains 11 columns and 5 rows. Initially, it is located at the bottom-left corner of the screen - on the cell with coordinates $(0,0)$. If the program instructs the turtle to move off the screen, it reappears on the opposite side - for example, taking one step up from cell $(3,4)$, the turtle will end up in cell $(3,0)$. Where will the turtle be after executing the following program:\n",
      "1) 1 step down; 2) 2 steps to the right; 3) 3 steps up; 4) 4 steps to the left; 5) 5 steps down; 6) 6 steps to the right; .. ; 2016) 2016 steps to the left; 2017) 2017 steps down?\n",
      "====================\n",
      "(4,1)\n",
      "====================\n",
      "<think>\n",
      "Okay, so I need to figure out where the turtle ends up after executing a long series of movements on this 11x5 grid. The turtle starts at (0,0), which is the bottom-left corner. The movements are in a pattern: first 1 step down, then 2 steps right, 3 steps up, 4 steps left, 5 steps down, 6 steps right, and so on, alternating directions each time. The last movement is 2017 steps down. Since the grid wraps around, if the turtle moves off one side, it comes back on the opposite side. \n",
      "\n",
      "First, let me understand the directions. The sequence of directions seems to be repeating every four steps: down, right, up, left, down, right, up, left, etc. Each time, the number of steps increases by 1. So step 1 is 1 step down, step 2 is 2 steps right, step 3 is 3 steps up, step 4 is 4 steps left, step 5 is 5 steps down, step 6 is 6 steps right, and so forth. The problem goes up to 2017 steps, which is the 2017th movement. \n",
      "\n",
      "Since each movement alternates direction in the cycle down, right, up, left, the direction of the nth movement can be determined by (n mod 4). Let me check:\n",
      "\n",
      "- Movement 1: 1 mod 4 = 1 → down\n",
      "- Movement 2: 2 mod 4 = 2 → right\n",
      "- Movement 3: 3 mod 4 = 3 → up\n",
      "- Movement 4: 4 mod 4 = 0 → left (if we consider 0 as left, which is the 4th direction)\n",
      "- Movement 5: 5 mod 4 = 1 → down\n",
      "- Movement 6: 6 mod 4 = 2 → right\n",
      "- Etc.\n",
      "\n",
      "So the directions cycle every four steps as down, right, up, left. That seems correct. \n",
      "\n",
      "Now, the grid is 11 columns (x-axis) and 5 rows (y-axis). Coordinates are (x, y), starting from (0,0) at the bottom-left. Moving right increases x, left decreases x. Moving up increases y, down decreases y. Wait, hold on. Wait, if moving up from (3,4) takes the turtle to (3,0), that suggests that moving up increases y, and when you go beyond y=4, you wrap to y=0. But starting at (0,0), moving down would decrease y? Wait, but the turtle is at (0,0), which is the bottom-left. If it moves down, does it go to (0,4) because moving down wraps it to the top? Wait, the problem says: \"taking one step up from cell (3,4), the turtle will end up in cell (3,0)\". So moving up from the top row (y=4) wraps to y=0. Similarly, moving down from y=0 would wrap to y=4. Similarly for left and right on the x-axis. \n",
      "\n",
      "Therefore, the y-coordinate works as follows: moving up increases y by 1, but if y exceeds 4, it wraps around modulo 5. Moving down decreases y by 1, but if y goes below 0, it wraps around modulo 5. Wait, actually, in terms of movement, maybe it's better to think of the grid as a torus. So each movement in a direction just adds or subtracts 1 in that axis, modulo the grid size. \n",
      "\n",
      "But to clarify, moving up from (3,4) (which is the top row) brings you to (3,0). So moving up is equivalent to (y + 1) mod 5. Similarly, moving down would be (y - 1) mod 5. Similarly, moving right from column 10 (the rightmost column) would bring you to column 0, so moving right is (x + 1) mod 11, moving left is (x - 1) mod 11. \n",
      "\n",
      "Therefore, each movement can be modeled as adding or subtracting a number of steps in the x or y direction, modulo the grid size. \n",
      "\n",
      "So, to compute the turtle's final position, we can track cumulative steps in each direction, considering the mod operations. \n",
      "\n",
      "Let me separate the movements into x and y components. \n",
      "\n",
      "The turtle starts at (0,0). \n",
      "\n",
      "Each movement is either horizontal (left/right) affecting x, or vertical (up/down) affecting y. \n",
      "\n",
      "So, for each movement n:\n",
      "\n",
      "- If n mod 4 is 1 (down) or 3 (up), it affects the y-coordinate.\n",
      "- If n mod 4 is 2 (right) or 0 (left) (since movement 4 is left, which is 4 mod 4 = 0), it affects the x-coordinate.\n",
      "\n",
      "So, for each n from 1 to 2017, we need to determine the direction (left, right, up, down), compute the number of steps, and sum them up for x and y separately, then take modulo 11 for x and modulo 5 for y.\n",
      "\n",
      "But since the grid wraps, we can sum all the steps in each direction, subtract the opposite directions, and then take modulo grid size. \n",
      "\n",
      "Wait, for example, for the y-coordinate: all the down steps will subtract from the position, and up steps will add. Similarly, for x-coordinate: right steps add, left steps subtract. \n",
      "\n",
      "But since each movement is either adding or subtracting, we can compute the total displacement in y as (total up steps - total down steps), and in x as (total right steps - total left steps). Then, take modulo 5 for y and modulo 11 for x to get the final position. \n",
      "\n",
      "But how are the directions assigned? Let's see:\n",
      "\n",
      "For each movement number n:\n",
      "\n",
      "- If n mod 4 = 1: down (subtract from y)\n",
      "- If n mod 4 = 2: right (add to x)\n",
      "- If n mod 4 = 3: up (add to y)\n",
      "- If n mod 4 = 0: left (subtract from x)\n",
      "\n",
      "Because movement 1: down (n=1, 1 mod 4=1)\n",
      "Movement 2: right (n=2, 2 mod 4=2)\n",
      "Movement 3: up (n=3, 3 mod 4=3)\n",
      "Movement 4: left (n=4, 4 mod 4=0)\n",
      "Movement 5: down (n=5, 5 mod 4=1)\n",
      "And so on.\n",
      "\n",
      "Therefore, for each n:\n",
      "\n",
      "Direction:\n",
      "- n ≡1 mod4: down\n",
      "- n≡2 mod4: right\n",
      "- n≡3 mod4: up\n",
      "- n≡0 mod4: left\n",
      "\n",
      "Therefore, for all n from 1 to 2017:\n",
      "\n",
      "Total down steps: sum of all n where n ≡1 mod4\n",
      "Total right steps: sum of all n where n≡2 mod4\n",
      "Total up steps: sum of all n where n≡3 mod4\n",
      "Total left steps: sum of all n where n≡0 mod4\n",
      "\n",
      "Then, net y displacement: (total up - total down) mod 5\n",
      "Net x displacement: (total right - total left) mod11\n",
      "\n",
      "Then, starting from (0,0), add the net x displacement and net y displacement (with mod) to get final position.\n",
      "\n",
      "Therefore, our task reduces to computing:\n",
      "\n",
      "1. Sum all n where n ≡1 mod4 from n=1 to n=2017: total_down\n",
      "2. Sum all n where n≡2 mod4 from n=1 to n=2017: total_right\n",
      "3. Sum all n where n≡3 mod4 from n=1 to n=2017: total_up\n",
      "4. Sum all n where n≡0 mod4 from n=1 to n=2017: total_left\n",
      "\n",
      "Then compute (total_right - total_left) mod11 for x, and (total_up - total_down) mod5 for y.\n",
      "\n",
      "But let's check: movement numbers go from 1 to 2017. So n=1 to 2017.\n",
      "\n",
      "But need to group these n by their n mod4 value.\n",
      "\n",
      "First, note that 2017 divided by 4 is 504 groups of 4, with a remainder of 1 (since 504*4=2016, so 2017=504*4+1). Therefore, the numbers 1 to 2017 consist of 504 complete cycles (1-4, 5-8,...2013-2016) and one extra term (2017).\n",
      "\n",
      "In each cycle of 4 numbers, the residues mod4 are 1,2,3,0. So in each cycle:\n",
      "\n",
      "- n ≡1 mod4: 1 number (e.g., 1,5,9,...)\n",
      "- n≡2 mod4: 1 number (e.g.,2,6,10,...)\n",
      "- n≡3 mod4:1 number (e.g.,3,7,11,...)\n",
      "- n≡0 mod4:1 number (e.g.,4,8,12,...)\n",
      "\n",
      "Therefore, in each cycle of 4 numbers, each residue class occurs once.\n",
      "\n",
      "Since there are 504 complete cycles (from 1 to 2016), each residue class (1,2,3,0) occurs 504 times. Then, the remaining number is 2017, which is n=2017, which is 2017 mod4=1 (since 2016 is 504*4, so 2017=504*4+1). So n=2017 is in residue 1 mod4. Therefore, total_down will have an extra 2017, while the others (right, up, left) will have 504 terms each.\n",
      "\n",
      "Wait, let me verify:\n",
      "\n",
      "Total numbers from 1 to 2017:\n",
      "\n",
      "Number of terms with n ≡1 mod4: Let's see, starting at 1, every 4 numbers. The number of such terms is floor((2017 -1)/4) +1. Let's compute:\n",
      "\n",
      "First term:1, last term:2017. The difference between terms is 4. The number of terms is ((2017 -1)/4)+1=2016/4 +1=504 +1=505 terms.\n",
      "\n",
      "Similarly, for n≡2 mod4: starting at 2, next is 6,10,...2014,2018. But 2018>2017, so last term is 2014. Number of terms: ((2014 -2)/4)+1=(2012)/4 +1=503 +1=504 terms.\n",
      "\n",
      "Similarly, n≡3 mod4: starting at 3,7,...2015,2019. 2015 is the last term. Number of terms: ((2015 -3)/4)+1=2012/4 +1=503 +1=504 terms.\n",
      "\n",
      "n≡0 mod4: starting at 4,8,...2016,2020. 2016 is the last term. Number of terms: ((2016 -4)/4)+1=2012/4 +1=503 +1=504 terms.\n",
      "\n",
      "Therefore:\n",
      "\n",
      "- total_down (n≡1 mod4): 505 terms, from 1,5,9,...,2017\n",
      "- total_right (n≡2 mod4): 504 terms, from 2,6,10,...,2014\n",
      "- total_up (n≡3 mod4): 504 terms, from 3,7,11,...,2015\n",
      "- total_left (n≡0 mod4): 504 terms, from 4,8,12,...,2016\n",
      "\n",
      "Therefore, we need to compute the sum for each of these sequences.\n",
      "\n",
      "First, total_down: sum of arithmetic sequence starting at 1, with common difference 4, 505 terms.\n",
      "\n",
      "The formula for the sum of an arithmetic sequence is S = n/2 * (2a + (n-1)d), where n is number of terms, a is first term, d is common difference.\n",
      "\n",
      "For total_down:\n",
      "\n",
      "n = 505\n",
      "\n",
      "a =1\n",
      "\n",
      "d=4\n",
      "\n",
      "So S_down = 505/2 * [2*1 + (505 -1)*4] = 505/2 * [2 + 504*4] = 505/2 * [2 + 2016] = 505/2 * 2018 = 505 * 1009\n",
      "\n",
      "Compute 505*1009:\n",
      "\n",
      "Let me compute 500*1009 = 504,500\n",
      "\n",
      "5*1009=5,045\n",
      "\n",
      "Total: 504,500 +5,045=509,545\n",
      "\n",
      "Therefore, S_down =509,545\n",
      "\n",
      "Similarly, total_right: sum of arithmetic sequence starting at 2, common difference 4, 504 terms.\n",
      "\n",
      "a=2, d=4, n=504\n",
      "\n",
      "S_right =504/2 * [2*2 + (504-1)*4] =252 * [4 + 503*4] =252 * [4 + 2012] =252 * 2016\n",
      "\n",
      "Compute 252*2016:\n",
      "\n",
      "252*2000=504,000\n",
      "\n",
      "252*16=4,032\n",
      "\n",
      "Total:504,000 +4,032=508,032\n",
      "\n",
      "Therefore, S_right=508,032\n",
      "\n",
      "Next, total_up: sum of arithmetic sequence starting at 3, common difference 4, 504 terms.\n",
      "\n",
      "a=3, d=4, n=504\n",
      "\n",
      "S_up=504/2 * [2*3 + (504-1)*4] =252 * [6 + 503*4] =252 * [6 + 2012] =252 * 2018\n",
      "\n",
      "Compute 252*2018:\n",
      "\n",
      "252*2000=504,000\n",
      "\n",
      "252*18=4,536\n",
      "\n",
      "Total:504,000 +4,536=508,536\n",
      "\n",
      "Therefore, S_up=508,536\n",
      "\n",
      "Total_left: sum of arithmetic sequence starting at 4, common difference 4, 504 terms.\n",
      "\n",
      "a=4, d=4, n=504\n",
      "\n",
      "S_left=504/2 * [2*4 + (504-1)*4] =252 * [8 + 503*4] =252 * [8 + 2012] =252 * 2020\n",
      "\n",
      "Compute 252*2020:\n",
      "\n",
      "252*2000=504,000\n",
      "\n",
      "252*20=5,040\n",
      "\n",
      "Total:504,000 +5,040=509,040\n",
      "\n",
      "Therefore, S_left=509,040\n",
      "\n",
      "Now, compute net x displacement: (total_right - total_left) mod11\n",
      "\n",
      "total_right=508,032\n",
      "\n",
      "total_left=509,040\n",
      "\n",
      "So, net_x =508,032 -509,040= -1,008\n",
      "\n",
      "Now, compute net_x mod11.\n",
      "\n",
      "First, note that -1,008 mod11. To compute this, find the remainder when -1,008 is divided by 11. Alternatively, find a positive equivalent remainder.\n",
      "\n",
      "First, compute 1,008 ÷11.\n",
      "\n",
      "11*91=1,001\n",
      "\n",
      "1,008 -1,001=7\n",
      "\n",
      "So 1,008=11*91 +7 → 1,008 ≡7 mod11\n",
      "\n",
      "Therefore, -1,008 ≡ -7 mod11. But -7 mod11 is the same as 11 -7=4. So -1,008 ≡4 mod11.\n",
      "\n",
      "Therefore, net_x=4 mod11.\n",
      "\n",
      "Now, compute net_y displacement: (total_up - total_down) mod5\n",
      "\n",
      "total_up=508,536\n",
      "\n",
      "total_down=509,545\n",
      "\n",
      "net_y=508,536 -509,545= -1,009\n",
      "\n",
      "Now, compute -1,009 mod5.\n",
      "\n",
      "First, divide 1,009 by5:\n",
      "\n",
      "5*201=1,005\n",
      "\n",
      "1,009 -1,005=4 →1,009≡4 mod5\n",
      "\n",
      "Therefore, -1,009≡-4 mod5. Which is equivalent to 1 mod5 (since 5-4=1). So net_y=1 mod5.\n",
      "\n",
      "Therefore, the turtle's final position is (4,1). But wait, let me verify once again.\n",
      "\n",
      "Wait, starting at (0,0), moving right increases x, moving left decreases x. Moving up increases y, moving down decreases y. But when we take modulo, negative numbers wrap around.\n",
      "\n",
      "But according to our calculations:\n",
      "\n",
      "Net x displacement: (total_right - total_left)= -1,008≡4 mod11\n",
      "\n",
      "Net y displacement: (total_up - total_down)= -1,009≡1 mod5\n",
      "\n",
      "Therefore, starting from (0,0):\n",
      "\n",
      "x: 0 +4=4 mod11\n",
      "\n",
      "y:0 +1=1 mod5\n",
      "\n",
      "So the final position is (4,1). \n",
      "\n",
      "But let me double-check the net y displacement. Let's see:\n",
      "\n",
      "total_up=508,536\n",
      "\n",
      "total_down=509,545\n",
      "\n",
      "So net_y=508,536 -509,545= -1,009. Then, -1,009 mod5. Let's compute:\n",
      "\n",
      "5*201=1,005, so -1,009= -1,005 -4= -5*201 -4. Therefore, mod5, this is (-4) mod5=1 mod5. Correct.\n",
      "\n",
      "Similarly, net_x= -1,008. Let's confirm mod11:\n",
      "\n",
      "As above, 1,008 divided by11 gives 91*11=1,001, remainder 7. So 1,008=11*91 +7. Therefore, -1,008= -11*91 -7. Then mod11, -11*91 ≡0, so -7≡4 mod11. Correct.\n",
      "\n",
      "Therefore, the final coordinates are (4,1). \n",
      "\n",
      "But wait, let me check once more. The starting point is (0,0). Moving down 1 step would take it to (0,4) because moving down from y=0 wraps to y=4. But according to the net displacement calculation, moving down is subtracted from y. But in our calculation, the net y displacement is (total_up - total_down). So y_final = (0 + total_up - total_down) mod5. \n",
      "\n",
      "Wait, if moving up is positive and moving down is negative, then yes, net_y = total_up - total_down. So starting from 0, adding total_up steps (which are upwards, increasing y), subtracting total_down steps (downwards, decreasing y). Then mod5. \n",
      "\n",
      "Similarly, for x, net_x = total_right - total_left. Starting from 0, adding total_right (right steps), subtracting total_left (left steps). Then mod11.\n",
      "\n",
      "Therefore, calculations seem correct.\n",
      "\n",
      "But let me check with smaller numbers to see if the approach is correct.\n",
      "\n",
      "Suppose we only had steps 1 to 4:\n",
      "\n",
      "1) 1 down: total_down=1\n",
      "\n",
      "2)2 right: total_right=2\n",
      "\n",
      "3)3 up: total_up=3\n",
      "\n",
      "4)4 left: total_left=4\n",
      "\n",
      "Then net_x=2 -4= -2 mod11=9\n",
      "\n",
      "net_y=3 -1=2 mod5=2\n",
      "\n",
      "So starting at (0,0), final position would be (9,2). Let's simulate:\n",
      "\n",
      "1) 1 down: from (0,0) down 1: y becomes (0 -1) mod5=4 → (0,4)\n",
      "\n",
      "2) 2 right: x becomes (0 +2) mod11=2 → (2,4)\n",
      "\n",
      "3) 3 up: y becomes (4 +3) mod5=7 mod5=2 → (2,2)\n",
      "\n",
      "4)4 left: x becomes (2 -4) mod11= -2 mod11=9 → (9,2)\n",
      "\n",
      "Which matches the calculation. So the method works.\n",
      "\n",
      "Therefore, applying the same method to the problem, the final position is (4,1). \n",
      "\n",
      "Therefore, the answer is \\boxed{(4,1)}.\n",
      "\n",
      "**Final Answer**\n",
      "\\boxed{(4,1)}\n",
      "</think>\n",
      "\n",
      "The turtle starts at position \\((0,0)\\) on an 11x5 grid. The movements alternate directions in the cycle down, right, up, left, with each subsequent movement increasing the number of steps by 1. The goal is to determine the turtle's final position after 2017 movements.\n",
      "\n",
      "1. **Identify the directions and number of steps for each movement:**\n",
      "   - Movements \\(1, 5, 9, \\ldots, 2017\\) (total 505 terms) are down.\n",
      "   - Movements \\(2, 6, 10, \\ldots, 2014\\) (total 504 terms) are right.\n",
      "   - Movements \\(3, 7, 11, \\ldots, 2015\\) (total 504 terms) are up.\n",
      "   - Movements \\(4, 8, 12, \\ldots, 2016\\) (total 504 terms) are left.\n",
      "\n",
      "2. **Calculate the total steps for each direction:**\n",
      "   - **Total down steps (n ≡ 1 mod 4):** Sum of an arithmetic sequence starting at 1 with common difference 4 and 505 terms.\n",
      "     \\[\n",
      "     S_{\\text{down}} = \\frac{505}{2} \\times [2 \\times 1 + (505 - 1) \\times 4] = 505 \\times 1009 = 509,545\n",
      "     \\]\n",
      "   - **Total right steps (n ≡ 2 mod 4):** Sum of an arithmetic sequence starting at 2 with common difference 4 and 504 terms.\n",
      "     \\[\n",
      "     S_{\\text{right}} = \\frac{504}{2} \\times [2 \\times 2 + (504 - 1) \\times 4] = 252 \\times 2016 = 508,032\n",
      "     \\]\n",
      "   - **Total up steps (n ≡ 3 mod 4):** Sum of an arithmetic sequence starting at 3 with common difference 4 and 504 terms.\n",
      "     \\[\n",
      "     S_{\\text{up}} = \\frac{504}{2} \\times [2 \\times 3 + (504 - 1) \\times 4] = 252 \\times 2018 = 508,536\n",
      "     \\]\n",
      "   - **Total left steps (n ≡ 0 mod 4):** Sum of an arithmetic sequence starting at 4 with common difference 4 and 504 terms.\n",
      "     \\[\n",
      "     S_{\\text{left}} = \\frac{504}{2} \\times [2 \\times 4 + (504 - 1) \\times 4] = 252 \\times 2020 = 509,040\n",
      "     \\]\n",
      "\n",
      "3. **Calculate net displacements:**\n",
      "   - **Net x displacement:**\n",
      "     \\[\n",
      "     \\text{net}_x = (508,032 - 509,040) \\mod 11 = -1,008 \\mod 11 = 4\n",
      "     \\]\n",
      "   - **Net y displacement:**\n",
      "     \\[\n",
      "     \\text{net}_y = (508,536 - 509,545) \\mod 5 = -1,009 \\mod 5 = 1\n",
      "     \\]\n",
      "\n",
      "4. **Final position:**\n",
      "   - Starting from \\((0,0)\\), the turtle moves to:\n",
      "     \\[\n",
      "     (0 + 4) \\mod 11 = 4 \\quad \\text{and} \\quad (0 + 1) \\mod 5 = 1\n",
      "     \\]\n",
      "\n",
      "Thus, the turtle's final position is \\(\\boxed{(4,1)}\\).\n"
     ]
    }
   ],
   "source": [
    "idx = 1301\n",
    "data = open_r1_ds['train'][idx]\n",
    "print(data['problem'])\n",
    "print(\"=\" * 20)\n",
    "print(data['answer'])\n",
    "print(\"=\" * 20)\n",
    "print(data['generations'][0])"
   ]
  },
  {
   "cell_type": "code",
   "execution_count": 54,
   "id": "272e24b3",
   "metadata": {},
   "outputs": [
    {
     "data": {
      "text/plain": [
       "dict_keys(['problem', 'solution', 'answer', 'problem_type', 'question_type', 'source', 'uuid', 'is_reasoning_complete', 'generations', 'correctness_math_verify', 'correctness_llama', 'finish_reasons', 'correctness_count', 'messages'])"
      ]
     },
     "execution_count": 54,
     "metadata": {},
     "output_type": "execute_result"
    }
   ],
   "source": [
    "data.keys()"
   ]
  },
  {
   "cell_type": "markdown",
   "id": "9130a5dd",
   "metadata": {},
   "source": [
    "# Tokenizer"
   ]
  },
  {
   "cell_type": "code",
   "execution_count": 1,
   "id": "1e84c5df",
   "metadata": {},
   "outputs": [],
   "source": [
    "from transformers import AutoTokenizer"
   ]
  },
  {
   "cell_type": "code",
   "execution_count": 2,
   "id": "c349f09d",
   "metadata": {},
   "outputs": [],
   "source": [
    "base_tokenizer = AutoTokenizer.from_pretrained(\"Qwen/Qwen2.5-1.5B\")\n",
    "r1_tokenizer = AutoTokenizer.from_pretrained(\"deepseek-ai/DeepSeek-R1-Distill-Qwen-1.5B\")"
   ]
  },
  {
   "cell_type": "code",
   "execution_count": 4,
   "id": "677748c6",
   "metadata": {
    "scrolled": true
   },
   "outputs": [
    {
     "data": {
      "text/plain": [
       "LlamaTokenizerFast(name_or_path='deepseek-ai/DeepSeek-R1-Distill-Qwen-1.5B', vocab_size=151643, model_max_length=16384, is_fast=True, padding_side='left', truncation_side='right', special_tokens={'bos_token': '<｜begin▁of▁sentence｜>', 'eos_token': '<｜end▁of▁sentence｜>', 'pad_token': '<｜end▁of▁sentence｜>'}, clean_up_tokenization_spaces=False, added_tokens_decoder={\n",
       "\t151643: AddedToken(\"<｜end▁of▁sentence｜>\", rstrip=False, lstrip=False, single_word=False, normalized=False, special=True),\n",
       "\t151644: AddedToken(\"<｜User｜>\", rstrip=False, lstrip=False, single_word=False, normalized=False, special=False),\n",
       "\t151645: AddedToken(\"<｜Assistant｜>\", rstrip=False, lstrip=False, single_word=False, normalized=False, special=False),\n",
       "\t151646: AddedToken(\"<｜begin▁of▁sentence｜>\", rstrip=False, lstrip=False, single_word=False, normalized=False, special=True),\n",
       "\t151647: AddedToken(\"<|EOT|>\", rstrip=False, lstrip=False, single_word=False, normalized=False, special=False),\n",
       "\t151648: AddedToken(\"<think>\", rstrip=False, lstrip=False, single_word=False, normalized=False, special=False),\n",
       "\t151649: AddedToken(\"</think>\", rstrip=False, lstrip=False, single_word=False, normalized=False, special=False),\n",
       "\t151650: AddedToken(\"<|quad_start|>\", rstrip=False, lstrip=False, single_word=False, normalized=False, special=True),\n",
       "\t151651: AddedToken(\"<|quad_end|>\", rstrip=False, lstrip=False, single_word=False, normalized=False, special=True),\n",
       "\t151652: AddedToken(\"<|vision_start|>\", rstrip=False, lstrip=False, single_word=False, normalized=False, special=True),\n",
       "\t151653: AddedToken(\"<|vision_end|>\", rstrip=False, lstrip=False, single_word=False, normalized=False, special=True),\n",
       "\t151654: AddedToken(\"<|vision_pad|>\", rstrip=False, lstrip=False, single_word=False, normalized=False, special=True),\n",
       "\t151655: AddedToken(\"<|image_pad|>\", rstrip=False, lstrip=False, single_word=False, normalized=False, special=True),\n",
       "\t151656: AddedToken(\"<|video_pad|>\", rstrip=False, lstrip=False, single_word=False, normalized=False, special=True),\n",
       "\t151657: AddedToken(\"<tool_call>\", rstrip=False, lstrip=False, single_word=False, normalized=False, special=False),\n",
       "\t151658: AddedToken(\"</tool_call>\", rstrip=False, lstrip=False, single_word=False, normalized=False, special=False),\n",
       "\t151659: AddedToken(\"<|fim_prefix|>\", rstrip=False, lstrip=False, single_word=False, normalized=False, special=False),\n",
       "\t151660: AddedToken(\"<|fim_middle|>\", rstrip=False, lstrip=False, single_word=False, normalized=False, special=False),\n",
       "\t151661: AddedToken(\"<|fim_suffix|>\", rstrip=False, lstrip=False, single_word=False, normalized=False, special=False),\n",
       "\t151662: AddedToken(\"<|fim_pad|>\", rstrip=False, lstrip=False, single_word=False, normalized=False, special=False),\n",
       "\t151663: AddedToken(\"<|repo_name|>\", rstrip=False, lstrip=False, single_word=False, normalized=False, special=False),\n",
       "\t151664: AddedToken(\"<|file_sep|>\", rstrip=False, lstrip=False, single_word=False, normalized=False, special=False),\n",
       "}\n",
       ")"
      ]
     },
     "execution_count": 4,
     "metadata": {},
     "output_type": "execute_result"
    }
   ],
   "source": [
    "r1_tokenizer"
   ]
  },
  {
   "cell_type": "code",
   "execution_count": 3,
   "id": "daf202b7",
   "metadata": {
    "scrolled": true
   },
   "outputs": [
    {
     "data": {
      "text/plain": [
       "Qwen2TokenizerFast(name_or_path='Qwen/Qwen2.5-1.5B', vocab_size=151643, model_max_length=131072, is_fast=True, padding_side='right', truncation_side='right', special_tokens={'eos_token': '<|endoftext|>', 'pad_token': '<|endoftext|>', 'additional_special_tokens': ['<|im_start|>', '<|im_end|>', '<|object_ref_start|>', '<|object_ref_end|>', '<|box_start|>', '<|box_end|>', '<|quad_start|>', '<|quad_end|>', '<|vision_start|>', '<|vision_end|>', '<|vision_pad|>', '<|image_pad|>', '<|video_pad|>']}, clean_up_tokenization_spaces=False, added_tokens_decoder={\n",
       "\t151643: AddedToken(\"<|endoftext|>\", rstrip=False, lstrip=False, single_word=False, normalized=False, special=True),\n",
       "\t151644: AddedToken(\"<|im_start|>\", rstrip=False, lstrip=False, single_word=False, normalized=False, special=True),\n",
       "\t151645: AddedToken(\"<|im_end|>\", rstrip=False, lstrip=False, single_word=False, normalized=False, special=True),\n",
       "\t151646: AddedToken(\"<|object_ref_start|>\", rstrip=False, lstrip=False, single_word=False, normalized=False, special=True),\n",
       "\t151647: AddedToken(\"<|object_ref_end|>\", rstrip=False, lstrip=False, single_word=False, normalized=False, special=True),\n",
       "\t151648: AddedToken(\"<|box_start|>\", rstrip=False, lstrip=False, single_word=False, normalized=False, special=True),\n",
       "\t151649: AddedToken(\"<|box_end|>\", rstrip=False, lstrip=False, single_word=False, normalized=False, special=True),\n",
       "\t151650: AddedToken(\"<|quad_start|>\", rstrip=False, lstrip=False, single_word=False, normalized=False, special=True),\n",
       "\t151651: AddedToken(\"<|quad_end|>\", rstrip=False, lstrip=False, single_word=False, normalized=False, special=True),\n",
       "\t151652: AddedToken(\"<|vision_start|>\", rstrip=False, lstrip=False, single_word=False, normalized=False, special=True),\n",
       "\t151653: AddedToken(\"<|vision_end|>\", rstrip=False, lstrip=False, single_word=False, normalized=False, special=True),\n",
       "\t151654: AddedToken(\"<|vision_pad|>\", rstrip=False, lstrip=False, single_word=False, normalized=False, special=True),\n",
       "\t151655: AddedToken(\"<|image_pad|>\", rstrip=False, lstrip=False, single_word=False, normalized=False, special=True),\n",
       "\t151656: AddedToken(\"<|video_pad|>\", rstrip=False, lstrip=False, single_word=False, normalized=False, special=True),\n",
       "\t151657: AddedToken(\"<tool_call>\", rstrip=False, lstrip=False, single_word=False, normalized=False, special=False),\n",
       "\t151658: AddedToken(\"</tool_call>\", rstrip=False, lstrip=False, single_word=False, normalized=False, special=False),\n",
       "\t151659: AddedToken(\"<|fim_prefix|>\", rstrip=False, lstrip=False, single_word=False, normalized=False, special=False),\n",
       "\t151660: AddedToken(\"<|fim_middle|>\", rstrip=False, lstrip=False, single_word=False, normalized=False, special=False),\n",
       "\t151661: AddedToken(\"<|fim_suffix|>\", rstrip=False, lstrip=False, single_word=False, normalized=False, special=False),\n",
       "\t151662: AddedToken(\"<|fim_pad|>\", rstrip=False, lstrip=False, single_word=False, normalized=False, special=False),\n",
       "\t151663: AddedToken(\"<|repo_name|>\", rstrip=False, lstrip=False, single_word=False, normalized=False, special=False),\n",
       "\t151664: AddedToken(\"<|file_sep|>\", rstrip=False, lstrip=False, single_word=False, normalized=False, special=False),\n",
       "}\n",
       ")"
      ]
     },
     "execution_count": 3,
     "metadata": {},
     "output_type": "execute_result"
    }
   ],
   "source": [
    "base_tokenizer"
   ]
  },
  {
   "cell_type": "code",
   "execution_count": null,
   "id": "e1ed123f",
   "metadata": {},
   "outputs": [],
   "source": []
  },
  {
   "cell_type": "code",
   "execution_count": 65,
   "id": "6b281115",
   "metadata": {},
   "outputs": [],
   "source": [
    "DEFAULT_CHAT_TEMPLATE = \"\"\"{% if not add_generation_prompt is defined %}{% set add_generation_prompt = false %}{% endif %}{% set ns = namespace(is_first=false, is_tool=false, is_output_first=true, system_prompt='') %}{%- for message in messages %}{%- if message['role'] == 'system' %}{% set ns.system_prompt = message['content'] %}{%- endif %}{%- endfor %}{{bos_token}}{{ns.system_prompt}}{%- for message in messages %}{%- if message['role'] == 'user' %}{%- set ns.is_tool = false -%}{{'<｜User｜>' + message['content']}}{%- endif %}{%- if message['role'] == 'assistant' and message['content'] is none %}{%- set ns.is_tool = false -%}{%- for tool in message['tool_calls']%}{%- if not ns.is_first %}{{'<｜Assistant｜><｜tool▁calls▁begin｜><｜tool▁call▁begin｜>' + tool['type'] + '<｜tool▁sep｜>' + tool['function']['name'] + '\\\\n' + '```json' + '\\\\n' + tool['function']['arguments'] + '\\\\n' + '```' + '<｜tool▁call▁end｜>'}}{%- set ns.is_first = true -%}{%- else %}{{'\\\\n' + '<｜tool▁call▁begin｜>' + tool['type'] + '<｜tool▁sep｜>' + tool['function']['name'] + '\\\\n' + '```json' + '\\\\n' + tool['function']['arguments'] + '\\\\n' + '```' + '<｜tool▁call▁end｜>'}}{{'<｜tool▁calls▁end｜><｜end▁of▁sentence｜>'}}{%- endif %}{%- endfor %}{%- endif %}{%- if message['role'] == 'assistant' and message['content'] is not none %}{%- if ns.is_tool %}{{'<｜tool▁outputs▁end｜>' + message['content'] + '<｜end▁of▁sentence｜>'}}{%- set ns.is_tool = false -%}{%- else %}{% set content = message['content'] %}{{'<｜Assistant｜>' + content + '<｜end▁of▁sentence｜>'}}{%- endif %}{%- endif %}{%- if message['role'] == 'tool' %}{%- set ns.is_tool = true -%}{%- if ns.is_output_first %}{{'<｜tool▁outputs▁begin｜><｜tool▁output▁begin｜>' + message['content'] + '<｜tool▁output▁end｜>'}}{%- set ns.is_output_first = false %}{%- else %}{{'\\\\n<｜tool▁output▁begin｜>' + message['content'] + '<｜tool▁output▁end｜>'}}{%- endif %}{%- endif %}{%- endfor -%}{% if ns.is_tool %}{{'<｜tool▁outputs▁end｜>'}}{% endif %}{% if add_generation_prompt and not ns.is_tool %}{{'<｜Assistant｜><think>\\\\n'}}{% endif %}\"\"\"\n",
    "r1_tokenizer.chat_template = DEFAULT_CHAT_TEMPLATE"
   ]
  },
  {
   "cell_type": "code",
   "execution_count": 66,
   "id": "31429de5",
   "metadata": {
    "scrolled": true
   },
   "outputs": [
    {
     "data": {
      "text/plain": [
       "'<｜begin▁of▁sentence｜><｜User｜>2. In a computer game, a turtle moves across a grid on the computer screen, which contains 11 columns and 5 rows. Initially, it is located at the bottom-left corner of the screen - on the cell with coordinates $(0,0)$. If the program instructs the turtle to move off the screen, it reappears on the opposite side - for example, taking one step up from cell $(3,4)$, the turtle will end up in cell $(3,0)$. Where will the turtle be after executing the following program:\\n1) 1 step down; 2) 2 steps to the right; 3) 3 steps up; 4) 4 steps to the left; 5) 5 steps down; 6) 6 steps to the right; .. ; 2016) 2016 steps to the left; 2017) 2017 steps down?<｜Assistant｜><think>\\nOkay, so I need to figure out where the turtle ends up after executing a long series of movements on this 11x5 grid. The turtle starts at (0,0), which is the bottom-left corner. The movements are in a pattern: first 1 step down, then 2 steps right, 3 steps up, 4 steps left, 5 steps down, 6 steps right, and so on, alternating directions each time. The last movement is 2017 steps down. Since the grid wraps around, if the turtle moves off one side, it comes back on the opposite side. \\n\\nFirst, let me understand the directions. The sequence of directions seems to be repeating every four steps: down, right, up, left, down, right, up, left, etc. Each time, the number of steps increases by 1. So step 1 is 1 step down, step 2 is 2 steps right, step 3 is 3 steps up, step 4 is 4 steps left, step 5 is 5 steps down, step 6 is 6 steps right, and so forth. The problem goes up to 2017 steps, which is the 2017th movement. \\n\\nSince each movement alternates direction in the cycle down, right, up, left, the direction of the nth movement can be determined by (n mod 4). Let me check:\\n\\n- Movement 1: 1 mod 4 = 1 → down\\n- Movement 2: 2 mod 4 = 2 → right\\n- Movement 3: 3 mod 4 = 3 → up\\n- Movement 4: 4 mod 4 = 0 → left (if we consider 0 as left, which is the 4th direction)\\n- Movement 5: 5 mod 4 = 1 → down\\n- Movement 6: 6 mod 4 = 2 → right\\n- Etc.\\n\\nSo the directions cycle every four steps as down, right, up, left. That seems correct. \\n\\nNow, the grid is 11 columns (x-axis) and 5 rows (y-axis). Coordinates are (x, y), starting from (0,0) at the bottom-left. Moving right increases x, left decreases x. Moving up increases y, down decreases y. Wait, hold on. Wait, if moving up from (3,4) takes the turtle to (3,0), that suggests that moving up increases y, and when you go beyond y=4, you wrap to y=0. But starting at (0,0), moving down would decrease y? Wait, but the turtle is at (0,0), which is the bottom-left. If it moves down, does it go to (0,4) because moving down wraps it to the top? Wait, the problem says: \"taking one step up from cell (3,4), the turtle will end up in cell (3,0)\". So moving up from the top row (y=4) wraps to y=0. Similarly, moving down from y=0 would wrap to y=4. Similarly for left and right on the x-axis. \\n\\nTherefore, the y-coordinate works as follows: moving up increases y by 1, but if y exceeds 4, it wraps around modulo 5. Moving down decreases y by 1, but if y goes below 0, it wraps around modulo 5. Wait, actually, in terms of movement, maybe it\\'s better to think of the grid as a torus. So each movement in a direction just adds or subtracts 1 in that axis, modulo the grid size. \\n\\nBut to clarify, moving up from (3,4) (which is the top row) brings you to (3,0). So moving up is equivalent to (y + 1) mod 5. Similarly, moving down would be (y - 1) mod 5. Similarly, moving right from column 10 (the rightmost column) would bring you to column 0, so moving right is (x + 1) mod 11, moving left is (x - 1) mod 11. \\n\\nTherefore, each movement can be modeled as adding or subtracting a number of steps in the x or y direction, modulo the grid size. \\n\\nSo, to compute the turtle\\'s final position, we can track cumulative steps in each direction, considering the mod operations. \\n\\nLet me separate the movements into x and y components. \\n\\nThe turtle starts at (0,0). \\n\\nEach movement is either horizontal (left/right) affecting x, or vertical (up/down) affecting y. \\n\\nSo, for each movement n:\\n\\n- If n mod 4 is 1 (down) or 3 (up), it affects the y-coordinate.\\n- If n mod 4 is 2 (right) or 0 (left) (since movement 4 is left, which is 4 mod 4 = 0), it affects the x-coordinate.\\n\\nSo, for each n from 1 to 2017, we need to determine the direction (left, right, up, down), compute the number of steps, and sum them up for x and y separately, then take modulo 11 for x and modulo 5 for y.\\n\\nBut since the grid wraps, we can sum all the steps in each direction, subtract the opposite directions, and then take modulo grid size. \\n\\nWait, for example, for the y-coordinate: all the down steps will subtract from the position, and up steps will add. Similarly, for x-coordinate: right steps add, left steps subtract. \\n\\nBut since each movement is either adding or subtracting, we can compute the total displacement in y as (total up steps - total down steps), and in x as (total right steps - total left steps). Then, take modulo 5 for y and modulo 11 for x to get the final position. \\n\\nBut how are the directions assigned? Let\\'s see:\\n\\nFor each movement number n:\\n\\n- If n mod 4 = 1: down (subtract from y)\\n- If n mod 4 = 2: right (add to x)\\n- If n mod 4 = 3: up (add to y)\\n- If n mod 4 = 0: left (subtract from x)\\n\\nBecause movement 1: down (n=1, 1 mod 4=1)\\nMovement 2: right (n=2, 2 mod 4=2)\\nMovement 3: up (n=3, 3 mod 4=3)\\nMovement 4: left (n=4, 4 mod 4=0)\\nMovement 5: down (n=5, 5 mod 4=1)\\nAnd so on.\\n\\nTherefore, for each n:\\n\\nDirection:\\n- n ≡1 mod4: down\\n- n≡2 mod4: right\\n- n≡3 mod4: up\\n- n≡0 mod4: left\\n\\nTherefore, for all n from 1 to 2017:\\n\\nTotal down steps: sum of all n where n ≡1 mod4\\nTotal right steps: sum of all n where n≡2 mod4\\nTotal up steps: sum of all n where n≡3 mod4\\nTotal left steps: sum of all n where n≡0 mod4\\n\\nThen, net y displacement: (total up - total down) mod 5\\nNet x displacement: (total right - total left) mod11\\n\\nThen, starting from (0,0), add the net x displacement and net y displacement (with mod) to get final position.\\n\\nTherefore, our task reduces to computing:\\n\\n1. Sum all n where n ≡1 mod4 from n=1 to n=2017: total_down\\n2. Sum all n where n≡2 mod4 from n=1 to n=2017: total_right\\n3. Sum all n where n≡3 mod4 from n=1 to n=2017: total_up\\n4. Sum all n where n≡0 mod4 from n=1 to n=2017: total_left\\n\\nThen compute (total_right - total_left) mod11 for x, and (total_up - total_down) mod5 for y.\\n\\nBut let\\'s check: movement numbers go from 1 to 2017. So n=1 to 2017.\\n\\nBut need to group these n by their n mod4 value.\\n\\nFirst, note that 2017 divided by 4 is 504 groups of 4, with a remainder of 1 (since 504*4=2016, so 2017=504*4+1). Therefore, the numbers 1 to 2017 consist of 504 complete cycles (1-4, 5-8,...2013-2016) and one extra term (2017).\\n\\nIn each cycle of 4 numbers, the residues mod4 are 1,2,3,0. So in each cycle:\\n\\n- n ≡1 mod4: 1 number (e.g., 1,5,9,...)\\n- n≡2 mod4: 1 number (e.g.,2,6,10,...)\\n- n≡3 mod4:1 number (e.g.,3,7,11,...)\\n- n≡0 mod4:1 number (e.g.,4,8,12,...)\\n\\nTherefore, in each cycle of 4 numbers, each residue class occurs once.\\n\\nSince there are 504 complete cycles (from 1 to 2016), each residue class (1,2,3,0) occurs 504 times. Then, the remaining number is 2017, which is n=2017, which is 2017 mod4=1 (since 2016 is 504*4, so 2017=504*4+1). So n=2017 is in residue 1 mod4. Therefore, total_down will have an extra 2017, while the others (right, up, left) will have 504 terms each.\\n\\nWait, let me verify:\\n\\nTotal numbers from 1 to 2017:\\n\\nNumber of terms with n ≡1 mod4: Let\\'s see, starting at 1, every 4 numbers. The number of such terms is floor((2017 -1)/4) +1. Let\\'s compute:\\n\\nFirst term:1, last term:2017. The difference between terms is 4. The number of terms is ((2017 -1)/4)+1=2016/4 +1=504 +1=505 terms.\\n\\nSimilarly, for n≡2 mod4: starting at 2, next is 6,10,...2014,2018. But 2018>2017, so last term is 2014. Number of terms: ((2014 -2)/4)+1=(2012)/4 +1=503 +1=504 terms.\\n\\nSimilarly, n≡3 mod4: starting at 3,7,...2015,2019. 2015 is the last term. Number of terms: ((2015 -3)/4)+1=2012/4 +1=503 +1=504 terms.\\n\\nn≡0 mod4: starting at 4,8,...2016,2020. 2016 is the last term. Number of terms: ((2016 -4)/4)+1=2012/4 +1=503 +1=504 terms.\\n\\nTherefore:\\n\\n- total_down (n≡1 mod4): 505 terms, from 1,5,9,...,2017\\n- total_right (n≡2 mod4): 504 terms, from 2,6,10,...,2014\\n- total_up (n≡3 mod4): 504 terms, from 3,7,11,...,2015\\n- total_left (n≡0 mod4): 504 terms, from 4,8,12,...,2016\\n\\nTherefore, we need to compute the sum for each of these sequences.\\n\\nFirst, total_down: sum of arithmetic sequence starting at 1, with common difference 4, 505 terms.\\n\\nThe formula for the sum of an arithmetic sequence is S = n/2 * (2a + (n-1)d), where n is number of terms, a is first term, d is common difference.\\n\\nFor total_down:\\n\\nn = 505\\n\\na =1\\n\\nd=4\\n\\nSo S_down = 505/2 * [2*1 + (505 -1)*4] = 505/2 * [2 + 504*4] = 505/2 * [2 + 2016] = 505/2 * 2018 = 505 * 1009\\n\\nCompute 505*1009:\\n\\nLet me compute 500*1009 = 504,500\\n\\n5*1009=5,045\\n\\nTotal: 504,500 +5,045=509,545\\n\\nTherefore, S_down =509,545\\n\\nSimilarly, total_right: sum of arithmetic sequence starting at 2, common difference 4, 504 terms.\\n\\na=2, d=4, n=504\\n\\nS_right =504/2 * [2*2 + (504-1)*4] =252 * [4 + 503*4] =252 * [4 + 2012] =252 * 2016\\n\\nCompute 252*2016:\\n\\n252*2000=504,000\\n\\n252*16=4,032\\n\\nTotal:504,000 +4,032=508,032\\n\\nTherefore, S_right=508,032\\n\\nNext, total_up: sum of arithmetic sequence starting at 3, common difference 4, 504 terms.\\n\\na=3, d=4, n=504\\n\\nS_up=504/2 * [2*3 + (504-1)*4] =252 * [6 + 503*4] =252 * [6 + 2012] =252 * 2018\\n\\nCompute 252*2018:\\n\\n252*2000=504,000\\n\\n252*18=4,536\\n\\nTotal:504,000 +4,536=508,536\\n\\nTherefore, S_up=508,536\\n\\nTotal_left: sum of arithmetic sequence starting at 4, common difference 4, 504 terms.\\n\\na=4, d=4, n=504\\n\\nS_left=504/2 * [2*4 + (504-1)*4] =252 * [8 + 503*4] =252 * [8 + 2012] =252 * 2020\\n\\nCompute 252*2020:\\n\\n252*2000=504,000\\n\\n252*20=5,040\\n\\nTotal:504,000 +5,040=509,040\\n\\nTherefore, S_left=509,040\\n\\nNow, compute net x displacement: (total_right - total_left) mod11\\n\\ntotal_right=508,032\\n\\ntotal_left=509,040\\n\\nSo, net_x =508,032 -509,040= -1,008\\n\\nNow, compute net_x mod11.\\n\\nFirst, note that -1,008 mod11. To compute this, find the remainder when -1,008 is divided by 11. Alternatively, find a positive equivalent remainder.\\n\\nFirst, compute 1,008 ÷11.\\n\\n11*91=1,001\\n\\n1,008 -1,001=7\\n\\nSo 1,008=11*91 +7 → 1,008 ≡7 mod11\\n\\nTherefore, -1,008 ≡ -7 mod11. But -7 mod11 is the same as 11 -7=4. So -1,008 ≡4 mod11.\\n\\nTherefore, net_x=4 mod11.\\n\\nNow, compute net_y displacement: (total_up - total_down) mod5\\n\\ntotal_up=508,536\\n\\ntotal_down=509,545\\n\\nnet_y=508,536 -509,545= -1,009\\n\\nNow, compute -1,009 mod5.\\n\\nFirst, divide 1,009 by5:\\n\\n5*201=1,005\\n\\n1,009 -1,005=4 →1,009≡4 mod5\\n\\nTherefore, -1,009≡-4 mod5. Which is equivalent to 1 mod5 (since 5-4=1). So net_y=1 mod5.\\n\\nTherefore, the turtle\\'s final position is (4,1). But wait, let me verify once again.\\n\\nWait, starting at (0,0), moving right increases x, moving left decreases x. Moving up increases y, moving down decreases y. But when we take modulo, negative numbers wrap around.\\n\\nBut according to our calculations:\\n\\nNet x displacement: (total_right - total_left)= -1,008≡4 mod11\\n\\nNet y displacement: (total_up - total_down)= -1,009≡1 mod5\\n\\nTherefore, starting from (0,0):\\n\\nx: 0 +4=4 mod11\\n\\ny:0 +1=1 mod5\\n\\nSo the final position is (4,1). \\n\\nBut let me double-check the net y displacement. Let\\'s see:\\n\\ntotal_up=508,536\\n\\ntotal_down=509,545\\n\\nSo net_y=508,536 -509,545= -1,009. Then, -1,009 mod5. Let\\'s compute:\\n\\n5*201=1,005, so -1,009= -1,005 -4= -5*201 -4. Therefore, mod5, this is (-4) mod5=1 mod5. Correct.\\n\\nSimilarly, net_x= -1,008. Let\\'s confirm mod11:\\n\\nAs above, 1,008 divided by11 gives 91*11=1,001, remainder 7. So 1,008=11*91 +7. Therefore, -1,008= -11*91 -7. Then mod11, -11*91 ≡0, so -7≡4 mod11. Correct.\\n\\nTherefore, the final coordinates are (4,1). \\n\\nBut wait, let me check once more. The starting point is (0,0). Moving down 1 step would take it to (0,4) because moving down from y=0 wraps to y=4. But according to the net displacement calculation, moving down is subtracted from y. But in our calculation, the net y displacement is (total_up - total_down). So y_final = (0 + total_up - total_down) mod5. \\n\\nWait, if moving up is positive and moving down is negative, then yes, net_y = total_up - total_down. So starting from 0, adding total_up steps (which are upwards, increasing y), subtracting total_down steps (downwards, decreasing y). Then mod5. \\n\\nSimilarly, for x, net_x = total_right - total_left. Starting from 0, adding total_right (right steps), subtracting total_left (left steps). Then mod11.\\n\\nTherefore, calculations seem correct.\\n\\nBut let me check with smaller numbers to see if the approach is correct.\\n\\nSuppose we only had steps 1 to 4:\\n\\n1) 1 down: total_down=1\\n\\n2)2 right: total_right=2\\n\\n3)3 up: total_up=3\\n\\n4)4 left: total_left=4\\n\\nThen net_x=2 -4= -2 mod11=9\\n\\nnet_y=3 -1=2 mod5=2\\n\\nSo starting at (0,0), final position would be (9,2). Let\\'s simulate:\\n\\n1) 1 down: from (0,0) down 1: y becomes (0 -1) mod5=4 → (0,4)\\n\\n2) 2 right: x becomes (0 +2) mod11=2 → (2,4)\\n\\n3) 3 up: y becomes (4 +3) mod5=7 mod5=2 → (2,2)\\n\\n4)4 left: x becomes (2 -4) mod11= -2 mod11=9 → (9,2)\\n\\nWhich matches the calculation. So the method works.\\n\\nTherefore, applying the same method to the problem, the final position is (4,1). \\n\\nTherefore, the answer is \\\\boxed{(4,1)}.\\n\\n**Final Answer**\\n\\\\boxed{(4,1)}\\n</think>\\n\\nThe turtle starts at position \\\\((0,0)\\\\) on an 11x5 grid. The movements alternate directions in the cycle down, right, up, left, with each subsequent movement increasing the number of steps by 1. The goal is to determine the turtle\\'s final position after 2017 movements.\\n\\n1. **Identify the directions and number of steps for each movement:**\\n   - Movements \\\\(1, 5, 9, \\\\ldots, 2017\\\\) (total 505 terms) are down.\\n   - Movements \\\\(2, 6, 10, \\\\ldots, 2014\\\\) (total 504 terms) are right.\\n   - Movements \\\\(3, 7, 11, \\\\ldots, 2015\\\\) (total 504 terms) are up.\\n   - Movements \\\\(4, 8, 12, \\\\ldots, 2016\\\\) (total 504 terms) are left.\\n\\n2. **Calculate the total steps for each direction:**\\n   - **Total down steps (n ≡ 1 mod 4):** Sum of an arithmetic sequence starting at 1 with common difference 4 and 505 terms.\\n     \\\\[\\n     S_{\\\\text{down}} = \\\\frac{505}{2} \\\\times [2 \\\\times 1 + (505 - 1) \\\\times 4] = 505 \\\\times 1009 = 509,545\\n     \\\\]\\n   - **Total right steps (n ≡ 2 mod 4):** Sum of an arithmetic sequence starting at 2 with common difference 4 and 504 terms.\\n     \\\\[\\n     S_{\\\\text{right}} = \\\\frac{504}{2} \\\\times [2 \\\\times 2 + (504 - 1) \\\\times 4] = 252 \\\\times 2016 = 508,032\\n     \\\\]\\n   - **Total up steps (n ≡ 3 mod 4):** Sum of an arithmetic sequence starting at 3 with common difference 4 and 504 terms.\\n     \\\\[\\n     S_{\\\\text{up}} = \\\\frac{504}{2} \\\\times [2 \\\\times 3 + (504 - 1) \\\\times 4] = 252 \\\\times 2018 = 508,536\\n     \\\\]\\n   - **Total left steps (n ≡ 0 mod 4):** Sum of an arithmetic sequence starting at 4 with common difference 4 and 504 terms.\\n     \\\\[\\n     S_{\\\\text{left}} = \\\\frac{504}{2} \\\\times [2 \\\\times 4 + (504 - 1) \\\\times 4] = 252 \\\\times 2020 = 509,040\\n     \\\\]\\n\\n3. **Calculate net displacements:**\\n   - **Net x displacement:**\\n     \\\\[\\n     \\\\text{net}_x = (508,032 - 509,040) \\\\mod 11 = -1,008 \\\\mod 11 = 4\\n     \\\\]\\n   - **Net y displacement:**\\n     \\\\[\\n     \\\\text{net}_y = (508,536 - 509,545) \\\\mod 5 = -1,009 \\\\mod 5 = 1\\n     \\\\]\\n\\n4. **Final position:**\\n   - Starting from \\\\((0,0)\\\\), the turtle moves to:\\n     \\\\[\\n     (0 + 4) \\\\mod 11 = 4 \\\\quad \\\\text{and} \\\\quad (0 + 1) \\\\mod 5 = 1\\n     \\\\]\\n\\nThus, the turtle\\'s final position is \\\\(\\\\boxed{(4,1)}\\\\).<｜end▁of▁sentence｜>'"
      ]
     },
     "execution_count": 66,
     "metadata": {},
     "output_type": "execute_result"
    }
   ],
   "source": [
    "r1_tokenizer.apply_chat_template(data['messages'], tokenize = False)"
   ]
  },
  {
   "cell_type": "code",
   "execution_count": 76,
   "id": "8f63fb1c",
   "metadata": {
    "scrolled": true
   },
   "outputs": [],
   "source": [
    "df = pd.DataFrame(open_r1_ds['train']['messages'])"
   ]
  },
  {
   "cell_type": "code",
   "execution_count": 92,
   "id": "b1d8af18",
   "metadata": {},
   "outputs": [],
   "source": [
    "df[0] = df[0].apply(lambda x: x['content'])\n",
    "df[1] = df[1].apply(lambda x: x['content'])"
   ]
  },
  {
   "cell_type": "code",
   "execution_count": 94,
   "id": "d3fed93c",
   "metadata": {},
   "outputs": [],
   "source": [
    "df['0_len'] = df[0].str.len()\n",
    "df['1_len'] = df[1].str.len()"
   ]
  },
  {
   "cell_type": "code",
   "execution_count": 102,
   "id": "352318c0",
   "metadata": {},
   "outputs": [
    {
     "data": {
      "text/plain": [
       "16509"
      ]
     },
     "execution_count": 102,
     "metadata": {},
     "output_type": "execute_result"
    }
   ],
   "source": [
    "len(r1_tokenizer.encode(df[df['1_len'] == df['1_len'].max()][1].iloc[0]))"
   ]
  },
  {
   "cell_type": "code",
   "execution_count": 103,
   "id": "9190c489",
   "metadata": {},
   "outputs": [
    {
     "data": {
      "text/plain": [
       "2049"
      ]
     },
     "execution_count": 103,
     "metadata": {},
     "output_type": "execute_result"
    }
   ],
   "source": [
    "len(r1_tokenizer.encode(df[df['0_len'] == df['0_len'].max()][0].iloc[0]))"
   ]
  },
  {
   "cell_type": "code",
   "execution_count": 88,
   "id": "db484629",
   "metadata": {},
   "outputs": [
    {
     "name": "stderr",
     "output_type": "stream",
     "text": [
      "\n",
      "KeyboardInterrupt\n",
      "\n"
     ]
    }
   ],
   "source": [
    "def token_len(series, tokenizer = r1_tokenizer):\n",
    "    prompt = tokenizer.encode(series[0]['content'])\n",
    "    response = tokenizer.encode(series[1]['content'])\n",
    "    \n",
    "    return len(prompt) + len(response)\n",
    "    \n",
    "df['len'] = df.apply(token_len, axis = 1)"
   ]
  },
  {
   "cell_type": "code",
   "execution_count": 104,
   "id": "e870bcde",
   "metadata": {
    "scrolled": true
   },
   "outputs": [
    {
     "data": {
      "text/plain": [
       "'10. (10 points) There is a cup filled with a 16% saltwater solution. There are large, medium, and small iron balls, with volume ratios of 10: 4: 3. First, the small ball is submerged in the saltwater cup. As a result, 10% of the saltwater overflows, and the small ball is removed; then the medium ball is submerged in the saltwater cup and removed; next, the large ball is submerged in the saltwater cup and removed; finally, pure water is added to the cup until it is full. What is the concentration of the saltwater in the cup at this point? (保留一位小数) (保留一位小数 means \"保留一位小数\" in Chinese, which translates to \"保留一位小数\" in English. However, for clarity, I will replace it with \"保留一位小数\" in the final translation.)\\n\\n10. (10 points) There is a cup filled with a 16% saltwater solution. There are large, medium, and small iron balls, with volume ratios of 10: 4: 3. First, the small ball is submerged in the saltwater cup. As a result, 10% of the saltwater overflows, and the small ball is removed; then the medium ball is submerged in the saltwater cup and removed; next, the large ball is submerged in the saltwater cup and removed; finally, pure water is added to the cup until it is full. What is the concentration of the saltwater in the cup at this point? (保留一位小数) \\n\\n(保留一位小数 means \"保留一位小数\" in Chinese, which translates to \"保留一位小数\" in English. However, for clarity, I will replace it with \"保留一位小数\" in the final translation.)\\n\\n10. (10 points) There is a cup filled with a 16% saltwater solution. There are large, medium, and small iron balls, with volume ratios of 10: 4: 3. First, the small ball is submerged in the saltwater cup. As a result, 10% of the saltwater overflows, and the small ball is removed; then the medium ball is submerged in the saltwater cup and removed; next, the large ball is submerged in the saltwater cup and removed; finally, pure water is added to the cup until it is full. What is the concentration of the saltwater in the cup at this point? (保留一位小数)\\n\\n(保留一位小数 means \"保留一位小数\" in Chinese, which translates to \"保留一位小数\" in English. However, for clarity, I will replace it with \"保留一位小数\" in the final translation.)\\n\\n10. (10 points) There is a cup filled with a 16% saltwater solution. There are large, medium, and small iron balls, with volume ratios of 10: 4: 3. First, the small ball is submerged in the saltwater cup. As a result, 10% of the saltwater overflows, and the small ball is removed; then the medium ball is submerged in the saltwater cup and removed; next, the large ball is submerged in the saltwater cup and removed; finally, pure water is added to the cup until it is full. What is the concentration of the saltwater in the cup at this point? (保留一位小数)\\n\\n(保留一位小数 means \"保留一位小数\" in Chinese, which translates to \"保留一位小数\" in English. However, for clarity, I will replace it with \"保留一位小数\" in the final translation.)\\n\\n10. (10 points) There is a cup filled with a 16% saltwater solution. There are large, medium, and small iron balls, with volume ratios of 10: 4: 3. First, the small ball is submerged in the saltwater cup. As a result, 10% of the saltwater overflows, and the small ball is removed; then the medium ball is submerged in the saltwater cup and removed; next, the large ball is submerged in the saltwater cup and removed; finally, pure water is added to the cup until it is full. What is the concentration of the saltwater in the cup at this point? (保留一位小数)\\n\\n(保留一位小数 means \"保留一位小数\" in Chinese, which translates to \"保留一位小数\" in English. However, for clarity, I will replace it with \"保留一位小数\" in the final translation.)\\n\\n10. (10 points) There is a cup filled with a 16% saltwater solution. There are large, medium, and small iron balls, with volume ratios of 10: 4: 3. First, the small ball is submerged in the saltwater cup. As a result, 10% of the saltwater overflows, and the small ball is removed; then the medium ball is submerged in the saltwater cup and removed; next, the large ball is submerged in the saltwater cup and removed; finally, pure water is added to the cup until it is full. What is the concentration of the saltwater in the cup at this point? (保留一位小数)\\n\\n(保留一位小数 means \"保留一位小数\" in Chinese, which translates to \"保留一位小数\" in English. However, for clarity, I will replace it with \"保留一位小数\" in the final translation.)\\n\\n10. (10 points) There is a cup filled with a 16% saltwater solution. There are large, medium, and small iron balls, with volume ratios of 10: 4: 3. First, the small ball is submerged in the saltwater cup. As a result, 10% of the saltwater overflows, and the small ball is removed; then the medium ball is submerged in the saltwater cup and removed; next, the large ball is submerged in the saltwater cup and removed; finally, pure water is added to the cup until it is full. What is the concentration of the saltwater in the cup at this point? (保留一位小数)\\n\\n(保留一位小数 means \"保留一位小数\" in Chinese, which translates to \"保留一位小数\" in English. However, for clarity, I will replace it with \"保留一位小数\" in the final translation.)\\n\\n10. (10 points) There is a cup filled with a 16% saltwater solution. There are large, medium, and small iron balls, with volume ratios of 10: 4: 3. First, the small ball is submerged in the saltwater cup. As a result, 10% of the saltwater overflows, and the small ball is removed; then the medium ball is submerged in the saltwater cup and removed; next, the large ball is submerged in the saltwater cup and removed; finally, pure water is added to the cup until it is full. What is the concentration of the saltwater in the cup at this point? (保留一位小数)\\n\\n(保留一位小数 means \"保留一位小数\" in Chinese, which translates to \"保留一位小数\" in English. However, for clarity, I will replace it with \"保留一位小数\" in the final translation.)\\n\\n10. (10 points) There is a cup filled with a 16% saltwater solution. There are large, medium, and small iron balls, with volume ratios of 10: 4: 3. First, the small ball is submerged in the saltwater cup. As a result, 10% of the saltwater overflows, and the small ball is removed; then the medium ball is submerged in the saltwater cup and removed; next, the large ball is submerged in the saltwater cup and removed; finally, pure water is added to the cup until it is full. What is the concentration of the saltwater in the cup at this point? (保留一位小数)\\n\\n(保留一位小数 means \"保留一位小数\" in Chinese, which translates to \"保留一位小数\" in English. However, for clarity, I will replace it with \"保留一位小数\" in the final translation.)\\n\\n10. (10 points) There is a cup filled with a 16% saltwater solution. There are large, medium, and small iron balls, with volume ratios of 10: 4: 3. First, the small ball is submerged in the saltwater cup. As a result, 10% of the saltwater overflows, and the small ball is removed; then the medium ball is submerged in the saltwater cup and removed; next, the large ball is submerged in the saltwater cup and removed; finally, pure water is added to the cup until it is full. What is the concentration of the saltwater in the cup at this point? (保留一位小数)\\n\\n(保留一位小数 means \"保留一位小数\" in Chinese, which translates to \"保留一位小数\" in English. However, for clarity, I will replace it with \"保留一位小数\" in the final translation.)\\n\\n10. (10 points) There is a cup filled with a 16% saltwater solution. There are large, medium, and small iron balls, with volume ratios of 10: 4: 3. First, the small ball is submerged in the saltwater cup. As a result, 10% of the saltwater overflows, and the small ball is removed; then the medium ball is submerged in the saltwater cup and removed;'"
      ]
     },
     "execution_count": 104,
     "metadata": {},
     "output_type": "execute_result"
    }
   ],
   "source": [
    "df[df['0_len'] == df['0_len'].max()][0].iloc[0]"
   ]
  }
 ],
 "metadata": {
  "kernelspec": {
   "display_name": "Python 3 (ipykernel)",
   "language": "python",
   "name": "python3"
  },
  "language_info": {
   "codemirror_mode": {
    "name": "ipython",
    "version": 3
   },
   "file_extension": ".py",
   "mimetype": "text/x-python",
   "name": "python",
   "nbconvert_exporter": "python",
   "pygments_lexer": "ipython3",
   "version": "3.12.4"
  }
 },
 "nbformat": 4,
 "nbformat_minor": 5
}
