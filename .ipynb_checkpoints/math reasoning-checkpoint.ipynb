{
 "cells": [
  {
   "cell_type": "code",
   "execution_count": 25,
   "id": "108b17fc",
   "metadata": {},
   "outputs": [],
   "source": [
    "import pandas as pd \n",
    "\n",
    "from transformers import AutoModelForCausalLM, AutoTokenizer\n",
    "from datasets import load_dataset\n",
    "\n",
    "import torch\n",
    "import torch.nn.functional as F\n",
    "\n",
    "import seaborn as sns\n",
    "\n",
    "from datasets import load_dataset\n",
    "import dtale"
   ]
  },
  {
   "cell_type": "markdown",
   "id": "5962dae4",
   "metadata": {},
   "source": [
    "# AIME 24 25"
   ]
  },
  {
   "cell_type": "code",
   "execution_count": 3,
   "id": "7f258c2e",
   "metadata": {},
   "outputs": [],
   "source": [
    "aime2024_dataset = load_dataset(\"Maxwell-Jia/AIME_2024\")\n",
    "\n",
    "aime2025_i_dataset = load_dataset(\"opencompass/AIME2025\", \"AIME2025-I\")\n",
    "aime2025_ii_dataset = load_dataset(\"opencompass/AIME2025\", \"AIME2025-II\")"
   ]
  },
  {
   "cell_type": "code",
   "execution_count": 4,
   "id": "d858fcfe",
   "metadata": {
    "scrolled": true
   },
   "outputs": [],
   "source": [
    "aime_2024_df = pd.DataFrame(aime2024_dataset['train'])"
   ]
  },
  {
   "cell_type": "code",
   "execution_count": 5,
   "id": "5f23af31",
   "metadata": {},
   "outputs": [],
   "source": [
    "aime_2025_i_df = pd.DataFrame(aime2025_i_dataset['test'])\n",
    "aime_2025_i_df['ID'] = [f'2025-I-{i}' for i in range(1, len(aime_2025_i_df) + 1)]\n",
    "\n",
    "aime_2025_ii_df = pd.DataFrame(aime2025_ii_dataset['test'])\n",
    "aime_2025_ii_df['ID'] = [f'2025-II-{i}' for i in range(1, len(aime_2025_ii_df) + 1)]\n",
    "\n",
    "aime_2025_df = pd.concat([aime_2025_i_df, aime_2025_ii_df], ignore_index=True).rename(columns = {'question': 'Problem', 'answer' : 'Answer'})"
   ]
  },
  {
   "cell_type": "code",
   "execution_count": 8,
   "id": "f6d18564",
   "metadata": {},
   "outputs": [],
   "source": [
    "aime_df = pd.concat([aime_2024_df, aime_2025_df], ignore_index = True)"
   ]
  },
  {
   "cell_type": "code",
   "execution_count": 13,
   "id": "972c798e",
   "metadata": {
    "scrolled": false
   },
   "outputs": [
    {
     "name": "stdout",
     "output_type": "stream",
     "text": [
      "Find the largest possible real part of \\[(75+117i)z + \\frac{96+144i}{z}\\] where $z$ is a complex number with $|z|=4$.\n"
     ]
    }
   ],
   "source": [
    "print(aime_df['Problem'][idx])"
   ]
  },
  {
   "cell_type": "markdown",
   "id": "818fcb25",
   "metadata": {},
   "source": [
    "# MATH"
   ]
  },
  {
   "cell_type": "code",
   "execution_count": 45,
   "id": "49d5f5be",
   "metadata": {
    "scrolled": true
   },
   "outputs": [],
   "source": [
    "from datasets import get_dataset_config_names\n",
    "from datasets import concatenate_datasets\n",
    "from datasets import DatasetDict"
   ]
  },
  {
   "cell_type": "code",
   "execution_count": null,
   "id": "4484f6c8",
   "metadata": {},
   "outputs": [],
   "source": [
    "dataset_name = 'EleutherAI/hendrycks_math'\n",
    "configs = get_dataset_config_names(\"EleutherAI/hendrycks_math\")\n",
    "train, test = [], []\n",
    "for config in configs:\n",
    "    dataset = load_dataset(dataset_name, config)\n",
    "    train.append(dataset['train'])\n",
    "    test.append(dataset['test'])"
   ]
  },
  {
   "cell_type": "code",
   "execution_count": 46,
   "id": "4a1fc3fc",
   "metadata": {},
   "outputs": [],
   "source": [
    "train = concatenate_datasets(train)\n",
    "test = concatenate_datasets(test)\n",
    "dataset_dict = DatasetDict({\n",
    "    'train': train,\n",
    "    'test': test\n",
    "})"
   ]
  },
  {
   "cell_type": "code",
   "execution_count": 48,
   "id": "c11c1563",
   "metadata": {},
   "outputs": [
    {
     "data": {
      "application/vnd.jupyter.widget-view+json": {
       "model_id": "aa117a80b24a42819107b19a21ceec2b",
       "version_major": 2,
       "version_minor": 0
      },
      "text/plain": [
       "Saving the dataset (0/1 shards):   0%|          | 0/7500 [00:00<?, ? examples/s]"
      ]
     },
     "metadata": {},
     "output_type": "display_data"
    },
    {
     "data": {
      "application/vnd.jupyter.widget-view+json": {
       "model_id": "8eb57152f8b64fd196ce20edc4f02eb9",
       "version_major": 2,
       "version_minor": 0
      },
      "text/plain": [
       "Saving the dataset (0/1 shards):   0%|          | 0/5000 [00:00<?, ? examples/s]"
      ]
     },
     "metadata": {},
     "output_type": "display_data"
    }
   ],
   "source": [
    "dataset_dict.save_to_disk(\"/share/goyal/lio/reasoning/data/MATH\")"
   ]
  },
  {
   "cell_type": "code",
   "execution_count": 53,
   "id": "6e82e177",
   "metadata": {},
   "outputs": [],
   "source": [
    "import datasets\n",
    "dataset = datasets.load_from_disk(\"/share/goyal/lio/reasoning/data/MATH\")"
   ]
  },
  {
   "cell_type": "code",
   "execution_count": 54,
   "id": "74791b75",
   "metadata": {},
   "outputs": [
    {
     "data": {
      "text/plain": [
       "DatasetDict({\n",
       "    train: Dataset({\n",
       "        features: ['problem', 'level', 'type', 'solution'],\n",
       "        num_rows: 7500\n",
       "    })\n",
       "    test: Dataset({\n",
       "        features: ['problem', 'level', 'type', 'solution'],\n",
       "        num_rows: 5000\n",
       "    })\n",
       "})"
      ]
     },
     "execution_count": 54,
     "metadata": {},
     "output_type": "execute_result"
    }
   ],
   "source": [
    "dataset"
   ]
  },
  {
   "cell_type": "code",
   "execution_count": 305,
   "id": "b77555c2",
   "metadata": {},
   "outputs": [],
   "source": [
    "qra_df = pd.read_pickle(\"/share/goyal/lio/reasoning/eval/MATH/r1_qwen32b_200sample.pickle\")"
   ]
  },
  {
   "cell_type": "code",
   "execution_count": 303,
   "id": "6cfebfe6",
   "metadata": {},
   "outputs": [
    {
     "data": {
      "text/html": [
       "<div>\n",
       "<style scoped>\n",
       "    .dataframe tbody tr th:only-of-type {\n",
       "        vertical-align: middle;\n",
       "    }\n",
       "\n",
       "    .dataframe tbody tr th {\n",
       "        vertical-align: top;\n",
       "    }\n",
       "\n",
       "    .dataframe thead th {\n",
       "        text-align: right;\n",
       "    }\n",
       "</style>\n",
       "<table border=\"1\" class=\"dataframe\">\n",
       "  <thead>\n",
       "    <tr style=\"text-align: right;\">\n",
       "      <th></th>\n",
       "      <th>problem</th>\n",
       "      <th>level</th>\n",
       "      <th>type</th>\n",
       "      <th>solution</th>\n",
       "      <th>response</th>\n",
       "      <th>correct</th>\n",
       "    </tr>\n",
       "  </thead>\n",
       "  <tbody>\n",
       "    <tr>\n",
       "      <th>0</th>\n",
       "      <td>&lt;｜begin▁of▁sentence｜&gt;&lt;｜User｜&gt;Beth rolls a fair...</td>\n",
       "      <td>Level 3</td>\n",
       "      <td>Counting &amp; Probability</td>\n",
       "      <td>There are 3 possible prime numbers which can b...</td>\n",
       "      <td>Alright, so I have this problem where Beth is ...</td>\n",
       "      <td>1.0</td>\n",
       "    </tr>\n",
       "    <tr>\n",
       "      <th>1</th>\n",
       "      <td>&lt;｜begin▁of▁sentence｜&gt;&lt;｜User｜&gt;Let $a,$ $b,$ $c$...</td>\n",
       "      <td>Level 4</td>\n",
       "      <td>Intermediate Algebra</td>\n",
       "      <td>By Cauchy-Schwarz,\\n\\[(a^2 + 2b^2 + c^2) \\left...</td>\n",
       "      <td>Alright, so I have this problem here: I need t...</td>\n",
       "      <td>1.0</td>\n",
       "    </tr>\n",
       "    <tr>\n",
       "      <th>2</th>\n",
       "      <td>&lt;｜begin▁of▁sentence｜&gt;&lt;｜User｜&gt;Determine the com...</td>\n",
       "      <td>Level 3</td>\n",
       "      <td>Intermediate Algebra</td>\n",
       "      <td>Let $z=a+bi$, where $a$ and $b$ are real numbe...</td>\n",
       "      <td>Okay, so I have this equation to solve: 3z + 4...</td>\n",
       "      <td>1.0</td>\n",
       "    </tr>\n",
       "    <tr>\n",
       "      <th>3</th>\n",
       "      <td>&lt;｜begin▁of▁sentence｜&gt;&lt;｜User｜&gt;What is the sum o...</td>\n",
       "      <td>Level 2</td>\n",
       "      <td>Algebra</td>\n",
       "      <td>The first ten positive multiples of 3 are 3, $...</td>\n",
       "      <td>First, I recognize that the smallest positive ...</td>\n",
       "      <td>1.0</td>\n",
       "    </tr>\n",
       "    <tr>\n",
       "      <th>4</th>\n",
       "      <td>&lt;｜begin▁of▁sentence｜&gt;&lt;｜User｜&gt;When a car's brak...</td>\n",
       "      <td>Level 4</td>\n",
       "      <td>Algebra</td>\n",
       "      <td>The number of feet the car travels in each sec...</td>\n",
       "      <td>Okay, so I have this problem here about a car ...</td>\n",
       "      <td>1.0</td>\n",
       "    </tr>\n",
       "    <tr>\n",
       "      <th>...</th>\n",
       "      <td>...</td>\n",
       "      <td>...</td>\n",
       "      <td>...</td>\n",
       "      <td>...</td>\n",
       "      <td>...</td>\n",
       "      <td>...</td>\n",
       "    </tr>\n",
       "    <tr>\n",
       "      <th>168</th>\n",
       "      <td>&lt;｜begin▁of▁sentence｜&gt;&lt;｜User｜&gt;A stack of 100 ni...</td>\n",
       "      <td>Level 3</td>\n",
       "      <td>Algebra</td>\n",
       "      <td>The height of each nickel is $6.25/100=0.0625$...</td>\n",
       "      <td>Alright, so I have this problem here: A stack ...</td>\n",
       "      <td>1.0</td>\n",
       "    </tr>\n",
       "    <tr>\n",
       "      <th>169</th>\n",
       "      <td>&lt;｜begin▁of▁sentence｜&gt;&lt;｜User｜&gt;If $3^{x + y} = 8...</td>\n",
       "      <td>Level 5</td>\n",
       "      <td>Algebra</td>\n",
       "      <td>Since $81 = 3^4$, then $3 = 81^{1/4}$. Compari...</td>\n",
       "      <td>Okay, so I have this problem here: If \\(3^{x +...</td>\n",
       "      <td>1.0</td>\n",
       "    </tr>\n",
       "    <tr>\n",
       "      <th>170</th>\n",
       "      <td>&lt;｜begin▁of▁sentence｜&gt;&lt;｜User｜&gt;Evaluate $|\\sqrt5...</td>\n",
       "      <td>Level 1</td>\n",
       "      <td>Intermediate Algebra</td>\n",
       "      <td>We have $|\\sqrt5+2i| = \\sqrt{(\\sqrt5)^2 + 2^2}...</td>\n",
       "      <td>Okay, so I need to evaluate the absolute value...</td>\n",
       "      <td>1.0</td>\n",
       "    </tr>\n",
       "    <tr>\n",
       "      <th>171</th>\n",
       "      <td>&lt;｜begin▁of▁sentence｜&gt;&lt;｜User｜&gt;Two fair 6-sided ...</td>\n",
       "      <td>Level 4</td>\n",
       "      <td>Prealgebra</td>\n",
       "      <td>There are 4 different ways to roll a 9 (3+6, 4...</td>\n",
       "      <td>Okay, so I have this problem here: Two fair 6-...</td>\n",
       "      <td>1.0</td>\n",
       "    </tr>\n",
       "    <tr>\n",
       "      <th>172</th>\n",
       "      <td>&lt;｜begin▁of▁sentence｜&gt;&lt;｜User｜&gt;The least common ...</td>\n",
       "      <td>Level 4</td>\n",
       "      <td>Prealgebra</td>\n",
       "      <td>The prime factorization of 48 is $2^4\\cdot3$. ...</td>\n",
       "      <td>Alright, so I have this problem here: The leas...</td>\n",
       "      <td>1.0</td>\n",
       "    </tr>\n",
       "  </tbody>\n",
       "</table>\n",
       "<p>173 rows × 6 columns</p>\n",
       "</div>"
      ],
      "text/plain": [
       "                                               problem    level  \\\n",
       "0    <｜begin▁of▁sentence｜><｜User｜>Beth rolls a fair...  Level 3   \n",
       "1    <｜begin▁of▁sentence｜><｜User｜>Let $a,$ $b,$ $c$...  Level 4   \n",
       "2    <｜begin▁of▁sentence｜><｜User｜>Determine the com...  Level 3   \n",
       "3    <｜begin▁of▁sentence｜><｜User｜>What is the sum o...  Level 2   \n",
       "4    <｜begin▁of▁sentence｜><｜User｜>When a car's brak...  Level 4   \n",
       "..                                                 ...      ...   \n",
       "168  <｜begin▁of▁sentence｜><｜User｜>A stack of 100 ni...  Level 3   \n",
       "169  <｜begin▁of▁sentence｜><｜User｜>If $3^{x + y} = 8...  Level 5   \n",
       "170  <｜begin▁of▁sentence｜><｜User｜>Evaluate $|\\sqrt5...  Level 1   \n",
       "171  <｜begin▁of▁sentence｜><｜User｜>Two fair 6-sided ...  Level 4   \n",
       "172  <｜begin▁of▁sentence｜><｜User｜>The least common ...  Level 4   \n",
       "\n",
       "                       type  \\\n",
       "0    Counting & Probability   \n",
       "1      Intermediate Algebra   \n",
       "2      Intermediate Algebra   \n",
       "3                   Algebra   \n",
       "4                   Algebra   \n",
       "..                      ...   \n",
       "168                 Algebra   \n",
       "169                 Algebra   \n",
       "170    Intermediate Algebra   \n",
       "171              Prealgebra   \n",
       "172              Prealgebra   \n",
       "\n",
       "                                              solution  \\\n",
       "0    There are 3 possible prime numbers which can b...   \n",
       "1    By Cauchy-Schwarz,\\n\\[(a^2 + 2b^2 + c^2) \\left...   \n",
       "2    Let $z=a+bi$, where $a$ and $b$ are real numbe...   \n",
       "3    The first ten positive multiples of 3 are 3, $...   \n",
       "4    The number of feet the car travels in each sec...   \n",
       "..                                                 ...   \n",
       "168  The height of each nickel is $6.25/100=0.0625$...   \n",
       "169  Since $81 = 3^4$, then $3 = 81^{1/4}$. Compari...   \n",
       "170  We have $|\\sqrt5+2i| = \\sqrt{(\\sqrt5)^2 + 2^2}...   \n",
       "171  There are 4 different ways to roll a 9 (3+6, 4...   \n",
       "172  The prime factorization of 48 is $2^4\\cdot3$. ...   \n",
       "\n",
       "                                              response  correct  \n",
       "0    Alright, so I have this problem where Beth is ...      1.0  \n",
       "1    Alright, so I have this problem here: I need t...      1.0  \n",
       "2    Okay, so I have this equation to solve: 3z + 4...      1.0  \n",
       "3    First, I recognize that the smallest positive ...      1.0  \n",
       "4    Okay, so I have this problem here about a car ...      1.0  \n",
       "..                                                 ...      ...  \n",
       "168  Alright, so I have this problem here: A stack ...      1.0  \n",
       "169  Okay, so I have this problem here: If \\(3^{x +...      1.0  \n",
       "170  Okay, so I need to evaluate the absolute value...      1.0  \n",
       "171  Okay, so I have this problem here: Two fair 6-...      1.0  \n",
       "172  Alright, so I have this problem here: The leas...      1.0  \n",
       "\n",
       "[173 rows x 6 columns]"
      ]
     },
     "execution_count": 303,
     "metadata": {},
     "output_type": "execute_result"
    }
   ],
   "source": [
    "qra_df[qra_df['correct'] == 1.0].reset_index(drop = True)"
   ]
  },
  {
   "cell_type": "code",
   "execution_count": 307,
   "id": "f258951d",
   "metadata": {},
   "outputs": [],
   "source": [
    "qra_df[qra_df['correct'] == 1.0].reset_index(drop = True).to_pickle(\"/share/goyal/lio/reasoning/eval/MATH/r1_qwen32b_200sample_correct.pickle\")"
   ]
  },
  {
   "cell_type": "markdown",
   "id": "4597067f",
   "metadata": {},
   "source": [
    "## Digit Corruption"
   ]
  },
  {
   "cell_type": "code",
   "execution_count": 308,
   "id": "c8eebbba",
   "metadata": {},
   "outputs": [],
   "source": [
    "qwen32_rl_df = pd.read_pickle('/share/goyal/lio/reasoning/eval/MATH/corrupt/corrupt_qwen32b-200sample.pickle')\n",
    "qwen32_distill_df = pd.read_pickle('/share/goyal/lio/reasoning/eval/MATH/corrupt/corrupt_r1-qwen32b-200sample.pickle')"
   ]
  },
  {
   "cell_type": "code",
   "execution_count": 317,
   "id": "926c2bca",
   "metadata": {
    "scrolled": true
   },
   "outputs": [],
   "source": [
    "qwen32_rl_df.to_excel(\"/share/goyal/lio/reasoning/eval/MATH/corrupt/corrupt_qwen32b-200sample.xlsx\")"
   ]
  },
  {
   "cell_type": "code",
   "execution_count": 316,
   "id": "23da7385",
   "metadata": {
    "scrolled": true
   },
   "outputs": [],
   "source": [
    "qwen32_distill_df.to_excel(\"/share/goyal/lio/reasoning/eval/MATH/corrupt/corrupt_r1-qwen32b-200sample.xlsx\")"
   ]
  },
  {
   "cell_type": "code",
   "execution_count": 321,
   "id": "a3c1b4b0",
   "metadata": {
    "scrolled": true
   },
   "outputs": [
    {
     "data": {
      "text/plain": [
       "0.8115079365079365"
      ]
     },
     "execution_count": 321,
     "metadata": {},
     "output_type": "execute_result"
    }
   ],
   "source": [
    "qwen32_rl_df['still_correct'].mean()"
   ]
  },
  {
   "cell_type": "code",
   "execution_count": 319,
   "id": "4588d75d",
   "metadata": {},
   "outputs": [
    {
     "data": {
      "text/plain": [
       "0.3781344032096289"
      ]
     },
     "execution_count": 319,
     "metadata": {},
     "output_type": "execute_result"
    }
   ],
   "source": [
    "qwen32_distill_df['still_correct'].mean()"
   ]
  },
  {
   "cell_type": "code",
   "execution_count": 329,
   "id": "0799f1f0",
   "metadata": {
    "scrolled": true
   },
   "outputs": [
    {
     "data": {
      "text/html": [
       "<div>\n",
       "<style scoped>\n",
       "    .dataframe tbody tr th:only-of-type {\n",
       "        vertical-align: middle;\n",
       "    }\n",
       "\n",
       "    .dataframe tbody tr th {\n",
       "        vertical-align: top;\n",
       "    }\n",
       "\n",
       "    .dataframe thead th {\n",
       "        text-align: right;\n",
       "    }\n",
       "</style>\n",
       "<table border=\"1\" class=\"dataframe\">\n",
       "  <thead>\n",
       "    <tr style=\"text-align: right;\">\n",
       "      <th></th>\n",
       "      <th>problem</th>\n",
       "      <th>level</th>\n",
       "      <th>type</th>\n",
       "      <th>solution</th>\n",
       "      <th>original_response</th>\n",
       "      <th>corrupt_reasoning</th>\n",
       "      <th>original_digit</th>\n",
       "      <th>corrupt_digit</th>\n",
       "      <th>percentile</th>\n",
       "      <th>post_corruption_response</th>\n",
       "      <th>still_correct</th>\n",
       "      <th>pct_group</th>\n",
       "    </tr>\n",
       "  </thead>\n",
       "  <tbody>\n",
       "    <tr>\n",
       "      <th>0</th>\n",
       "      <td>&lt;｜begin▁of▁sentence｜&gt;&lt;｜User｜&gt;Beth rolls a fair...</td>\n",
       "      <td>Level 3</td>\n",
       "      <td>Counting &amp; Probability</td>\n",
       "      <td>There are 3 possible prime numbers which can b...</td>\n",
       "      <td>Alright, so I have this problem where Beth is ...</td>\n",
       "      <td>Alright, so I have this problem where Beth is ...</td>\n",
       "      <td>6</td>\n",
       "      <td>7</td>\n",
       "      <td>0.028571</td>\n",
       "      <td>101, we need to calculate the expected value o...</td>\n",
       "      <td>1.0</td>\n",
       "      <td>0.10</td>\n",
       "    </tr>\n",
       "    <tr>\n",
       "      <th>1</th>\n",
       "      <td>&lt;｜begin▁of▁sentence｜&gt;&lt;｜User｜&gt;Beth rolls a fair...</td>\n",
       "      <td>Level 3</td>\n",
       "      <td>Counting &amp; Probability</td>\n",
       "      <td>There are 3 possible prime numbers which can b...</td>\n",
       "      <td>Alright, so I have this problem where Beth is ...</td>\n",
       "      <td>Alright, so I have this problem where Beth is ...</td>\n",
       "      <td>6</td>\n",
       "      <td>7</td>\n",
       "      <td>0.142857</td>\n",
       "      <td>we need to calculate the expected value of th...</td>\n",
       "      <td>0.0</td>\n",
       "      <td>0.25</td>\n",
       "    </tr>\n",
       "    <tr>\n",
       "      <th>2</th>\n",
       "      <td>&lt;｜begin▁of▁sentence｜&gt;&lt;｜User｜&gt;Beth rolls a fair...</td>\n",
       "      <td>Level 3</td>\n",
       "      <td>Counting &amp; Probability</td>\n",
       "      <td>There are 3 possible prime numbers which can b...</td>\n",
       "      <td>Alright, so I have this problem where Beth is ...</td>\n",
       "      <td>Alright, so I have this problem where Beth is ...</td>\n",
       "      <td>6</td>\n",
       "      <td>7</td>\n",
       "      <td>0.228571</td>\n",
       "      <td>we need to calculate the expected value of th...</td>\n",
       "      <td>0.0</td>\n",
       "      <td>0.25</td>\n",
       "    </tr>\n",
       "    <tr>\n",
       "      <th>3</th>\n",
       "      <td>&lt;｜begin▁of▁sentence｜&gt;&lt;｜User｜&gt;Beth rolls a fair...</td>\n",
       "      <td>Level 3</td>\n",
       "      <td>Counting &amp; Probability</td>\n",
       "      <td>There are 3 possible prime numbers which can b...</td>\n",
       "      <td>Alright, so I have this problem where Beth is ...</td>\n",
       "      <td>Alright, so I have this problem where Beth is ...</td>\n",
       "      <td>6</td>\n",
       "      <td>7</td>\n",
       "      <td>0.485714</td>\n",
       "      <td>1. Beth rolls a fair six-sided die. The number...</td>\n",
       "      <td>0.0</td>\n",
       "      <td>0.50</td>\n",
       "    </tr>\n",
       "    <tr>\n",
       "      <th>4</th>\n",
       "      <td>&lt;｜begin▁of▁sentence｜&gt;&lt;｜User｜&gt;Beth rolls a fair...</td>\n",
       "      <td>Level 3</td>\n",
       "      <td>Counting &amp; Probability</td>\n",
       "      <td>There are 3 possible prime numbers which can b...</td>\n",
       "      <td>Alright, so I have this problem where Beth is ...</td>\n",
       "      <td>Alright, so I have this problem where Beth is ...</td>\n",
       "      <td>6</td>\n",
       "      <td>7</td>\n",
       "      <td>0.742857</td>\n",
       "      <td>we need to determine the expected value of th...</td>\n",
       "      <td>0.0</td>\n",
       "      <td>0.75</td>\n",
       "    </tr>\n",
       "    <tr>\n",
       "      <th>...</th>\n",
       "      <td>...</td>\n",
       "      <td>...</td>\n",
       "      <td>...</td>\n",
       "      <td>...</td>\n",
       "      <td>...</td>\n",
       "      <td>...</td>\n",
       "      <td>...</td>\n",
       "      <td>...</td>\n",
       "      <td>...</td>\n",
       "      <td>...</td>\n",
       "      <td>...</td>\n",
       "      <td>...</td>\n",
       "    </tr>\n",
       "    <tr>\n",
       "      <th>992</th>\n",
       "      <td>&lt;｜begin▁of▁sentence｜&gt;&lt;｜User｜&gt;The least common ...</td>\n",
       "      <td>Level 4</td>\n",
       "      <td>Prealgebra</td>\n",
       "      <td>The prime factorization of 48 is $2^4\\cdot3$. ...</td>\n",
       "      <td>Alright, so I have this problem here: The leas...</td>\n",
       "      <td>Alright, so I have this problem here: The leas...</td>\n",
       "      <td>0</td>\n",
       "      <td>1</td>\n",
       "      <td>0.148936</td>\n",
       "      <td>we use the relationship between the least com...</td>\n",
       "      <td>1.0</td>\n",
       "      <td>0.25</td>\n",
       "    </tr>\n",
       "    <tr>\n",
       "      <th>993</th>\n",
       "      <td>&lt;｜begin▁of▁sentence｜&gt;&lt;｜User｜&gt;The least common ...</td>\n",
       "      <td>Level 4</td>\n",
       "      <td>Prealgebra</td>\n",
       "      <td>The prime factorization of 48 is $2^4\\cdot3$. ...</td>\n",
       "      <td>Alright, so I have this problem here: The leas...</td>\n",
       "      <td>Alright, so I have this problem here: The leas...</td>\n",
       "      <td>0</td>\n",
       "      <td>1</td>\n",
       "      <td>0.234043</td>\n",
       "      <td>14, we use the relationship between the least ...</td>\n",
       "      <td>1.0</td>\n",
       "      <td>0.25</td>\n",
       "    </tr>\n",
       "    <tr>\n",
       "      <th>994</th>\n",
       "      <td>&lt;｜begin▁of▁sentence｜&gt;&lt;｜User｜&gt;The least common ...</td>\n",
       "      <td>Level 4</td>\n",
       "      <td>Prealgebra</td>\n",
       "      <td>The prime factorization of 48 is $2^4\\cdot3$. ...</td>\n",
       "      <td>Alright, so I have this problem here: The leas...</td>\n",
       "      <td>Alright, so I have this problem here: The leas...</td>\n",
       "      <td>0</td>\n",
       "      <td>1</td>\n",
       "      <td>0.489362</td>\n",
       "      <td>1. We use the relationship between the least c...</td>\n",
       "      <td>0.0</td>\n",
       "      <td>0.50</td>\n",
       "    </tr>\n",
       "    <tr>\n",
       "      <th>995</th>\n",
       "      <td>&lt;｜begin▁of▁sentence｜&gt;&lt;｜User｜&gt;The least common ...</td>\n",
       "      <td>Level 4</td>\n",
       "      <td>Prealgebra</td>\n",
       "      <td>The prime factorization of 48 is $2^4\\cdot3$. ...</td>\n",
       "      <td>Alright, so I have this problem here: The leas...</td>\n",
       "      <td>Alright, so I have this problem here: The leas...</td>\n",
       "      <td>0</td>\n",
       "      <td>1</td>\n",
       "      <td>0.744681</td>\n",
       "      <td>we use the relationship between the least com...</td>\n",
       "      <td>1.0</td>\n",
       "      <td>0.75</td>\n",
       "    </tr>\n",
       "    <tr>\n",
       "      <th>996</th>\n",
       "      <td>&lt;｜begin▁of▁sentence｜&gt;&lt;｜User｜&gt;The least common ...</td>\n",
       "      <td>Level 4</td>\n",
       "      <td>Prealgebra</td>\n",
       "      <td>The prime factorization of 48 is $2^4\\cdot3$. ...</td>\n",
       "      <td>Alright, so I have this problem here: The leas...</td>\n",
       "      <td>Alright, so I have this problem here: The leas...</td>\n",
       "      <td>0</td>\n",
       "      <td>1</td>\n",
       "      <td>1.000000</td>\n",
       "      <td>we use the relationship between the least com...</td>\n",
       "      <td>0.0</td>\n",
       "      <td>1.00</td>\n",
       "    </tr>\n",
       "  </tbody>\n",
       "</table>\n",
       "<p>997 rows × 12 columns</p>\n",
       "</div>"
      ],
      "text/plain": [
       "                                               problem    level  \\\n",
       "0    <｜begin▁of▁sentence｜><｜User｜>Beth rolls a fair...  Level 3   \n",
       "1    <｜begin▁of▁sentence｜><｜User｜>Beth rolls a fair...  Level 3   \n",
       "2    <｜begin▁of▁sentence｜><｜User｜>Beth rolls a fair...  Level 3   \n",
       "3    <｜begin▁of▁sentence｜><｜User｜>Beth rolls a fair...  Level 3   \n",
       "4    <｜begin▁of▁sentence｜><｜User｜>Beth rolls a fair...  Level 3   \n",
       "..                                                 ...      ...   \n",
       "992  <｜begin▁of▁sentence｜><｜User｜>The least common ...  Level 4   \n",
       "993  <｜begin▁of▁sentence｜><｜User｜>The least common ...  Level 4   \n",
       "994  <｜begin▁of▁sentence｜><｜User｜>The least common ...  Level 4   \n",
       "995  <｜begin▁of▁sentence｜><｜User｜>The least common ...  Level 4   \n",
       "996  <｜begin▁of▁sentence｜><｜User｜>The least common ...  Level 4   \n",
       "\n",
       "                       type  \\\n",
       "0    Counting & Probability   \n",
       "1    Counting & Probability   \n",
       "2    Counting & Probability   \n",
       "3    Counting & Probability   \n",
       "4    Counting & Probability   \n",
       "..                      ...   \n",
       "992              Prealgebra   \n",
       "993              Prealgebra   \n",
       "994              Prealgebra   \n",
       "995              Prealgebra   \n",
       "996              Prealgebra   \n",
       "\n",
       "                                              solution  \\\n",
       "0    There are 3 possible prime numbers which can b...   \n",
       "1    There are 3 possible prime numbers which can b...   \n",
       "2    There are 3 possible prime numbers which can b...   \n",
       "3    There are 3 possible prime numbers which can b...   \n",
       "4    There are 3 possible prime numbers which can b...   \n",
       "..                                                 ...   \n",
       "992  The prime factorization of 48 is $2^4\\cdot3$. ...   \n",
       "993  The prime factorization of 48 is $2^4\\cdot3$. ...   \n",
       "994  The prime factorization of 48 is $2^4\\cdot3$. ...   \n",
       "995  The prime factorization of 48 is $2^4\\cdot3$. ...   \n",
       "996  The prime factorization of 48 is $2^4\\cdot3$. ...   \n",
       "\n",
       "                                     original_response  \\\n",
       "0    Alright, so I have this problem where Beth is ...   \n",
       "1    Alright, so I have this problem where Beth is ...   \n",
       "2    Alright, so I have this problem where Beth is ...   \n",
       "3    Alright, so I have this problem where Beth is ...   \n",
       "4    Alright, so I have this problem where Beth is ...   \n",
       "..                                                 ...   \n",
       "992  Alright, so I have this problem here: The leas...   \n",
       "993  Alright, so I have this problem here: The leas...   \n",
       "994  Alright, so I have this problem here: The leas...   \n",
       "995  Alright, so I have this problem here: The leas...   \n",
       "996  Alright, so I have this problem here: The leas...   \n",
       "\n",
       "                                     corrupt_reasoning original_digit  \\\n",
       "0    Alright, so I have this problem where Beth is ...              6   \n",
       "1    Alright, so I have this problem where Beth is ...              6   \n",
       "2    Alright, so I have this problem where Beth is ...              6   \n",
       "3    Alright, so I have this problem where Beth is ...              6   \n",
       "4    Alright, so I have this problem where Beth is ...              6   \n",
       "..                                                 ...            ...   \n",
       "992  Alright, so I have this problem here: The leas...              0   \n",
       "993  Alright, so I have this problem here: The leas...              0   \n",
       "994  Alright, so I have this problem here: The leas...              0   \n",
       "995  Alright, so I have this problem here: The leas...              0   \n",
       "996  Alright, so I have this problem here: The leas...              0   \n",
       "\n",
       "    corrupt_digit  percentile  \\\n",
       "0               7    0.028571   \n",
       "1               7    0.142857   \n",
       "2               7    0.228571   \n",
       "3               7    0.485714   \n",
       "4               7    0.742857   \n",
       "..            ...         ...   \n",
       "992             1    0.148936   \n",
       "993             1    0.234043   \n",
       "994             1    0.489362   \n",
       "995             1    0.744681   \n",
       "996             1    1.000000   \n",
       "\n",
       "                              post_corruption_response  still_correct  \\\n",
       "0    101, we need to calculate the expected value o...            1.0   \n",
       "1     we need to calculate the expected value of th...            0.0   \n",
       "2     we need to calculate the expected value of th...            0.0   \n",
       "3    1. Beth rolls a fair six-sided die. The number...            0.0   \n",
       "4     we need to determine the expected value of th...            0.0   \n",
       "..                                                 ...            ...   \n",
       "992   we use the relationship between the least com...            1.0   \n",
       "993  14, we use the relationship between the least ...            1.0   \n",
       "994  1. We use the relationship between the least c...            0.0   \n",
       "995   we use the relationship between the least com...            1.0   \n",
       "996   we use the relationship between the least com...            0.0   \n",
       "\n",
       "     pct_group  \n",
       "0         0.10  \n",
       "1         0.25  \n",
       "2         0.25  \n",
       "3         0.50  \n",
       "4         0.75  \n",
       "..         ...  \n",
       "992       0.25  \n",
       "993       0.25  \n",
       "994       0.50  \n",
       "995       0.75  \n",
       "996       1.00  \n",
       "\n",
       "[997 rows x 12 columns]"
      ]
     },
     "execution_count": 329,
     "metadata": {},
     "output_type": "execute_result"
    }
   ],
   "source": [
    "qwen32_distill_df"
   ]
  },
  {
   "cell_type": "code",
   "execution_count": 326,
   "id": "77d854e3",
   "metadata": {},
   "outputs": [],
   "source": [
    "df = qwen32_rl_df"
   ]
  },
  {
   "cell_type": "code",
   "execution_count": 327,
   "id": "98e981a1",
   "metadata": {},
   "outputs": [],
   "source": [
    "def percentile_group (pct: float):\n",
    "    if pct <= .1:\n",
    "        return .1\n",
    "    elif pct <=.25:\n",
    "        return .25\n",
    "    elif pct <= 0.5:\n",
    "        return .5\n",
    "    elif pct <= .75:\n",
    "        return .75\n",
    "    else:\n",
    "        return 1.0\n",
    "\n",
    "df['pct_group']= df['percentile'].apply(percentile_group)"
   ]
  },
  {
   "cell_type": "code",
   "execution_count": 328,
   "id": "1e4e9ee9",
   "metadata": {},
   "outputs": [
    {
     "data": {
      "text/plain": [
       "pct_group\n",
       "0.10    0.970060\n",
       "0.25    0.880240\n",
       "0.50    0.816568\n",
       "0.75    0.739645\n",
       "1.00    0.585799\n",
       "Name: still_correct, dtype: float64"
      ]
     },
     "execution_count": 328,
     "metadata": {},
     "output_type": "execute_result"
    }
   ],
   "source": [
    "df.groupby('pct_group')['still_correct'].mean()"
   ]
  },
  {
   "cell_type": "code",
   "execution_count": 325,
   "id": "8560ce7a",
   "metadata": {},
   "outputs": [
    {
     "data": {
      "text/plain": [
       "pct_group\n",
       "0.25    322\n",
       "1.00    173\n",
       "0.50    172\n",
       "0.75    171\n",
       "0.10    159\n",
       "Name: count, dtype: int64"
      ]
     },
     "execution_count": 325,
     "metadata": {},
     "output_type": "execute_result"
    }
   ],
   "source": [
    "df['pct_group'].value_counts()"
   ]
  },
  {
   "cell_type": "code",
   "execution_count": 277,
   "id": "e5e64f38",
   "metadata": {
    "scrolled": true
   },
   "outputs": [],
   "source": [
    "low_corrupt = (df['pct_group'] == 0.1) | (df['pct_group'] == 0.25)\n",
    "low_corrupt_wrong = df[low_corrupt & (df['still_correct']!=1.0)]\n",
    "\n",
    "high_corrupt = (df['pct_group'] == 0.75) | (df['pct_group'] == 1.0)\n",
    "high_corrupt_right = df[high_corrupt & (df['still_correct'] == 1.0)]"
   ]
  },
  {
   "cell_type": "code",
   "execution_count": 283,
   "id": "c41646fc",
   "metadata": {},
   "outputs": [],
   "source": [
    "nothink = pd.concat([low_corrupt_wrong, high_corrupt_right], ignore_index=True).sort_values('percentile')"
   ]
  },
  {
   "cell_type": "code",
   "execution_count": 287,
   "id": "5be6dfab",
   "metadata": {},
   "outputs": [
    {
     "data": {
      "text/plain": [
       "'<｜begin▁of▁sentence｜><｜User｜>Let $a = \\\\frac{\\\\pi}{2008}$. Find the smallest positive integer $n$ such that\\n\\\\[\\\\sum_{k = 1}^n 2 \\\\cos (k^2 a) \\\\sin (ka)\\\\]is an integer.<｜Assistant｜><think>\\n'"
      ]
     },
     "execution_count": 287,
     "metadata": {},
     "output_type": "execute_result"
    }
   ],
   "source": [
    "nothink['problem'].iloc[0]"
   ]
  },
  {
   "cell_type": "code",
   "execution_count": 285,
   "id": "8d047941",
   "metadata": {},
   "outputs": [],
   "source": [
    "nothink.to_excel(\"/share/goyal/lio/reasoning/eval/MATH/corrupt/corrupt_r1_qwen7b_nothinking.xlsx\")"
   ]
  },
  {
   "cell_type": "code",
   "execution_count": 20,
   "id": "dcfd5125",
   "metadata": {},
   "outputs": [
    {
     "data": {
      "text/plain": [
       "['thsi is ', ' + 3 = 5, 5 + ', ' = 7 7 +', ' = 9']"
      ]
     },
     "execution_count": 20,
     "metadata": {},
     "output_type": "execute_result"
    }
   ],
   "source": [
    "s = 'thsi is 2 + 3 = 5, 5 + 2 = 7 7 +2 = 9'\n",
    "\n",
    "parts = s.split('2')\n",
    "parts"
   ]
  },
  {
   "cell_type": "code",
   "execution_count": 23,
   "id": "6f070d8c",
   "metadata": {},
   "outputs": [],
   "source": [
    "df = pd.read_pickle(\"/share/goyal/lio/reasoning/eval/MATH/corrupt/corrupt_r1-qwen32b-200sample_continuethinking=True.pickle\")"
   ]
  },
  {
   "cell_type": "code",
   "execution_count": null,
   "id": "e797390e",
   "metadata": {},
   "outputs": [],
   "source": [
    "\n",
    "string = 'this is the digit 6, i will change 6. 6 + 9 = 15, 15 + 6  = 21. so the final answer is 21'\n",
    "original = '6'\n",
    "corrupted = '7'\n",
    "percentile = .0\n",
    "\n",
    "total = string.count(original)\n",
    "if total == 0:\n",
    "return string, 0.0\n",
    "\n",
    "# Case 1: replace everything ## NEED TO CHECK\n",
    "if percentile >= 1.0:\n",
    "new_string = corrupted.join(string.split(original))\n",
    "return new_string, 1.0\n",
    "\n",
    "# Case 2: replace only the first one # NEED TO CHECK\n",
    "if percentile <= 0.0:\n",
    "parts = string.split(original, 1)[0]\n",
    "new_string = parts + corrupted\n",
    "return new_string, 1.0 / total\n",
    "\n",
    "# Case 3: intermediate percentile\n",
    "# → how many to replace (floor), but at least 1\n",
    "num_to_replace = int(percentile * total)\n",
    "if num_to_replace == 0:\n",
    "num_to_replace = 1\n",
    "\n",
    "# split from the right that many times, then join with `corrupted`\n",
    "parts = string.split(original)[:num_to_replace]\n",
    "new_string = corrupted.join(parts) + corrupted\n",
    "actual_fraction = num_to_replace / total\n",
    "\n",
    "return new_string, actual_fraction"
   ]
  }
 ],
 "metadata": {
  "kernelspec": {
   "display_name": "Python 3 (ipykernel)",
   "language": "python",
   "name": "python3"
  },
  "language_info": {
   "codemirror_mode": {
    "name": "ipython",
    "version": 3
   },
   "file_extension": ".py",
   "mimetype": "text/x-python",
   "name": "python",
   "nbconvert_exporter": "python",
   "pygments_lexer": "ipython3",
   "version": "3.12.4"
  }
 },
 "nbformat": 4,
 "nbformat_minor": 5
}
